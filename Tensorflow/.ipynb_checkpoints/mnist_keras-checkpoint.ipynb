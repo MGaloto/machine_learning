{
 "cells": [
  {
   "cell_type": "markdown",
   "metadata": {},
   "source": [
    "<html>\n",
    "<h1  align=\"center\"> \n",
    "    <hr>\n",
    "    <img align=\"center;\" style=\"background-color:\n",
    "#253bff\"; color:\"#ff5d25\";\" src=\"https://www.tensorflow.org/images/tf_logo_social.png?hl=es-419\"; width=\"60%\"; height=\"40%\">\n",
    "\n",
    "</h1>\n",
    "</html>"
   ]
  },
  {
   "cell_type": "markdown",
   "metadata": {},
   "source": [
    "<h3 align=\"center\">Entrenando un modelo para predecir imagenes.\n",
    "</h3>"
   ]
  },
  {
   "cell_type": "markdown",
   "metadata": {},
   "source": [
    "<h1 align=\"center\">Indice del analisis</h1>"
   ]
  },
  {
   "cell_type": "markdown",
   "metadata": {},
   "source": [
    "- [**Librerias**](#Librerias)\n",
    "- [**Modelo desde el Metodo**](#Modelo-desde-el-Metodo)\n",
    "- [**Modelo Manual**](#Modelo-Manual)"
   ]
  },
  {
   "cell_type": "markdown",
   "metadata": {},
   "source": [
    "<html><h1 align=\"center\", style=\"background: #414ce8; color:white\">Librerias</h1></html>\n",
    "\n",
    "[**Volver al Inicio**](#Indice-del-analisis)"
   ]
  },
  {
   "cell_type": "code",
   "execution_count": 1,
   "metadata": {
    "id": "GinVBcAR7WMg"
   },
   "outputs": [],
   "source": [
    "import tensorflow as tf\n",
    "import network\n",
    "import pprint"
   ]
  },
  {
   "cell_type": "markdown",
   "metadata": {},
   "source": [
    "<html><h1 align=\"center\", style=\"background: #414ce8; color:white\">Modelo desde el Metodo</h1></html>\n",
    "\n",
    "[**Volver al Inicio**](#Indice-del-analisis)"
   ]
  },
  {
   "cell_type": "markdown",
   "metadata": {},
   "source": [
    "PROBAR para este caso:\n",
    "\n",
    "Desea escalar los valores? (Si/No) Si\n",
    "\n",
    "Ingrese la cantidad de Neuronas: 128\n",
    "\n",
    "Ingrese la cantidad de Outputs:  10\n",
    "\n",
    "Ingrese la cantidad de Capas Ocultas: (Maximo 3) 3"
   ]
  },
  {
   "cell_type": "code",
   "execution_count": 2,
   "metadata": {},
   "outputs": [
    {
     "name": "stdin",
     "output_type": "stream",
     "text": [
      "\n",
      "Desea entrenar una Red Neuronal? (Si/No): \n",
      " Si\n"
     ]
    },
    {
     "name": "stdout",
     "output_type": "stream",
     "text": [
      "Excelente...\n"
     ]
    },
    {
     "name": "stdin",
     "output_type": "stream",
     "text": [
      "Desea escalar los valores? (Si/No) si\n",
      "Ingrese la cantidad de Neuronas: 128\n",
      "Ingrese la cantidad de Outputs: 10\n",
      "Ingrese la cantidad de Capas Ocultas: 6\n",
      "Ingrese la cantidad de Epocas: 10\n"
     ]
    },
    {
     "name": "stdout",
     "output_type": "stream",
     "text": [
      "\u001b[38;2;238;75;43mLa cantidad de Capas es: 6 \u001b[38;2;255;255;255m\n",
      "\u001b[38;2;238;75;43mLa cantidad de Neuronas es: 128 \u001b[38;2;255;255;255m\n",
      "\u001b[38;2;238;75;43mLa cantidad de Epocas es: 10 \u001b[38;2;255;255;255m\n"
     ]
    }
   ],
   "source": [
    "# Se instancia la clase Model\n",
    "\n",
    "object = network.Model()\n",
    "\n",
    "# Se almacenan los imputs para el modelo\n",
    "\n",
    "valores = object._input()\n"
   ]
  },
  {
   "cell_type": "code",
   "execution_count": 3,
   "metadata": {},
   "outputs": [
    {
     "name": "stdout",
     "output_type": "stream",
     "text": [
      "Añadiendo capa Numero 1 al Modelo\n",
      "Añadiendo capa Numero 2 al Modelo\n",
      "Añadiendo capa Numero 3 al Modelo\n",
      "Añadiendo capa Numero 4 al Modelo\n",
      "Añadiendo capa Numero 5 al Modelo\n",
      "Añadiendo capa Numero 6 al Modelo\n",
      "\n",
      "INPUTS:\n",
      "Capas:     6\n",
      "Neuronas: 128\n",
      "Outputs:  10\n",
      "Scaler:   si\n",
      "\n",
      "\n",
      "Entrenando el modelo.....\n",
      "\n",
      "\u001b[38;2;233;172;13mPor default: Optimizer adam, loss: categorical, metrics: accuracy \u001b[38;2;255;255;255m\n",
      "\u001b[38;2;233;128;13m\n",
      "\n",
      "Perdida:  [0.275, 0.124, 0.095, 0.074, 0.063, 0.051, 0.046, 0.04, 0.035, 0.032] \u001b[38;2;255;255;255m\n",
      "\u001b[38;2;233;75;13mAccuracy: [0.916, 0.963, 0.972, 0.978, 0.981, 0.985, 0.987, 0.988, 0.99, 0.99]\n",
      "\n",
      " \u001b[38;2;255;255;255m\n",
      "\u001b[38;2;233;75;13mOK Model\n",
      " \u001b[38;2;255;255;255m\n",
      "{'accuracy': [0.9162499904632568,\n",
      "              0.9629999995231628,\n",
      "              0.9722166657447815,\n",
      "              0.9782166481018066,\n",
      "              0.981333315372467,\n",
      "              0.9850500226020813,\n",
      "              0.9869333505630493,\n",
      "              0.9879666566848755,\n",
      "              0.9895833134651184,\n",
      "              0.9904999732971191],\n",
      " 'loss': [0.2751504182815552,\n",
      "          0.12401343137025833,\n",
      "          0.09467242658138275,\n",
      "          0.07374926656484604,\n",
      "          0.06283553689718246,\n",
      "          0.05107707157731056,\n",
      "          0.04606444388628006,\n",
      "          0.03999200835824013,\n",
      "          0.03519713133573532,\n",
      "          0.03192606568336487]}\n"
     ]
    }
   ],
   "source": [
    "# Se entrena el modelo en base a los inputs\n",
    "if valores != None:\n",
    "    mnist = tf.keras.datasets.mnist.load_data()\n",
    "\n",
    "    (x_train, y_train), (x_test, y_test) = mnist\n",
    "\n",
    "    model = object._get_model(inputs = valores, data = mnist)\n",
    "    \n",
    "    # Resultados\n",
    "\n",
    "    pprint.pprint(model.history)\n",
    "else:\n",
    "    print('Ejecuar valores para obtener los inputs')"
   ]
  },
  {
   "cell_type": "code",
   "execution_count": 4,
   "metadata": {},
   "outputs": [
    {
     "data": {
      "image/png": "[encoded data removed]",
      "text/plain": [
       "<Figure size 576x360 with 1 Axes>"
      ]
     },
     "metadata": {
      "needs_background": "light"
     },
     "output_type": "display_data"
    },
    {
     "data": {
      "image/png": "[encoded data removed]",
      "text/plain": [
       "<Figure size 576x360 with 1 Axes>"
      ]
     },
     "metadata": {
      "needs_background": "light"
     },
     "output_type": "display_data"
    }
   ],
   "source": [
    "# Graficos\n",
    "try:\n",
    "    if model.history != None:\n",
    "        object._get_plots(model.history['loss'], hyper_p = valores, y_label = 'loss')\n",
    "        object._get_plots(model.history['accuracy'], valores, y_label = 'accuracy')\n",
    "    else:\n",
    "        print('Ejecuar valores para obtener los inputs')\n",
    "except Exception as e:\n",
    "    print(e)"
   ]
  },
  {
   "cell_type": "markdown",
   "metadata": {},
   "source": [
    "<html><h1 align=\"center\", style=\"background: #414ce8; color:white\">Modelo Manual</h1></html>\n",
    "\n",
    "[**Volver al Inicio**](#Indice-del-analisis)"
   ]
  },
  {
   "cell_type": "code",
   "execution_count": 17,
   "metadata": {},
   "outputs": [],
   "source": [
    "mnist = tf.keras.datasets.mnist"
   ]
  },
  {
   "cell_type": "code",
   "execution_count": 18,
   "metadata": {},
   "outputs": [],
   "source": [
    "(x_train, y_train), (x_test, y_test) = mnist.load_data()"
   ]
  },
  {
   "cell_type": "markdown",
   "metadata": {},
   "source": [
    "Ejemplo de uno de los tensores que se utilizara\n",
    "para entrenar el modelo"
   ]
  },
  {
   "cell_type": "code",
   "execution_count": 19,
   "metadata": {},
   "outputs": [
    {
     "data": {
      "image/png": "[encoded data removed]",
      "text/plain": [
       "<Figure size 432x288 with 1 Axes>"
      ]
     },
     "metadata": {
      "needs_background": "light"
     },
     "output_type": "display_data"
    }
   ],
   "source": [
    "import matplotlib.pyplot as plt\n",
    "\n",
    "plt.imshow(x_train[0], cmap = plt.cm.binary)\n",
    "plt.show()"
   ]
  },
  {
   "cell_type": "markdown",
   "metadata": {},
   "source": [
    "A continuacion se observan los arrays y sus respectivos valores de escala entre blanco y negro para las primeras 8 filas de 28"
   ]
  },
  {
   "cell_type": "code",
   "execution_count": 20,
   "metadata": {},
   "outputs": [
    {
     "name": "stdout",
     "output_type": "stream",
     "text": [
      "Tamaño:  (28, 28)\n",
      "Tensor: \n"
     ]
    },
    {
     "data": {
      "text/plain": [
       "array([[  0,   0,   0,   0,   0,   0,   0,   0,   0,   0,   0,   0,   0,\n",
       "          0,   0,   0,   0,   0,   0,   0,   0,   0,   0,   0,   0,   0,\n",
       "          0,   0],\n",
       "       [  0,   0,   0,   0,   0,   0,   0,   0,   0,   0,   0,   0,   0,\n",
       "          0,   0,   0,   0,   0,   0,   0,   0,   0,   0,   0,   0,   0,\n",
       "          0,   0],\n",
       "       [  0,   0,   0,   0,   0,   0,   0,   0,   0,   0,   0,   0,   0,\n",
       "          0,   0,   0,   0,   0,   0,   0,   0,   0,   0,   0,   0,   0,\n",
       "          0,   0],\n",
       "       [  0,   0,   0,   0,   0,   0,   0,   0,   0,   0,   0,   0,   0,\n",
       "          0,   0,   0,   0,   0,   0,   0,   0,   0,   0,   0,   0,   0,\n",
       "          0,   0],\n",
       "       [  0,   0,   0,   0,   0,   0,   0,   0,   0,   0,   0,   0,   0,\n",
       "          0,   0,   0,   0,   0,   0,   0,   0,   0,   0,   0,   0,   0,\n",
       "          0,   0],\n",
       "       [  0,   0,   0,   0,   0,   0,   0,   0,   0,   0,   0,   0,   3,\n",
       "         18,  18,  18, 126, 136, 175,  26, 166, 255, 247, 127,   0,   0,\n",
       "          0,   0],\n",
       "       [  0,   0,   0,   0,   0,   0,   0,   0,  30,  36,  94, 154, 170,\n",
       "        253, 253, 253, 253, 253, 225, 172, 253, 242, 195,  64,   0,   0,\n",
       "          0,   0],\n",
       "       [  0,   0,   0,   0,   0,   0,   0,  49, 238, 253, 253, 253, 253,\n",
       "        253, 253, 253, 253, 251,  93,  82,  82,  56,  39,   0,   0,   0,\n",
       "          0,   0]], dtype=uint8)"
      ]
     },
     "execution_count": 20,
     "metadata": {},
     "output_type": "execute_result"
    }
   ],
   "source": [
    "print('Tamaño: ',x_train[0].shape)\n",
    "print('Tensor: ')\n",
    "x_train[0][0:8]"
   ]
  },
  {
   "cell_type": "markdown",
   "metadata": {},
   "source": [
    "Construccion del modelo"
   ]
  },
  {
   "cell_type": "code",
   "execution_count": 21,
   "metadata": {},
   "outputs": [
    {
     "name": "stdout",
     "output_type": "stream",
     "text": [
      "Epoch 1/3\n",
      "1875/1875 [==============================] - 4s 2ms/step - loss: 1.6713 - accuracy: 0.8702\n",
      "Epoch 2/3\n",
      "1875/1875 [==============================] - 4s 2ms/step - loss: 0.4112 - accuracy: 0.9186\n",
      "Epoch 3/3\n",
      "1875/1875 [==============================] - 3s 1ms/step - loss: 0.2770 - accuracy: 0.9340\n"
     ]
    }
   ],
   "source": [
    "(x_train, y_train), (x_test, y_test) = mnist.load_data()\n",
    "\n",
    "model = tf.keras.models.Sequential()\n",
    "# Se adicionan dos capas ocultas\n",
    "model.add(tf.keras.layers.Flatten())\n",
    "# Se agregan 128 neuronas a la capa con una funcion de activacion llamada relu predeterminada de keras\n",
    "model.add(tf.keras.layers.Dense(128, activation = tf.nn.relu))\n",
    "model.add(tf.keras.layers.Dense(128, activation = tf.nn.relu))\n",
    "# Se utiliza softmax para la funcion de activacion\n",
    "model.add(tf.keras.layers.Dense(10, activation = tf.nn.softmax))\n",
    "\n",
    "# Las redes neuronales siempre estan tratando de minimizar las perdidas\n",
    "\n",
    "model.compile(optimizer = 'adam',\n",
    "              loss      = 'sparse_categorical_crossentropy',\n",
    "              metrics   = ['accuracy'])\n",
    "\n",
    "# Utilizamos 3 epocas\n",
    "\n",
    "historial = model.fit(x_train, y_train, epochs = 3)"
   ]
  },
  {
   "cell_type": "code",
   "execution_count": 22,
   "metadata": {},
   "outputs": [
    {
     "data": {
      "text/plain": [
       "{'loss': [1.671308994293213, 0.41119107604026794, 0.2769627273082733],\n",
       " 'accuracy': [0.8701833486557007, 0.918583333492279, 0.933983325958252]}"
      ]
     },
     "execution_count": 22,
     "metadata": {},
     "output_type": "execute_result"
    }
   ],
   "source": [
    "historial.history"
   ]
  },
  {
   "cell_type": "markdown",
   "metadata": {},
   "source": [
    "Podemos observar que a partir de la tercer iteración la perdida tiende a estabilizarse y el accuracy llega a un maximo en la sexta"
   ]
  },
  {
   "cell_type": "code",
   "execution_count": 23,
   "metadata": {},
   "outputs": [
    {
     "data": {
      "image/png": "[encoded data removed]",
      "text/plain": [
       "<Figure size 576x360 with 1 Axes>"
      ]
     },
     "metadata": {
      "needs_background": "light"
     },
     "output_type": "display_data"
    }
   ],
   "source": [
    "plt.figure(figsize = (8,5))\n",
    "plt.plot(historial.history['accuracy'], color = 'blue', linestyle = 'dashed', marker = '*', markerfacecolor = 'red', markersize = 10)\n",
    "plt.xlabel('Epocas', fontsize=16); plt.ylabel('Accuracy', fontsize=16)\n",
    "plt.grid(); plt.show()"
   ]
  },
  {
   "cell_type": "code",
   "execution_count": 24,
   "metadata": {},
   "outputs": [
    {
     "data": {
      "image/png": "[encoded data removed]",
      "text/plain": [
       "<Figure size 432x288 with 1 Axes>"
      ]
     },
     "metadata": {
      "needs_background": "light"
     },
     "output_type": "display_data"
    }
   ],
   "source": [
    "plt.xlabel('iteraciones')\n",
    "plt.ylabel('perdida')\n",
    "plt.plot(historial.history['loss']);"
   ]
  },
  {
   "cell_type": "code",
   "execution_count": 25,
   "metadata": {},
   "outputs": [
    {
     "name": "stdout",
     "output_type": "stream",
     "text": [
      "WARNING:tensorflow:Layers in a Sequential model should only have a single input tensor. Received: inputs=(<tf.Tensor 'IteratorGetNext:0' shape=(None, 28, 28) dtype=uint8>,). Consider rewriting this model with the Functional API.\n",
      "313/313 [==============================] - 0s 1ms/step\n"
     ]
    }
   ],
   "source": [
    "prediccion = model.predict([x_test])"
   ]
  },
  {
   "cell_type": "markdown",
   "metadata": {},
   "source": [
    "A simple vista se puede visualizar que el primer array es un 7"
   ]
  },
  {
   "cell_type": "code",
   "execution_count": 26,
   "metadata": {},
   "outputs": [
    {
     "name": "stdout",
     "output_type": "stream",
     "text": [
      "\u001b[34m0\u001b[0m \u001b[34m0\u001b[0m \u001b[34m0\u001b[0m \u001b[34m0\u001b[0m \u001b[34m0\u001b[0m \u001b[34m0\u001b[0m \u001b[34m0\u001b[0m \u001b[34m0\u001b[0m \u001b[34m0\u001b[0m \u001b[34m0\u001b[0m \u001b[34m0\u001b[0m \u001b[34m0\u001b[0m \u001b[34m0\u001b[0m \u001b[34m0\u001b[0m \u001b[34m0\u001b[0m \u001b[34m0\u001b[0m \u001b[34m0\u001b[0m \u001b[34m0\u001b[0m \u001b[34m0\u001b[0m \u001b[34m0\u001b[0m \u001b[34m0\u001b[0m \u001b[34m0\u001b[0m \u001b[34m0\u001b[0m \u001b[34m0\u001b[0m \u001b[34m0\u001b[0m \u001b[34m0\u001b[0m \u001b[34m0\u001b[0m \u001b[34m0\u001b[0m\n",
      "\u001b[34m0\u001b[0m \u001b[34m0\u001b[0m \u001b[34m0\u001b[0m \u001b[34m0\u001b[0m \u001b[34m0\u001b[0m \u001b[34m0\u001b[0m \u001b[34m0\u001b[0m \u001b[34m0\u001b[0m \u001b[34m0\u001b[0m \u001b[34m0\u001b[0m \u001b[34m0\u001b[0m \u001b[34m0\u001b[0m \u001b[34m0\u001b[0m \u001b[34m0\u001b[0m \u001b[34m0\u001b[0m \u001b[34m0\u001b[0m \u001b[34m0\u001b[0m \u001b[34m0\u001b[0m \u001b[34m0\u001b[0m \u001b[34m0\u001b[0m \u001b[34m0\u001b[0m \u001b[34m0\u001b[0m \u001b[34m0\u001b[0m \u001b[34m0\u001b[0m \u001b[34m0\u001b[0m \u001b[34m0\u001b[0m \u001b[34m0\u001b[0m \u001b[34m0\u001b[0m\n",
      "\u001b[34m0\u001b[0m \u001b[34m0\u001b[0m \u001b[34m0\u001b[0m \u001b[34m0\u001b[0m \u001b[34m0\u001b[0m \u001b[34m0\u001b[0m \u001b[34m0\u001b[0m \u001b[34m0\u001b[0m \u001b[34m0\u001b[0m \u001b[34m0\u001b[0m \u001b[34m0\u001b[0m \u001b[34m0\u001b[0m \u001b[34m0\u001b[0m \u001b[34m0\u001b[0m \u001b[34m0\u001b[0m \u001b[34m0\u001b[0m \u001b[34m0\u001b[0m \u001b[34m0\u001b[0m \u001b[34m0\u001b[0m \u001b[34m0\u001b[0m \u001b[34m0\u001b[0m \u001b[34m0\u001b[0m \u001b[34m0\u001b[0m \u001b[34m0\u001b[0m \u001b[34m0\u001b[0m \u001b[34m0\u001b[0m \u001b[34m0\u001b[0m \u001b[34m0\u001b[0m\n",
      "\u001b[34m0\u001b[0m \u001b[34m0\u001b[0m \u001b[34m0\u001b[0m \u001b[34m0\u001b[0m \u001b[34m0\u001b[0m \u001b[34m0\u001b[0m \u001b[34m0\u001b[0m \u001b[34m0\u001b[0m \u001b[34m0\u001b[0m \u001b[34m0\u001b[0m \u001b[34m0\u001b[0m \u001b[34m0\u001b[0m \u001b[34m0\u001b[0m \u001b[34m0\u001b[0m \u001b[34m0\u001b[0m \u001b[34m0\u001b[0m \u001b[34m0\u001b[0m \u001b[34m0\u001b[0m \u001b[34m0\u001b[0m \u001b[34m0\u001b[0m \u001b[34m0\u001b[0m \u001b[34m0\u001b[0m \u001b[34m0\u001b[0m \u001b[34m0\u001b[0m \u001b[34m0\u001b[0m \u001b[34m0\u001b[0m \u001b[34m0\u001b[0m \u001b[34m0\u001b[0m\n",
      "\u001b[34m0\u001b[0m \u001b[34m0\u001b[0m \u001b[34m0\u001b[0m \u001b[34m0\u001b[0m \u001b[34m0\u001b[0m \u001b[34m0\u001b[0m \u001b[34m0\u001b[0m \u001b[34m0\u001b[0m \u001b[34m0\u001b[0m \u001b[34m0\u001b[0m \u001b[34m0\u001b[0m \u001b[34m0\u001b[0m \u001b[34m0\u001b[0m \u001b[34m0\u001b[0m \u001b[34m0\u001b[0m \u001b[34m0\u001b[0m \u001b[34m0\u001b[0m \u001b[34m0\u001b[0m \u001b[34m0\u001b[0m \u001b[34m0\u001b[0m \u001b[34m0\u001b[0m \u001b[34m0\u001b[0m \u001b[34m0\u001b[0m \u001b[34m0\u001b[0m \u001b[34m0\u001b[0m \u001b[34m0\u001b[0m \u001b[34m0\u001b[0m \u001b[34m0\u001b[0m\n",
      "\u001b[34m0\u001b[0m \u001b[34m0\u001b[0m \u001b[34m0\u001b[0m \u001b[34m0\u001b[0m \u001b[34m0\u001b[0m \u001b[34m0\u001b[0m \u001b[34m0\u001b[0m \u001b[34m0\u001b[0m \u001b[34m0\u001b[0m \u001b[34m0\u001b[0m \u001b[34m0\u001b[0m \u001b[34m0\u001b[0m \u001b[34m0\u001b[0m \u001b[34m0\u001b[0m \u001b[34m0\u001b[0m \u001b[34m0\u001b[0m \u001b[34m0\u001b[0m \u001b[34m0\u001b[0m \u001b[34m0\u001b[0m \u001b[34m0\u001b[0m \u001b[34m0\u001b[0m \u001b[34m0\u001b[0m \u001b[34m0\u001b[0m \u001b[34m0\u001b[0m \u001b[34m0\u001b[0m \u001b[34m0\u001b[0m \u001b[34m0\u001b[0m \u001b[34m0\u001b[0m\n",
      "\u001b[34m0\u001b[0m \u001b[34m0\u001b[0m \u001b[34m0\u001b[0m \u001b[34m0\u001b[0m \u001b[34m0\u001b[0m \u001b[34m0\u001b[0m \u001b[34m0\u001b[0m \u001b[34m0\u001b[0m \u001b[34m0\u001b[0m \u001b[34m0\u001b[0m \u001b[34m0\u001b[0m \u001b[34m0\u001b[0m \u001b[34m0\u001b[0m \u001b[34m0\u001b[0m \u001b[34m0\u001b[0m \u001b[34m0\u001b[0m \u001b[34m0\u001b[0m \u001b[34m0\u001b[0m \u001b[34m0\u001b[0m \u001b[34m0\u001b[0m \u001b[34m0\u001b[0m \u001b[34m0\u001b[0m \u001b[34m0\u001b[0m \u001b[34m0\u001b[0m \u001b[34m0\u001b[0m \u001b[34m0\u001b[0m \u001b[34m0\u001b[0m \u001b[34m0\u001b[0m\n",
      "\u001b[34m0\u001b[0m \u001b[34m0\u001b[0m \u001b[34m0\u001b[0m \u001b[34m0\u001b[0m \u001b[34m0\u001b[0m \u001b[34m0\u001b[0m \u001b[31m1\u001b[0m \u001b[31m1\u001b[0m \u001b[31m1\u001b[0m \u001b[31m1\u001b[0m \u001b[31m1\u001b[0m \u001b[31m1\u001b[0m \u001b[34m0\u001b[0m \u001b[34m0\u001b[0m \u001b[34m0\u001b[0m \u001b[34m0\u001b[0m \u001b[34m0\u001b[0m \u001b[34m0\u001b[0m \u001b[34m0\u001b[0m \u001b[34m0\u001b[0m \u001b[34m0\u001b[0m \u001b[34m0\u001b[0m \u001b[34m0\u001b[0m \u001b[34m0\u001b[0m \u001b[34m0\u001b[0m \u001b[34m0\u001b[0m \u001b[34m0\u001b[0m \u001b[34m0\u001b[0m\n",
      "\u001b[34m0\u001b[0m \u001b[34m0\u001b[0m \u001b[34m0\u001b[0m \u001b[34m0\u001b[0m \u001b[34m0\u001b[0m \u001b[34m0\u001b[0m \u001b[31m1\u001b[0m \u001b[31m1\u001b[0m \u001b[31m1\u001b[0m \u001b[31m1\u001b[0m \u001b[31m1\u001b[0m \u001b[31m1\u001b[0m \u001b[31m1\u001b[0m \u001b[31m1\u001b[0m \u001b[31m1\u001b[0m \u001b[31m1\u001b[0m \u001b[31m1\u001b[0m \u001b[31m1\u001b[0m \u001b[31m1\u001b[0m \u001b[31m1\u001b[0m \u001b[31m1\u001b[0m \u001b[31m1\u001b[0m \u001b[34m0\u001b[0m \u001b[34m0\u001b[0m \u001b[34m0\u001b[0m \u001b[34m0\u001b[0m \u001b[34m0\u001b[0m \u001b[34m0\u001b[0m\n",
      "\u001b[34m0\u001b[0m \u001b[34m0\u001b[0m \u001b[34m0\u001b[0m \u001b[34m0\u001b[0m \u001b[34m0\u001b[0m \u001b[34m0\u001b[0m \u001b[31m1\u001b[0m \u001b[31m1\u001b[0m \u001b[31m1\u001b[0m \u001b[31m1\u001b[0m \u001b[31m1\u001b[0m \u001b[31m1\u001b[0m \u001b[31m1\u001b[0m \u001b[31m1\u001b[0m \u001b[31m1\u001b[0m \u001b[31m1\u001b[0m \u001b[31m1\u001b[0m \u001b[31m1\u001b[0m \u001b[31m1\u001b[0m \u001b[31m1\u001b[0m \u001b[31m1\u001b[0m \u001b[31m1\u001b[0m \u001b[34m0\u001b[0m \u001b[34m0\u001b[0m \u001b[34m0\u001b[0m \u001b[34m0\u001b[0m \u001b[34m0\u001b[0m \u001b[34m0\u001b[0m\n",
      "\u001b[34m0\u001b[0m \u001b[34m0\u001b[0m \u001b[34m0\u001b[0m \u001b[34m0\u001b[0m \u001b[34m0\u001b[0m \u001b[34m0\u001b[0m \u001b[34m0\u001b[0m \u001b[34m0\u001b[0m \u001b[34m0\u001b[0m \u001b[34m0\u001b[0m \u001b[34m0\u001b[0m \u001b[31m1\u001b[0m \u001b[31m1\u001b[0m \u001b[31m1\u001b[0m \u001b[31m1\u001b[0m \u001b[31m1\u001b[0m \u001b[31m1\u001b[0m \u001b[31m1\u001b[0m \u001b[31m1\u001b[0m \u001b[31m1\u001b[0m \u001b[31m1\u001b[0m \u001b[31m1\u001b[0m \u001b[34m0\u001b[0m \u001b[34m0\u001b[0m \u001b[34m0\u001b[0m \u001b[34m0\u001b[0m \u001b[34m0\u001b[0m \u001b[34m0\u001b[0m\n",
      "\u001b[34m0\u001b[0m \u001b[34m0\u001b[0m \u001b[34m0\u001b[0m \u001b[34m0\u001b[0m \u001b[34m0\u001b[0m \u001b[34m0\u001b[0m \u001b[34m0\u001b[0m \u001b[34m0\u001b[0m \u001b[34m0\u001b[0m \u001b[34m0\u001b[0m \u001b[34m0\u001b[0m \u001b[34m0\u001b[0m \u001b[34m0\u001b[0m \u001b[34m0\u001b[0m \u001b[34m0\u001b[0m \u001b[34m0\u001b[0m \u001b[34m0\u001b[0m \u001b[34m0\u001b[0m \u001b[31m1\u001b[0m \u001b[31m1\u001b[0m \u001b[31m1\u001b[0m \u001b[31m1\u001b[0m \u001b[34m0\u001b[0m \u001b[34m0\u001b[0m \u001b[34m0\u001b[0m \u001b[34m0\u001b[0m \u001b[34m0\u001b[0m \u001b[34m0\u001b[0m\n",
      "\u001b[34m0\u001b[0m \u001b[34m0\u001b[0m \u001b[34m0\u001b[0m \u001b[34m0\u001b[0m \u001b[34m0\u001b[0m \u001b[34m0\u001b[0m \u001b[34m0\u001b[0m \u001b[34m0\u001b[0m \u001b[34m0\u001b[0m \u001b[34m0\u001b[0m \u001b[34m0\u001b[0m \u001b[34m0\u001b[0m \u001b[34m0\u001b[0m \u001b[34m0\u001b[0m \u001b[34m0\u001b[0m \u001b[34m0\u001b[0m \u001b[34m0\u001b[0m \u001b[31m1\u001b[0m \u001b[31m1\u001b[0m \u001b[31m1\u001b[0m \u001b[31m1\u001b[0m \u001b[34m0\u001b[0m \u001b[34m0\u001b[0m \u001b[34m0\u001b[0m \u001b[34m0\u001b[0m \u001b[34m0\u001b[0m \u001b[34m0\u001b[0m \u001b[34m0\u001b[0m\n",
      "\u001b[34m0\u001b[0m \u001b[34m0\u001b[0m \u001b[34m0\u001b[0m \u001b[34m0\u001b[0m \u001b[34m0\u001b[0m \u001b[34m0\u001b[0m \u001b[34m0\u001b[0m \u001b[34m0\u001b[0m \u001b[34m0\u001b[0m \u001b[34m0\u001b[0m \u001b[34m0\u001b[0m \u001b[34m0\u001b[0m \u001b[34m0\u001b[0m \u001b[34m0\u001b[0m \u001b[34m0\u001b[0m \u001b[34m0\u001b[0m \u001b[34m0\u001b[0m \u001b[31m1\u001b[0m \u001b[31m1\u001b[0m \u001b[31m1\u001b[0m \u001b[31m1\u001b[0m \u001b[34m0\u001b[0m \u001b[34m0\u001b[0m \u001b[34m0\u001b[0m \u001b[34m0\u001b[0m \u001b[34m0\u001b[0m \u001b[34m0\u001b[0m \u001b[34m0\u001b[0m\n",
      "\u001b[34m0\u001b[0m \u001b[34m0\u001b[0m \u001b[34m0\u001b[0m \u001b[34m0\u001b[0m \u001b[34m0\u001b[0m \u001b[34m0\u001b[0m \u001b[34m0\u001b[0m \u001b[34m0\u001b[0m \u001b[34m0\u001b[0m \u001b[34m0\u001b[0m \u001b[34m0\u001b[0m \u001b[34m0\u001b[0m \u001b[34m0\u001b[0m \u001b[34m0\u001b[0m \u001b[34m0\u001b[0m \u001b[34m0\u001b[0m \u001b[31m1\u001b[0m \u001b[31m1\u001b[0m \u001b[31m1\u001b[0m \u001b[31m1\u001b[0m \u001b[34m0\u001b[0m \u001b[34m0\u001b[0m \u001b[34m0\u001b[0m \u001b[34m0\u001b[0m \u001b[34m0\u001b[0m \u001b[34m0\u001b[0m \u001b[34m0\u001b[0m \u001b[34m0\u001b[0m\n",
      "\u001b[34m0\u001b[0m \u001b[34m0\u001b[0m \u001b[34m0\u001b[0m \u001b[34m0\u001b[0m \u001b[34m0\u001b[0m \u001b[34m0\u001b[0m \u001b[34m0\u001b[0m \u001b[34m0\u001b[0m \u001b[34m0\u001b[0m \u001b[34m0\u001b[0m \u001b[34m0\u001b[0m \u001b[34m0\u001b[0m \u001b[34m0\u001b[0m \u001b[34m0\u001b[0m \u001b[34m0\u001b[0m \u001b[34m0\u001b[0m \u001b[31m1\u001b[0m \u001b[31m1\u001b[0m \u001b[31m1\u001b[0m \u001b[31m1\u001b[0m \u001b[34m0\u001b[0m \u001b[34m0\u001b[0m \u001b[34m0\u001b[0m \u001b[34m0\u001b[0m \u001b[34m0\u001b[0m \u001b[34m0\u001b[0m \u001b[34m0\u001b[0m \u001b[34m0\u001b[0m\n",
      "\u001b[34m0\u001b[0m \u001b[34m0\u001b[0m \u001b[34m0\u001b[0m \u001b[34m0\u001b[0m \u001b[34m0\u001b[0m \u001b[34m0\u001b[0m \u001b[34m0\u001b[0m \u001b[34m0\u001b[0m \u001b[34m0\u001b[0m \u001b[34m0\u001b[0m \u001b[34m0\u001b[0m \u001b[34m0\u001b[0m \u001b[34m0\u001b[0m \u001b[34m0\u001b[0m \u001b[34m0\u001b[0m \u001b[31m1\u001b[0m \u001b[31m1\u001b[0m \u001b[31m1\u001b[0m \u001b[31m1\u001b[0m \u001b[34m0\u001b[0m \u001b[34m0\u001b[0m \u001b[34m0\u001b[0m \u001b[34m0\u001b[0m \u001b[34m0\u001b[0m \u001b[34m0\u001b[0m \u001b[34m0\u001b[0m \u001b[34m0\u001b[0m \u001b[34m0\u001b[0m\n",
      "\u001b[34m0\u001b[0m \u001b[34m0\u001b[0m \u001b[34m0\u001b[0m \u001b[34m0\u001b[0m \u001b[34m0\u001b[0m \u001b[34m0\u001b[0m \u001b[34m0\u001b[0m \u001b[34m0\u001b[0m \u001b[34m0\u001b[0m \u001b[34m0\u001b[0m \u001b[34m0\u001b[0m \u001b[34m0\u001b[0m \u001b[34m0\u001b[0m \u001b[34m0\u001b[0m \u001b[34m0\u001b[0m \u001b[31m1\u001b[0m \u001b[31m1\u001b[0m \u001b[31m1\u001b[0m \u001b[34m0\u001b[0m \u001b[34m0\u001b[0m \u001b[34m0\u001b[0m \u001b[34m0\u001b[0m \u001b[34m0\u001b[0m \u001b[34m0\u001b[0m \u001b[34m0\u001b[0m \u001b[34m0\u001b[0m \u001b[34m0\u001b[0m \u001b[34m0\u001b[0m\n",
      "\u001b[34m0\u001b[0m \u001b[34m0\u001b[0m \u001b[34m0\u001b[0m \u001b[34m0\u001b[0m \u001b[34m0\u001b[0m \u001b[34m0\u001b[0m \u001b[34m0\u001b[0m \u001b[34m0\u001b[0m \u001b[34m0\u001b[0m \u001b[34m0\u001b[0m \u001b[34m0\u001b[0m \u001b[34m0\u001b[0m \u001b[34m0\u001b[0m \u001b[34m0\u001b[0m \u001b[31m1\u001b[0m \u001b[31m1\u001b[0m \u001b[31m1\u001b[0m \u001b[31m1\u001b[0m \u001b[34m0\u001b[0m \u001b[34m0\u001b[0m \u001b[34m0\u001b[0m \u001b[34m0\u001b[0m \u001b[34m0\u001b[0m \u001b[34m0\u001b[0m \u001b[34m0\u001b[0m \u001b[34m0\u001b[0m \u001b[34m0\u001b[0m \u001b[34m0\u001b[0m\n",
      "\u001b[34m0\u001b[0m \u001b[34m0\u001b[0m \u001b[34m0\u001b[0m \u001b[34m0\u001b[0m \u001b[34m0\u001b[0m \u001b[34m0\u001b[0m \u001b[34m0\u001b[0m \u001b[34m0\u001b[0m \u001b[34m0\u001b[0m \u001b[34m0\u001b[0m \u001b[34m0\u001b[0m \u001b[34m0\u001b[0m \u001b[34m0\u001b[0m \u001b[31m1\u001b[0m \u001b[31m1\u001b[0m \u001b[31m1\u001b[0m \u001b[31m1\u001b[0m \u001b[34m0\u001b[0m \u001b[34m0\u001b[0m \u001b[34m0\u001b[0m \u001b[34m0\u001b[0m \u001b[34m0\u001b[0m \u001b[34m0\u001b[0m \u001b[34m0\u001b[0m \u001b[34m0\u001b[0m \u001b[34m0\u001b[0m \u001b[34m0\u001b[0m \u001b[34m0\u001b[0m\n",
      "\u001b[34m0\u001b[0m \u001b[34m0\u001b[0m \u001b[34m0\u001b[0m \u001b[34m0\u001b[0m \u001b[34m0\u001b[0m \u001b[34m0\u001b[0m \u001b[34m0\u001b[0m \u001b[34m0\u001b[0m \u001b[34m0\u001b[0m \u001b[34m0\u001b[0m \u001b[34m0\u001b[0m \u001b[34m0\u001b[0m \u001b[31m1\u001b[0m \u001b[31m1\u001b[0m \u001b[31m1\u001b[0m \u001b[31m1\u001b[0m \u001b[31m1\u001b[0m \u001b[34m0\u001b[0m \u001b[34m0\u001b[0m \u001b[34m0\u001b[0m \u001b[34m0\u001b[0m \u001b[34m0\u001b[0m \u001b[34m0\u001b[0m \u001b[34m0\u001b[0m \u001b[34m0\u001b[0m \u001b[34m0\u001b[0m \u001b[34m0\u001b[0m \u001b[34m0\u001b[0m\n",
      "\u001b[34m0\u001b[0m \u001b[34m0\u001b[0m \u001b[34m0\u001b[0m \u001b[34m0\u001b[0m \u001b[34m0\u001b[0m \u001b[34m0\u001b[0m \u001b[34m0\u001b[0m \u001b[34m0\u001b[0m \u001b[34m0\u001b[0m \u001b[34m0\u001b[0m \u001b[34m0\u001b[0m \u001b[34m0\u001b[0m \u001b[31m1\u001b[0m \u001b[31m1\u001b[0m \u001b[31m1\u001b[0m \u001b[31m1\u001b[0m \u001b[34m0\u001b[0m \u001b[34m0\u001b[0m \u001b[34m0\u001b[0m \u001b[34m0\u001b[0m \u001b[34m0\u001b[0m \u001b[34m0\u001b[0m \u001b[34m0\u001b[0m \u001b[34m0\u001b[0m \u001b[34m0\u001b[0m \u001b[34m0\u001b[0m \u001b[34m0\u001b[0m \u001b[34m0\u001b[0m\n",
      "\u001b[34m0\u001b[0m \u001b[34m0\u001b[0m \u001b[34m0\u001b[0m \u001b[34m0\u001b[0m \u001b[34m0\u001b[0m \u001b[34m0\u001b[0m \u001b[34m0\u001b[0m \u001b[34m0\u001b[0m \u001b[34m0\u001b[0m \u001b[34m0\u001b[0m \u001b[34m0\u001b[0m \u001b[31m1\u001b[0m \u001b[31m1\u001b[0m \u001b[31m1\u001b[0m \u001b[31m1\u001b[0m \u001b[31m1\u001b[0m \u001b[34m0\u001b[0m \u001b[34m0\u001b[0m \u001b[34m0\u001b[0m \u001b[34m0\u001b[0m \u001b[34m0\u001b[0m \u001b[34m0\u001b[0m \u001b[34m0\u001b[0m \u001b[34m0\u001b[0m \u001b[34m0\u001b[0m \u001b[34m0\u001b[0m \u001b[34m0\u001b[0m \u001b[34m0\u001b[0m\n",
      "\u001b[34m0\u001b[0m \u001b[34m0\u001b[0m \u001b[34m0\u001b[0m \u001b[34m0\u001b[0m \u001b[34m0\u001b[0m \u001b[34m0\u001b[0m \u001b[34m0\u001b[0m \u001b[34m0\u001b[0m \u001b[34m0\u001b[0m \u001b[34m0\u001b[0m \u001b[34m0\u001b[0m \u001b[31m1\u001b[0m \u001b[31m1\u001b[0m \u001b[31m1\u001b[0m \u001b[31m1\u001b[0m \u001b[34m0\u001b[0m \u001b[34m0\u001b[0m \u001b[34m0\u001b[0m \u001b[34m0\u001b[0m \u001b[34m0\u001b[0m \u001b[34m0\u001b[0m \u001b[34m0\u001b[0m \u001b[34m0\u001b[0m \u001b[34m0\u001b[0m \u001b[34m0\u001b[0m \u001b[34m0\u001b[0m \u001b[34m0\u001b[0m \u001b[34m0\u001b[0m\n",
      "\u001b[34m0\u001b[0m \u001b[34m0\u001b[0m \u001b[34m0\u001b[0m \u001b[34m0\u001b[0m \u001b[34m0\u001b[0m \u001b[34m0\u001b[0m \u001b[34m0\u001b[0m \u001b[34m0\u001b[0m \u001b[34m0\u001b[0m \u001b[34m0\u001b[0m \u001b[31m1\u001b[0m \u001b[31m1\u001b[0m \u001b[31m1\u001b[0m \u001b[31m1\u001b[0m \u001b[31m1\u001b[0m \u001b[34m0\u001b[0m \u001b[34m0\u001b[0m \u001b[34m0\u001b[0m \u001b[34m0\u001b[0m \u001b[34m0\u001b[0m \u001b[34m0\u001b[0m \u001b[34m0\u001b[0m \u001b[34m0\u001b[0m \u001b[34m0\u001b[0m \u001b[34m0\u001b[0m \u001b[34m0\u001b[0m \u001b[34m0\u001b[0m \u001b[34m0\u001b[0m\n",
      "\u001b[34m0\u001b[0m \u001b[34m0\u001b[0m \u001b[34m0\u001b[0m \u001b[34m0\u001b[0m \u001b[34m0\u001b[0m \u001b[34m0\u001b[0m \u001b[34m0\u001b[0m \u001b[34m0\u001b[0m \u001b[34m0\u001b[0m \u001b[34m0\u001b[0m \u001b[31m1\u001b[0m \u001b[31m1\u001b[0m \u001b[31m1\u001b[0m \u001b[31m1\u001b[0m \u001b[31m1\u001b[0m \u001b[34m0\u001b[0m \u001b[34m0\u001b[0m \u001b[34m0\u001b[0m \u001b[34m0\u001b[0m \u001b[34m0\u001b[0m \u001b[34m0\u001b[0m \u001b[34m0\u001b[0m \u001b[34m0\u001b[0m \u001b[34m0\u001b[0m \u001b[34m0\u001b[0m \u001b[34m0\u001b[0m \u001b[34m0\u001b[0m \u001b[34m0\u001b[0m\n",
      "\u001b[34m0\u001b[0m \u001b[34m0\u001b[0m \u001b[34m0\u001b[0m \u001b[34m0\u001b[0m \u001b[34m0\u001b[0m \u001b[34m0\u001b[0m \u001b[34m0\u001b[0m \u001b[34m0\u001b[0m \u001b[34m0\u001b[0m \u001b[34m0\u001b[0m \u001b[31m1\u001b[0m \u001b[31m1\u001b[0m \u001b[31m1\u001b[0m \u001b[31m1\u001b[0m \u001b[34m0\u001b[0m \u001b[34m0\u001b[0m \u001b[34m0\u001b[0m \u001b[34m0\u001b[0m \u001b[34m0\u001b[0m \u001b[34m0\u001b[0m \u001b[34m0\u001b[0m \u001b[34m0\u001b[0m \u001b[34m0\u001b[0m \u001b[34m0\u001b[0m \u001b[34m0\u001b[0m \u001b[34m0\u001b[0m \u001b[34m0\u001b[0m \u001b[34m0\u001b[0m\n",
      "\u001b[34m0\u001b[0m \u001b[34m0\u001b[0m \u001b[34m0\u001b[0m \u001b[34m0\u001b[0m \u001b[34m0\u001b[0m \u001b[34m0\u001b[0m \u001b[34m0\u001b[0m \u001b[34m0\u001b[0m \u001b[34m0\u001b[0m \u001b[34m0\u001b[0m \u001b[34m0\u001b[0m \u001b[34m0\u001b[0m \u001b[34m0\u001b[0m \u001b[34m0\u001b[0m \u001b[34m0\u001b[0m \u001b[34m0\u001b[0m \u001b[34m0\u001b[0m \u001b[34m0\u001b[0m \u001b[34m0\u001b[0m \u001b[34m0\u001b[0m \u001b[34m0\u001b[0m \u001b[34m0\u001b[0m \u001b[34m0\u001b[0m \u001b[34m0\u001b[0m \u001b[34m0\u001b[0m \u001b[34m0\u001b[0m \u001b[34m0\u001b[0m \u001b[34m0\u001b[0m\n"
     ]
    }
   ],
   "source": [
    "from termcolor import colored\n",
    "\n",
    "longitud = x_train[0].shape[0]\n",
    "x_test   = tf.keras.utils.normalize(x_test, axis = 1)\n",
    "for i in range(longitud):\n",
    "    array = x_test[0][i]\n",
    "    array = [1 if  i > 0 else 0 for i in array]\n",
    "    #print(' '.join(str(e) for e in array))\n",
    "    print(' '.join(colored(e, 'red') if e == 1 else colored(e, 'blue') for e in array))"
   ]
  },
  {
   "cell_type": "markdown",
   "metadata": {},
   "source": [
    "Prediccion de la imagen"
   ]
  },
  {
   "cell_type": "code",
   "execution_count": 27,
   "metadata": {},
   "outputs": [
    {
     "name": "stdout",
     "output_type": "stream",
     "text": [
      "            Prediccion:  7\n"
     ]
    },
    {
     "data": {
      "image/png": "[encoded data removed]",
      "text/plain": [
       "<Figure size 432x288 with 1 Axes>"
      ]
     },
     "metadata": {
      "needs_background": "light"
     },
     "output_type": "display_data"
    },
    {
     "name": "stdout",
     "output_type": "stream",
     "text": [
      "            Prediccion:  2\n"
     ]
    },
    {
     "data": {
      "image/png": "[encoded data removed]",
      "text/plain": [
       "<Figure size 432x288 with 1 Axes>"
      ]
     },
     "metadata": {
      "needs_background": "light"
     },
     "output_type": "display_data"
    },
    {
     "name": "stdout",
     "output_type": "stream",
     "text": [
      "            Prediccion:  1\n"
     ]
    },
    {
     "data": {
      "image/png": "[encoded data removed]",
      "text/plain": [
       "<Figure size 432x288 with 1 Axes>"
      ]
     },
     "metadata": {
      "needs_background": "light"
     },
     "output_type": "display_data"
    }
   ],
   "source": [
    "import numpy as np\n",
    "\n",
    "for i in range(0, 3):\n",
    "    # Argmax retorna el indice del numero mas grande en el array\n",
    "    imagen = np.argmax(prediccion[i])\n",
    "    print('            Prediccion: ',imagen)\n",
    "    plt.imshow(x_test[i])\n",
    "    plt.show()"
   ]
  },
  {
   "cell_type": "markdown",
   "metadata": {},
   "source": [
    "Con datos Escalados:"
   ]
  },
  {
   "cell_type": "code",
   "execution_count": 28,
   "metadata": {},
   "outputs": [],
   "source": [
    "(x_train, y_train), (x_test, y_test) = mnist.load_data()\n",
    "x_train = tf.keras.utils.normalize(x_train, axis = 1)\n",
    "x_test = tf.keras.utils.normalize(x_test, axis = 1)"
   ]
  },
  {
   "cell_type": "code",
   "execution_count": 29,
   "metadata": {},
   "outputs": [
    {
     "data": {
      "image/png": "[encoded data removed]",
      "text/plain": [
       "<Figure size 432x288 with 1 Axes>"
      ]
     },
     "metadata": {
      "needs_background": "light"
     },
     "output_type": "display_data"
    }
   ],
   "source": [
    "plt.imshow(x_train[0], cmap = plt.cm.binary)\n",
    "plt.show()"
   ]
  },
  {
   "cell_type": "code",
   "execution_count": 30,
   "metadata": {},
   "outputs": [
    {
     "name": "stdout",
     "output_type": "stream",
     "text": [
      "Epoch 1/15\n",
      "1875/1875 [==============================] - 4s 2ms/step - loss: 0.2619 - accuracy: 0.9234\n",
      "Epoch 2/15\n",
      "1875/1875 [==============================] - 4s 2ms/step - loss: 0.1080 - accuracy: 0.9668\n",
      "Epoch 3/15\n",
      "1875/1875 [==============================] - 5s 3ms/step - loss: 0.0727 - accuracy: 0.9772\n",
      "Epoch 4/15\n",
      "1875/1875 [==============================] - 5s 2ms/step - loss: 0.0547 - accuracy: 0.9824\n",
      "Epoch 5/15\n",
      "1875/1875 [==============================] - 4s 2ms/step - loss: 0.0388 - accuracy: 0.9876\n",
      "Epoch 6/15\n",
      "1875/1875 [==============================] - 4s 2ms/step - loss: 0.0313 - accuracy: 0.9895\n",
      "Epoch 7/15\n",
      "1875/1875 [==============================] - 4s 2ms/step - loss: 0.0255 - accuracy: 0.9913\n",
      "Epoch 8/15\n",
      "1875/1875 [==============================] - 4s 2ms/step - loss: 0.0198 - accuracy: 0.9936\n",
      "Epoch 9/15\n",
      "1875/1875 [==============================] - 4s 2ms/step - loss: 0.0179 - accuracy: 0.9939\n",
      "Epoch 10/15\n",
      "1875/1875 [==============================] - 4s 2ms/step - loss: 0.0164 - accuracy: 0.9944\n",
      "Epoch 11/15\n",
      "1875/1875 [==============================] - 4s 2ms/step - loss: 0.0137 - accuracy: 0.9954\n",
      "Epoch 12/15\n",
      "1875/1875 [==============================] - 3s 1ms/step - loss: 0.0115 - accuracy: 0.9961\n",
      "Epoch 13/15\n",
      "1875/1875 [==============================] - 3s 2ms/step - loss: 0.0122 - accuracy: 0.9958\n",
      "Epoch 14/15\n",
      "1875/1875 [==============================] - 3s 2ms/step - loss: 0.0090 - accuracy: 0.9970\n",
      "Epoch 15/15\n",
      "1875/1875 [==============================] - 3s 2ms/step - loss: 0.0099 - accuracy: 0.9968\n"
     ]
    }
   ],
   "source": [
    "model = tf.keras.models.Sequential()\n",
    "\n",
    "model.add(tf.keras.layers.Flatten())\n",
    "\n",
    "model.add(tf.keras.layers.Dense(128, activation = tf.nn.relu))\n",
    "model.add(tf.keras.layers.Dense(128, activation = tf.nn.relu))\n",
    "\n",
    "model.add(tf.keras.layers.Dense(10, activation = tf.nn.softmax))\n",
    "\n",
    "\n",
    "model.compile(optimizer = 'adam',\n",
    "              loss      = 'sparse_categorical_crossentropy',\n",
    "              metrics   = ['accuracy'])\n",
    "\n",
    "historial = model.fit(x_train,\n",
    "                  y_train,\n",
    "                  epochs = 6)"
   ]
  },
  {
   "cell_type": "markdown",
   "metadata": {},
   "source": [
    "Podemos observar que a partir de la iteracion numero 10 la perdida tiende a estabilizarse"
   ]
  },
  {
   "cell_type": "code",
   "execution_count": 31,
   "metadata": {},
   "outputs": [
    {
     "data": {
      "image/png": "[encoded data removed]",
      "text/plain": [
       "<Figure size 432x288 with 1 Axes>"
      ]
     },
     "metadata": {
      "needs_background": "light"
     },
     "output_type": "display_data"
    }
   ],
   "source": [
    "plt.xlabel('iteraciones')\n",
    "plt.ylabel('perdida')\n",
    "plt.plot(historial.history['loss']);"
   ]
  },
  {
   "cell_type": "code",
   "execution_count": 32,
   "metadata": {},
   "outputs": [
    {
     "name": "stdout",
     "output_type": "stream",
     "text": [
      "            Prediccion:  7\n"
     ]
    },
    {
     "data": {
      "image/png": "[encoded data removed]",
      "text/plain": [
       "<Figure size 432x288 with 1 Axes>"
      ]
     },
     "metadata": {
      "needs_background": "light"
     },
     "output_type": "display_data"
    },
    {
     "name": "stdout",
     "output_type": "stream",
     "text": [
      "            Prediccion:  2\n"
     ]
    },
    {
     "data": {
      "image/png": "[encoded data removed]",
      "text/plain": [
       "<Figure size 432x288 with 1 Axes>"
      ]
     },
     "metadata": {
      "needs_background": "light"
     },
     "output_type": "display_data"
    },
    {
     "name": "stdout",
     "output_type": "stream",
     "text": [
      "            Prediccion:  1\n"
     ]
    },
    {
     "data": {
      "image/png": "[encoded data removed]",
      "text/plain": [
       "<Figure size 432x288 with 1 Axes>"
      ]
     },
     "metadata": {
      "needs_background": "light"
     },
     "output_type": "display_data"
    }
   ],
   "source": [
    "import numpy as np\n",
    "\n",
    "for i in range(0, 3):\n",
    "    # Argmax retorna el indice del numero mas grande en el array\n",
    "    imagen = np.argmax(prediccion[i])\n",
    "    print('            Prediccion: ',imagen)\n",
    "    plt.imshow(x_test[i])\n",
    "    plt.show()"
   ]
  }
 ],
 "metadata": {
  "accelerator": "GPU",
  "colab": {
   "collapsed_sections": [],
   "name": "Clase 2_MNIST_Keras.ipynb",
   "provenance": [],
   "toc_visible": true
  },
  "kernelspec": {
   "display_name": "Python 3 (ipykernel)",
   "language": "python",
   "name": "python3"
  },
  "language_info": {
   "codemirror_mode": {
    "name": "ipython",
    "version": 3
   },
   "file_extension": ".py",
   "mimetype": "text/x-python",
   "name": "python",
   "nbconvert_exporter": "python",
   "pygments_lexer": "ipython3",
   "version": "3.8.13"
  }
 },
 "nbformat": 4,
 "nbformat_minor": 4
}
