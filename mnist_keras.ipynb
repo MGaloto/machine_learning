{
 "cells": [
  {
   "cell_type": "markdown",
   "metadata": {
    "id": "4tUaarYSKzJA"
   },
   "source": [
    "# Tensorflow\n",
    "\n",
    "Entrenando un modelo para predecir imagenes"
   ]
  },
  {
   "cell_type": "code",
   "execution_count": 1,
   "metadata": {
    "id": "GinVBcAR7WMg"
   },
   "outputs": [
    {
     "data": {
      "text/plain": [
       "'2.9.1'"
      ]
     },
     "execution_count": 1,
     "metadata": {},
     "output_type": "execute_result"
    }
   ],
   "source": [
    "import tensorflow as tf\n",
    "\n",
    "tf.__version__"
   ]
  },
  {
   "cell_type": "markdown",
   "metadata": {},
   "source": [
    "Se importa un conjunto de datos que consta de imagenes tamaño 28 x 28"
   ]
  },
  {
   "cell_type": "code",
   "execution_count": 2,
   "metadata": {},
   "outputs": [],
   "source": [
    "mnist = tf.keras.datasets.mnist"
   ]
  },
  {
   "cell_type": "code",
   "execution_count": 3,
   "metadata": {},
   "outputs": [],
   "source": [
    "(x_train, y_train), (x_test, y_test) = mnist.load_data()"
   ]
  },
  {
   "cell_type": "markdown",
   "metadata": {},
   "source": [
    "Ejemplo de uno de los tensores que se utilizara\n",
    "para entrenar el modelo"
   ]
  },
  {
   "cell_type": "code",
   "execution_count": 4,
   "metadata": {},
   "outputs": [
    {
     "data": {
      "image/png": "[encoded data removed]",
      "text/plain": [
       "<Figure size 432x288 with 1 Axes>"
      ]
     },
     "metadata": {
      "needs_background": "light"
     },
     "output_type": "display_data"
    }
   ],
   "source": [
    "import matplotlib.pyplot as plt\n",
    "\n",
    "plt.imshow(x_train[0], cmap = plt.cm.binary)\n",
    "plt.show()"
   ]
  },
  {
   "cell_type": "markdown",
   "metadata": {},
   "source": [
    "A continuacion se observan los arrays y sus respectivos valores de escala entre blanco y negro para las primeras 8 filas de 28"
   ]
  },
  {
   "cell_type": "code",
   "execution_count": 5,
   "metadata": {},
   "outputs": [
    {
     "name": "stdout",
     "output_type": "stream",
     "text": [
      "Tamaño:  (28, 28)\n",
      "Tensor: \n"
     ]
    },
    {
     "data": {
      "text/plain": [
       "array([[  0,   0,   0,   0,   0,   0,   0,   0,   0,   0,   0,   0,   0,\n",
       "          0,   0,   0,   0,   0,   0,   0,   0,   0,   0,   0,   0,   0,\n",
       "          0,   0],\n",
       "       [  0,   0,   0,   0,   0,   0,   0,   0,   0,   0,   0,   0,   0,\n",
       "          0,   0,   0,   0,   0,   0,   0,   0,   0,   0,   0,   0,   0,\n",
       "          0,   0],\n",
       "       [  0,   0,   0,   0,   0,   0,   0,   0,   0,   0,   0,   0,   0,\n",
       "          0,   0,   0,   0,   0,   0,   0,   0,   0,   0,   0,   0,   0,\n",
       "          0,   0],\n",
       "       [  0,   0,   0,   0,   0,   0,   0,   0,   0,   0,   0,   0,   0,\n",
       "          0,   0,   0,   0,   0,   0,   0,   0,   0,   0,   0,   0,   0,\n",
       "          0,   0],\n",
       "       [  0,   0,   0,   0,   0,   0,   0,   0,   0,   0,   0,   0,   0,\n",
       "          0,   0,   0,   0,   0,   0,   0,   0,   0,   0,   0,   0,   0,\n",
       "          0,   0],\n",
       "       [  0,   0,   0,   0,   0,   0,   0,   0,   0,   0,   0,   0,   3,\n",
       "         18,  18,  18, 126, 136, 175,  26, 166, 255, 247, 127,   0,   0,\n",
       "          0,   0],\n",
       "       [  0,   0,   0,   0,   0,   0,   0,   0,  30,  36,  94, 154, 170,\n",
       "        253, 253, 253, 253, 253, 225, 172, 253, 242, 195,  64,   0,   0,\n",
       "          0,   0],\n",
       "       [  0,   0,   0,   0,   0,   0,   0,  49, 238, 253, 253, 253, 253,\n",
       "        253, 253, 253, 253, 251,  93,  82,  82,  56,  39,   0,   0,   0,\n",
       "          0,   0]], dtype=uint8)"
      ]
     },
     "execution_count": 5,
     "metadata": {},
     "output_type": "execute_result"
    }
   ],
   "source": [
    "print('Tamaño: ',x_train[0].shape)\n",
    "print('Tensor: ')\n",
    "x_train[0][0:8]"
   ]
  },
  {
   "cell_type": "markdown",
   "metadata": {},
   "source": [
    "Construccion del modelo"
   ]
  },
  {
   "cell_type": "code",
   "execution_count": 6,
   "metadata": {},
   "outputs": [
    {
     "name": "stdout",
     "output_type": "stream",
     "text": [
      "Epoch 1/8\n",
      "1875/1875 [==============================] - 4s 2ms/step - loss: 1.7716 - accuracy: 0.8784\n",
      "Epoch 2/8\n",
      "1875/1875 [==============================] - 3s 2ms/step - loss: 0.3405 - accuracy: 0.9302\n",
      "Epoch 3/8\n",
      "1875/1875 [==============================] - 3s 2ms/step - loss: 0.2027 - accuracy: 0.9474\n",
      "Epoch 4/8\n",
      "1875/1875 [==============================] - 3s 2ms/step - loss: 0.1589 - accuracy: 0.9559\n",
      "Epoch 5/8\n",
      "1875/1875 [==============================] - 3s 1ms/step - loss: 0.1489 - accuracy: 0.9586\n",
      "Epoch 6/8\n",
      "1875/1875 [==============================] - 3s 1ms/step - loss: 0.1298 - accuracy: 0.9651\n",
      "Epoch 7/8\n",
      "1875/1875 [==============================] - 3s 2ms/step - loss: 0.1200 - accuracy: 0.9666\n",
      "Epoch 8/8\n",
      "1875/1875 [==============================] - 3s 2ms/step - loss: 0.1106 - accuracy: 0.9703\n"
     ]
    }
   ],
   "source": [
    "(x_train, y_train), (x_test, y_test) = mnist.load_data()\n",
    "\n",
    "model = tf.keras.models.Sequential()\n",
    "# Se adicionan dos capas ocultas\n",
    "model.add(tf.keras.layers.Flatten())\n",
    "# Se agregan 128 neuronas a la capa con una funcion de activacion llamada relu predeterminada de keras\n",
    "model.add(tf.keras.layers.Dense(128, activation = tf.nn.relu))\n",
    "model.add(tf.keras.layers.Dense(128, activation = tf.nn.relu))\n",
    "# Se utiliza softmax para la funcion de activacion\n",
    "model.add(tf.keras.layers.Dense(10, activation = tf.nn.softmax))\n",
    "\n",
    "# Las redes neuronales siempre estan tratando de minimizar las perdidas\n",
    "\n",
    "model.compile(optimizer = 'adam',\n",
    "              loss      = 'sparse_categorical_crossentropy',\n",
    "              metrics   = ['accuracy'])\n",
    "\n",
    "# utilizamos 3 epocas\n",
    "\n",
    "historial = model.fit(x_train,\n",
    "                      y_train,\n",
    "                      epochs = 8)"
   ]
  },
  {
   "cell_type": "markdown",
   "metadata": {},
   "source": [
    "Podemos observar que a partir de la tercer iteración la perdida tiende a estabilizarse y el accuracy llega a un maximo en la sexta"
   ]
  },
  {
   "cell_type": "code",
   "execution_count": 62,
   "metadata": {},
   "outputs": [
    {
     "data": {
      "image/png": "[encoded data removed]",
      "text/plain": [
       "<Figure size 432x288 with 1 Axes>"
      ]
     },
     "metadata": {
      "needs_background": "light"
     },
     "output_type": "display_data"
    }
   ],
   "source": [
    "plt.xlabel('iteraciones')\n",
    "plt.ylabel('perdida')\n",
    "plt.plot(historial.history['accuracy']);"
   ]
  },
  {
   "cell_type": "code",
   "execution_count": 63,
   "metadata": {},
   "outputs": [
    {
     "data": {
      "image/png": "[encoded data removed]",
      "text/plain": [
       "<Figure size 432x288 with 1 Axes>"
      ]
     },
     "metadata": {
      "needs_background": "light"
     },
     "output_type": "display_data"
    }
   ],
   "source": [
    "plt.xlabel('iteraciones')\n",
    "plt.ylabel('perdida')\n",
    "plt.plot(historial.history['loss']);"
   ]
  },
  {
   "cell_type": "code",
   "execution_count": 8,
   "metadata": {},
   "outputs": [
    {
     "name": "stdout",
     "output_type": "stream",
     "text": [
      "WARNING:tensorflow:Layers in a Sequential model should only have a single input tensor. Received: inputs=(<tf.Tensor 'IteratorGetNext:0' shape=(None, 28, 28) dtype=uint8>,). Consider rewriting this model with the Functional API.\n",
      "313/313 [==============================] - 1s 2ms/step\n"
     ]
    }
   ],
   "source": [
    "prediccion = model.predict([x_test])"
   ]
  },
  {
   "cell_type": "markdown",
   "metadata": {},
   "source": [
    "A simple vista se puede visualizar que el primer array es un 7"
   ]
  },
  {
   "cell_type": "code",
   "execution_count": 9,
   "metadata": {},
   "outputs": [
    {
     "name": "stdout",
     "output_type": "stream",
     "text": [
      "\u001b[34m0\u001b[0m \u001b[34m0\u001b[0m \u001b[34m0\u001b[0m \u001b[34m0\u001b[0m \u001b[34m0\u001b[0m \u001b[34m0\u001b[0m \u001b[34m0\u001b[0m \u001b[34m0\u001b[0m \u001b[34m0\u001b[0m \u001b[34m0\u001b[0m \u001b[34m0\u001b[0m \u001b[34m0\u001b[0m \u001b[34m0\u001b[0m \u001b[34m0\u001b[0m \u001b[34m0\u001b[0m \u001b[34m0\u001b[0m \u001b[34m0\u001b[0m \u001b[34m0\u001b[0m \u001b[34m0\u001b[0m \u001b[34m0\u001b[0m \u001b[34m0\u001b[0m \u001b[34m0\u001b[0m \u001b[34m0\u001b[0m \u001b[34m0\u001b[0m \u001b[34m0\u001b[0m \u001b[34m0\u001b[0m \u001b[34m0\u001b[0m \u001b[34m0\u001b[0m\n",
      "\u001b[34m0\u001b[0m \u001b[34m0\u001b[0m \u001b[34m0\u001b[0m \u001b[34m0\u001b[0m \u001b[34m0\u001b[0m \u001b[34m0\u001b[0m \u001b[34m0\u001b[0m \u001b[34m0\u001b[0m \u001b[34m0\u001b[0m \u001b[34m0\u001b[0m \u001b[34m0\u001b[0m \u001b[34m0\u001b[0m \u001b[34m0\u001b[0m \u001b[34m0\u001b[0m \u001b[34m0\u001b[0m \u001b[34m0\u001b[0m \u001b[34m0\u001b[0m \u001b[34m0\u001b[0m \u001b[34m0\u001b[0m \u001b[34m0\u001b[0m \u001b[34m0\u001b[0m \u001b[34m0\u001b[0m \u001b[34m0\u001b[0m \u001b[34m0\u001b[0m \u001b[34m0\u001b[0m \u001b[34m0\u001b[0m \u001b[34m0\u001b[0m \u001b[34m0\u001b[0m\n",
      "\u001b[34m0\u001b[0m \u001b[34m0\u001b[0m \u001b[34m0\u001b[0m \u001b[34m0\u001b[0m \u001b[34m0\u001b[0m \u001b[34m0\u001b[0m \u001b[34m0\u001b[0m \u001b[34m0\u001b[0m \u001b[34m0\u001b[0m \u001b[34m0\u001b[0m \u001b[34m0\u001b[0m \u001b[34m0\u001b[0m \u001b[34m0\u001b[0m \u001b[34m0\u001b[0m \u001b[34m0\u001b[0m \u001b[34m0\u001b[0m \u001b[34m0\u001b[0m \u001b[34m0\u001b[0m \u001b[34m0\u001b[0m \u001b[34m0\u001b[0m \u001b[34m0\u001b[0m \u001b[34m0\u001b[0m \u001b[34m0\u001b[0m \u001b[34m0\u001b[0m \u001b[34m0\u001b[0m \u001b[34m0\u001b[0m \u001b[34m0\u001b[0m \u001b[34m0\u001b[0m\n",
      "\u001b[34m0\u001b[0m \u001b[34m0\u001b[0m \u001b[34m0\u001b[0m \u001b[34m0\u001b[0m \u001b[34m0\u001b[0m \u001b[34m0\u001b[0m \u001b[34m0\u001b[0m \u001b[34m0\u001b[0m \u001b[34m0\u001b[0m \u001b[34m0\u001b[0m \u001b[34m0\u001b[0m \u001b[34m0\u001b[0m \u001b[34m0\u001b[0m \u001b[34m0\u001b[0m \u001b[34m0\u001b[0m \u001b[34m0\u001b[0m \u001b[34m0\u001b[0m \u001b[34m0\u001b[0m \u001b[34m0\u001b[0m \u001b[34m0\u001b[0m \u001b[34m0\u001b[0m \u001b[34m0\u001b[0m \u001b[34m0\u001b[0m \u001b[34m0\u001b[0m \u001b[34m0\u001b[0m \u001b[34m0\u001b[0m \u001b[34m0\u001b[0m \u001b[34m0\u001b[0m\n",
      "\u001b[34m0\u001b[0m \u001b[34m0\u001b[0m \u001b[34m0\u001b[0m \u001b[34m0\u001b[0m \u001b[34m0\u001b[0m \u001b[34m0\u001b[0m \u001b[34m0\u001b[0m \u001b[34m0\u001b[0m \u001b[34m0\u001b[0m \u001b[34m0\u001b[0m \u001b[34m0\u001b[0m \u001b[34m0\u001b[0m \u001b[34m0\u001b[0m \u001b[34m0\u001b[0m \u001b[34m0\u001b[0m \u001b[34m0\u001b[0m \u001b[34m0\u001b[0m \u001b[34m0\u001b[0m \u001b[34m0\u001b[0m \u001b[34m0\u001b[0m \u001b[34m0\u001b[0m \u001b[34m0\u001b[0m \u001b[34m0\u001b[0m \u001b[34m0\u001b[0m \u001b[34m0\u001b[0m \u001b[34m0\u001b[0m \u001b[34m0\u001b[0m \u001b[34m0\u001b[0m\n",
      "\u001b[34m0\u001b[0m \u001b[34m0\u001b[0m \u001b[34m0\u001b[0m \u001b[34m0\u001b[0m \u001b[34m0\u001b[0m \u001b[34m0\u001b[0m \u001b[34m0\u001b[0m \u001b[34m0\u001b[0m \u001b[34m0\u001b[0m \u001b[34m0\u001b[0m \u001b[34m0\u001b[0m \u001b[34m0\u001b[0m \u001b[34m0\u001b[0m \u001b[34m0\u001b[0m \u001b[34m0\u001b[0m \u001b[34m0\u001b[0m \u001b[34m0\u001b[0m \u001b[34m0\u001b[0m \u001b[34m0\u001b[0m \u001b[34m0\u001b[0m \u001b[34m0\u001b[0m \u001b[34m0\u001b[0m \u001b[34m0\u001b[0m \u001b[34m0\u001b[0m \u001b[34m0\u001b[0m \u001b[34m0\u001b[0m \u001b[34m0\u001b[0m \u001b[34m0\u001b[0m\n",
      "\u001b[34m0\u001b[0m \u001b[34m0\u001b[0m \u001b[34m0\u001b[0m \u001b[34m0\u001b[0m \u001b[34m0\u001b[0m \u001b[34m0\u001b[0m \u001b[34m0\u001b[0m \u001b[34m0\u001b[0m \u001b[34m0\u001b[0m \u001b[34m0\u001b[0m \u001b[34m0\u001b[0m \u001b[34m0\u001b[0m \u001b[34m0\u001b[0m \u001b[34m0\u001b[0m \u001b[34m0\u001b[0m \u001b[34m0\u001b[0m \u001b[34m0\u001b[0m \u001b[34m0\u001b[0m \u001b[34m0\u001b[0m \u001b[34m0\u001b[0m \u001b[34m0\u001b[0m \u001b[34m0\u001b[0m \u001b[34m0\u001b[0m \u001b[34m0\u001b[0m \u001b[34m0\u001b[0m \u001b[34m0\u001b[0m \u001b[34m0\u001b[0m \u001b[34m0\u001b[0m\n",
      "\u001b[34m0\u001b[0m \u001b[34m0\u001b[0m \u001b[34m0\u001b[0m \u001b[34m0\u001b[0m \u001b[34m0\u001b[0m \u001b[34m0\u001b[0m \u001b[31m1\u001b[0m \u001b[31m1\u001b[0m \u001b[31m1\u001b[0m \u001b[31m1\u001b[0m \u001b[31m1\u001b[0m \u001b[31m1\u001b[0m \u001b[34m0\u001b[0m \u001b[34m0\u001b[0m \u001b[34m0\u001b[0m \u001b[34m0\u001b[0m \u001b[34m0\u001b[0m \u001b[34m0\u001b[0m \u001b[34m0\u001b[0m \u001b[34m0\u001b[0m \u001b[34m0\u001b[0m \u001b[34m0\u001b[0m \u001b[34m0\u001b[0m \u001b[34m0\u001b[0m \u001b[34m0\u001b[0m \u001b[34m0\u001b[0m \u001b[34m0\u001b[0m \u001b[34m0\u001b[0m\n",
      "\u001b[34m0\u001b[0m \u001b[34m0\u001b[0m \u001b[34m0\u001b[0m \u001b[34m0\u001b[0m \u001b[34m0\u001b[0m \u001b[34m0\u001b[0m \u001b[31m1\u001b[0m \u001b[31m1\u001b[0m \u001b[31m1\u001b[0m \u001b[31m1\u001b[0m \u001b[31m1\u001b[0m \u001b[31m1\u001b[0m \u001b[31m1\u001b[0m \u001b[31m1\u001b[0m \u001b[31m1\u001b[0m \u001b[31m1\u001b[0m \u001b[31m1\u001b[0m \u001b[31m1\u001b[0m \u001b[31m1\u001b[0m \u001b[31m1\u001b[0m \u001b[31m1\u001b[0m \u001b[31m1\u001b[0m \u001b[34m0\u001b[0m \u001b[34m0\u001b[0m \u001b[34m0\u001b[0m \u001b[34m0\u001b[0m \u001b[34m0\u001b[0m \u001b[34m0\u001b[0m\n",
      "\u001b[34m0\u001b[0m \u001b[34m0\u001b[0m \u001b[34m0\u001b[0m \u001b[34m0\u001b[0m \u001b[34m0\u001b[0m \u001b[34m0\u001b[0m \u001b[31m1\u001b[0m \u001b[31m1\u001b[0m \u001b[31m1\u001b[0m \u001b[31m1\u001b[0m \u001b[31m1\u001b[0m \u001b[31m1\u001b[0m \u001b[31m1\u001b[0m \u001b[31m1\u001b[0m \u001b[31m1\u001b[0m \u001b[31m1\u001b[0m \u001b[31m1\u001b[0m \u001b[31m1\u001b[0m \u001b[31m1\u001b[0m \u001b[31m1\u001b[0m \u001b[31m1\u001b[0m \u001b[31m1\u001b[0m \u001b[34m0\u001b[0m \u001b[34m0\u001b[0m \u001b[34m0\u001b[0m \u001b[34m0\u001b[0m \u001b[34m0\u001b[0m \u001b[34m0\u001b[0m\n",
      "\u001b[34m0\u001b[0m \u001b[34m0\u001b[0m \u001b[34m0\u001b[0m \u001b[34m0\u001b[0m \u001b[34m0\u001b[0m \u001b[34m0\u001b[0m \u001b[34m0\u001b[0m \u001b[34m0\u001b[0m \u001b[34m0\u001b[0m \u001b[34m0\u001b[0m \u001b[34m0\u001b[0m \u001b[31m1\u001b[0m \u001b[31m1\u001b[0m \u001b[31m1\u001b[0m \u001b[31m1\u001b[0m \u001b[31m1\u001b[0m \u001b[31m1\u001b[0m \u001b[31m1\u001b[0m \u001b[31m1\u001b[0m \u001b[31m1\u001b[0m \u001b[31m1\u001b[0m \u001b[31m1\u001b[0m \u001b[34m0\u001b[0m \u001b[34m0\u001b[0m \u001b[34m0\u001b[0m \u001b[34m0\u001b[0m \u001b[34m0\u001b[0m \u001b[34m0\u001b[0m\n",
      "\u001b[34m0\u001b[0m \u001b[34m0\u001b[0m \u001b[34m0\u001b[0m \u001b[34m0\u001b[0m \u001b[34m0\u001b[0m \u001b[34m0\u001b[0m \u001b[34m0\u001b[0m \u001b[34m0\u001b[0m \u001b[34m0\u001b[0m \u001b[34m0\u001b[0m \u001b[34m0\u001b[0m \u001b[34m0\u001b[0m \u001b[34m0\u001b[0m \u001b[34m0\u001b[0m \u001b[34m0\u001b[0m \u001b[34m0\u001b[0m \u001b[34m0\u001b[0m \u001b[34m0\u001b[0m \u001b[31m1\u001b[0m \u001b[31m1\u001b[0m \u001b[31m1\u001b[0m \u001b[31m1\u001b[0m \u001b[34m0\u001b[0m \u001b[34m0\u001b[0m \u001b[34m0\u001b[0m \u001b[34m0\u001b[0m \u001b[34m0\u001b[0m \u001b[34m0\u001b[0m\n",
      "\u001b[34m0\u001b[0m \u001b[34m0\u001b[0m \u001b[34m0\u001b[0m \u001b[34m0\u001b[0m \u001b[34m0\u001b[0m \u001b[34m0\u001b[0m \u001b[34m0\u001b[0m \u001b[34m0\u001b[0m \u001b[34m0\u001b[0m \u001b[34m0\u001b[0m \u001b[34m0\u001b[0m \u001b[34m0\u001b[0m \u001b[34m0\u001b[0m \u001b[34m0\u001b[0m \u001b[34m0\u001b[0m \u001b[34m0\u001b[0m \u001b[34m0\u001b[0m \u001b[31m1\u001b[0m \u001b[31m1\u001b[0m \u001b[31m1\u001b[0m \u001b[31m1\u001b[0m \u001b[34m0\u001b[0m \u001b[34m0\u001b[0m \u001b[34m0\u001b[0m \u001b[34m0\u001b[0m \u001b[34m0\u001b[0m \u001b[34m0\u001b[0m \u001b[34m0\u001b[0m\n",
      "\u001b[34m0\u001b[0m \u001b[34m0\u001b[0m \u001b[34m0\u001b[0m \u001b[34m0\u001b[0m \u001b[34m0\u001b[0m \u001b[34m0\u001b[0m \u001b[34m0\u001b[0m \u001b[34m0\u001b[0m \u001b[34m0\u001b[0m \u001b[34m0\u001b[0m \u001b[34m0\u001b[0m \u001b[34m0\u001b[0m \u001b[34m0\u001b[0m \u001b[34m0\u001b[0m \u001b[34m0\u001b[0m \u001b[34m0\u001b[0m \u001b[34m0\u001b[0m \u001b[31m1\u001b[0m \u001b[31m1\u001b[0m \u001b[31m1\u001b[0m \u001b[31m1\u001b[0m \u001b[34m0\u001b[0m \u001b[34m0\u001b[0m \u001b[34m0\u001b[0m \u001b[34m0\u001b[0m \u001b[34m0\u001b[0m \u001b[34m0\u001b[0m \u001b[34m0\u001b[0m\n",
      "\u001b[34m0\u001b[0m \u001b[34m0\u001b[0m \u001b[34m0\u001b[0m \u001b[34m0\u001b[0m \u001b[34m0\u001b[0m \u001b[34m0\u001b[0m \u001b[34m0\u001b[0m \u001b[34m0\u001b[0m \u001b[34m0\u001b[0m \u001b[34m0\u001b[0m \u001b[34m0\u001b[0m \u001b[34m0\u001b[0m \u001b[34m0\u001b[0m \u001b[34m0\u001b[0m \u001b[34m0\u001b[0m \u001b[34m0\u001b[0m \u001b[31m1\u001b[0m \u001b[31m1\u001b[0m \u001b[31m1\u001b[0m \u001b[31m1\u001b[0m \u001b[34m0\u001b[0m \u001b[34m0\u001b[0m \u001b[34m0\u001b[0m \u001b[34m0\u001b[0m \u001b[34m0\u001b[0m \u001b[34m0\u001b[0m \u001b[34m0\u001b[0m \u001b[34m0\u001b[0m\n",
      "\u001b[34m0\u001b[0m \u001b[34m0\u001b[0m \u001b[34m0\u001b[0m \u001b[34m0\u001b[0m \u001b[34m0\u001b[0m \u001b[34m0\u001b[0m \u001b[34m0\u001b[0m \u001b[34m0\u001b[0m \u001b[34m0\u001b[0m \u001b[34m0\u001b[0m \u001b[34m0\u001b[0m \u001b[34m0\u001b[0m \u001b[34m0\u001b[0m \u001b[34m0\u001b[0m \u001b[34m0\u001b[0m \u001b[34m0\u001b[0m \u001b[31m1\u001b[0m \u001b[31m1\u001b[0m \u001b[31m1\u001b[0m \u001b[31m1\u001b[0m \u001b[34m0\u001b[0m \u001b[34m0\u001b[0m \u001b[34m0\u001b[0m \u001b[34m0\u001b[0m \u001b[34m0\u001b[0m \u001b[34m0\u001b[0m \u001b[34m0\u001b[0m \u001b[34m0\u001b[0m\n",
      "\u001b[34m0\u001b[0m \u001b[34m0\u001b[0m \u001b[34m0\u001b[0m \u001b[34m0\u001b[0m \u001b[34m0\u001b[0m \u001b[34m0\u001b[0m \u001b[34m0\u001b[0m \u001b[34m0\u001b[0m \u001b[34m0\u001b[0m \u001b[34m0\u001b[0m \u001b[34m0\u001b[0m \u001b[34m0\u001b[0m \u001b[34m0\u001b[0m \u001b[34m0\u001b[0m \u001b[34m0\u001b[0m \u001b[31m1\u001b[0m \u001b[31m1\u001b[0m \u001b[31m1\u001b[0m \u001b[31m1\u001b[0m \u001b[34m0\u001b[0m \u001b[34m0\u001b[0m \u001b[34m0\u001b[0m \u001b[34m0\u001b[0m \u001b[34m0\u001b[0m \u001b[34m0\u001b[0m \u001b[34m0\u001b[0m \u001b[34m0\u001b[0m \u001b[34m0\u001b[0m\n",
      "\u001b[34m0\u001b[0m \u001b[34m0\u001b[0m \u001b[34m0\u001b[0m \u001b[34m0\u001b[0m \u001b[34m0\u001b[0m \u001b[34m0\u001b[0m \u001b[34m0\u001b[0m \u001b[34m0\u001b[0m \u001b[34m0\u001b[0m \u001b[34m0\u001b[0m \u001b[34m0\u001b[0m \u001b[34m0\u001b[0m \u001b[34m0\u001b[0m \u001b[34m0\u001b[0m \u001b[34m0\u001b[0m \u001b[31m1\u001b[0m \u001b[31m1\u001b[0m \u001b[31m1\u001b[0m \u001b[34m0\u001b[0m \u001b[34m0\u001b[0m \u001b[34m0\u001b[0m \u001b[34m0\u001b[0m \u001b[34m0\u001b[0m \u001b[34m0\u001b[0m \u001b[34m0\u001b[0m \u001b[34m0\u001b[0m \u001b[34m0\u001b[0m \u001b[34m0\u001b[0m\n",
      "\u001b[34m0\u001b[0m \u001b[34m0\u001b[0m \u001b[34m0\u001b[0m \u001b[34m0\u001b[0m \u001b[34m0\u001b[0m \u001b[34m0\u001b[0m \u001b[34m0\u001b[0m \u001b[34m0\u001b[0m \u001b[34m0\u001b[0m \u001b[34m0\u001b[0m \u001b[34m0\u001b[0m \u001b[34m0\u001b[0m \u001b[34m0\u001b[0m \u001b[34m0\u001b[0m \u001b[31m1\u001b[0m \u001b[31m1\u001b[0m \u001b[31m1\u001b[0m \u001b[31m1\u001b[0m \u001b[34m0\u001b[0m \u001b[34m0\u001b[0m \u001b[34m0\u001b[0m \u001b[34m0\u001b[0m \u001b[34m0\u001b[0m \u001b[34m0\u001b[0m \u001b[34m0\u001b[0m \u001b[34m0\u001b[0m \u001b[34m0\u001b[0m \u001b[34m0\u001b[0m\n",
      "\u001b[34m0\u001b[0m \u001b[34m0\u001b[0m \u001b[34m0\u001b[0m \u001b[34m0\u001b[0m \u001b[34m0\u001b[0m \u001b[34m0\u001b[0m \u001b[34m0\u001b[0m \u001b[34m0\u001b[0m \u001b[34m0\u001b[0m \u001b[34m0\u001b[0m \u001b[34m0\u001b[0m \u001b[34m0\u001b[0m \u001b[34m0\u001b[0m \u001b[31m1\u001b[0m \u001b[31m1\u001b[0m \u001b[31m1\u001b[0m \u001b[31m1\u001b[0m \u001b[34m0\u001b[0m \u001b[34m0\u001b[0m \u001b[34m0\u001b[0m \u001b[34m0\u001b[0m \u001b[34m0\u001b[0m \u001b[34m0\u001b[0m \u001b[34m0\u001b[0m \u001b[34m0\u001b[0m \u001b[34m0\u001b[0m \u001b[34m0\u001b[0m \u001b[34m0\u001b[0m\n",
      "\u001b[34m0\u001b[0m \u001b[34m0\u001b[0m \u001b[34m0\u001b[0m \u001b[34m0\u001b[0m \u001b[34m0\u001b[0m \u001b[34m0\u001b[0m \u001b[34m0\u001b[0m \u001b[34m0\u001b[0m \u001b[34m0\u001b[0m \u001b[34m0\u001b[0m \u001b[34m0\u001b[0m \u001b[34m0\u001b[0m \u001b[31m1\u001b[0m \u001b[31m1\u001b[0m \u001b[31m1\u001b[0m \u001b[31m1\u001b[0m \u001b[31m1\u001b[0m \u001b[34m0\u001b[0m \u001b[34m0\u001b[0m \u001b[34m0\u001b[0m \u001b[34m0\u001b[0m \u001b[34m0\u001b[0m \u001b[34m0\u001b[0m \u001b[34m0\u001b[0m \u001b[34m0\u001b[0m \u001b[34m0\u001b[0m \u001b[34m0\u001b[0m \u001b[34m0\u001b[0m\n",
      "\u001b[34m0\u001b[0m \u001b[34m0\u001b[0m \u001b[34m0\u001b[0m \u001b[34m0\u001b[0m \u001b[34m0\u001b[0m \u001b[34m0\u001b[0m \u001b[34m0\u001b[0m \u001b[34m0\u001b[0m \u001b[34m0\u001b[0m \u001b[34m0\u001b[0m \u001b[34m0\u001b[0m \u001b[34m0\u001b[0m \u001b[31m1\u001b[0m \u001b[31m1\u001b[0m \u001b[31m1\u001b[0m \u001b[31m1\u001b[0m \u001b[34m0\u001b[0m \u001b[34m0\u001b[0m \u001b[34m0\u001b[0m \u001b[34m0\u001b[0m \u001b[34m0\u001b[0m \u001b[34m0\u001b[0m \u001b[34m0\u001b[0m \u001b[34m0\u001b[0m \u001b[34m0\u001b[0m \u001b[34m0\u001b[0m \u001b[34m0\u001b[0m \u001b[34m0\u001b[0m\n",
      "\u001b[34m0\u001b[0m \u001b[34m0\u001b[0m \u001b[34m0\u001b[0m \u001b[34m0\u001b[0m \u001b[34m0\u001b[0m \u001b[34m0\u001b[0m \u001b[34m0\u001b[0m \u001b[34m0\u001b[0m \u001b[34m0\u001b[0m \u001b[34m0\u001b[0m \u001b[34m0\u001b[0m \u001b[31m1\u001b[0m \u001b[31m1\u001b[0m \u001b[31m1\u001b[0m \u001b[31m1\u001b[0m \u001b[31m1\u001b[0m \u001b[34m0\u001b[0m \u001b[34m0\u001b[0m \u001b[34m0\u001b[0m \u001b[34m0\u001b[0m \u001b[34m0\u001b[0m \u001b[34m0\u001b[0m \u001b[34m0\u001b[0m \u001b[34m0\u001b[0m \u001b[34m0\u001b[0m \u001b[34m0\u001b[0m \u001b[34m0\u001b[0m \u001b[34m0\u001b[0m\n",
      "\u001b[34m0\u001b[0m \u001b[34m0\u001b[0m \u001b[34m0\u001b[0m \u001b[34m0\u001b[0m \u001b[34m0\u001b[0m \u001b[34m0\u001b[0m \u001b[34m0\u001b[0m \u001b[34m0\u001b[0m \u001b[34m0\u001b[0m \u001b[34m0\u001b[0m \u001b[34m0\u001b[0m \u001b[31m1\u001b[0m \u001b[31m1\u001b[0m \u001b[31m1\u001b[0m \u001b[31m1\u001b[0m \u001b[34m0\u001b[0m \u001b[34m0\u001b[0m \u001b[34m0\u001b[0m \u001b[34m0\u001b[0m \u001b[34m0\u001b[0m \u001b[34m0\u001b[0m \u001b[34m0\u001b[0m \u001b[34m0\u001b[0m \u001b[34m0\u001b[0m \u001b[34m0\u001b[0m \u001b[34m0\u001b[0m \u001b[34m0\u001b[0m \u001b[34m0\u001b[0m\n",
      "\u001b[34m0\u001b[0m \u001b[34m0\u001b[0m \u001b[34m0\u001b[0m \u001b[34m0\u001b[0m \u001b[34m0\u001b[0m \u001b[34m0\u001b[0m \u001b[34m0\u001b[0m \u001b[34m0\u001b[0m \u001b[34m0\u001b[0m \u001b[34m0\u001b[0m \u001b[31m1\u001b[0m \u001b[31m1\u001b[0m \u001b[31m1\u001b[0m \u001b[31m1\u001b[0m \u001b[31m1\u001b[0m \u001b[34m0\u001b[0m \u001b[34m0\u001b[0m \u001b[34m0\u001b[0m \u001b[34m0\u001b[0m \u001b[34m0\u001b[0m \u001b[34m0\u001b[0m \u001b[34m0\u001b[0m \u001b[34m0\u001b[0m \u001b[34m0\u001b[0m \u001b[34m0\u001b[0m \u001b[34m0\u001b[0m \u001b[34m0\u001b[0m \u001b[34m0\u001b[0m\n",
      "\u001b[34m0\u001b[0m \u001b[34m0\u001b[0m \u001b[34m0\u001b[0m \u001b[34m0\u001b[0m \u001b[34m0\u001b[0m \u001b[34m0\u001b[0m \u001b[34m0\u001b[0m \u001b[34m0\u001b[0m \u001b[34m0\u001b[0m \u001b[34m0\u001b[0m \u001b[31m1\u001b[0m \u001b[31m1\u001b[0m \u001b[31m1\u001b[0m \u001b[31m1\u001b[0m \u001b[31m1\u001b[0m \u001b[34m0\u001b[0m \u001b[34m0\u001b[0m \u001b[34m0\u001b[0m \u001b[34m0\u001b[0m \u001b[34m0\u001b[0m \u001b[34m0\u001b[0m \u001b[34m0\u001b[0m \u001b[34m0\u001b[0m \u001b[34m0\u001b[0m \u001b[34m0\u001b[0m \u001b[34m0\u001b[0m \u001b[34m0\u001b[0m \u001b[34m0\u001b[0m\n",
      "\u001b[34m0\u001b[0m \u001b[34m0\u001b[0m \u001b[34m0\u001b[0m \u001b[34m0\u001b[0m \u001b[34m0\u001b[0m \u001b[34m0\u001b[0m \u001b[34m0\u001b[0m \u001b[34m0\u001b[0m \u001b[34m0\u001b[0m \u001b[34m0\u001b[0m \u001b[31m1\u001b[0m \u001b[31m1\u001b[0m \u001b[31m1\u001b[0m \u001b[31m1\u001b[0m \u001b[34m0\u001b[0m \u001b[34m0\u001b[0m \u001b[34m0\u001b[0m \u001b[34m0\u001b[0m \u001b[34m0\u001b[0m \u001b[34m0\u001b[0m \u001b[34m0\u001b[0m \u001b[34m0\u001b[0m \u001b[34m0\u001b[0m \u001b[34m0\u001b[0m \u001b[34m0\u001b[0m \u001b[34m0\u001b[0m \u001b[34m0\u001b[0m \u001b[34m0\u001b[0m\n",
      "\u001b[34m0\u001b[0m \u001b[34m0\u001b[0m \u001b[34m0\u001b[0m \u001b[34m0\u001b[0m \u001b[34m0\u001b[0m \u001b[34m0\u001b[0m \u001b[34m0\u001b[0m \u001b[34m0\u001b[0m \u001b[34m0\u001b[0m \u001b[34m0\u001b[0m \u001b[34m0\u001b[0m \u001b[34m0\u001b[0m \u001b[34m0\u001b[0m \u001b[34m0\u001b[0m \u001b[34m0\u001b[0m \u001b[34m0\u001b[0m \u001b[34m0\u001b[0m \u001b[34m0\u001b[0m \u001b[34m0\u001b[0m \u001b[34m0\u001b[0m \u001b[34m0\u001b[0m \u001b[34m0\u001b[0m \u001b[34m0\u001b[0m \u001b[34m0\u001b[0m \u001b[34m0\u001b[0m \u001b[34m0\u001b[0m \u001b[34m0\u001b[0m \u001b[34m0\u001b[0m\n"
     ]
    }
   ],
   "source": [
    "from termcolor import colored\n",
    "\n",
    "longitud = x_train[0].shape[0]\n",
    "x_test   = tf.keras.utils.normalize(x_test, axis = 1)\n",
    "for i in range(longitud):\n",
    "    array = x_test[0][i]\n",
    "    array = [1 if  i > 0 else 0 for i in array]\n",
    "    #print(' '.join(str(e) for e in array))\n",
    "    print(' '.join(colored(e, 'red') if e == 1 else colored(e, 'blue') for e in array))"
   ]
  },
  {
   "cell_type": "markdown",
   "metadata": {},
   "source": [
    "Prediccion de la imagen"
   ]
  },
  {
   "cell_type": "code",
   "execution_count": 54,
   "metadata": {},
   "outputs": [
    {
     "name": "stdout",
     "output_type": "stream",
     "text": [
      "            Prediccion:  7\n"
     ]
    },
    {
     "data": {
      "image/png": "[encoded data removed]",
      "text/plain": [
       "<Figure size 432x288 with 1 Axes>"
      ]
     },
     "metadata": {
      "needs_background": "light"
     },
     "output_type": "display_data"
    },
    {
     "name": "stdout",
     "output_type": "stream",
     "text": [
      "            Prediccion:  2\n"
     ]
    },
    {
     "data": {
      "image/png": "[encoded data removed]",
      "text/plain": [
       "<Figure size 432x288 with 1 Axes>"
      ]
     },
     "metadata": {
      "needs_background": "light"
     },
     "output_type": "display_data"
    },
    {
     "name": "stdout",
     "output_type": "stream",
     "text": [
      "            Prediccion:  1\n"
     ]
    },
    {
     "data": {
      "image/png": "[encoded data removed]",
      "text/plain": [
       "<Figure size 432x288 with 1 Axes>"
      ]
     },
     "metadata": {
      "needs_background": "light"
     },
     "output_type": "display_data"
    }
   ],
   "source": [
    "import numpy as np\n",
    "\n",
    "for i in range(0, 3):\n",
    "    # Argmax retorna el indice del numero mas grande en el array\n",
    "    imagen = np.argmax(prediccion[i])\n",
    "    print('            Prediccion: ',imagen)\n",
    "    plt.imshow(x_test[i])\n",
    "    plt.show()"
   ]
  },
  {
   "cell_type": "markdown",
   "metadata": {},
   "source": [
    "Con datos Escalados:"
   ]
  },
  {
   "cell_type": "code",
   "execution_count": 55,
   "metadata": {},
   "outputs": [],
   "source": [
    "(x_train, y_train), (x_test, y_test) = mnist.load_data()\n",
    "x_train = tf.keras.utils.normalize(x_train, axis = 1)\n",
    "x_test = tf.keras.utils.normalize(x_test, axis = 1)"
   ]
  },
  {
   "cell_type": "code",
   "execution_count": 56,
   "metadata": {},
   "outputs": [
    {
     "data": {
      "image/png": "[encoded data removed]",
      "text/plain": [
       "<Figure size 432x288 with 1 Axes>"
      ]
     },
     "metadata": {
      "needs_background": "light"
     },
     "output_type": "display_data"
    }
   ],
   "source": [
    "plt.imshow(x_train[0], cmap = plt.cm.binary)\n",
    "plt.show()"
   ]
  },
  {
   "cell_type": "code",
   "execution_count": 57,
   "metadata": {},
   "outputs": [
    {
     "name": "stdout",
     "output_type": "stream",
     "text": [
      "Epoch 1/15\n",
      "1875/1875 [==============================] - 4s 2ms/step - loss: 0.2595 - accuracy: 0.9225\n",
      "Epoch 2/15\n",
      "1875/1875 [==============================] - 3s 2ms/step - loss: 0.1032 - accuracy: 0.9682\n",
      "Epoch 3/15\n",
      "1875/1875 [==============================] - 3s 2ms/step - loss: 0.0703 - accuracy: 0.9784\n",
      "Epoch 4/15\n",
      "1875/1875 [==============================] - 3s 2ms/step - loss: 0.0531 - accuracy: 0.9832\n",
      "Epoch 5/15\n",
      "1875/1875 [==============================] - 3s 2ms/step - loss: 0.0403 - accuracy: 0.9865\n",
      "Epoch 6/15\n",
      "1875/1875 [==============================] - 3s 2ms/step - loss: 0.0317 - accuracy: 0.9894\n",
      "Epoch 7/15\n",
      "1875/1875 [==============================] - 3s 2ms/step - loss: 0.0251 - accuracy: 0.9913\n",
      "Epoch 8/15\n",
      "1875/1875 [==============================] - 3s 2ms/step - loss: 0.0207 - accuracy: 0.9933\n",
      "Epoch 9/15\n",
      "1875/1875 [==============================] - 3s 2ms/step - loss: 0.0179 - accuracy: 0.9940\n",
      "Epoch 10/15\n",
      "1875/1875 [==============================] - 3s 2ms/step - loss: 0.0158 - accuracy: 0.9945\n",
      "Epoch 11/15\n",
      "1875/1875 [==============================] - 3s 1ms/step - loss: 0.0137 - accuracy: 0.9951\n",
      "Epoch 12/15\n",
      "1875/1875 [==============================] - 3s 2ms/step - loss: 0.0119 - accuracy: 0.9957\n",
      "Epoch 13/15\n",
      "1875/1875 [==============================] - 3s 2ms/step - loss: 0.0124 - accuracy: 0.9957\n",
      "Epoch 14/15\n",
      "1875/1875 [==============================] - 3s 2ms/step - loss: 0.0105 - accuracy: 0.9966\n",
      "Epoch 15/15\n",
      "1875/1875 [==============================] - 3s 2ms/step - loss: 0.0102 - accuracy: 0.9965\n"
     ]
    }
   ],
   "source": [
    "model = tf.keras.models.Sequential()\n",
    "\n",
    "model.add(tf.keras.layers.Flatten())\n",
    "\n",
    "model.add(tf.keras.layers.Dense(128, activation = tf.nn.relu))\n",
    "model.add(tf.keras.layers.Dense(128, activation = tf.nn.relu))\n",
    "\n",
    "model.add(tf.keras.layers.Dense(10, activation = tf.nn.softmax))\n",
    "\n",
    "\n",
    "model.compile(optimizer = 'adam',\n",
    "              loss      = 'sparse_categorical_crossentropy',\n",
    "              metrics   = ['accuracy'])\n",
    "\n",
    "historial = model.fit(x_train,\n",
    "                  y_train,\n",
    "                  epochs = 15)"
   ]
  },
  {
   "cell_type": "markdown",
   "metadata": {},
   "source": [
    "Podemos observar que a partir de la iteracion numero 10 la perdida tiende a estabilizarse"
   ]
  },
  {
   "cell_type": "code",
   "execution_count": 58,
   "metadata": {},
   "outputs": [
    {
     "data": {
      "text/plain": [
       "[<matplotlib.lines.Line2D at 0x244d5cf69a0>]"
      ]
     },
     "execution_count": 58,
     "metadata": {},
     "output_type": "execute_result"
    },
    {
     "data": {
      "image/png": "[encoded data removed]",
      "text/plain": [
       "<Figure size 432x288 with 1 Axes>"
      ]
     },
     "metadata": {
      "needs_background": "light"
     },
     "output_type": "display_data"
    }
   ],
   "source": [
    "plt.xlabel('iteraciones')\n",
    "plt.ylabel('perdida')\n",
    "plt.plot(historial.history['loss'])"
   ]
  },
  {
   "cell_type": "code",
   "execution_count": 12,
   "metadata": {},
   "outputs": [
    {
     "name": "stdout",
     "output_type": "stream",
     "text": [
      "            Prediccion:  7\n"
     ]
    },
    {
     "data": {
      "image/png": "[encoded data removed]",
      "text/plain": [
       "<Figure size 432x288 with 1 Axes>"
      ]
     },
     "metadata": {
      "needs_background": "light"
     },
     "output_type": "display_data"
    },
    {
     "name": "stdout",
     "output_type": "stream",
     "text": [
      "            Prediccion:  2\n"
     ]
    },
    {
     "data": {
      "image/png": "[encoded data removed]",
      "text/plain": [
       "<Figure size 432x288 with 1 Axes>"
      ]
     },
     "metadata": {
      "needs_background": "light"
     },
     "output_type": "display_data"
    },
    {
     "name": "stdout",
     "output_type": "stream",
     "text": [
      "            Prediccion:  1\n"
     ]
    },
    {
     "data": {
      "image/png": "[encoded data removed]",
      "text/plain": [
       "<Figure size 432x288 with 1 Axes>"
      ]
     },
     "metadata": {
      "needs_background": "light"
     },
     "output_type": "display_data"
    }
   ],
   "source": [
    "import numpy as np\n",
    "\n",
    "for i in range(0, 3):\n",
    "    # Argmax retorna el indice del numero mas grande en el array\n",
    "    imagen = np.argmax(prediccion[i])\n",
    "    print('            Prediccion: ',imagen)\n",
    "    plt.imshow(x_test[i])\n",
    "    plt.show()"
   ]
  }
 ],
 "metadata": {
  "accelerator": "GPU",
  "colab": {
   "collapsed_sections": [],
   "name": "Clase 2_MNIST_Keras.ipynb",
   "provenance": [],
   "toc_visible": true
  },
  "kernelspec": {
   "display_name": "Python 3 (ipykernel)",
   "language": "python",
   "name": "python3"
  },
  "language_info": {
   "codemirror_mode": {
    "name": "ipython",
    "version": 3
   },
   "file_extension": ".py",
   "mimetype": "text/x-python",
   "name": "python",
   "nbconvert_exporter": "python",
   "pygments_lexer": "ipython3",
   "version": "3.8.13"
  }
 },
 "nbformat": 4,
 "nbformat_minor": 4
}
