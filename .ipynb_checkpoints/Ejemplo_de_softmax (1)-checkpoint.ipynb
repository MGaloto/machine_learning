{
  "nbformat": 4,
  "nbformat_minor": 0,
  "metadata": {
    "colab": {
      "name": "Ejemplo_de_softmax.ipynb",
      "provenance": []
    },
    "kernelspec": {
      "name": "python3",
      "display_name": "Python 3"
    },
    "language_info": {
      "name": "python"
    }
  },
  "cells": [
    {
      "cell_type": "markdown",
      "source": [
        "Ejemplo de softmax\n",
        "\n",
        "\n",
        "![Funcion soft.png](data:image/png;base64,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)\n"
      ],
      "metadata": {
        "id": "kNmC2BcdW2Ha"
      }
    },
    {
      "cell_type": "code",
      "execution_count": null,
      "metadata": {
        "id": "sNPgP0MsVUHo"
      },
      "outputs": [],
      "source": [
        "import numpy as np #Para operar con matrices"
      ]
    },
    {
      "cell_type": "code",
      "source": [
        "np.exp(5) # la función exponencial "
      ],
      "metadata": {
        "colab": {
          "base_uri": "https://localhost:8080/"
        },
        "id": "h-0AgwNVVa9h",
        "outputId": "7a429d19-d4b4-41cc-b37f-c173bfcf432c"
      },
      "execution_count": null,
      "outputs": [
        {
          "output_type": "execute_result",
          "data": {
            "text/plain": [
              "148.4131591025766"
            ]
          },
          "metadata": {},
          "execution_count": 2
        }
      ]
    },
    {
      "cell_type": "code",
      "source": [
        "#Supongamos que queremos clasificar en 3 clases, y luego de aplicar la funcipon de activació de la última capa obtenemos el vector salida\n",
        "salida=[0.12,0.35,0.22]"
      ],
      "metadata": {
        "id": "43_jkZ1WVecp"
      },
      "execution_count": null,
      "outputs": []
    },
    {
      "cell_type": "markdown",
      "source": [
        "Aplicamos la función softmax (hacemos la cuenta para lod tres valores de la salida)"
      ],
      "metadata": {
        "id": "9EWuuCjakjGy"
      }
    },
    {
      "cell_type": "code",
      "source": [
        "np.exp(salida) #Le aplicamos la función exponencial. Estamps calcilando para cada valor el numerador"
      ],
      "metadata": {
        "colab": {
          "base_uri": "https://localhost:8080/"
        },
        "id": "fvlsixQ-Vm9t",
        "outputId": "67706892-0138-4711-b3a0-32e41885d482"
      },
      "execution_count": null,
      "outputs": [
        {
          "output_type": "execute_result",
          "data": {
            "text/plain": [
              "array([1.12749685, 1.41906755, 1.24607673])"
            ]
          },
          "metadata": {},
          "execution_count": 4
        }
      ]
    },
    {
      "cell_type": "code",
      "source": [
        "sum(np.exp(salida)) #Estamos calculando el denominador de la fórmula\n"
      ],
      "metadata": {
        "colab": {
          "base_uri": "https://localhost:8080/"
        },
        "id": "2hWFBvceVs6H",
        "outputId": "7773c196-a620-4b7c-c251-affd896f3e18"
      },
      "execution_count": null,
      "outputs": [
        {
          "output_type": "execute_result",
          "data": {
            "text/plain": [
              "3.7926411307600136"
            ]
          },
          "metadata": {},
          "execution_count": 5
        }
      ]
    },
    {
      "cell_type": "code",
      "source": [
        "np.exp(salida)/sum(np.exp(salida))  #Estamos calculando el valor de la función softmax para cada uno de los tres elementos de la salida\n"
      ],
      "metadata": {
        "colab": {
          "base_uri": "https://localhost:8080/"
        },
        "id": "6YVXwbeQVxSq",
        "outputId": "784eae14-6419-4621-bc64-95756d1cda97"
      },
      "execution_count": null,
      "outputs": [
        {
          "output_type": "execute_result",
          "data": {
            "text/plain": [
              "array([0.2972854 , 0.37416341, 0.32855118])"
            ]
          },
          "metadata": {},
          "execution_count": 7
        }
      ]
    },
    {
      "cell_type": "markdown",
      "source": [
        "Como el valor mayor de probabilidad es 0.374. Entonces se clasificaría en la categoria 2."
      ],
      "metadata": {
        "id": "Q4rs_x9Bj9DC"
      }
    }
  ]
}