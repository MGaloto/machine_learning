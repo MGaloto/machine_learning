{
 "cells": [
  {
   "cell_type": "markdown",
   "metadata": {
    "executionInfo": {
     "elapsed": 8,
     "status": "ok",
     "timestamp": 1652309626516,
     "user": {
      "displayName": "Patricia Girimonte",
      "userId": "07123624381847228981"
     },
     "user_tz": 180
    },
    "id": "kNJrsn79DGjk"
   },
   "source": [
    "# Tecncicas de Machine Learning\n",
    "Inciando en Redes Neuronales"
   ]
  },
  {
   "cell_type": "markdown",
   "metadata": {},
   "source": [
    "Las redes neuronales son unidades de procesamiento que intercambian datos e información, son útiles para reconocer patrones en  texto, series temporales, imagen, video."
   ]
  },
  {
   "cell_type": "code",
   "execution_count": 253,
   "metadata": {},
   "outputs": [],
   "source": [
    "import matplotlib.pyplot as plt\n",
    "%matplotlib inline"
   ]
  },
  {
   "cell_type": "markdown",
   "metadata": {},
   "source": [
    "Definimos los datos de entrada y Salida"
   ]
  },
  {
   "cell_type": "code",
   "execution_count": 255,
   "metadata": {
    "executionInfo": {
     "elapsed": 4,
     "status": "ok",
     "timestamp": 1652309630914,
     "user": {
      "displayName": "Patricia Girimonte",
      "userId": "07123624381847228981"
     },
     "user_tz": 180
    },
    "id": "ErEsN-y6kfyn"
   },
   "outputs": [],
   "source": [
    "\n",
    "X = ([[4.808312, 1.501436],\n",
    "      [6.482930 ,3.525297],\n",
    "      [5.290034 ,2.256283],\n",
    "      [5.537430 ,2.065837],\n",
    "      [4.047571 ,2.117179],\n",
    "      [5.269680 ,1.171344],\n",
    "      [6.281698 ,1.550630],\n",
    "      [4.608963 ,2.214804],\n",
    "      [5.456605 ,5.526733],\n",
    "      [7.131223 ,7.550594],\n",
    "      [5.938327 ,6.281580],\n",
    "      [6.185723 ,6.091134],\n",
    "      [4.695864 ,6.142476],\n",
    "      [5.917973 ,5.196641],\n",
    "      [6.929991 ,5.575927],\n",
    "      [3.257256 ,6.240101]\n",
    " ])\n",
    "\n",
    "Y = [0, 0, 0, 0, 0, 0,0,0, 1, 1, 1, 1, 1, 1,1,1]"
   ]
  },
  {
   "cell_type": "markdown",
   "metadata": {},
   "source": [
    "Grafico de dispersion separado por tipo de output"
   ]
  },
  {
   "cell_type": "code",
   "execution_count": 256,
   "metadata": {
    "id": "DZz0xkwPTM_i"
   },
   "outputs": [
    {
     "data": {
      "image/png": "[encoded data removed]",
      "text/plain": [
       "<Figure size 432x288 with 1 Axes>"
      ]
     },
     "metadata": {
      "needs_background": "light"
     },
     "output_type": "display_data"
    }
   ],
   "source": [
    "\n",
    "def grafico(X, Y):\n",
    "       for i in range(len(Y)):\n",
    "        plt.plot(X[i][0], X[i][1], '*b' if Y[i] == 1 else '*g')   \n",
    "plt.show()\n",
    "grafico(X,Y)"
   ]
  },
  {
   "cell_type": "markdown",
   "metadata": {},
   "source": [
    "Definicion de Hiperparametros:\n",
    "\n",
    "w: Coeficiente que multiplica a las x1 y x2, es el peso incial que se le asigna a cada variable \n",
    "\n",
    "b: Sesgo\n",
    "\n",
    "En funcion de las variables seleccionadas inicialmente se itera en un for y cuando el resultado predicho es menor o igual a cero se la clasifica como 0 y por el contrario como 1"
   ]
  },
  {
   "cell_type": "code",
   "execution_count": 344,
   "metadata": {
    "colab": {
     "base_uri": "https://localhost:8080/"
    },
    "executionInfo": {
     "elapsed": 339,
     "status": "ok",
     "timestamp": 1652232233518,
     "user": {
      "displayName": "Patricia Girimonte",
      "userId": "07123624381847228981"
     },
     "user_tz": 180
    },
    "id": "zebaPSR0BFZZ",
    "outputId": "5ad829e2-2aab-4141-9a64-5d02311a8485"
   },
   "outputs": [
    {
     "name": "stdout",
     "output_type": "stream",
     "text": [
      "Prediccion:  1 Real:  0\n",
      "Prediccion:  1 Real:  0\n",
      "Prediccion:  1 Real:  0\n",
      "Prediccion:  1 Real:  0\n",
      "Prediccion:  1 Real:  0\n",
      "Prediccion:  1 Real:  0\n",
      "Prediccion:  1 Real:  0\n",
      "Prediccion:  1 Real:  0\n",
      "Prediccion:  1 Real:  1\n",
      "Prediccion:  1 Real:  1\n",
      "Prediccion:  1 Real:  1\n",
      "Prediccion:  1 Real:  1\n",
      "Prediccion:  1 Real:  1\n",
      "Prediccion:  1 Real:  1\n",
      "Prediccion:  1 Real:  1\n",
      "Prediccion:  1 Real:  1\n"
     ]
    }
   ],
   "source": [
    "w = [0.01,0.8] \n",
    "b = 1.2\n",
    "\n",
    "for i in range(len(Y)):\n",
    "    ypred=X[i][0]*w[0]+X[i][1]*w[1]+b\n",
    "    if ypred<=0:\n",
    "        pred=0\n",
    "    else:\n",
    "        pred=1\n",
    "    print('Prediccion: ',pred,'Real: ',Y[i]) "
   ]
  },
  {
   "cell_type": "markdown",
   "metadata": {},
   "source": [
    "Al ser el valor de prediccion siempre 1 el beta pasa a ser una constante"
   ]
  },
  {
   "cell_type": "code",
   "execution_count": 348,
   "metadata": {
    "colab": {
     "base_uri": "https://localhost:8080/"
    },
    "executionInfo": {
     "elapsed": 9,
     "status": "ok",
     "timestamp": 1652232244336,
     "user": {
      "displayName": "Patricia Girimonte",
      "userId": "07123624381847228981"
     },
     "user_tz": 180
    },
    "id": "Q3Tt9-KiC2HL",
    "outputId": "ed1a5023-74f8-4748-d463-fdc6f449c962"
   },
   "outputs": [
    {
     "name": "stdout",
     "output_type": "stream",
     "text": [
      "-1 [-4.798312, -0.701436] 0.19999999999999996\n",
      "-1 [-4.798312, -0.701436] 0.19999999999999996\n",
      "-1 [-4.798312, -0.701436] 0.19999999999999996\n",
      "-1 [-4.798312, -0.701436] 0.19999999999999996\n",
      "-1 [-4.798312, -0.701436] 0.19999999999999996\n",
      "-1 [-4.798312, -0.701436] 0.19999999999999996\n",
      "-1 [-4.798312, -0.701436] 0.19999999999999996\n",
      "-1 [-4.798312, -0.701436] 0.19999999999999996\n",
      "-1 [-4.798312, -0.701436] 0.19999999999999996\n",
      "-1 [-4.798312, -0.701436] 0.19999999999999996\n",
      "-1 [-4.798312, -0.701436] 0.19999999999999996\n",
      "-1 [-4.798312, -0.701436] 0.19999999999999996\n",
      "-1 [-4.798312, -0.701436] 0.19999999999999996\n",
      "-1 [-4.798312, -0.701436] 0.19999999999999996\n",
      "-1 [-4.798312, -0.701436] 0.19999999999999996\n",
      "-1 [-4.798312, -0.701436] 0.19999999999999996\n"
     ]
    }
   ],
   "source": [
    "for i in range(len(Y)):\n",
    "    ypred = X[i][0]*w[0]+X[i][1]*w[1] + b\n",
    "    if ypred <= 0:\n",
    "        pred = 0\n",
    "    else:\n",
    "        pred = 1\n",
    "        delta = Y[i] - pred\n",
    "        w[0] = w[0] + delta*X[i][0]\n",
    "        w[1] = w[1] + delta*X[i][1]\n",
    "        b = b + delta\n",
    "\n",
    "    print(delta,w,b) #imprimimos el predicho y el valor original"
   ]
  },
  {
   "cell_type": "markdown",
   "metadata": {},
   "source": [
    "Se adiciona una tasa de aprendizaje:"
   ]
  },
  {
   "cell_type": "code",
   "execution_count": 395,
   "metadata": {
    "id": "T18EiXHOaOi7"
   },
   "outputs": [],
   "source": [
    "w = [0.1,0.8] \n",
    " \n",
    "b = 0.1\n",
    "\n",
    "tasa = 0.01"
   ]
  },
  {
   "cell_type": "markdown",
   "metadata": {},
   "source": [
    "A medida que ocurren las iteraciones se va aprendiendo sobre el error, es decir, el sesgo incorpora el diferencial entre la prediccion y el real \n",
    "para que en la siguiente itereacion lo tenga en cuenta en los pesos al hacer la prediccion"
   ]
  },
  {
   "cell_type": "code",
   "execution_count": 396,
   "metadata": {
    "colab": {
     "base_uri": "https://localhost:8080/"
    },
    "executionInfo": {
     "elapsed": 4,
     "status": "ok",
     "timestamp": 1652232257919,
     "user": {
      "displayName": "Patricia Girimonte",
      "userId": "07123624381847228981"
     },
     "user_tz": 180
    },
    "id": "9XngECX9EGLT",
    "outputId": "29eba3f0-9633-419e-8012-156a6f948e55"
   },
   "outputs": [
    {
     "name": "stdout",
     "output_type": "stream",
     "text": [
      "Iteracion:  0\n",
      "Sesgo:      0.1\n",
      "Iteracion:  1\n",
      "Sesgo:      0.09000000000000001\n",
      "Iteracion:  2\n",
      "Sesgo:      0.08000000000000002\n",
      "Iteracion:  3\n",
      "Sesgo:      0.07000000000000002\n",
      "Iteracion:  4\n",
      "Sesgo:      0.06000000000000002\n",
      "Iteracion:  5\n",
      "Sesgo:      0.05000000000000002\n",
      "Iteracion:  6\n",
      "Sesgo:      0.040000000000000015\n",
      "Iteracion:  7\n",
      "Sesgo:      0.040000000000000015\n",
      "Iteracion:  8\n",
      "Sesgo:      0.030000000000000013\n",
      "Iteracion:  9\n",
      "Sesgo:      0.030000000000000013\n",
      "Iteracion:  10\n",
      "Sesgo:      0.030000000000000013\n",
      "Iteracion:  11\n",
      "Sesgo:      0.030000000000000013\n",
      "Iteracion:  12\n",
      "Sesgo:      0.030000000000000013\n",
      "Iteracion:  13\n",
      "Sesgo:      0.030000000000000013\n",
      "Iteracion:  14\n",
      "Sesgo:      0.030000000000000013\n",
      "Iteracion:  15\n",
      "Sesgo:      0.030000000000000013\n"
     ]
    }
   ],
   "source": [
    "for i in range(len(Y)):\n",
    "    print('Iteracion: ',i)\n",
    "    print('Sesgo:     ',b)\n",
    "    ypred = X[i][0]*w[0]+X[i][1]*w[1] + b\n",
    "    if ypred <= 0:\n",
    "        pred = 0\n",
    "    else:\n",
    "        pred = 1\n",
    "        delta = Y[i] - pred\n",
    "        w[0] = w[0] + delta*X[i][0] * tasa\n",
    "        w[1] = w[1] + delta*X[i][1] * tasa\n",
    "        b = b + delta * tasa\n",
    "    #print(delta,w,b) #imprimimos el predicho y el valor original"
   ]
  },
  {
   "cell_type": "code",
   "execution_count": 356,
   "metadata": {
    "executionInfo": {
     "elapsed": 787,
     "status": "ok",
     "timestamp": 1652309708828,
     "user": {
      "displayName": "Patricia Girimonte",
      "userId": "07123624381847228981"
     },
     "user_tz": 180
    },
    "id": "5NjX94sP4PPV"
   },
   "outputs": [
    {
     "data": {
      "image/png": "[encoded data removed]",
      "text/plain": [
       "<Figure size 432x432 with 1 Axes>"
      ]
     },
     "metadata": {
      "needs_background": "light"
     },
     "output_type": "display_data"
    }
   ],
   "source": [
    "\n",
    "def graficoconrecta(entrada, salida, pesos=None):\n",
    "    plt.figure(figsize=(6,6))\n",
    "\n",
    "    for i in range(len(Y)):\n",
    "        plt.plot(X[i][0], X[i][1], '*b' if Y[i] == 1 else '*g')   \n",
    "\n",
    "    if pesos is not None:\n",
    "        pendiente = -pesos[0]/pesos[1]\n",
    "        ordenada= -b/pesos[1]\n",
    "        x0, x1 = 0, 10\n",
    "        y0 = pendiente*x0 + ordenada\n",
    "        y1 = pendiente*x1 + ordenada\n",
    "\n",
    "        plt.plot((x0, x1), (y0, y1), '-r')\n",
    "\n",
    "    plt.show()\n",
    "    \n",
    "graficoconrecta(X,Y,w)"
   ]
  },
  {
   "cell_type": "code",
   "execution_count": 362,
   "metadata": {
    "id": "92C2R3WfOkuO"
   },
   "outputs": [],
   "source": [
    "#Inicializamos nuevamente\n",
    "w = [0.01,0.8] \n",
    "# y un valor para el sesgo\n",
    "b = 1.2\n",
    "#tasa de aprendizaje\n",
    "tasa = 0.01"
   ]
  },
  {
   "cell_type": "code",
   "execution_count": 361,
   "metadata": {
    "colab": {
     "base_uri": "https://localhost:8080/",
     "height": 652
    },
    "executionInfo": {
     "elapsed": 344,
     "status": "ok",
     "timestamp": 1652232747521,
     "user": {
      "displayName": "Patricia Girimonte",
      "userId": "07123624381847228981"
     },
     "user_tz": 180
    },
    "id": "nxakDSE8F1le",
    "outputId": "24ff3525-2b8a-4582-8b5a-54be3a83af02"
   },
   "outputs": [
    {
     "name": "stdout",
     "output_type": "stream",
     "text": [
      "0 [-0.5666543099999999, 0.5645327799999998] 1.0899999999999999\n",
      "0 [-0.5666543099999999, 0.5645327799999998] 1.0899999999999999\n",
      "0 [-0.5666543099999999, 0.5645327799999998] 1.0899999999999999\n",
      "0 [-0.5666543099999999, 0.5645327799999998] 1.0899999999999999\n",
      "0 [-0.5666543099999999, 0.5645327799999998] 1.0899999999999999\n",
      "0 [-0.5666543099999999, 0.5645327799999998] 1.0899999999999999\n",
      "0 [-0.5666543099999999, 0.5645327799999998] 1.0899999999999999\n",
      "0 [-0.5666543099999999, 0.5645327799999998] 1.0899999999999999\n",
      "0 [-0.5666543099999999, 0.5645327799999998] 1.0899999999999999\n",
      "0 [-0.5666543099999999, 0.5645327799999998] 1.0899999999999999\n",
      "0 [-0.5666543099999999, 0.5645327799999998] 1.0899999999999999\n",
      "0 [-0.5666543099999999, 0.5645327799999998] 1.0899999999999999\n",
      "0 [-0.5666543099999999, 0.5645327799999998] 1.0899999999999999\n",
      "0 [-0.5666543099999999, 0.5645327799999998] 1.0899999999999999\n",
      "0 [-0.5666543099999999, 0.5645327799999998] 1.0899999999999999\n",
      "0 [-0.5666543099999999, 0.5645327799999998] 1.0899999999999999\n"
     ]
    },
    {
     "data": {
      "image/png": "[encoded data removed]",
      "text/plain": [
       "<Figure size 432x432 with 1 Axes>"
      ]
     },
     "metadata": {
      "needs_background": "light"
     },
     "output_type": "display_data"
    }
   ],
   "source": [
    "for i in range(len(Y)):\n",
    "    ypred=X[i][0]*w[0]+X[i][1]*w[1]+b\n",
    "    if ypred<=0:\n",
    "        pred=0\n",
    "    else:\n",
    "        pred=1\n",
    "        #definimos delta\n",
    "        delta=Y[i]-pred\n",
    "        #Backward\n",
    "        w[0]=w[0]+delta*X[i][0]*tasa\n",
    "        w[1]=w[1]+delta*X[i][1]*tasa\n",
    "        b=b+delta*tasa\n",
    "    print(delta,w,b) #imprimimos el predicho y el valor original\n",
    "graficoconrecta(X,Y,w)"
   ]
  },
  {
   "cell_type": "code",
   "execution_count": 378,
   "metadata": {
    "executionInfo": {
     "elapsed": 418,
     "status": "ok",
     "timestamp": 1652309671540,
     "user": {
      "displayName": "Patricia Girimonte",
      "userId": "07123624381847228981"
     },
     "user_tz": 180
    },
    "id": "x1RLGSlePK5G"
   },
   "outputs": [],
   "source": [
    "#Inicializamos nuevamente\n",
    "w=[0.01,0.8] \n",
    "# y un valor para el sesgo\n",
    "b=1.2\n",
    "#tasa de aprendizaje\n",
    "tasa=0.001"
   ]
  },
  {
   "cell_type": "code",
   "execution_count": 382,
   "metadata": {
    "colab": {
     "base_uri": "https://localhost:8080/",
     "height": 374
    },
    "executionInfo": {
     "elapsed": 490,
     "status": "ok",
     "timestamp": 1652309719259,
     "user": {
      "displayName": "Patricia Girimonte",
      "userId": "07123624381847228981"
     },
     "user_tz": 180
    },
    "id": "PwnWtxiUU4Oq",
    "outputId": "18ca9f03-d1f5-47e5-ed3c-fb4282ea869e"
   },
   "outputs": [
    {
     "data": {
      "image/png": "[encoded data removed]",
      "text/plain": [
       "<Figure size 432x432 with 1 Axes>"
      ]
     },
     "metadata": {
      "needs_background": "light"
     },
     "output_type": "display_data"
    }
   ],
   "source": [
    "for j in range(20):\n",
    "    for i in range(len(Y)):\n",
    "        ypred=X[i][0]*w[0]+X[i][1]*w[1]+b\n",
    "        if ypred<=0:\n",
    "             pred=0\n",
    "        else: \n",
    "             pred=1\n",
    "             #definimos delta\n",
    "             delta=Y[i]-pred\n",
    "             #Backward\n",
    "             w[0]=w[0]+delta*X[i][0]*tasa\n",
    "             w[1]=w[1]+delta*X[i][1]*tasa\n",
    "             b=b+delta*tasa\n",
    "             #print(delta,w,b) #imprimimos el predicho y el valor original\n",
    "\n",
    "graficoconrecta(X, Y, w)"
   ]
  },
  {
   "cell_type": "code",
   "execution_count": 383,
   "metadata": {
    "id": "VyhrgrNIyXRk"
   },
   "outputs": [],
   "source": [
    "# Definimos la función de activación\n",
    "def activacion(y):\n",
    "    if y <= 0:\n",
    "        return 0\n",
    "    else:\n",
    "        return 1 "
   ]
  },
  {
   "cell_type": "code",
   "execution_count": 384,
   "metadata": {
    "colab": {
     "base_uri": "https://localhost:8080/"
    },
    "executionInfo": {
     "elapsed": 313,
     "status": "ok",
     "timestamp": 1652231317545,
     "user": {
      "displayName": "Patricia Girimonte",
      "userId": "07123624381847228981"
     },
     "user_tz": 180
    },
    "id": "bwcuIOVkUA5r",
    "outputId": "95ae63b0-5b8f-4178-f833-7239980d0b19"
   },
   "outputs": [
    {
     "name": "stdout",
     "output_type": "stream",
     "text": [
      "0 0\n",
      "0 0\n",
      "0 0\n",
      "0 0\n",
      "0 0\n",
      "0 0\n",
      "0 0\n",
      "0 0\n",
      "1 1\n",
      "1 1\n",
      "1 1\n",
      "1 1\n",
      "1 1\n",
      "1 1\n",
      "1 1\n",
      "1 1\n"
     ]
    }
   ],
   "source": [
    "for i in range(len(Y)):\n",
    "    ypred=X[i][0]*w[0]+X[i][1]*w[1]+b\n",
    "    pred=activacion(ypred)\n",
    "    print(pred,Y[i])"
   ]
  }
 ],
 "metadata": {
  "colab": {
   "collapsed_sections": [],
   "name": "Clase 1_Ejemplo.ipynb",
   "provenance": [
    {
     "file_id": "1KnC0kfMYXocHU5n1Js-W8hkPUbFmKqat",
     "timestamp": 1652154564335
    }
   ],
   "toc_visible": true
  },
  "kernelspec": {
   "display_name": "Python 3 (ipykernel)",
   "language": "python",
   "name": "python3"
  },
  "language_info": {
   "codemirror_mode": {
    "name": "ipython",
    "version": 3
   },
   "file_extension": ".py",
   "mimetype": "text/x-python",
   "name": "python",
   "nbconvert_exporter": "python",
   "pygments_lexer": "ipython3",
   "version": "3.8.13"
  }
 },
 "nbformat": 4,
 "nbformat_minor": 4
}
