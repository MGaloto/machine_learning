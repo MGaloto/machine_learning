{
 "cells": [
  {
   "cell_type": "markdown",
   "metadata": {},
   "source": [
    "# Modelos Supervisados de Clasificacion\n",
    " \n",
    "Iterando y probando modelos para predecir Deserciónes"
   ]
  },
  {
   "cell_type": "code",
   "execution_count": 47,
   "metadata": {},
   "outputs": [],
   "source": [
    "import pandas as pd\n",
    "import numpy as np"
   ]
  },
  {
   "cell_type": "code",
   "execution_count": 48,
   "metadata": {},
   "outputs": [],
   "source": [
    "df = pd.read_csv('ceiret.csv')\n",
    "df.drop(['APELLIDO Y NOMBRE', 'PAIS','FECHA NACIMIENTO'], axis=1, inplace= True)"
   ]
  },
  {
   "cell_type": "code",
   "execution_count": 49,
   "metadata": {},
   "outputs": [
    {
     "data": {
      "text/html": [
       "<div>\n",
       "<style scoped>\n",
       "    .dataframe tbody tr th:only-of-type {\n",
       "        vertical-align: middle;\n",
       "    }\n",
       "\n",
       "    .dataframe tbody tr th {\n",
       "        vertical-align: top;\n",
       "    }\n",
       "\n",
       "    .dataframe thead th {\n",
       "        text-align: right;\n",
       "    }\n",
       "</style>\n",
       "<table border=\"1\" class=\"dataframe\">\n",
       "  <thead>\n",
       "    <tr style=\"text-align: right;\">\n",
       "      <th></th>\n",
       "      <th>GÉNERO</th>\n",
       "      <th>FECHA DE INSCRIPCION</th>\n",
       "      <th>CÓDIGO POSTAL</th>\n",
       "      <th>CIUDAD</th>\n",
       "      <th>PROVINCIA</th>\n",
       "      <th>Curso</th>\n",
       "      <th>Edad</th>\n",
       "      <th>Hijos</th>\n",
       "      <th>Clase Social</th>\n",
       "      <th>Situación laboral</th>\n",
       "      <th>Nivel educativo</th>\n",
       "      <th>Nivel de alfabetización digital</th>\n",
       "      <th>Herramientas tecnológicas</th>\n",
       "      <th>Conectividad</th>\n",
       "      <th>Deserción</th>\n",
       "    </tr>\n",
       "  </thead>\n",
       "  <tbody>\n",
       "    <tr>\n",
       "      <th>0</th>\n",
       "      <td>F</td>\n",
       "      <td>8/1/1997</td>\n",
       "      <td>C1407</td>\n",
       "      <td>Caba</td>\n",
       "      <td>Buenos Aires</td>\n",
       "      <td>Carpinteria Nivel  I</td>\n",
       "      <td>58</td>\n",
       "      <td>1</td>\n",
       "      <td>Marginal</td>\n",
       "      <td>Empleado</td>\n",
       "      <td>Primario</td>\n",
       "      <td>Bajo</td>\n",
       "      <td>Celular</td>\n",
       "      <td>Datos</td>\n",
       "      <td>SI</td>\n",
       "    </tr>\n",
       "    <tr>\n",
       "      <th>1</th>\n",
       "      <td>M</td>\n",
       "      <td>7/1/2003</td>\n",
       "      <td>C1407</td>\n",
       "      <td>Caba</td>\n",
       "      <td>Buenos Aires</td>\n",
       "      <td>Carpinteria Nivel  I</td>\n",
       "      <td>60</td>\n",
       "      <td>5</td>\n",
       "      <td>Marginal</td>\n",
       "      <td>Empleado</td>\n",
       "      <td>Primario</td>\n",
       "      <td>Bajo</td>\n",
       "      <td>Celular</td>\n",
       "      <td>Datos</td>\n",
       "      <td>SI</td>\n",
       "    </tr>\n",
       "    <tr>\n",
       "      <th>2</th>\n",
       "      <td>M</td>\n",
       "      <td>7/1/2003</td>\n",
       "      <td>C1183</td>\n",
       "      <td>Caba</td>\n",
       "      <td>Buenos Aires</td>\n",
       "      <td>Carpinteria Nivel  I</td>\n",
       "      <td>65</td>\n",
       "      <td>4</td>\n",
       "      <td>Marginal</td>\n",
       "      <td>Empleado</td>\n",
       "      <td>Primario</td>\n",
       "      <td>Bajo</td>\n",
       "      <td>Celular</td>\n",
       "      <td>Datos</td>\n",
       "      <td>SI</td>\n",
       "    </tr>\n",
       "    <tr>\n",
       "      <th>3</th>\n",
       "      <td>F</td>\n",
       "      <td>2/1/2005</td>\n",
       "      <td>B1648</td>\n",
       "      <td>Los Troncos Del Talar</td>\n",
       "      <td>Buenos Aires</td>\n",
       "      <td>Carpinteria Nivel  I</td>\n",
       "      <td>63</td>\n",
       "      <td>2</td>\n",
       "      <td>Marginal</td>\n",
       "      <td>Empleado</td>\n",
       "      <td>Primario</td>\n",
       "      <td>Bajo</td>\n",
       "      <td>Celular</td>\n",
       "      <td>Datos</td>\n",
       "      <td>SI</td>\n",
       "    </tr>\n",
       "    <tr>\n",
       "      <th>4</th>\n",
       "      <td>F</td>\n",
       "      <td>8/1/2005</td>\n",
       "      <td>C1407</td>\n",
       "      <td>Caba</td>\n",
       "      <td>Buenos Aires</td>\n",
       "      <td>Carpinteria Nivel  I</td>\n",
       "      <td>61</td>\n",
       "      <td>4</td>\n",
       "      <td>Marginal</td>\n",
       "      <td>Empleado</td>\n",
       "      <td>Primario</td>\n",
       "      <td>Bajo</td>\n",
       "      <td>Celular</td>\n",
       "      <td>Datos</td>\n",
       "      <td>SI</td>\n",
       "    </tr>\n",
       "  </tbody>\n",
       "</table>\n",
       "</div>"
      ],
      "text/plain": [
       "  GÉNERO FECHA DE INSCRIPCION CÓDIGO POSTAL                 CIUDAD  \\\n",
       "0      F             8/1/1997         C1407                   Caba   \n",
       "1      M             7/1/2003         C1407                   Caba   \n",
       "2      M             7/1/2003         C1183                   Caba   \n",
       "3      F             2/1/2005         B1648  Los Troncos Del Talar   \n",
       "4      F             8/1/2005         C1407                   Caba   \n",
       "\n",
       "      PROVINCIA                 Curso  Edad  Hijos Clase Social  \\\n",
       "0  Buenos Aires  Carpinteria Nivel  I    58      1     Marginal   \n",
       "1  Buenos Aires  Carpinteria Nivel  I    60      5     Marginal   \n",
       "2  Buenos Aires  Carpinteria Nivel  I    65      4     Marginal   \n",
       "3  Buenos Aires  Carpinteria Nivel  I    63      2     Marginal   \n",
       "4  Buenos Aires  Carpinteria Nivel  I    61      4     Marginal   \n",
       "\n",
       "  Situación laboral Nivel educativo Nivel de alfabetización digital  \\\n",
       "0          Empleado        Primario                            Bajo   \n",
       "1          Empleado        Primario                            Bajo   \n",
       "2          Empleado        Primario                            Bajo   \n",
       "3          Empleado        Primario                            Bajo   \n",
       "4          Empleado        Primario                            Bajo   \n",
       "\n",
       "  Herramientas tecnológicas Conectividad Deserción  \n",
       "0                   Celular        Datos        SI  \n",
       "1                   Celular        Datos        SI  \n",
       "2                   Celular        Datos        SI  \n",
       "3                   Celular        Datos        SI  \n",
       "4                   Celular        Datos        SI  "
      ]
     },
     "execution_count": 49,
     "metadata": {},
     "output_type": "execute_result"
    }
   ],
   "source": [
    "df.head()"
   ]
  },
  {
   "cell_type": "code",
   "execution_count": 50,
   "metadata": {},
   "outputs": [],
   "source": [
    "df['FECHA DE INSCRIPCION'] = df.apply(lambda x: x['FECHA DE INSCRIPCION'].split('/')[2] , axis = 1)\n",
    "df['CÓDIGO POSTAL'] = df.apply(lambda x: x['CÓDIGO POSTAL'][1:4] , axis = 1)\n",
    "df['Deserción'] = df.apply(lambda x: 1 if x['Deserción'] == 'SI' else 0, axis = 1)"
   ]
  },
  {
   "cell_type": "code",
   "execution_count": 51,
   "metadata": {},
   "outputs": [
    {
     "data": {
      "text/html": [
       "<div>\n",
       "<style scoped>\n",
       "    .dataframe tbody tr th:only-of-type {\n",
       "        vertical-align: middle;\n",
       "    }\n",
       "\n",
       "    .dataframe tbody tr th {\n",
       "        vertical-align: top;\n",
       "    }\n",
       "\n",
       "    .dataframe thead th {\n",
       "        text-align: right;\n",
       "    }\n",
       "</style>\n",
       "<table border=\"1\" class=\"dataframe\">\n",
       "  <thead>\n",
       "    <tr style=\"text-align: right;\">\n",
       "      <th></th>\n",
       "      <th>GÉNERO</th>\n",
       "      <th>FECHA DE INSCRIPCION</th>\n",
       "      <th>CÓDIGO POSTAL</th>\n",
       "      <th>CIUDAD</th>\n",
       "      <th>PROVINCIA</th>\n",
       "      <th>Curso</th>\n",
       "      <th>Edad</th>\n",
       "      <th>Hijos</th>\n",
       "      <th>Clase Social</th>\n",
       "      <th>Situación laboral</th>\n",
       "      <th>Nivel educativo</th>\n",
       "      <th>Nivel de alfabetización digital</th>\n",
       "      <th>Herramientas tecnológicas</th>\n",
       "      <th>Conectividad</th>\n",
       "      <th>Deserción</th>\n",
       "    </tr>\n",
       "  </thead>\n",
       "  <tbody>\n",
       "    <tr>\n",
       "      <th>0</th>\n",
       "      <td>F</td>\n",
       "      <td>1997</td>\n",
       "      <td>140</td>\n",
       "      <td>Caba</td>\n",
       "      <td>Buenos Aires</td>\n",
       "      <td>Carpinteria Nivel  I</td>\n",
       "      <td>58</td>\n",
       "      <td>1</td>\n",
       "      <td>Marginal</td>\n",
       "      <td>Empleado</td>\n",
       "      <td>Primario</td>\n",
       "      <td>Bajo</td>\n",
       "      <td>Celular</td>\n",
       "      <td>Datos</td>\n",
       "      <td>1</td>\n",
       "    </tr>\n",
       "    <tr>\n",
       "      <th>1</th>\n",
       "      <td>M</td>\n",
       "      <td>2003</td>\n",
       "      <td>140</td>\n",
       "      <td>Caba</td>\n",
       "      <td>Buenos Aires</td>\n",
       "      <td>Carpinteria Nivel  I</td>\n",
       "      <td>60</td>\n",
       "      <td>5</td>\n",
       "      <td>Marginal</td>\n",
       "      <td>Empleado</td>\n",
       "      <td>Primario</td>\n",
       "      <td>Bajo</td>\n",
       "      <td>Celular</td>\n",
       "      <td>Datos</td>\n",
       "      <td>1</td>\n",
       "    </tr>\n",
       "    <tr>\n",
       "      <th>2</th>\n",
       "      <td>M</td>\n",
       "      <td>2003</td>\n",
       "      <td>118</td>\n",
       "      <td>Caba</td>\n",
       "      <td>Buenos Aires</td>\n",
       "      <td>Carpinteria Nivel  I</td>\n",
       "      <td>65</td>\n",
       "      <td>4</td>\n",
       "      <td>Marginal</td>\n",
       "      <td>Empleado</td>\n",
       "      <td>Primario</td>\n",
       "      <td>Bajo</td>\n",
       "      <td>Celular</td>\n",
       "      <td>Datos</td>\n",
       "      <td>1</td>\n",
       "    </tr>\n",
       "    <tr>\n",
       "      <th>3</th>\n",
       "      <td>F</td>\n",
       "      <td>2005</td>\n",
       "      <td>164</td>\n",
       "      <td>Los Troncos Del Talar</td>\n",
       "      <td>Buenos Aires</td>\n",
       "      <td>Carpinteria Nivel  I</td>\n",
       "      <td>63</td>\n",
       "      <td>2</td>\n",
       "      <td>Marginal</td>\n",
       "      <td>Empleado</td>\n",
       "      <td>Primario</td>\n",
       "      <td>Bajo</td>\n",
       "      <td>Celular</td>\n",
       "      <td>Datos</td>\n",
       "      <td>1</td>\n",
       "    </tr>\n",
       "    <tr>\n",
       "      <th>4</th>\n",
       "      <td>F</td>\n",
       "      <td>2005</td>\n",
       "      <td>140</td>\n",
       "      <td>Caba</td>\n",
       "      <td>Buenos Aires</td>\n",
       "      <td>Carpinteria Nivel  I</td>\n",
       "      <td>61</td>\n",
       "      <td>4</td>\n",
       "      <td>Marginal</td>\n",
       "      <td>Empleado</td>\n",
       "      <td>Primario</td>\n",
       "      <td>Bajo</td>\n",
       "      <td>Celular</td>\n",
       "      <td>Datos</td>\n",
       "      <td>1</td>\n",
       "    </tr>\n",
       "  </tbody>\n",
       "</table>\n",
       "</div>"
      ],
      "text/plain": [
       "  GÉNERO FECHA DE INSCRIPCION CÓDIGO POSTAL                 CIUDAD  \\\n",
       "0      F                 1997           140                   Caba   \n",
       "1      M                 2003           140                   Caba   \n",
       "2      M                 2003           118                   Caba   \n",
       "3      F                 2005           164  Los Troncos Del Talar   \n",
       "4      F                 2005           140                   Caba   \n",
       "\n",
       "      PROVINCIA                 Curso  Edad  Hijos Clase Social  \\\n",
       "0  Buenos Aires  Carpinteria Nivel  I    58      1     Marginal   \n",
       "1  Buenos Aires  Carpinteria Nivel  I    60      5     Marginal   \n",
       "2  Buenos Aires  Carpinteria Nivel  I    65      4     Marginal   \n",
       "3  Buenos Aires  Carpinteria Nivel  I    63      2     Marginal   \n",
       "4  Buenos Aires  Carpinteria Nivel  I    61      4     Marginal   \n",
       "\n",
       "  Situación laboral Nivel educativo Nivel de alfabetización digital  \\\n",
       "0          Empleado        Primario                            Bajo   \n",
       "1          Empleado        Primario                            Bajo   \n",
       "2          Empleado        Primario                            Bajo   \n",
       "3          Empleado        Primario                            Bajo   \n",
       "4          Empleado        Primario                            Bajo   \n",
       "\n",
       "  Herramientas tecnológicas Conectividad  Deserción  \n",
       "0                   Celular        Datos          1  \n",
       "1                   Celular        Datos          1  \n",
       "2                   Celular        Datos          1  \n",
       "3                   Celular        Datos          1  \n",
       "4                   Celular        Datos          1  "
      ]
     },
     "execution_count": 51,
     "metadata": {},
     "output_type": "execute_result"
    }
   ],
   "source": [
    "df.head()"
   ]
  },
  {
   "cell_type": "code",
   "execution_count": 52,
   "metadata": {},
   "outputs": [
    {
     "data": {
      "text/plain": [
       "0    267\n",
       "1     61\n",
       "Name: Deserción, dtype: int64"
      ]
     },
     "execution_count": 52,
     "metadata": {},
     "output_type": "execute_result"
    }
   ],
   "source": [
    "df.Deserción.value_counts()"
   ]
  },
  {
   "cell_type": "code",
   "execution_count": 53,
   "metadata": {},
   "outputs": [
    {
     "name": "stdout",
     "output_type": "stream",
     "text": [
      "<class 'pandas.core.frame.DataFrame'>\n",
      "RangeIndex: 328 entries, 0 to 327\n",
      "Data columns (total 15 columns):\n",
      " #   Column                           Non-Null Count  Dtype \n",
      "---  ------                           --------------  ----- \n",
      " 0   GÉNERO                           328 non-null    object\n",
      " 1   FECHA DE INSCRIPCION             328 non-null    object\n",
      " 2   CÓDIGO POSTAL                    328 non-null    object\n",
      " 3   CIUDAD                           328 non-null    object\n",
      " 4   PROVINCIA                        328 non-null    object\n",
      " 5   Curso                            328 non-null    object\n",
      " 6   Edad                             328 non-null    int64 \n",
      " 7   Hijos                            328 non-null    int64 \n",
      " 8   Clase Social                     328 non-null    object\n",
      " 9   Situación laboral                328 non-null    object\n",
      " 10  Nivel educativo                  328 non-null    object\n",
      " 11  Nivel de alfabetización digital  328 non-null    object\n",
      " 12  Herramientas tecnológicas        328 non-null    object\n",
      " 13  Conectividad                     328 non-null    object\n",
      " 14  Deserción                        328 non-null    int64 \n",
      "dtypes: int64(3), object(12)\n",
      "memory usage: 38.6+ KB\n"
     ]
    }
   ],
   "source": [
    "df.info()"
   ]
  },
  {
   "cell_type": "code",
   "execution_count": 54,
   "metadata": {},
   "outputs": [],
   "source": [
    "df['FECHA DE INSCRIPCION'] = df['FECHA DE INSCRIPCION'].astype(int)\n",
    "df['CÓDIGO POSTAL'] = df['CÓDIGO POSTAL'].astype(int)"
   ]
  },
  {
   "cell_type": "code",
   "execution_count": 55,
   "metadata": {},
   "outputs": [
    {
     "data": {
      "text/plain": [
       "Index(['GÉNERO', 'FECHA DE INSCRIPCION', 'CÓDIGO POSTAL', 'CIUDAD',\n",
       "       'PROVINCIA', 'Curso', 'Edad', 'Hijos', 'Clase Social',\n",
       "       'Situación laboral', 'Nivel educativo',\n",
       "       'Nivel de alfabetización digital', 'Herramientas tecnológicas',\n",
       "       'Conectividad', 'Deserción'],\n",
       "      dtype='object')"
      ]
     },
     "execution_count": 55,
     "metadata": {},
     "output_type": "execute_result"
    }
   ],
   "source": [
    "df.columns"
   ]
  },
  {
   "cell_type": "code",
   "execution_count": 56,
   "metadata": {},
   "outputs": [
    {
     "data": {
      "application/vnd.plotly.v1+json": {
       "config": {
        "plotlyServerURL": "https://plot.ly"
       },
       "data": [
        {
         "alignmentgroup": "True",
         "hovertemplate": "Deserción=1<br>Clase Social=%{x}<br>Edad=%{y}<extra></extra>",
         "legendgroup": "1",
         "marker": {
          "color": "#636efa"
         },
         "name": "1",
         "notched": false,
         "offsetgroup": "1",
         "orientation": "v",
         "quartilemethod": "exclusive",
         "showlegend": true,
         "type": "box",
         "x": [
          "Marginal",
          "Marginal",
          "Marginal",
          "Marginal",
          "Marginal",
          "Marginal",
          "Marginal",
          "Marginal",
          "Marginal",
          "Marginal",
          "Marginal",
          "Marginal",
          "Marginal",
          "Marginal",
          "Marginal",
          "Marginal",
          "Marginal",
          "Marginal",
          "Marginal",
          "Baja Inferior",
          "Baja Inferior",
          "Baja Inferior",
          "Baja Inferior",
          "Baja Inferior",
          "Baja Inferior",
          "Baja Inferior",
          "Baja Inferior",
          "Baja Inferior",
          "Baja Inferior",
          "Baja Inferior",
          "Baja Inferior",
          "Baja Inferior",
          "Baja Inferior",
          "Baja Inferior",
          "Baja Inferior",
          "Baja Inferior",
          "Baja Inferior",
          "Baja Inferior",
          "Baja Inferior",
          "Baja Inferior",
          "Baja Inferior",
          "Baja Inferior",
          "Baja Inferior",
          "Media Tipica",
          "Media Tipica",
          "Media Tipica",
          "Media Tipica",
          "Media Tipica",
          "Media Tipica",
          "Media Tipica",
          "Media Tipica",
          "Media Tipica",
          "Media Tipica",
          "Media Tipica",
          "Media Tipica",
          "Media Tipica",
          "Media Tipica",
          "Media Tipica",
          "Media Tipica",
          "Media Tipica",
          "Media Tipica"
         ],
         "x0": " ",
         "xaxis": "x",
         "y": [
          58,
          60,
          65,
          63,
          61,
          50,
          42,
          37,
          47,
          37,
          52,
          70,
          61,
          52,
          66,
          63,
          61,
          53,
          47,
          62,
          34,
          38,
          48,
          44,
          37,
          64,
          56,
          34,
          53,
          36,
          68,
          53,
          42,
          52,
          60,
          32,
          42,
          38,
          56,
          33,
          58,
          51,
          35,
          59,
          58,
          47,
          36,
          49,
          58,
          66,
          36,
          44,
          70,
          39,
          57,
          51,
          53,
          35,
          36,
          41,
          38
         ],
         "y0": " ",
         "yaxis": "y"
        },
        {
         "alignmentgroup": "True",
         "hovertemplate": "Deserción=0<br>Clase Social=%{x}<br>Edad=%{y}<extra></extra>",
         "legendgroup": "0",
         "marker": {
          "color": "#EF553B"
         },
         "name": "0",
         "notched": false,
         "offsetgroup": "0",
         "orientation": "v",
         "quartilemethod": "exclusive",
         "showlegend": true,
         "type": "box",
         "x": [
          "Baja Inferior",
          "Baja Inferior",
          "Baja Inferior",
          "Baja Inferior",
          "Baja Superior",
          "Baja Superior",
          "Baja Superior",
          "Baja Superior",
          "Baja Superior",
          "Baja Superior",
          "Baja Superior",
          "Baja Superior",
          "Baja Superior",
          "Baja Superior",
          "Baja Superior",
          "Baja Superior",
          "Baja Superior",
          "Baja Superior",
          "Baja Superior",
          "Baja Superior",
          "Baja Superior",
          "Baja Superior",
          "Baja Superior",
          "Baja Superior",
          "Baja Superior",
          "Baja Superior",
          "Baja Superior",
          "Medio Baja",
          "Medio Baja",
          "Medio Baja",
          "Medio Baja",
          "Medio Baja",
          "Medio Baja",
          "Medio Baja",
          "Medio Baja",
          "Medio Baja",
          "Medio Baja",
          "Medio Baja",
          "Medio Baja",
          "Medio Baja",
          "Medio Baja",
          "Medio Baja",
          "Medio Baja",
          "Medio Baja",
          "Medio Baja",
          "Medio Baja",
          "Medio Baja",
          "Medio Baja",
          "Media Tipica",
          "Media Tipica",
          "Media Tipica",
          "Media Tipica",
          "Media Tipica",
          "Media Tipica",
          "Media Tipica",
          "Media Tipica",
          "Media Tipica",
          "Media Tipica",
          "Media Tipica",
          "Media Tipica",
          "Media Tipica",
          "Media Tipica",
          "Media Tipica",
          "Media Tipica",
          "Media Tipica",
          "Media Tipica",
          "Media Tipica",
          "Media Tipica",
          "Media Tipica",
          "Media Tipica",
          "Media Tipica",
          "Media Tipica",
          "Media Tipica",
          "Media Tipica",
          "Media Tipica",
          "Media Tipica",
          "Media Tipica",
          "Media Tipica",
          "Media Tipica",
          "Media Tipica",
          "Media Tipica",
          "Media Tipica",
          "Media Tipica",
          "Media Tipica",
          "Media Tipica",
          "Media Tipica",
          "Media Tipica",
          "Media Tipica",
          "Media Tipica",
          "Media Tipica",
          "Media Tipica",
          "Media Tipica",
          "Media Tipica",
          "Media Tipica",
          "Media Tipica",
          "Media Tipica",
          "Media Tipica",
          "Media Tipica",
          "Media Tipica",
          "Media Tipica",
          "Media Tipica",
          "Media Tipica",
          "Media Tipica",
          "Media Tipica",
          "Media Tipica",
          "Media Tipica",
          "Media Tipica",
          "Media Tipica",
          "Media Tipica",
          "Media Tipica",
          "Media Tipica",
          "Media Tipica",
          "Media Tipica",
          "Media Tipica",
          "Media Tipica",
          "Media Tipica",
          "Media Tipica",
          "Media Tipica",
          "Media Tipica",
          "Media Tipica",
          "Media Tipica",
          "Media Tipica",
          "Media Tipica",
          "Media Tipica",
          "Media Tipica",
          "Media Tipica",
          "Media Tipica",
          "Media Tipica",
          "Media Tipica",
          "Media Tipica",
          "Media Tipica",
          "Media Tipica",
          "Media Tipica",
          "Media Tipica",
          "Media Tipica",
          "Media Tipica",
          "Media Tipica",
          "Media Tipica",
          "Media Tipica",
          "Media Tipica",
          "Media Tipica",
          "Media Tipica",
          "Media Tipica",
          "Media Tipica",
          "Media Tipica",
          "Media Alta",
          "Media Alta",
          "Media Alta",
          "Media Alta",
          "Media Alta",
          "Media Alta",
          "Media Alta",
          "Media Alta",
          "Media Alta",
          "Media Alta",
          "Media Alta",
          "Media Alta",
          "Media Alta",
          "Media Alta",
          "Media Alta",
          "Media Alta",
          "Media Alta",
          "Media Alta",
          "Media Alta",
          "Media Alta",
          "Media Alta",
          "Media Alta",
          "Media Alta",
          "Media Alta",
          "Media Alta",
          "Media Alta",
          "Media Alta",
          "Media Tipica",
          "Media Tipica",
          "Media Tipica",
          "Media Tipica",
          "Media Tipica",
          "Media Tipica",
          "Media Tipica",
          "Media Tipica",
          "Media Tipica",
          "Media Tipica",
          "Media Tipica",
          "Media Tipica",
          "Media Tipica",
          "Media Tipica",
          "Media Tipica",
          "Media Tipica",
          "Media Tipica",
          "Media Tipica",
          "Media Tipica",
          "Media Tipica",
          "Media Tipica",
          "Media Tipica",
          "Media Tipica",
          "Media Tipica",
          "Media Tipica",
          "Media Tipica",
          "Media Tipica",
          "Media Tipica",
          "Media Tipica",
          "Media Tipica",
          "Media Tipica",
          "Media Tipica",
          "Media Tipica",
          "Media Tipica",
          "Media Tipica",
          "Media Tipica",
          "Media Tipica",
          "Media Tipica",
          "Media Tipica",
          "Media Tipica",
          "Media Tipica",
          "Media Tipica",
          "Media Tipica",
          "Media Tipica",
          "Media Tipica",
          "Media Tipica",
          "Media Tipica",
          "Media Tipica",
          "Media Tipica",
          "Media Tipica",
          "Media Tipica",
          "Media Tipica",
          "Media Tipica",
          "Media Tipica",
          "Media Tipica",
          "Media Tipica",
          "Media Tipica",
          "Media Tipica",
          "Media Tipica",
          "Media Tipica",
          "Media Tipica",
          "Media Tipica",
          "Media Tipica",
          "Media Tipica",
          "Media Tipica",
          "Media Tipica",
          "Media Tipica",
          "Media Tipica",
          "Media Tipica",
          "Media Tipica",
          "Media Tipica",
          "Media Tipica",
          "Media Tipica",
          "Media Tipica",
          "Media Tipica",
          "Media Tipica",
          "Media Tipica",
          "Media Tipica",
          "Media Tipica",
          "Media Tipica",
          "Media Tipica",
          "Media Tipica",
          "Media Tipica",
          "Media Tipica",
          "Media Tipica",
          "Media Tipica",
          "Media Tipica",
          "Media Tipica",
          "Media Tipica",
          "Media Tipica",
          "Media Tipica",
          "Media Tipica",
          "Media Tipica",
          "Alta",
          "Alta"
         ],
         "x0": " ",
         "xaxis": "x",
         "y": [
          62,
          56,
          35,
          44,
          37,
          37,
          52,
          51,
          46,
          43,
          43,
          50,
          36,
          29,
          66,
          45,
          33,
          43,
          35,
          50,
          33,
          41,
          29,
          34,
          37,
          34,
          34,
          49,
          47,
          47,
          38,
          53,
          30,
          42,
          70,
          29,
          47,
          35,
          30,
          32,
          40,
          30,
          43,
          29,
          61,
          33,
          38,
          32,
          35,
          25,
          33,
          35,
          59,
          37,
          27,
          43,
          29,
          38,
          38,
          35,
          45,
          36,
          32,
          41,
          58,
          53,
          49,
          51,
          32,
          39,
          34,
          61,
          54,
          37,
          33,
          28,
          35,
          43,
          35,
          32,
          33,
          37,
          26,
          36,
          47,
          34,
          44,
          37,
          40,
          56,
          39,
          47,
          44,
          52,
          58,
          55,
          50,
          42,
          41,
          58,
          59,
          38,
          56,
          34,
          43,
          43,
          36,
          35,
          46,
          53,
          50,
          44,
          37,
          34,
          33,
          49,
          50,
          40,
          59,
          55,
          45,
          58,
          58,
          33,
          31,
          57,
          68,
          73,
          59,
          72,
          66,
          58,
          54,
          72,
          62,
          36,
          34,
          38,
          36,
          36,
          41,
          35,
          38,
          33,
          43,
          54,
          52,
          37,
          41,
          49,
          34,
          34,
          34,
          34,
          43,
          41,
          41,
          71,
          69,
          56,
          52,
          54,
          45,
          52,
          63,
          56,
          41,
          56,
          37,
          40,
          34,
          36,
          40,
          39,
          53,
          33,
          45,
          67,
          46,
          52,
          59,
          54,
          70,
          48,
          46,
          52,
          59,
          50,
          48,
          58,
          57,
          35,
          52,
          57,
          55,
          57,
          55,
          50,
          61,
          42,
          48,
          48,
          49,
          50,
          39,
          36,
          32,
          33,
          40,
          45,
          48,
          39,
          39,
          32,
          32,
          38,
          37,
          33,
          34,
          37,
          36,
          31,
          36,
          32,
          33,
          31,
          37,
          30,
          59,
          54,
          53,
          72,
          68,
          47,
          53,
          47,
          63,
          53,
          57,
          48,
          41,
          58,
          54,
          43,
          40,
          39,
          42,
          44,
          43,
          35,
          35,
          43,
          46,
          55,
          47,
          39,
          36,
          43,
          35,
          43,
          54,
          39,
          48,
          52,
          54,
          45,
          66
         ],
         "y0": " ",
         "yaxis": "y"
        }
       ],
       "layout": {
        "autosize": true,
        "boxmode": "group",
        "legend": {
         "title": {
          "text": "Deserción"
         },
         "tracegroupgap": 0
        },
        "margin": {
         "t": 60
        },
        "template": {
         "data": {
          "bar": [
           {
            "error_x": {
             "color": "#2a3f5f"
            },
            "error_y": {
             "color": "#2a3f5f"
            },
            "marker": {
             "line": {
              "color": "#E5ECF6",
              "width": 0.5
             }
            },
            "type": "bar"
           }
          ],
          "barpolar": [
           {
            "marker": {
             "line": {
              "color": "#E5ECF6",
              "width": 0.5
             }
            },
            "type": "barpolar"
           }
          ],
          "carpet": [
           {
            "aaxis": {
             "endlinecolor": "#2a3f5f",
             "gridcolor": "white",
             "linecolor": "white",
             "minorgridcolor": "white",
             "startlinecolor": "#2a3f5f"
            },
            "baxis": {
             "endlinecolor": "#2a3f5f",
             "gridcolor": "white",
             "linecolor": "white",
             "minorgridcolor": "white",
             "startlinecolor": "#2a3f5f"
            },
            "type": "carpet"
           }
          ],
          "choropleth": [
           {
            "colorbar": {
             "outlinewidth": 0,
             "ticks": ""
            },
            "type": "choropleth"
           }
          ],
          "contour": [
           {
            "colorbar": {
             "outlinewidth": 0,
             "ticks": ""
            },
            "colorscale": [
             [
              0,
              "#0d0887"
             ],
             [
              0.1111111111111111,
              "#46039f"
             ],
             [
              0.2222222222222222,
              "#7201a8"
             ],
             [
              0.3333333333333333,
              "#9c179e"
             ],
             [
              0.4444444444444444,
              "#bd3786"
             ],
             [
              0.5555555555555556,
              "#d8576b"
             ],
             [
              0.6666666666666666,
              "#ed7953"
             ],
             [
              0.7777777777777778,
              "#fb9f3a"
             ],
             [
              0.8888888888888888,
              "#fdca26"
             ],
             [
              1,
              "#f0f921"
             ]
            ],
            "type": "contour"
           }
          ],
          "contourcarpet": [
           {
            "colorbar": {
             "outlinewidth": 0,
             "ticks": ""
            },
            "type": "contourcarpet"
           }
          ],
          "heatmap": [
           {
            "colorbar": {
             "outlinewidth": 0,
             "ticks": ""
            },
            "colorscale": [
             [
              0,
              "#0d0887"
             ],
             [
              0.1111111111111111,
              "#46039f"
             ],
             [
              0.2222222222222222,
              "#7201a8"
             ],
             [
              0.3333333333333333,
              "#9c179e"
             ],
             [
              0.4444444444444444,
              "#bd3786"
             ],
             [
              0.5555555555555556,
              "#d8576b"
             ],
             [
              0.6666666666666666,
              "#ed7953"
             ],
             [
              0.7777777777777778,
              "#fb9f3a"
             ],
             [
              0.8888888888888888,
              "#fdca26"
             ],
             [
              1,
              "#f0f921"
             ]
            ],
            "type": "heatmap"
           }
          ],
          "heatmapgl": [
           {
            "colorbar": {
             "outlinewidth": 0,
             "ticks": ""
            },
            "colorscale": [
             [
              0,
              "#0d0887"
             ],
             [
              0.1111111111111111,
              "#46039f"
             ],
             [
              0.2222222222222222,
              "#7201a8"
             ],
             [
              0.3333333333333333,
              "#9c179e"
             ],
             [
              0.4444444444444444,
              "#bd3786"
             ],
             [
              0.5555555555555556,
              "#d8576b"
             ],
             [
              0.6666666666666666,
              "#ed7953"
             ],
             [
              0.7777777777777778,
              "#fb9f3a"
             ],
             [
              0.8888888888888888,
              "#fdca26"
             ],
             [
              1,
              "#f0f921"
             ]
            ],
            "type": "heatmapgl"
           }
          ],
          "histogram": [
           {
            "marker": {
             "colorbar": {
              "outlinewidth": 0,
              "ticks": ""
             }
            },
            "type": "histogram"
           }
          ],
          "histogram2d": [
           {
            "colorbar": {
             "outlinewidth": 0,
             "ticks": ""
            },
            "colorscale": [
             [
              0,
              "#0d0887"
             ],
             [
              0.1111111111111111,
              "#46039f"
             ],
             [
              0.2222222222222222,
              "#7201a8"
             ],
             [
              0.3333333333333333,
              "#9c179e"
             ],
             [
              0.4444444444444444,
              "#bd3786"
             ],
             [
              0.5555555555555556,
              "#d8576b"
             ],
             [
              0.6666666666666666,
              "#ed7953"
             ],
             [
              0.7777777777777778,
              "#fb9f3a"
             ],
             [
              0.8888888888888888,
              "#fdca26"
             ],
             [
              1,
              "#f0f921"
             ]
            ],
            "type": "histogram2d"
           }
          ],
          "histogram2dcontour": [
           {
            "colorbar": {
             "outlinewidth": 0,
             "ticks": ""
            },
            "colorscale": [
             [
              0,
              "#0d0887"
             ],
             [
              0.1111111111111111,
              "#46039f"
             ],
             [
              0.2222222222222222,
              "#7201a8"
             ],
             [
              0.3333333333333333,
              "#9c179e"
             ],
             [
              0.4444444444444444,
              "#bd3786"
             ],
             [
              0.5555555555555556,
              "#d8576b"
             ],
             [
              0.6666666666666666,
              "#ed7953"
             ],
             [
              0.7777777777777778,
              "#fb9f3a"
             ],
             [
              0.8888888888888888,
              "#fdca26"
             ],
             [
              1,
              "#f0f921"
             ]
            ],
            "type": "histogram2dcontour"
           }
          ],
          "mesh3d": [
           {
            "colorbar": {
             "outlinewidth": 0,
             "ticks": ""
            },
            "type": "mesh3d"
           }
          ],
          "parcoords": [
           {
            "line": {
             "colorbar": {
              "outlinewidth": 0,
              "ticks": ""
             }
            },
            "type": "parcoords"
           }
          ],
          "pie": [
           {
            "automargin": true,
            "type": "pie"
           }
          ],
          "scatter": [
           {
            "marker": {
             "colorbar": {
              "outlinewidth": 0,
              "ticks": ""
             }
            },
            "type": "scatter"
           }
          ],
          "scatter3d": [
           {
            "line": {
             "colorbar": {
              "outlinewidth": 0,
              "ticks": ""
             }
            },
            "marker": {
             "colorbar": {
              "outlinewidth": 0,
              "ticks": ""
             }
            },
            "type": "scatter3d"
           }
          ],
          "scattercarpet": [
           {
            "marker": {
             "colorbar": {
              "outlinewidth": 0,
              "ticks": ""
             }
            },
            "type": "scattercarpet"
           }
          ],
          "scattergeo": [
           {
            "marker": {
             "colorbar": {
              "outlinewidth": 0,
              "ticks": ""
             }
            },
            "type": "scattergeo"
           }
          ],
          "scattergl": [
           {
            "marker": {
             "colorbar": {
              "outlinewidth": 0,
              "ticks": ""
             }
            },
            "type": "scattergl"
           }
          ],
          "scattermapbox": [
           {
            "marker": {
             "colorbar": {
              "outlinewidth": 0,
              "ticks": ""
             }
            },
            "type": "scattermapbox"
           }
          ],
          "scatterpolar": [
           {
            "marker": {
             "colorbar": {
              "outlinewidth": 0,
              "ticks": ""
             }
            },
            "type": "scatterpolar"
           }
          ],
          "scatterpolargl": [
           {
            "marker": {
             "colorbar": {
              "outlinewidth": 0,
              "ticks": ""
             }
            },
            "type": "scatterpolargl"
           }
          ],
          "scatterternary": [
           {
            "marker": {
             "colorbar": {
              "outlinewidth": 0,
              "ticks": ""
             }
            },
            "type": "scatterternary"
           }
          ],
          "surface": [
           {
            "colorbar": {
             "outlinewidth": 0,
             "ticks": ""
            },
            "colorscale": [
             [
              0,
              "#0d0887"
             ],
             [
              0.1111111111111111,
              "#46039f"
             ],
             [
              0.2222222222222222,
              "#7201a8"
             ],
             [
              0.3333333333333333,
              "#9c179e"
             ],
             [
              0.4444444444444444,
              "#bd3786"
             ],
             [
              0.5555555555555556,
              "#d8576b"
             ],
             [
              0.6666666666666666,
              "#ed7953"
             ],
             [
              0.7777777777777778,
              "#fb9f3a"
             ],
             [
              0.8888888888888888,
              "#fdca26"
             ],
             [
              1,
              "#f0f921"
             ]
            ],
            "type": "surface"
           }
          ],
          "table": [
           {
            "cells": {
             "fill": {
              "color": "#EBF0F8"
             },
             "line": {
              "color": "white"
             }
            },
            "header": {
             "fill": {
              "color": "#C8D4E3"
             },
             "line": {
              "color": "white"
             }
            },
            "type": "table"
           }
          ]
         },
         "layout": {
          "annotationdefaults": {
           "arrowcolor": "#2a3f5f",
           "arrowhead": 0,
           "arrowwidth": 1
          },
          "autotypenumbers": "strict",
          "coloraxis": {
           "colorbar": {
            "outlinewidth": 0,
            "ticks": ""
           }
          },
          "colorscale": {
           "diverging": [
            [
             0,
             "#8e0152"
            ],
            [
             0.1,
             "#c51b7d"
            ],
            [
             0.2,
             "#de77ae"
            ],
            [
             0.3,
             "#f1b6da"
            ],
            [
             0.4,
             "#fde0ef"
            ],
            [
             0.5,
             "#f7f7f7"
            ],
            [
             0.6,
             "#e6f5d0"
            ],
            [
             0.7,
             "#b8e186"
            ],
            [
             0.8,
             "#7fbc41"
            ],
            [
             0.9,
             "#4d9221"
            ],
            [
             1,
             "#276419"
            ]
           ],
           "sequential": [
            [
             0,
             "#0d0887"
            ],
            [
             0.1111111111111111,
             "#46039f"
            ],
            [
             0.2222222222222222,
             "#7201a8"
            ],
            [
             0.3333333333333333,
             "#9c179e"
            ],
            [
             0.4444444444444444,
             "#bd3786"
            ],
            [
             0.5555555555555556,
             "#d8576b"
            ],
            [
             0.6666666666666666,
             "#ed7953"
            ],
            [
             0.7777777777777778,
             "#fb9f3a"
            ],
            [
             0.8888888888888888,
             "#fdca26"
            ],
            [
             1,
             "#f0f921"
            ]
           ],
           "sequentialminus": [
            [
             0,
             "#0d0887"
            ],
            [
             0.1111111111111111,
             "#46039f"
            ],
            [
             0.2222222222222222,
             "#7201a8"
            ],
            [
             0.3333333333333333,
             "#9c179e"
            ],
            [
             0.4444444444444444,
             "#bd3786"
            ],
            [
             0.5555555555555556,
             "#d8576b"
            ],
            [
             0.6666666666666666,
             "#ed7953"
            ],
            [
             0.7777777777777778,
             "#fb9f3a"
            ],
            [
             0.8888888888888888,
             "#fdca26"
            ],
            [
             1,
             "#f0f921"
            ]
           ]
          },
          "colorway": [
           "#636efa",
           "#EF553B",
           "#00cc96",
           "#ab63fa",
           "#FFA15A",
           "#19d3f3",
           "#FF6692",
           "#B6E880",
           "#FF97FF",
           "#FECB52"
          ],
          "font": {
           "color": "#2a3f5f"
          },
          "geo": {
           "bgcolor": "white",
           "lakecolor": "white",
           "landcolor": "#E5ECF6",
           "showlakes": true,
           "showland": true,
           "subunitcolor": "white"
          },
          "hoverlabel": {
           "align": "left"
          },
          "hovermode": "closest",
          "mapbox": {
           "style": "light"
          },
          "paper_bgcolor": "white",
          "plot_bgcolor": "#E5ECF6",
          "polar": {
           "angularaxis": {
            "gridcolor": "white",
            "linecolor": "white",
            "ticks": ""
           },
           "bgcolor": "#E5ECF6",
           "radialaxis": {
            "gridcolor": "white",
            "linecolor": "white",
            "ticks": ""
           }
          },
          "scene": {
           "xaxis": {
            "backgroundcolor": "#E5ECF6",
            "gridcolor": "white",
            "gridwidth": 2,
            "linecolor": "white",
            "showbackground": true,
            "ticks": "",
            "zerolinecolor": "white"
           },
           "yaxis": {
            "backgroundcolor": "#E5ECF6",
            "gridcolor": "white",
            "gridwidth": 2,
            "linecolor": "white",
            "showbackground": true,
            "ticks": "",
            "zerolinecolor": "white"
           },
           "zaxis": {
            "backgroundcolor": "#E5ECF6",
            "gridcolor": "white",
            "gridwidth": 2,
            "linecolor": "white",
            "showbackground": true,
            "ticks": "",
            "zerolinecolor": "white"
           }
          },
          "shapedefaults": {
           "line": {
            "color": "#2a3f5f"
           }
          },
          "ternary": {
           "aaxis": {
            "gridcolor": "white",
            "linecolor": "white",
            "ticks": ""
           },
           "baxis": {
            "gridcolor": "white",
            "linecolor": "white",
            "ticks": ""
           },
           "bgcolor": "#E5ECF6",
           "caxis": {
            "gridcolor": "white",
            "linecolor": "white",
            "ticks": ""
           }
          },
          "title": {
           "x": 0.05
          },
          "xaxis": {
           "automargin": true,
           "gridcolor": "white",
           "linecolor": "white",
           "ticks": "",
           "title": {
            "standoff": 15
           },
           "zerolinecolor": "white",
           "zerolinewidth": 2
          },
          "yaxis": {
           "automargin": true,
           "gridcolor": "white",
           "linecolor": "white",
           "ticks": "",
           "title": {
            "standoff": 15
           },
           "zerolinecolor": "white",
           "zerolinewidth": 2
          }
         }
        },
        "xaxis": {
         "anchor": "y",
         "autorange": true,
         "domain": [
          0,
          1
         ],
         "range": [
          -0.5245901639344263,
          6.524590163934426
         ],
         "title": {
          "text": "Clase Social"
         },
         "type": "category"
        },
        "yaxis": {
         "anchor": "x",
         "autorange": true,
         "domain": [
          0,
          1
         ],
         "range": [
          22.333333333333332,
          75.66666666666667
         ],
         "title": {
          "text": "Edad"
         },
         "type": "linear"
        }
       }
      },
      "image/png": "[encoded data removed]",
      "text/html": [
       "<div>                            <div id=\"503f709a-b51e-49de-877a-45414b3051b9\" class=\"plotly-graph-div\" style=\"height:525px; width:100%;\"></div>            <script type=\"text/javascript\">                require([\"plotly\"], function(Plotly) {                    window.PLOTLYENV=window.PLOTLYENV || {};                                    if (document.getElementById(\"503f709a-b51e-49de-877a-45414b3051b9\")) {                    Plotly.newPlot(                        \"503f709a-b51e-49de-877a-45414b3051b9\",                        [{\"alignmentgroup\": \"True\", \"hovertemplate\": \"Deserci\\u00f3n=1<br>Clase Social=%{x}<br>Edad=%{y}<extra></extra>\", \"legendgroup\": \"1\", \"marker\": {\"color\": \"#636efa\"}, \"name\": \"1\", \"notched\": false, \"offsetgroup\": \"1\", \"orientation\": \"v\", \"quartilemethod\": \"exclusive\", \"showlegend\": true, \"type\": \"box\", \"x\": [\"Marginal\", \"Marginal\", \"Marginal\", \"Marginal\", \"Marginal\", \"Marginal\", \"Marginal\", \"Marginal\", \"Marginal\", \"Marginal\", \"Marginal\", \"Marginal\", \"Marginal\", \"Marginal\", \"Marginal\", \"Marginal\", \"Marginal\", \"Marginal\", \"Marginal\", \"Baja Inferior\", \"Baja Inferior\", \"Baja Inferior\", \"Baja Inferior\", \"Baja Inferior\", \"Baja Inferior\", \"Baja Inferior\", \"Baja Inferior\", \"Baja Inferior\", \"Baja Inferior\", \"Baja Inferior\", \"Baja Inferior\", \"Baja Inferior\", \"Baja Inferior\", \"Baja Inferior\", \"Baja Inferior\", \"Baja Inferior\", \"Baja Inferior\", \"Baja Inferior\", \"Baja Inferior\", \"Baja Inferior\", \"Baja Inferior\", \"Baja Inferior\", \"Baja Inferior\", \"Media Tipica\", \"Media Tipica\", \"Media Tipica\", \"Media Tipica\", \"Media Tipica\", \"Media Tipica\", \"Media Tipica\", \"Media Tipica\", \"Media Tipica\", \"Media Tipica\", \"Media Tipica\", \"Media Tipica\", \"Media Tipica\", \"Media Tipica\", \"Media Tipica\", \"Media Tipica\", \"Media Tipica\", \"Media Tipica\"], \"x0\": \" \", \"xaxis\": \"x\", \"y\": [58, 60, 65, 63, 61, 50, 42, 37, 47, 37, 52, 70, 61, 52, 66, 63, 61, 53, 47, 62, 34, 38, 48, 44, 37, 64, 56, 34, 53, 36, 68, 53, 42, 52, 60, 32, 42, 38, 56, 33, 58, 51, 35, 59, 58, 47, 36, 49, 58, 66, 36, 44, 70, 39, 57, 51, 53, 35, 36, 41, 38], \"y0\": \" \", \"yaxis\": \"y\"}, {\"alignmentgroup\": \"True\", \"hovertemplate\": \"Deserci\\u00f3n=0<br>Clase Social=%{x}<br>Edad=%{y}<extra></extra>\", \"legendgroup\": \"0\", \"marker\": {\"color\": \"#EF553B\"}, \"name\": \"0\", \"notched\": false, \"offsetgroup\": \"0\", \"orientation\": \"v\", \"quartilemethod\": \"exclusive\", \"showlegend\": true, \"type\": \"box\", \"x\": [\"Baja Inferior\", \"Baja Inferior\", \"Baja Inferior\", \"Baja Inferior\", \"Baja Superior\", \"Baja Superior\", \"Baja Superior\", \"Baja Superior\", \"Baja Superior\", \"Baja Superior\", \"Baja Superior\", \"Baja Superior\", \"Baja Superior\", \"Baja Superior\", \"Baja Superior\", \"Baja Superior\", \"Baja Superior\", \"Baja Superior\", \"Baja Superior\", \"Baja Superior\", \"Baja Superior\", \"Baja Superior\", \"Baja Superior\", \"Baja Superior\", \"Baja Superior\", \"Baja Superior\", \"Baja Superior\", \"Medio Baja\", \"Medio Baja\", \"Medio Baja\", \"Medio Baja\", \"Medio Baja\", \"Medio Baja\", \"Medio Baja\", \"Medio Baja\", \"Medio Baja\", \"Medio Baja\", \"Medio Baja\", \"Medio Baja\", \"Medio Baja\", \"Medio Baja\", \"Medio Baja\", \"Medio Baja\", \"Medio Baja\", \"Medio Baja\", \"Medio Baja\", \"Medio Baja\", \"Medio Baja\", \"Media Tipica\", \"Media Tipica\", \"Media Tipica\", \"Media Tipica\", \"Media Tipica\", \"Media Tipica\", \"Media Tipica\", \"Media Tipica\", \"Media Tipica\", \"Media Tipica\", \"Media Tipica\", \"Media Tipica\", \"Media Tipica\", \"Media Tipica\", \"Media Tipica\", \"Media Tipica\", \"Media Tipica\", \"Media Tipica\", \"Media Tipica\", \"Media Tipica\", \"Media Tipica\", \"Media Tipica\", \"Media Tipica\", \"Media Tipica\", \"Media Tipica\", \"Media Tipica\", \"Media Tipica\", \"Media Tipica\", \"Media Tipica\", \"Media Tipica\", \"Media Tipica\", \"Media Tipica\", \"Media Tipica\", \"Media Tipica\", \"Media Tipica\", \"Media Tipica\", \"Media Tipica\", \"Media Tipica\", \"Media Tipica\", \"Media Tipica\", \"Media Tipica\", \"Media Tipica\", \"Media Tipica\", \"Media Tipica\", \"Media Tipica\", \"Media Tipica\", \"Media Tipica\", \"Media Tipica\", \"Media Tipica\", \"Media Tipica\", \"Media Tipica\", \"Media Tipica\", \"Media Tipica\", \"Media Tipica\", \"Media Tipica\", \"Media Tipica\", \"Media Tipica\", \"Media Tipica\", \"Media Tipica\", \"Media Tipica\", \"Media Tipica\", \"Media Tipica\", \"Media Tipica\", \"Media Tipica\", \"Media Tipica\", \"Media Tipica\", \"Media Tipica\", \"Media Tipica\", \"Media Tipica\", \"Media Tipica\", \"Media Tipica\", \"Media Tipica\", \"Media Tipica\", \"Media Tipica\", \"Media Tipica\", \"Media Tipica\", \"Media Tipica\", \"Media Tipica\", \"Media Tipica\", \"Media Tipica\", \"Media Tipica\", \"Media Tipica\", \"Media Tipica\", \"Media Tipica\", \"Media Tipica\", \"Media Tipica\", \"Media Tipica\", \"Media Tipica\", \"Media Tipica\", \"Media Tipica\", \"Media Tipica\", \"Media Tipica\", \"Media Tipica\", \"Media Tipica\", \"Media Tipica\", \"Media Tipica\", \"Media Tipica\", \"Media Alta\", \"Media Alta\", \"Media Alta\", \"Media Alta\", \"Media Alta\", \"Media Alta\", \"Media Alta\", \"Media Alta\", \"Media Alta\", \"Media Alta\", \"Media Alta\", \"Media Alta\", \"Media Alta\", \"Media Alta\", \"Media Alta\", \"Media Alta\", \"Media Alta\", \"Media Alta\", \"Media Alta\", \"Media Alta\", \"Media Alta\", \"Media Alta\", \"Media Alta\", \"Media Alta\", \"Media Alta\", \"Media Alta\", \"Media Alta\", \"Media Tipica\", \"Media Tipica\", \"Media Tipica\", \"Media Tipica\", \"Media Tipica\", \"Media Tipica\", \"Media Tipica\", \"Media Tipica\", \"Media Tipica\", \"Media Tipica\", \"Media Tipica\", \"Media Tipica\", \"Media Tipica\", \"Media Tipica\", \"Media Tipica\", \"Media Tipica\", \"Media Tipica\", \"Media Tipica\", \"Media Tipica\", \"Media Tipica\", \"Media Tipica\", \"Media Tipica\", \"Media Tipica\", \"Media Tipica\", \"Media Tipica\", \"Media Tipica\", \"Media Tipica\", \"Media Tipica\", \"Media Tipica\", \"Media Tipica\", \"Media Tipica\", \"Media Tipica\", \"Media Tipica\", \"Media Tipica\", \"Media Tipica\", \"Media Tipica\", \"Media Tipica\", \"Media Tipica\", \"Media Tipica\", \"Media Tipica\", \"Media Tipica\", \"Media Tipica\", \"Media Tipica\", \"Media Tipica\", \"Media Tipica\", \"Media Tipica\", \"Media Tipica\", \"Media Tipica\", \"Media Tipica\", \"Media Tipica\", \"Media Tipica\", \"Media Tipica\", \"Media Tipica\", \"Media Tipica\", \"Media Tipica\", \"Media Tipica\", \"Media Tipica\", \"Media Tipica\", \"Media Tipica\", \"Media Tipica\", \"Media Tipica\", \"Media Tipica\", \"Media Tipica\", \"Media Tipica\", \"Media Tipica\", \"Media Tipica\", \"Media Tipica\", \"Media Tipica\", \"Media Tipica\", \"Media Tipica\", \"Media Tipica\", \"Media Tipica\", \"Media Tipica\", \"Media Tipica\", \"Media Tipica\", \"Media Tipica\", \"Media Tipica\", \"Media Tipica\", \"Media Tipica\", \"Media Tipica\", \"Media Tipica\", \"Media Tipica\", \"Media Tipica\", \"Media Tipica\", \"Media Tipica\", \"Media Tipica\", \"Media Tipica\", \"Media Tipica\", \"Media Tipica\", \"Media Tipica\", \"Media Tipica\", \"Media Tipica\", \"Media Tipica\", \"Alta\", \"Alta\"], \"x0\": \" \", \"xaxis\": \"x\", \"y\": [62, 56, 35, 44, 37, 37, 52, 51, 46, 43, 43, 50, 36, 29, 66, 45, 33, 43, 35, 50, 33, 41, 29, 34, 37, 34, 34, 49, 47, 47, 38, 53, 30, 42, 70, 29, 47, 35, 30, 32, 40, 30, 43, 29, 61, 33, 38, 32, 35, 25, 33, 35, 59, 37, 27, 43, 29, 38, 38, 35, 45, 36, 32, 41, 58, 53, 49, 51, 32, 39, 34, 61, 54, 37, 33, 28, 35, 43, 35, 32, 33, 37, 26, 36, 47, 34, 44, 37, 40, 56, 39, 47, 44, 52, 58, 55, 50, 42, 41, 58, 59, 38, 56, 34, 43, 43, 36, 35, 46, 53, 50, 44, 37, 34, 33, 49, 50, 40, 59, 55, 45, 58, 58, 33, 31, 57, 68, 73, 59, 72, 66, 58, 54, 72, 62, 36, 34, 38, 36, 36, 41, 35, 38, 33, 43, 54, 52, 37, 41, 49, 34, 34, 34, 34, 43, 41, 41, 71, 69, 56, 52, 54, 45, 52, 63, 56, 41, 56, 37, 40, 34, 36, 40, 39, 53, 33, 45, 67, 46, 52, 59, 54, 70, 48, 46, 52, 59, 50, 48, 58, 57, 35, 52, 57, 55, 57, 55, 50, 61, 42, 48, 48, 49, 50, 39, 36, 32, 33, 40, 45, 48, 39, 39, 32, 32, 38, 37, 33, 34, 37, 36, 31, 36, 32, 33, 31, 37, 30, 59, 54, 53, 72, 68, 47, 53, 47, 63, 53, 57, 48, 41, 58, 54, 43, 40, 39, 42, 44, 43, 35, 35, 43, 46, 55, 47, 39, 36, 43, 35, 43, 54, 39, 48, 52, 54, 45, 66], \"y0\": \" \", \"yaxis\": \"y\"}],                        {\"boxmode\": \"group\", \"legend\": {\"title\": {\"text\": \"Deserci\\u00f3n\"}, \"tracegroupgap\": 0}, \"margin\": {\"t\": 60}, \"template\": {\"data\": {\"bar\": [{\"error_x\": {\"color\": \"#2a3f5f\"}, \"error_y\": {\"color\": \"#2a3f5f\"}, \"marker\": {\"line\": {\"color\": \"#E5ECF6\", \"width\": 0.5}}, \"type\": \"bar\"}], \"barpolar\": [{\"marker\": {\"line\": {\"color\": \"#E5ECF6\", \"width\": 0.5}}, \"type\": \"barpolar\"}], \"carpet\": [{\"aaxis\": {\"endlinecolor\": \"#2a3f5f\", \"gridcolor\": \"white\", \"linecolor\": \"white\", \"minorgridcolor\": \"white\", \"startlinecolor\": \"#2a3f5f\"}, \"baxis\": {\"endlinecolor\": \"#2a3f5f\", \"gridcolor\": \"white\", \"linecolor\": \"white\", \"minorgridcolor\": \"white\", \"startlinecolor\": \"#2a3f5f\"}, \"type\": \"carpet\"}], \"choropleth\": [{\"colorbar\": {\"outlinewidth\": 0, \"ticks\": \"\"}, \"type\": \"choropleth\"}], \"contour\": [{\"colorbar\": {\"outlinewidth\": 0, \"ticks\": \"\"}, \"colorscale\": [[0.0, \"#0d0887\"], [0.1111111111111111, \"#46039f\"], [0.2222222222222222, \"#7201a8\"], [0.3333333333333333, \"#9c179e\"], [0.4444444444444444, \"#bd3786\"], [0.5555555555555556, \"#d8576b\"], [0.6666666666666666, \"#ed7953\"], [0.7777777777777778, \"#fb9f3a\"], [0.8888888888888888, \"#fdca26\"], [1.0, \"#f0f921\"]], \"type\": \"contour\"}], \"contourcarpet\": [{\"colorbar\": {\"outlinewidth\": 0, \"ticks\": \"\"}, \"type\": \"contourcarpet\"}], \"heatmap\": [{\"colorbar\": {\"outlinewidth\": 0, \"ticks\": \"\"}, \"colorscale\": [[0.0, \"#0d0887\"], [0.1111111111111111, \"#46039f\"], [0.2222222222222222, \"#7201a8\"], [0.3333333333333333, \"#9c179e\"], [0.4444444444444444, \"#bd3786\"], [0.5555555555555556, \"#d8576b\"], [0.6666666666666666, \"#ed7953\"], [0.7777777777777778, \"#fb9f3a\"], [0.8888888888888888, \"#fdca26\"], [1.0, \"#f0f921\"]], \"type\": \"heatmap\"}], \"heatmapgl\": [{\"colorbar\": {\"outlinewidth\": 0, \"ticks\": \"\"}, \"colorscale\": [[0.0, \"#0d0887\"], [0.1111111111111111, \"#46039f\"], [0.2222222222222222, \"#7201a8\"], [0.3333333333333333, \"#9c179e\"], [0.4444444444444444, \"#bd3786\"], [0.5555555555555556, \"#d8576b\"], [0.6666666666666666, \"#ed7953\"], [0.7777777777777778, \"#fb9f3a\"], [0.8888888888888888, \"#fdca26\"], [1.0, \"#f0f921\"]], \"type\": \"heatmapgl\"}], \"histogram\": [{\"marker\": {\"colorbar\": {\"outlinewidth\": 0, \"ticks\": \"\"}}, \"type\": \"histogram\"}], \"histogram2d\": [{\"colorbar\": {\"outlinewidth\": 0, \"ticks\": \"\"}, \"colorscale\": [[0.0, \"#0d0887\"], [0.1111111111111111, \"#46039f\"], [0.2222222222222222, \"#7201a8\"], [0.3333333333333333, \"#9c179e\"], [0.4444444444444444, \"#bd3786\"], [0.5555555555555556, \"#d8576b\"], [0.6666666666666666, \"#ed7953\"], [0.7777777777777778, \"#fb9f3a\"], [0.8888888888888888, \"#fdca26\"], [1.0, \"#f0f921\"]], \"type\": \"histogram2d\"}], \"histogram2dcontour\": [{\"colorbar\": {\"outlinewidth\": 0, \"ticks\": \"\"}, \"colorscale\": [[0.0, \"#0d0887\"], [0.1111111111111111, \"#46039f\"], [0.2222222222222222, \"#7201a8\"], [0.3333333333333333, \"#9c179e\"], [0.4444444444444444, \"#bd3786\"], [0.5555555555555556, \"#d8576b\"], [0.6666666666666666, \"#ed7953\"], [0.7777777777777778, \"#fb9f3a\"], [0.8888888888888888, \"#fdca26\"], [1.0, \"#f0f921\"]], \"type\": \"histogram2dcontour\"}], \"mesh3d\": [{\"colorbar\": {\"outlinewidth\": 0, \"ticks\": \"\"}, \"type\": \"mesh3d\"}], \"parcoords\": [{\"line\": {\"colorbar\": {\"outlinewidth\": 0, \"ticks\": \"\"}}, \"type\": \"parcoords\"}], \"pie\": [{\"automargin\": true, \"type\": \"pie\"}], \"scatter\": [{\"marker\": {\"colorbar\": {\"outlinewidth\": 0, \"ticks\": \"\"}}, \"type\": \"scatter\"}], \"scatter3d\": [{\"line\": {\"colorbar\": {\"outlinewidth\": 0, \"ticks\": \"\"}}, \"marker\": {\"colorbar\": {\"outlinewidth\": 0, \"ticks\": \"\"}}, \"type\": \"scatter3d\"}], \"scattercarpet\": [{\"marker\": {\"colorbar\": {\"outlinewidth\": 0, \"ticks\": \"\"}}, \"type\": \"scattercarpet\"}], \"scattergeo\": [{\"marker\": {\"colorbar\": {\"outlinewidth\": 0, \"ticks\": \"\"}}, \"type\": \"scattergeo\"}], \"scattergl\": [{\"marker\": {\"colorbar\": {\"outlinewidth\": 0, \"ticks\": \"\"}}, \"type\": \"scattergl\"}], \"scattermapbox\": [{\"marker\": {\"colorbar\": {\"outlinewidth\": 0, \"ticks\": \"\"}}, \"type\": \"scattermapbox\"}], \"scatterpolar\": [{\"marker\": {\"colorbar\": {\"outlinewidth\": 0, \"ticks\": \"\"}}, \"type\": \"scatterpolar\"}], \"scatterpolargl\": [{\"marker\": {\"colorbar\": {\"outlinewidth\": 0, \"ticks\": \"\"}}, \"type\": \"scatterpolargl\"}], \"scatterternary\": [{\"marker\": {\"colorbar\": {\"outlinewidth\": 0, \"ticks\": \"\"}}, \"type\": \"scatterternary\"}], \"surface\": [{\"colorbar\": {\"outlinewidth\": 0, \"ticks\": \"\"}, \"colorscale\": [[0.0, \"#0d0887\"], [0.1111111111111111, \"#46039f\"], [0.2222222222222222, \"#7201a8\"], [0.3333333333333333, \"#9c179e\"], [0.4444444444444444, \"#bd3786\"], [0.5555555555555556, \"#d8576b\"], [0.6666666666666666, \"#ed7953\"], [0.7777777777777778, \"#fb9f3a\"], [0.8888888888888888, \"#fdca26\"], [1.0, \"#f0f921\"]], \"type\": \"surface\"}], \"table\": [{\"cells\": {\"fill\": {\"color\": \"#EBF0F8\"}, \"line\": {\"color\": \"white\"}}, \"header\": {\"fill\": {\"color\": \"#C8D4E3\"}, \"line\": {\"color\": \"white\"}}, \"type\": \"table\"}]}, \"layout\": {\"annotationdefaults\": {\"arrowcolor\": \"#2a3f5f\", \"arrowhead\": 0, \"arrowwidth\": 1}, \"autotypenumbers\": \"strict\", \"coloraxis\": {\"colorbar\": {\"outlinewidth\": 0, \"ticks\": \"\"}}, \"colorscale\": {\"diverging\": [[0, \"#8e0152\"], [0.1, \"#c51b7d\"], [0.2, \"#de77ae\"], [0.3, \"#f1b6da\"], [0.4, \"#fde0ef\"], [0.5, \"#f7f7f7\"], [0.6, \"#e6f5d0\"], [0.7, \"#b8e186\"], [0.8, \"#7fbc41\"], [0.9, \"#4d9221\"], [1, \"#276419\"]], \"sequential\": [[0.0, \"#0d0887\"], [0.1111111111111111, \"#46039f\"], [0.2222222222222222, \"#7201a8\"], [0.3333333333333333, \"#9c179e\"], [0.4444444444444444, \"#bd3786\"], [0.5555555555555556, \"#d8576b\"], [0.6666666666666666, \"#ed7953\"], [0.7777777777777778, \"#fb9f3a\"], [0.8888888888888888, \"#fdca26\"], [1.0, \"#f0f921\"]], \"sequentialminus\": [[0.0, \"#0d0887\"], [0.1111111111111111, \"#46039f\"], [0.2222222222222222, \"#7201a8\"], [0.3333333333333333, \"#9c179e\"], [0.4444444444444444, \"#bd3786\"], [0.5555555555555556, \"#d8576b\"], [0.6666666666666666, \"#ed7953\"], [0.7777777777777778, \"#fb9f3a\"], [0.8888888888888888, \"#fdca26\"], [1.0, \"#f0f921\"]]}, \"colorway\": [\"#636efa\", \"#EF553B\", \"#00cc96\", \"#ab63fa\", \"#FFA15A\", \"#19d3f3\", \"#FF6692\", \"#B6E880\", \"#FF97FF\", \"#FECB52\"], \"font\": {\"color\": \"#2a3f5f\"}, \"geo\": {\"bgcolor\": \"white\", \"lakecolor\": \"white\", \"landcolor\": \"#E5ECF6\", \"showlakes\": true, \"showland\": true, \"subunitcolor\": \"white\"}, \"hoverlabel\": {\"align\": \"left\"}, \"hovermode\": \"closest\", \"mapbox\": {\"style\": \"light\"}, \"paper_bgcolor\": \"white\", \"plot_bgcolor\": \"#E5ECF6\", \"polar\": {\"angularaxis\": {\"gridcolor\": \"white\", \"linecolor\": \"white\", \"ticks\": \"\"}, \"bgcolor\": \"#E5ECF6\", \"radialaxis\": {\"gridcolor\": \"white\", \"linecolor\": \"white\", \"ticks\": \"\"}}, \"scene\": {\"xaxis\": {\"backgroundcolor\": \"#E5ECF6\", \"gridcolor\": \"white\", \"gridwidth\": 2, \"linecolor\": \"white\", \"showbackground\": true, \"ticks\": \"\", \"zerolinecolor\": \"white\"}, \"yaxis\": {\"backgroundcolor\": \"#E5ECF6\", \"gridcolor\": \"white\", \"gridwidth\": 2, \"linecolor\": \"white\", \"showbackground\": true, \"ticks\": \"\", \"zerolinecolor\": \"white\"}, \"zaxis\": {\"backgroundcolor\": \"#E5ECF6\", \"gridcolor\": \"white\", \"gridwidth\": 2, \"linecolor\": \"white\", \"showbackground\": true, \"ticks\": \"\", \"zerolinecolor\": \"white\"}}, \"shapedefaults\": {\"line\": {\"color\": \"#2a3f5f\"}}, \"ternary\": {\"aaxis\": {\"gridcolor\": \"white\", \"linecolor\": \"white\", \"ticks\": \"\"}, \"baxis\": {\"gridcolor\": \"white\", \"linecolor\": \"white\", \"ticks\": \"\"}, \"bgcolor\": \"#E5ECF6\", \"caxis\": {\"gridcolor\": \"white\", \"linecolor\": \"white\", \"ticks\": \"\"}}, \"title\": {\"x\": 0.05}, \"xaxis\": {\"automargin\": true, \"gridcolor\": \"white\", \"linecolor\": \"white\", \"ticks\": \"\", \"title\": {\"standoff\": 15}, \"zerolinecolor\": \"white\", \"zerolinewidth\": 2}, \"yaxis\": {\"automargin\": true, \"gridcolor\": \"white\", \"linecolor\": \"white\", \"ticks\": \"\", \"title\": {\"standoff\": 15}, \"zerolinecolor\": \"white\", \"zerolinewidth\": 2}}}, \"xaxis\": {\"anchor\": \"y\", \"domain\": [0.0, 1.0], \"title\": {\"text\": \"Clase Social\"}}, \"yaxis\": {\"anchor\": \"x\", \"domain\": [0.0, 1.0], \"title\": {\"text\": \"Edad\"}}},                        {\"responsive\": true}                    ).then(function(){\n",
       "                            \n",
       "var gd = document.getElementById('503f709a-b51e-49de-877a-45414b3051b9');\n",
       "var x = new MutationObserver(function (mutations, observer) {{\n",
       "        var display = window.getComputedStyle(gd).display;\n",
       "        if (!display || display === 'none') {{\n",
       "            console.log([gd, 'removed!']);\n",
       "            Plotly.purge(gd);\n",
       "            observer.disconnect();\n",
       "        }}\n",
       "}});\n",
       "\n",
       "// Listen for the removal of the full notebook cells\n",
       "var notebookContainer = gd.closest('#notebook-container');\n",
       "if (notebookContainer) {{\n",
       "    x.observe(notebookContainer, {childList: true});\n",
       "}}\n",
       "\n",
       "// Listen for the clearing of the current output cell\n",
       "var outputEl = gd.closest('.output');\n",
       "if (outputEl) {{\n",
       "    x.observe(outputEl, {childList: true});\n",
       "}}\n",
       "\n",
       "                        })                };                });            </script>        </div>"
      ]
     },
     "metadata": {},
     "output_type": "display_data"
    }
   ],
   "source": [
    "import plotly.express as px\n",
    "\n",
    "fig = px.box(df, x=\"Clase Social\", y=\"Edad\", color=\"Deserción\")\n",
    "fig.update_traces(quartilemethod=\"exclusive\") # or \"inclusive\", or \"linear\" by default\n",
    "fig.show()"
   ]
  },
  {
   "cell_type": "code",
   "execution_count": 57,
   "metadata": {},
   "outputs": [
    {
     "data": {
      "application/vnd.plotly.v1+json": {
       "config": {
        "plotlyServerURL": "https://plot.ly"
       },
       "data": [
        {
         "alignmentgroup": "True",
         "hovertemplate": "Deserción=1<br>Nivel educativo=%{x}<br>Edad=%{y}<extra></extra>",
         "legendgroup": "1",
         "marker": {
          "color": "#636efa"
         },
         "name": "1",
         "notched": false,
         "offsetgroup": "1",
         "orientation": "v",
         "quartilemethod": "exclusive",
         "showlegend": true,
         "type": "box",
         "x": [
          "Primario",
          "Primario",
          "Primario",
          "Primario",
          "Primario",
          "Primario",
          "Primario",
          "Primario",
          "Primario",
          "Primario",
          "Primario",
          "Primario",
          "Primario",
          "Primario",
          "Primario",
          "Primario",
          "Primario",
          "Primario",
          "Primario",
          "Primario",
          "Primario",
          "Primario",
          "Primario",
          "Primario",
          "Primario",
          "Primario",
          "Primario",
          "Primario",
          "Primario",
          "Primario",
          "Primario",
          "Primario",
          "Primario",
          "Primario",
          "Primario",
          "Primario",
          "Primario",
          "Primario",
          "Primario",
          "Primario",
          "Primario",
          "Primario",
          "Primario",
          "Primario",
          "Primario",
          "Primario",
          "Primario",
          "Primario",
          "Primario",
          "Primario",
          "Primario",
          "Primario",
          "Primario",
          "Primario",
          "Primario",
          "Primario",
          "Primario",
          "Primario",
          "Primario",
          "Primario",
          "Primario"
         ],
         "x0": " ",
         "xaxis": "x",
         "y": [
          58,
          60,
          65,
          63,
          61,
          50,
          42,
          37,
          47,
          37,
          52,
          70,
          61,
          52,
          66,
          63,
          61,
          53,
          47,
          62,
          34,
          38,
          48,
          44,
          37,
          64,
          56,
          34,
          53,
          36,
          68,
          53,
          42,
          52,
          60,
          32,
          42,
          38,
          56,
          33,
          58,
          51,
          35,
          59,
          58,
          47,
          36,
          49,
          58,
          66,
          36,
          44,
          70,
          39,
          57,
          51,
          53,
          35,
          36,
          41,
          38
         ],
         "y0": " ",
         "yaxis": "y"
        },
        {
         "alignmentgroup": "True",
         "hovertemplate": "Deserción=0<br>Nivel educativo=%{x}<br>Edad=%{y}<extra></extra>",
         "legendgroup": "0",
         "marker": {
          "color": "#EF553B"
         },
         "name": "0",
         "notched": false,
         "offsetgroup": "0",
         "orientation": "v",
         "quartilemethod": "exclusive",
         "showlegend": true,
         "type": "box",
         "x": [
          "Primario",
          "Primario",
          "Primario",
          "Primario",
          "Primario",
          "Primario",
          "Primario",
          "Primario",
          "Primario",
          "Primario",
          "Primario",
          "Primario",
          "Primario",
          "Primario",
          "Primario",
          "Primario",
          "Primario",
          "Primario",
          "Primario",
          "Primario",
          "Primario",
          "Primario",
          "Primario",
          "Primario",
          "Primario",
          "Primario",
          "Primario",
          "Primario",
          "Primario",
          "Primario",
          "Primario",
          "Primario",
          "Primario",
          "Primario",
          "Primario",
          "Primario",
          "Primario",
          "Primario",
          "Primario",
          "Primario",
          "Primario",
          "Primario",
          "Primario",
          "Secundario",
          "Secundario",
          "Secundario",
          "Secundario",
          "Secundario",
          "Secundario",
          "Secundario",
          "Secundario",
          "Secundario",
          "Secundario",
          "Secundario",
          "Secundario",
          "Secundario",
          "Secundario",
          "Secundario",
          "Secundario",
          "Secundario",
          "Secundario",
          "Secundario",
          "Secundario",
          "Secundario",
          "Secundario",
          "Secundario",
          "Secundario",
          "Secundario",
          "Secundario",
          "Secundario",
          "Secundario",
          "Secundario",
          "Secundario",
          "Secundario",
          "Secundario",
          "Secundario",
          "Secundario",
          "Secundario",
          "Secundario",
          "Secundario",
          "Secundario",
          "Secundario",
          "Secundario",
          "Secundario",
          "Secundario",
          "Secundario",
          "Secundario",
          "Secundario",
          "Secundario",
          "Secundario",
          "Secundario",
          "Secundario",
          "Secundario",
          "Secundario",
          "Secundario",
          "Secundario",
          "Secundario",
          "Secundario",
          "Secundario",
          "Secundario",
          "Secundario",
          "Secundario",
          "Secundario",
          "Secundario",
          "Secundario",
          "Secundario",
          "Secundario",
          "Secundario",
          "Secundario",
          "Secundario",
          "Secundario",
          "Secundario",
          "Secundario",
          "Secundario",
          "Secundario",
          "Secundario",
          "Secundario",
          "Secundario",
          "Secundario",
          "Secundario",
          "Secundario",
          "Secundario",
          "Secundario",
          "Secundario",
          "Secundario",
          "Secundario",
          "Secundario",
          "Secundario",
          "Secundario",
          "Secundario",
          "Secundario",
          "Secundario",
          "Secundario",
          "Secundario",
          "Secundario",
          "Primario",
          "Primario",
          "Primario",
          "Primario",
          "Primario",
          "Primario",
          "Primario",
          "Primario",
          "Primario",
          "Primario",
          "Primario",
          "Primario",
          "Primario",
          "Primario",
          "Primario",
          "Primario",
          "Primario",
          "Primario",
          "Primario",
          "Primario",
          "Primario",
          "Primario",
          "Primario",
          "Primario",
          "Primario",
          "Primario",
          "Primario",
          "Primario",
          "Primario",
          "Primario",
          "Primario",
          "Primario",
          "Primario",
          "Primario",
          "Primario",
          "Primario",
          "Primario",
          "Primario",
          "Primario",
          "Primario",
          "Primario",
          "Primario",
          "Primario",
          "Primario",
          "Primario",
          "Primario",
          "Primario",
          "Primario",
          "Primario",
          "Primario",
          "Primario",
          "Primario",
          "Primario",
          "Primario",
          "Primario",
          "Primario",
          "Secundario",
          "Secundario",
          "Secundario",
          "Secundario",
          "Secundario",
          "Secundario",
          "Secundario",
          "Secundario",
          "Secundario",
          "Secundario",
          "Secundario",
          "Secundario",
          "Secundario",
          "Secundario",
          "Secundario",
          "Secundario",
          "Secundario",
          "Secundario",
          "Secundario",
          "Secundario",
          "Secundario",
          "Secundario",
          "Secundario",
          "Secundario",
          "Secundario",
          "Secundario",
          "Secundario",
          "Secundario",
          "Secundario",
          "Secundario",
          "Secundario",
          "Secundario",
          "Secundario",
          "Secundario",
          "Secundario",
          "Secundario",
          "Secundario",
          "Secundario",
          "Secundario",
          "Secundario",
          "Secundario",
          "Secundario",
          "Secundario",
          "Secundario",
          "Secundario",
          "Secundario",
          "Secundario",
          "Secundario",
          "Secundario",
          "Secundario",
          "Secundario",
          "Secundario",
          "Secundario",
          "Secundario",
          "Secundario",
          "Secundario",
          "Secundario",
          "Secundario",
          "Secundario",
          "Secundario",
          "Secundario",
          "Secundario",
          "Terciario",
          "Terciario",
          "Terciario",
          "Terciario",
          "Terciario",
          "Terciario",
          "Terciario",
          "Terciario",
          "Terciario",
          "Terciario",
          "Terciario",
          "Terciario",
          "Terciario",
          "Terciario"
         ],
         "x0": " ",
         "xaxis": "x",
         "y": [
          62,
          56,
          35,
          44,
          37,
          37,
          52,
          51,
          46,
          43,
          43,
          50,
          36,
          29,
          66,
          45,
          33,
          43,
          35,
          50,
          33,
          41,
          29,
          34,
          37,
          34,
          34,
          49,
          47,
          47,
          38,
          53,
          30,
          42,
          70,
          29,
          47,
          35,
          30,
          32,
          40,
          30,
          43,
          29,
          61,
          33,
          38,
          32,
          35,
          25,
          33,
          35,
          59,
          37,
          27,
          43,
          29,
          38,
          38,
          35,
          45,
          36,
          32,
          41,
          58,
          53,
          49,
          51,
          32,
          39,
          34,
          61,
          54,
          37,
          33,
          28,
          35,
          43,
          35,
          32,
          33,
          37,
          26,
          36,
          47,
          34,
          44,
          37,
          40,
          56,
          39,
          47,
          44,
          52,
          58,
          55,
          50,
          42,
          41,
          58,
          59,
          38,
          56,
          34,
          43,
          43,
          36,
          35,
          46,
          53,
          50,
          44,
          37,
          34,
          33,
          49,
          50,
          40,
          59,
          55,
          45,
          58,
          58,
          33,
          31,
          57,
          68,
          73,
          59,
          72,
          66,
          58,
          54,
          72,
          62,
          36,
          34,
          38,
          36,
          36,
          41,
          35,
          38,
          33,
          43,
          54,
          52,
          37,
          41,
          49,
          34,
          34,
          34,
          34,
          43,
          41,
          41,
          71,
          69,
          56,
          52,
          54,
          45,
          52,
          63,
          56,
          41,
          56,
          37,
          40,
          34,
          36,
          40,
          39,
          53,
          33,
          45,
          67,
          46,
          52,
          59,
          54,
          70,
          48,
          46,
          52,
          59,
          50,
          48,
          58,
          57,
          35,
          52,
          57,
          55,
          57,
          55,
          50,
          61,
          42,
          48,
          48,
          49,
          50,
          39,
          36,
          32,
          33,
          40,
          45,
          48,
          39,
          39,
          32,
          32,
          38,
          37,
          33,
          34,
          37,
          36,
          31,
          36,
          32,
          33,
          31,
          37,
          30,
          59,
          54,
          53,
          72,
          68,
          47,
          53,
          47,
          63,
          53,
          57,
          48,
          41,
          58,
          54,
          43,
          40,
          39,
          42,
          44,
          43,
          35,
          35,
          43,
          46,
          55,
          47,
          39,
          36,
          43,
          35,
          43,
          54,
          39,
          48,
          52,
          54,
          45,
          66
         ],
         "y0": " ",
         "yaxis": "y"
        }
       ],
       "layout": {
        "autosize": true,
        "boxmode": "group",
        "legend": {
         "title": {
          "text": "Deserción"
         },
         "tracegroupgap": 0
        },
        "margin": {
         "t": 60
        },
        "template": {
         "data": {
          "bar": [
           {
            "error_x": {
             "color": "#2a3f5f"
            },
            "error_y": {
             "color": "#2a3f5f"
            },
            "marker": {
             "line": {
              "color": "#E5ECF6",
              "width": 0.5
             }
            },
            "type": "bar"
           }
          ],
          "barpolar": [
           {
            "marker": {
             "line": {
              "color": "#E5ECF6",
              "width": 0.5
             }
            },
            "type": "barpolar"
           }
          ],
          "carpet": [
           {
            "aaxis": {
             "endlinecolor": "#2a3f5f",
             "gridcolor": "white",
             "linecolor": "white",
             "minorgridcolor": "white",
             "startlinecolor": "#2a3f5f"
            },
            "baxis": {
             "endlinecolor": "#2a3f5f",
             "gridcolor": "white",
             "linecolor": "white",
             "minorgridcolor": "white",
             "startlinecolor": "#2a3f5f"
            },
            "type": "carpet"
           }
          ],
          "choropleth": [
           {
            "colorbar": {
             "outlinewidth": 0,
             "ticks": ""
            },
            "type": "choropleth"
           }
          ],
          "contour": [
           {
            "colorbar": {
             "outlinewidth": 0,
             "ticks": ""
            },
            "colorscale": [
             [
              0,
              "#0d0887"
             ],
             [
              0.1111111111111111,
              "#46039f"
             ],
             [
              0.2222222222222222,
              "#7201a8"
             ],
             [
              0.3333333333333333,
              "#9c179e"
             ],
             [
              0.4444444444444444,
              "#bd3786"
             ],
             [
              0.5555555555555556,
              "#d8576b"
             ],
             [
              0.6666666666666666,
              "#ed7953"
             ],
             [
              0.7777777777777778,
              "#fb9f3a"
             ],
             [
              0.8888888888888888,
              "#fdca26"
             ],
             [
              1,
              "#f0f921"
             ]
            ],
            "type": "contour"
           }
          ],
          "contourcarpet": [
           {
            "colorbar": {
             "outlinewidth": 0,
             "ticks": ""
            },
            "type": "contourcarpet"
           }
          ],
          "heatmap": [
           {
            "colorbar": {
             "outlinewidth": 0,
             "ticks": ""
            },
            "colorscale": [
             [
              0,
              "#0d0887"
             ],
             [
              0.1111111111111111,
              "#46039f"
             ],
             [
              0.2222222222222222,
              "#7201a8"
             ],
             [
              0.3333333333333333,
              "#9c179e"
             ],
             [
              0.4444444444444444,
              "#bd3786"
             ],
             [
              0.5555555555555556,
              "#d8576b"
             ],
             [
              0.6666666666666666,
              "#ed7953"
             ],
             [
              0.7777777777777778,
              "#fb9f3a"
             ],
             [
              0.8888888888888888,
              "#fdca26"
             ],
             [
              1,
              "#f0f921"
             ]
            ],
            "type": "heatmap"
           }
          ],
          "heatmapgl": [
           {
            "colorbar": {
             "outlinewidth": 0,
             "ticks": ""
            },
            "colorscale": [
             [
              0,
              "#0d0887"
             ],
             [
              0.1111111111111111,
              "#46039f"
             ],
             [
              0.2222222222222222,
              "#7201a8"
             ],
             [
              0.3333333333333333,
              "#9c179e"
             ],
             [
              0.4444444444444444,
              "#bd3786"
             ],
             [
              0.5555555555555556,
              "#d8576b"
             ],
             [
              0.6666666666666666,
              "#ed7953"
             ],
             [
              0.7777777777777778,
              "#fb9f3a"
             ],
             [
              0.8888888888888888,
              "#fdca26"
             ],
             [
              1,
              "#f0f921"
             ]
            ],
            "type": "heatmapgl"
           }
          ],
          "histogram": [
           {
            "marker": {
             "colorbar": {
              "outlinewidth": 0,
              "ticks": ""
             }
            },
            "type": "histogram"
           }
          ],
          "histogram2d": [
           {
            "colorbar": {
             "outlinewidth": 0,
             "ticks": ""
            },
            "colorscale": [
             [
              0,
              "#0d0887"
             ],
             [
              0.1111111111111111,
              "#46039f"
             ],
             [
              0.2222222222222222,
              "#7201a8"
             ],
             [
              0.3333333333333333,
              "#9c179e"
             ],
             [
              0.4444444444444444,
              "#bd3786"
             ],
             [
              0.5555555555555556,
              "#d8576b"
             ],
             [
              0.6666666666666666,
              "#ed7953"
             ],
             [
              0.7777777777777778,
              "#fb9f3a"
             ],
             [
              0.8888888888888888,
              "#fdca26"
             ],
             [
              1,
              "#f0f921"
             ]
            ],
            "type": "histogram2d"
           }
          ],
          "histogram2dcontour": [
           {
            "colorbar": {
             "outlinewidth": 0,
             "ticks": ""
            },
            "colorscale": [
             [
              0,
              "#0d0887"
             ],
             [
              0.1111111111111111,
              "#46039f"
             ],
             [
              0.2222222222222222,
              "#7201a8"
             ],
             [
              0.3333333333333333,
              "#9c179e"
             ],
             [
              0.4444444444444444,
              "#bd3786"
             ],
             [
              0.5555555555555556,
              "#d8576b"
             ],
             [
              0.6666666666666666,
              "#ed7953"
             ],
             [
              0.7777777777777778,
              "#fb9f3a"
             ],
             [
              0.8888888888888888,
              "#fdca26"
             ],
             [
              1,
              "#f0f921"
             ]
            ],
            "type": "histogram2dcontour"
           }
          ],
          "mesh3d": [
           {
            "colorbar": {
             "outlinewidth": 0,
             "ticks": ""
            },
            "type": "mesh3d"
           }
          ],
          "parcoords": [
           {
            "line": {
             "colorbar": {
              "outlinewidth": 0,
              "ticks": ""
             }
            },
            "type": "parcoords"
           }
          ],
          "pie": [
           {
            "automargin": true,
            "type": "pie"
           }
          ],
          "scatter": [
           {
            "marker": {
             "colorbar": {
              "outlinewidth": 0,
              "ticks": ""
             }
            },
            "type": "scatter"
           }
          ],
          "scatter3d": [
           {
            "line": {
             "colorbar": {
              "outlinewidth": 0,
              "ticks": ""
             }
            },
            "marker": {
             "colorbar": {
              "outlinewidth": 0,
              "ticks": ""
             }
            },
            "type": "scatter3d"
           }
          ],
          "scattercarpet": [
           {
            "marker": {
             "colorbar": {
              "outlinewidth": 0,
              "ticks": ""
             }
            },
            "type": "scattercarpet"
           }
          ],
          "scattergeo": [
           {
            "marker": {
             "colorbar": {
              "outlinewidth": 0,
              "ticks": ""
             }
            },
            "type": "scattergeo"
           }
          ],
          "scattergl": [
           {
            "marker": {
             "colorbar": {
              "outlinewidth": 0,
              "ticks": ""
             }
            },
            "type": "scattergl"
           }
          ],
          "scattermapbox": [
           {
            "marker": {
             "colorbar": {
              "outlinewidth": 0,
              "ticks": ""
             }
            },
            "type": "scattermapbox"
           }
          ],
          "scatterpolar": [
           {
            "marker": {
             "colorbar": {
              "outlinewidth": 0,
              "ticks": ""
             }
            },
            "type": "scatterpolar"
           }
          ],
          "scatterpolargl": [
           {
            "marker": {
             "colorbar": {
              "outlinewidth": 0,
              "ticks": ""
             }
            },
            "type": "scatterpolargl"
           }
          ],
          "scatterternary": [
           {
            "marker": {
             "colorbar": {
              "outlinewidth": 0,
              "ticks": ""
             }
            },
            "type": "scatterternary"
           }
          ],
          "surface": [
           {
            "colorbar": {
             "outlinewidth": 0,
             "ticks": ""
            },
            "colorscale": [
             [
              0,
              "#0d0887"
             ],
             [
              0.1111111111111111,
              "#46039f"
             ],
             [
              0.2222222222222222,
              "#7201a8"
             ],
             [
              0.3333333333333333,
              "#9c179e"
             ],
             [
              0.4444444444444444,
              "#bd3786"
             ],
             [
              0.5555555555555556,
              "#d8576b"
             ],
             [
              0.6666666666666666,
              "#ed7953"
             ],
             [
              0.7777777777777778,
              "#fb9f3a"
             ],
             [
              0.8888888888888888,
              "#fdca26"
             ],
             [
              1,
              "#f0f921"
             ]
            ],
            "type": "surface"
           }
          ],
          "table": [
           {
            "cells": {
             "fill": {
              "color": "#EBF0F8"
             },
             "line": {
              "color": "white"
             }
            },
            "header": {
             "fill": {
              "color": "#C8D4E3"
             },
             "line": {
              "color": "white"
             }
            },
            "type": "table"
           }
          ]
         },
         "layout": {
          "annotationdefaults": {
           "arrowcolor": "#2a3f5f",
           "arrowhead": 0,
           "arrowwidth": 1
          },
          "autotypenumbers": "strict",
          "coloraxis": {
           "colorbar": {
            "outlinewidth": 0,
            "ticks": ""
           }
          },
          "colorscale": {
           "diverging": [
            [
             0,
             "#8e0152"
            ],
            [
             0.1,
             "#c51b7d"
            ],
            [
             0.2,
             "#de77ae"
            ],
            [
             0.3,
             "#f1b6da"
            ],
            [
             0.4,
             "#fde0ef"
            ],
            [
             0.5,
             "#f7f7f7"
            ],
            [
             0.6,
             "#e6f5d0"
            ],
            [
             0.7,
             "#b8e186"
            ],
            [
             0.8,
             "#7fbc41"
            ],
            [
             0.9,
             "#4d9221"
            ],
            [
             1,
             "#276419"
            ]
           ],
           "sequential": [
            [
             0,
             "#0d0887"
            ],
            [
             0.1111111111111111,
             "#46039f"
            ],
            [
             0.2222222222222222,
             "#7201a8"
            ],
            [
             0.3333333333333333,
             "#9c179e"
            ],
            [
             0.4444444444444444,
             "#bd3786"
            ],
            [
             0.5555555555555556,
             "#d8576b"
            ],
            [
             0.6666666666666666,
             "#ed7953"
            ],
            [
             0.7777777777777778,
             "#fb9f3a"
            ],
            [
             0.8888888888888888,
             "#fdca26"
            ],
            [
             1,
             "#f0f921"
            ]
           ],
           "sequentialminus": [
            [
             0,
             "#0d0887"
            ],
            [
             0.1111111111111111,
             "#46039f"
            ],
            [
             0.2222222222222222,
             "#7201a8"
            ],
            [
             0.3333333333333333,
             "#9c179e"
            ],
            [
             0.4444444444444444,
             "#bd3786"
            ],
            [
             0.5555555555555556,
             "#d8576b"
            ],
            [
             0.6666666666666666,
             "#ed7953"
            ],
            [
             0.7777777777777778,
             "#fb9f3a"
            ],
            [
             0.8888888888888888,
             "#fdca26"
            ],
            [
             1,
             "#f0f921"
            ]
           ]
          },
          "colorway": [
           "#636efa",
           "#EF553B",
           "#00cc96",
           "#ab63fa",
           "#FFA15A",
           "#19d3f3",
           "#FF6692",
           "#B6E880",
           "#FF97FF",
           "#FECB52"
          ],
          "font": {
           "color": "#2a3f5f"
          },
          "geo": {
           "bgcolor": "white",
           "lakecolor": "white",
           "landcolor": "#E5ECF6",
           "showlakes": true,
           "showland": true,
           "subunitcolor": "white"
          },
          "hoverlabel": {
           "align": "left"
          },
          "hovermode": "closest",
          "mapbox": {
           "style": "light"
          },
          "paper_bgcolor": "white",
          "plot_bgcolor": "#E5ECF6",
          "polar": {
           "angularaxis": {
            "gridcolor": "white",
            "linecolor": "white",
            "ticks": ""
           },
           "bgcolor": "#E5ECF6",
           "radialaxis": {
            "gridcolor": "white",
            "linecolor": "white",
            "ticks": ""
           }
          },
          "scene": {
           "xaxis": {
            "backgroundcolor": "#E5ECF6",
            "gridcolor": "white",
            "gridwidth": 2,
            "linecolor": "white",
            "showbackground": true,
            "ticks": "",
            "zerolinecolor": "white"
           },
           "yaxis": {
            "backgroundcolor": "#E5ECF6",
            "gridcolor": "white",
            "gridwidth": 2,
            "linecolor": "white",
            "showbackground": true,
            "ticks": "",
            "zerolinecolor": "white"
           },
           "zaxis": {
            "backgroundcolor": "#E5ECF6",
            "gridcolor": "white",
            "gridwidth": 2,
            "linecolor": "white",
            "showbackground": true,
            "ticks": "",
            "zerolinecolor": "white"
           }
          },
          "shapedefaults": {
           "line": {
            "color": "#2a3f5f"
           }
          },
          "ternary": {
           "aaxis": {
            "gridcolor": "white",
            "linecolor": "white",
            "ticks": ""
           },
           "baxis": {
            "gridcolor": "white",
            "linecolor": "white",
            "ticks": ""
           },
           "bgcolor": "#E5ECF6",
           "caxis": {
            "gridcolor": "white",
            "linecolor": "white",
            "ticks": ""
           }
          },
          "title": {
           "x": 0.05
          },
          "xaxis": {
           "automargin": true,
           "gridcolor": "white",
           "linecolor": "white",
           "ticks": "",
           "title": {
            "standoff": 15
           },
           "zerolinecolor": "white",
           "zerolinewidth": 2
          },
          "yaxis": {
           "automargin": true,
           "gridcolor": "white",
           "linecolor": "white",
           "ticks": "",
           "title": {
            "standoff": 15
           },
           "zerolinecolor": "white",
           "zerolinewidth": 2
          }
         }
        },
        "xaxis": {
         "anchor": "y",
         "autorange": true,
         "domain": [
          0,
          1
         ],
         "range": [
          -0.5,
          2.5
         ],
         "title": {
          "text": "Nivel educativo"
         },
         "type": "category"
        },
        "yaxis": {
         "anchor": "x",
         "autorange": true,
         "domain": [
          0,
          1
         ],
         "range": [
          22.333333333333332,
          75.66666666666667
         ],
         "title": {
          "text": "Edad"
         },
         "type": "linear"
        }
       }
      },
      "image/png": "[encoded data removed]",
      "text/html": [
       "<div>                            <div id=\"57c4a407-c17c-43d2-b261-c465848bb50a\" class=\"plotly-graph-div\" style=\"height:525px; width:100%;\"></div>            <script type=\"text/javascript\">                require([\"plotly\"], function(Plotly) {                    window.PLOTLYENV=window.PLOTLYENV || {};                                    if (document.getElementById(\"57c4a407-c17c-43d2-b261-c465848bb50a\")) {                    Plotly.newPlot(                        \"57c4a407-c17c-43d2-b261-c465848bb50a\",                        [{\"alignmentgroup\": \"True\", \"hovertemplate\": \"Deserci\\u00f3n=1<br>Nivel educativo=%{x}<br>Edad=%{y}<extra></extra>\", \"legendgroup\": \"1\", \"marker\": {\"color\": \"#636efa\"}, \"name\": \"1\", \"notched\": false, \"offsetgroup\": \"1\", \"orientation\": \"v\", \"quartilemethod\": \"exclusive\", \"showlegend\": true, \"type\": \"box\", \"x\": [\"Primario\", \"Primario\", \"Primario\", \"Primario\", \"Primario\", \"Primario\", \"Primario\", \"Primario\", \"Primario\", \"Primario\", \"Primario\", \"Primario\", \"Primario\", \"Primario\", \"Primario\", \"Primario\", \"Primario\", \"Primario\", \"Primario\", \"Primario\", \"Primario\", \"Primario\", \"Primario\", \"Primario\", \"Primario\", \"Primario\", \"Primario\", \"Primario\", \"Primario\", \"Primario\", \"Primario\", \"Primario\", \"Primario\", \"Primario\", \"Primario\", \"Primario\", \"Primario\", \"Primario\", \"Primario\", \"Primario\", \"Primario\", \"Primario\", \"Primario\", \"Primario\", \"Primario\", \"Primario\", \"Primario\", \"Primario\", \"Primario\", \"Primario\", \"Primario\", \"Primario\", \"Primario\", \"Primario\", \"Primario\", \"Primario\", \"Primario\", \"Primario\", \"Primario\", \"Primario\", \"Primario\"], \"x0\": \" \", \"xaxis\": \"x\", \"y\": [58, 60, 65, 63, 61, 50, 42, 37, 47, 37, 52, 70, 61, 52, 66, 63, 61, 53, 47, 62, 34, 38, 48, 44, 37, 64, 56, 34, 53, 36, 68, 53, 42, 52, 60, 32, 42, 38, 56, 33, 58, 51, 35, 59, 58, 47, 36, 49, 58, 66, 36, 44, 70, 39, 57, 51, 53, 35, 36, 41, 38], \"y0\": \" \", \"yaxis\": \"y\"}, {\"alignmentgroup\": \"True\", \"hovertemplate\": \"Deserci\\u00f3n=0<br>Nivel educativo=%{x}<br>Edad=%{y}<extra></extra>\", \"legendgroup\": \"0\", \"marker\": {\"color\": \"#EF553B\"}, \"name\": \"0\", \"notched\": false, \"offsetgroup\": \"0\", \"orientation\": \"v\", \"quartilemethod\": \"exclusive\", \"showlegend\": true, \"type\": \"box\", \"x\": [\"Primario\", \"Primario\", \"Primario\", \"Primario\", \"Primario\", \"Primario\", \"Primario\", \"Primario\", \"Primario\", \"Primario\", \"Primario\", \"Primario\", \"Primario\", \"Primario\", \"Primario\", \"Primario\", \"Primario\", \"Primario\", \"Primario\", \"Primario\", \"Primario\", \"Primario\", \"Primario\", \"Primario\", \"Primario\", \"Primario\", \"Primario\", \"Primario\", \"Primario\", \"Primario\", \"Primario\", \"Primario\", \"Primario\", \"Primario\", \"Primario\", \"Primario\", \"Primario\", \"Primario\", \"Primario\", \"Primario\", \"Primario\", \"Primario\", \"Primario\", \"Secundario\", \"Secundario\", \"Secundario\", \"Secundario\", \"Secundario\", \"Secundario\", \"Secundario\", \"Secundario\", \"Secundario\", \"Secundario\", \"Secundario\", \"Secundario\", \"Secundario\", \"Secundario\", \"Secundario\", \"Secundario\", \"Secundario\", \"Secundario\", \"Secundario\", \"Secundario\", \"Secundario\", \"Secundario\", \"Secundario\", \"Secundario\", \"Secundario\", \"Secundario\", \"Secundario\", \"Secundario\", \"Secundario\", \"Secundario\", \"Secundario\", \"Secundario\", \"Secundario\", \"Secundario\", \"Secundario\", \"Secundario\", \"Secundario\", \"Secundario\", \"Secundario\", \"Secundario\", \"Secundario\", \"Secundario\", \"Secundario\", \"Secundario\", \"Secundario\", \"Secundario\", \"Secundario\", \"Secundario\", \"Secundario\", \"Secundario\", \"Secundario\", \"Secundario\", \"Secundario\", \"Secundario\", \"Secundario\", \"Secundario\", \"Secundario\", \"Secundario\", \"Secundario\", \"Secundario\", \"Secundario\", \"Secundario\", \"Secundario\", \"Secundario\", \"Secundario\", \"Secundario\", \"Secundario\", \"Secundario\", \"Secundario\", \"Secundario\", \"Secundario\", \"Secundario\", \"Secundario\", \"Secundario\", \"Secundario\", \"Secundario\", \"Secundario\", \"Secundario\", \"Secundario\", \"Secundario\", \"Secundario\", \"Secundario\", \"Secundario\", \"Secundario\", \"Secundario\", \"Secundario\", \"Secundario\", \"Secundario\", \"Secundario\", \"Secundario\", \"Secundario\", \"Secundario\", \"Primario\", \"Primario\", \"Primario\", \"Primario\", \"Primario\", \"Primario\", \"Primario\", \"Primario\", \"Primario\", \"Primario\", \"Primario\", \"Primario\", \"Primario\", \"Primario\", \"Primario\", \"Primario\", \"Primario\", \"Primario\", \"Primario\", \"Primario\", \"Primario\", \"Primario\", \"Primario\", \"Primario\", \"Primario\", \"Primario\", \"Primario\", \"Primario\", \"Primario\", \"Primario\", \"Primario\", \"Primario\", \"Primario\", \"Primario\", \"Primario\", \"Primario\", \"Primario\", \"Primario\", \"Primario\", \"Primario\", \"Primario\", \"Primario\", \"Primario\", \"Primario\", \"Primario\", \"Primario\", \"Primario\", \"Primario\", \"Primario\", \"Primario\", \"Primario\", \"Primario\", \"Primario\", \"Primario\", \"Primario\", \"Primario\", \"Secundario\", \"Secundario\", \"Secundario\", \"Secundario\", \"Secundario\", \"Secundario\", \"Secundario\", \"Secundario\", \"Secundario\", \"Secundario\", \"Secundario\", \"Secundario\", \"Secundario\", \"Secundario\", \"Secundario\", \"Secundario\", \"Secundario\", \"Secundario\", \"Secundario\", \"Secundario\", \"Secundario\", \"Secundario\", \"Secundario\", \"Secundario\", \"Secundario\", \"Secundario\", \"Secundario\", \"Secundario\", \"Secundario\", \"Secundario\", \"Secundario\", \"Secundario\", \"Secundario\", \"Secundario\", \"Secundario\", \"Secundario\", \"Secundario\", \"Secundario\", \"Secundario\", \"Secundario\", \"Secundario\", \"Secundario\", \"Secundario\", \"Secundario\", \"Secundario\", \"Secundario\", \"Secundario\", \"Secundario\", \"Secundario\", \"Secundario\", \"Secundario\", \"Secundario\", \"Secundario\", \"Secundario\", \"Secundario\", \"Secundario\", \"Secundario\", \"Secundario\", \"Secundario\", \"Secundario\", \"Secundario\", \"Secundario\", \"Terciario\", \"Terciario\", \"Terciario\", \"Terciario\", \"Terciario\", \"Terciario\", \"Terciario\", \"Terciario\", \"Terciario\", \"Terciario\", \"Terciario\", \"Terciario\", \"Terciario\", \"Terciario\"], \"x0\": \" \", \"xaxis\": \"x\", \"y\": [62, 56, 35, 44, 37, 37, 52, 51, 46, 43, 43, 50, 36, 29, 66, 45, 33, 43, 35, 50, 33, 41, 29, 34, 37, 34, 34, 49, 47, 47, 38, 53, 30, 42, 70, 29, 47, 35, 30, 32, 40, 30, 43, 29, 61, 33, 38, 32, 35, 25, 33, 35, 59, 37, 27, 43, 29, 38, 38, 35, 45, 36, 32, 41, 58, 53, 49, 51, 32, 39, 34, 61, 54, 37, 33, 28, 35, 43, 35, 32, 33, 37, 26, 36, 47, 34, 44, 37, 40, 56, 39, 47, 44, 52, 58, 55, 50, 42, 41, 58, 59, 38, 56, 34, 43, 43, 36, 35, 46, 53, 50, 44, 37, 34, 33, 49, 50, 40, 59, 55, 45, 58, 58, 33, 31, 57, 68, 73, 59, 72, 66, 58, 54, 72, 62, 36, 34, 38, 36, 36, 41, 35, 38, 33, 43, 54, 52, 37, 41, 49, 34, 34, 34, 34, 43, 41, 41, 71, 69, 56, 52, 54, 45, 52, 63, 56, 41, 56, 37, 40, 34, 36, 40, 39, 53, 33, 45, 67, 46, 52, 59, 54, 70, 48, 46, 52, 59, 50, 48, 58, 57, 35, 52, 57, 55, 57, 55, 50, 61, 42, 48, 48, 49, 50, 39, 36, 32, 33, 40, 45, 48, 39, 39, 32, 32, 38, 37, 33, 34, 37, 36, 31, 36, 32, 33, 31, 37, 30, 59, 54, 53, 72, 68, 47, 53, 47, 63, 53, 57, 48, 41, 58, 54, 43, 40, 39, 42, 44, 43, 35, 35, 43, 46, 55, 47, 39, 36, 43, 35, 43, 54, 39, 48, 52, 54, 45, 66], \"y0\": \" \", \"yaxis\": \"y\"}],                        {\"boxmode\": \"group\", \"legend\": {\"title\": {\"text\": \"Deserci\\u00f3n\"}, \"tracegroupgap\": 0}, \"margin\": {\"t\": 60}, \"template\": {\"data\": {\"bar\": [{\"error_x\": {\"color\": \"#2a3f5f\"}, \"error_y\": {\"color\": \"#2a3f5f\"}, \"marker\": {\"line\": {\"color\": \"#E5ECF6\", \"width\": 0.5}}, \"type\": \"bar\"}], \"barpolar\": [{\"marker\": {\"line\": {\"color\": \"#E5ECF6\", \"width\": 0.5}}, \"type\": \"barpolar\"}], \"carpet\": [{\"aaxis\": {\"endlinecolor\": \"#2a3f5f\", \"gridcolor\": \"white\", \"linecolor\": \"white\", \"minorgridcolor\": \"white\", \"startlinecolor\": \"#2a3f5f\"}, \"baxis\": {\"endlinecolor\": \"#2a3f5f\", \"gridcolor\": \"white\", \"linecolor\": \"white\", \"minorgridcolor\": \"white\", \"startlinecolor\": \"#2a3f5f\"}, \"type\": \"carpet\"}], \"choropleth\": [{\"colorbar\": {\"outlinewidth\": 0, \"ticks\": \"\"}, \"type\": \"choropleth\"}], \"contour\": [{\"colorbar\": {\"outlinewidth\": 0, \"ticks\": \"\"}, \"colorscale\": [[0.0, \"#0d0887\"], [0.1111111111111111, \"#46039f\"], [0.2222222222222222, \"#7201a8\"], [0.3333333333333333, \"#9c179e\"], [0.4444444444444444, \"#bd3786\"], [0.5555555555555556, \"#d8576b\"], [0.6666666666666666, \"#ed7953\"], [0.7777777777777778, \"#fb9f3a\"], [0.8888888888888888, \"#fdca26\"], [1.0, \"#f0f921\"]], \"type\": \"contour\"}], \"contourcarpet\": [{\"colorbar\": {\"outlinewidth\": 0, \"ticks\": \"\"}, \"type\": \"contourcarpet\"}], \"heatmap\": [{\"colorbar\": {\"outlinewidth\": 0, \"ticks\": \"\"}, \"colorscale\": [[0.0, \"#0d0887\"], [0.1111111111111111, \"#46039f\"], [0.2222222222222222, \"#7201a8\"], [0.3333333333333333, \"#9c179e\"], [0.4444444444444444, \"#bd3786\"], [0.5555555555555556, \"#d8576b\"], [0.6666666666666666, \"#ed7953\"], [0.7777777777777778, \"#fb9f3a\"], [0.8888888888888888, \"#fdca26\"], [1.0, \"#f0f921\"]], \"type\": \"heatmap\"}], \"heatmapgl\": [{\"colorbar\": {\"outlinewidth\": 0, \"ticks\": \"\"}, \"colorscale\": [[0.0, \"#0d0887\"], [0.1111111111111111, \"#46039f\"], [0.2222222222222222, \"#7201a8\"], [0.3333333333333333, \"#9c179e\"], [0.4444444444444444, \"#bd3786\"], [0.5555555555555556, \"#d8576b\"], [0.6666666666666666, \"#ed7953\"], [0.7777777777777778, \"#fb9f3a\"], [0.8888888888888888, \"#fdca26\"], [1.0, \"#f0f921\"]], \"type\": \"heatmapgl\"}], \"histogram\": [{\"marker\": {\"colorbar\": {\"outlinewidth\": 0, \"ticks\": \"\"}}, \"type\": \"histogram\"}], \"histogram2d\": [{\"colorbar\": {\"outlinewidth\": 0, \"ticks\": \"\"}, \"colorscale\": [[0.0, \"#0d0887\"], [0.1111111111111111, \"#46039f\"], [0.2222222222222222, \"#7201a8\"], [0.3333333333333333, \"#9c179e\"], [0.4444444444444444, \"#bd3786\"], [0.5555555555555556, \"#d8576b\"], [0.6666666666666666, \"#ed7953\"], [0.7777777777777778, \"#fb9f3a\"], [0.8888888888888888, \"#fdca26\"], [1.0, \"#f0f921\"]], \"type\": \"histogram2d\"}], \"histogram2dcontour\": [{\"colorbar\": {\"outlinewidth\": 0, \"ticks\": \"\"}, \"colorscale\": [[0.0, \"#0d0887\"], [0.1111111111111111, \"#46039f\"], [0.2222222222222222, \"#7201a8\"], [0.3333333333333333, \"#9c179e\"], [0.4444444444444444, \"#bd3786\"], [0.5555555555555556, \"#d8576b\"], [0.6666666666666666, \"#ed7953\"], [0.7777777777777778, \"#fb9f3a\"], [0.8888888888888888, \"#fdca26\"], [1.0, \"#f0f921\"]], \"type\": \"histogram2dcontour\"}], \"mesh3d\": [{\"colorbar\": {\"outlinewidth\": 0, \"ticks\": \"\"}, \"type\": \"mesh3d\"}], \"parcoords\": [{\"line\": {\"colorbar\": {\"outlinewidth\": 0, \"ticks\": \"\"}}, \"type\": \"parcoords\"}], \"pie\": [{\"automargin\": true, \"type\": \"pie\"}], \"scatter\": [{\"marker\": {\"colorbar\": {\"outlinewidth\": 0, \"ticks\": \"\"}}, \"type\": \"scatter\"}], \"scatter3d\": [{\"line\": {\"colorbar\": {\"outlinewidth\": 0, \"ticks\": \"\"}}, \"marker\": {\"colorbar\": {\"outlinewidth\": 0, \"ticks\": \"\"}}, \"type\": \"scatter3d\"}], \"scattercarpet\": [{\"marker\": {\"colorbar\": {\"outlinewidth\": 0, \"ticks\": \"\"}}, \"type\": \"scattercarpet\"}], \"scattergeo\": [{\"marker\": {\"colorbar\": {\"outlinewidth\": 0, \"ticks\": \"\"}}, \"type\": \"scattergeo\"}], \"scattergl\": [{\"marker\": {\"colorbar\": {\"outlinewidth\": 0, \"ticks\": \"\"}}, \"type\": \"scattergl\"}], \"scattermapbox\": [{\"marker\": {\"colorbar\": {\"outlinewidth\": 0, \"ticks\": \"\"}}, \"type\": \"scattermapbox\"}], \"scatterpolar\": [{\"marker\": {\"colorbar\": {\"outlinewidth\": 0, \"ticks\": \"\"}}, \"type\": \"scatterpolar\"}], \"scatterpolargl\": [{\"marker\": {\"colorbar\": {\"outlinewidth\": 0, \"ticks\": \"\"}}, \"type\": \"scatterpolargl\"}], \"scatterternary\": [{\"marker\": {\"colorbar\": {\"outlinewidth\": 0, \"ticks\": \"\"}}, \"type\": \"scatterternary\"}], \"surface\": [{\"colorbar\": {\"outlinewidth\": 0, \"ticks\": \"\"}, \"colorscale\": [[0.0, \"#0d0887\"], [0.1111111111111111, \"#46039f\"], [0.2222222222222222, \"#7201a8\"], [0.3333333333333333, \"#9c179e\"], [0.4444444444444444, \"#bd3786\"], [0.5555555555555556, \"#d8576b\"], [0.6666666666666666, \"#ed7953\"], [0.7777777777777778, \"#fb9f3a\"], [0.8888888888888888, \"#fdca26\"], [1.0, \"#f0f921\"]], \"type\": \"surface\"}], \"table\": [{\"cells\": {\"fill\": {\"color\": \"#EBF0F8\"}, \"line\": {\"color\": \"white\"}}, \"header\": {\"fill\": {\"color\": \"#C8D4E3\"}, \"line\": {\"color\": \"white\"}}, \"type\": \"table\"}]}, \"layout\": {\"annotationdefaults\": {\"arrowcolor\": \"#2a3f5f\", \"arrowhead\": 0, \"arrowwidth\": 1}, \"autotypenumbers\": \"strict\", \"coloraxis\": {\"colorbar\": {\"outlinewidth\": 0, \"ticks\": \"\"}}, \"colorscale\": {\"diverging\": [[0, \"#8e0152\"], [0.1, \"#c51b7d\"], [0.2, \"#de77ae\"], [0.3, \"#f1b6da\"], [0.4, \"#fde0ef\"], [0.5, \"#f7f7f7\"], [0.6, \"#e6f5d0\"], [0.7, \"#b8e186\"], [0.8, \"#7fbc41\"], [0.9, \"#4d9221\"], [1, \"#276419\"]], \"sequential\": [[0.0, \"#0d0887\"], [0.1111111111111111, \"#46039f\"], [0.2222222222222222, \"#7201a8\"], [0.3333333333333333, \"#9c179e\"], [0.4444444444444444, \"#bd3786\"], [0.5555555555555556, \"#d8576b\"], [0.6666666666666666, \"#ed7953\"], [0.7777777777777778, \"#fb9f3a\"], [0.8888888888888888, \"#fdca26\"], [1.0, \"#f0f921\"]], \"sequentialminus\": [[0.0, \"#0d0887\"], [0.1111111111111111, \"#46039f\"], [0.2222222222222222, \"#7201a8\"], [0.3333333333333333, \"#9c179e\"], [0.4444444444444444, \"#bd3786\"], [0.5555555555555556, \"#d8576b\"], [0.6666666666666666, \"#ed7953\"], [0.7777777777777778, \"#fb9f3a\"], [0.8888888888888888, \"#fdca26\"], [1.0, \"#f0f921\"]]}, \"colorway\": [\"#636efa\", \"#EF553B\", \"#00cc96\", \"#ab63fa\", \"#FFA15A\", \"#19d3f3\", \"#FF6692\", \"#B6E880\", \"#FF97FF\", \"#FECB52\"], \"font\": {\"color\": \"#2a3f5f\"}, \"geo\": {\"bgcolor\": \"white\", \"lakecolor\": \"white\", \"landcolor\": \"#E5ECF6\", \"showlakes\": true, \"showland\": true, \"subunitcolor\": \"white\"}, \"hoverlabel\": {\"align\": \"left\"}, \"hovermode\": \"closest\", \"mapbox\": {\"style\": \"light\"}, \"paper_bgcolor\": \"white\", \"plot_bgcolor\": \"#E5ECF6\", \"polar\": {\"angularaxis\": {\"gridcolor\": \"white\", \"linecolor\": \"white\", \"ticks\": \"\"}, \"bgcolor\": \"#E5ECF6\", \"radialaxis\": {\"gridcolor\": \"white\", \"linecolor\": \"white\", \"ticks\": \"\"}}, \"scene\": {\"xaxis\": {\"backgroundcolor\": \"#E5ECF6\", \"gridcolor\": \"white\", \"gridwidth\": 2, \"linecolor\": \"white\", \"showbackground\": true, \"ticks\": \"\", \"zerolinecolor\": \"white\"}, \"yaxis\": {\"backgroundcolor\": \"#E5ECF6\", \"gridcolor\": \"white\", \"gridwidth\": 2, \"linecolor\": \"white\", \"showbackground\": true, \"ticks\": \"\", \"zerolinecolor\": \"white\"}, \"zaxis\": {\"backgroundcolor\": \"#E5ECF6\", \"gridcolor\": \"white\", \"gridwidth\": 2, \"linecolor\": \"white\", \"showbackground\": true, \"ticks\": \"\", \"zerolinecolor\": \"white\"}}, \"shapedefaults\": {\"line\": {\"color\": \"#2a3f5f\"}}, \"ternary\": {\"aaxis\": {\"gridcolor\": \"white\", \"linecolor\": \"white\", \"ticks\": \"\"}, \"baxis\": {\"gridcolor\": \"white\", \"linecolor\": \"white\", \"ticks\": \"\"}, \"bgcolor\": \"#E5ECF6\", \"caxis\": {\"gridcolor\": \"white\", \"linecolor\": \"white\", \"ticks\": \"\"}}, \"title\": {\"x\": 0.05}, \"xaxis\": {\"automargin\": true, \"gridcolor\": \"white\", \"linecolor\": \"white\", \"ticks\": \"\", \"title\": {\"standoff\": 15}, \"zerolinecolor\": \"white\", \"zerolinewidth\": 2}, \"yaxis\": {\"automargin\": true, \"gridcolor\": \"white\", \"linecolor\": \"white\", \"ticks\": \"\", \"title\": {\"standoff\": 15}, \"zerolinecolor\": \"white\", \"zerolinewidth\": 2}}}, \"xaxis\": {\"anchor\": \"y\", \"domain\": [0.0, 1.0], \"title\": {\"text\": \"Nivel educativo\"}}, \"yaxis\": {\"anchor\": \"x\", \"domain\": [0.0, 1.0], \"title\": {\"text\": \"Edad\"}}},                        {\"responsive\": true}                    ).then(function(){\n",
       "                            \n",
       "var gd = document.getElementById('57c4a407-c17c-43d2-b261-c465848bb50a');\n",
       "var x = new MutationObserver(function (mutations, observer) {{\n",
       "        var display = window.getComputedStyle(gd).display;\n",
       "        if (!display || display === 'none') {{\n",
       "            console.log([gd, 'removed!']);\n",
       "            Plotly.purge(gd);\n",
       "            observer.disconnect();\n",
       "        }}\n",
       "}});\n",
       "\n",
       "// Listen for the removal of the full notebook cells\n",
       "var notebookContainer = gd.closest('#notebook-container');\n",
       "if (notebookContainer) {{\n",
       "    x.observe(notebookContainer, {childList: true});\n",
       "}}\n",
       "\n",
       "// Listen for the clearing of the current output cell\n",
       "var outputEl = gd.closest('.output');\n",
       "if (outputEl) {{\n",
       "    x.observe(outputEl, {childList: true});\n",
       "}}\n",
       "\n",
       "                        })                };                });            </script>        </div>"
      ]
     },
     "metadata": {},
     "output_type": "display_data"
    }
   ],
   "source": [
    "fig = px.box(df, x=\"Nivel educativo\", y=\"Edad\", color=\"Deserción\")\n",
    "fig.update_traces(quartilemethod=\"exclusive\") \n",
    "fig.show()"
   ]
  },
  {
   "cell_type": "code",
   "execution_count": 58,
   "metadata": {},
   "outputs": [
    {
     "data": {
      "application/vnd.plotly.v1+json": {
       "config": {
        "plotlyServerURL": "https://plot.ly"
       },
       "data": [
        {
         "alignmentgroup": "True",
         "hovertemplate": "Deserción=1<br>Nivel de alfabetización digital=%{x}<br>Edad=%{y}<extra></extra>",
         "legendgroup": "1",
         "marker": {
          "color": "#636efa"
         },
         "name": "1",
         "notched": false,
         "offsetgroup": "1",
         "orientation": "v",
         "quartilemethod": "exclusive",
         "showlegend": true,
         "type": "box",
         "x": [
          "Bajo",
          "Bajo",
          "Bajo",
          "Bajo",
          "Bajo",
          "Bajo",
          "Bajo",
          "Bajo",
          "Bajo",
          "Bajo",
          "Bajo",
          "Bajo",
          "Bajo",
          "Bajo",
          "Bajo",
          "Bajo",
          "Bajo",
          "Bajo",
          "Bajo",
          "Bajo",
          "Bajo",
          "Bajo",
          "Bajo",
          "Bajo",
          "Bajo",
          "Bajo",
          "Bajo",
          "Bajo",
          "Bajo",
          "Bajo",
          "Bajo",
          "Bajo",
          "Bajo",
          "Bajo",
          "Bajo",
          "Bajo",
          "Bajo",
          "Bajo",
          "Bajo",
          "Bajo",
          "Bajo",
          "Bajo",
          "Bajo",
          "Medio",
          "Medio",
          "Medio",
          "Medio",
          "Medio",
          "Medio",
          "Medio",
          "Medio",
          "Medio",
          "Medio",
          "Medio",
          "Medio",
          "Medio",
          "Medio",
          "Medio",
          "Medio",
          "Medio",
          "Medio"
         ],
         "x0": " ",
         "xaxis": "x",
         "y": [
          58,
          60,
          65,
          63,
          61,
          50,
          42,
          37,
          47,
          37,
          52,
          70,
          61,
          52,
          66,
          63,
          61,
          53,
          47,
          62,
          34,
          38,
          48,
          44,
          37,
          64,
          56,
          34,
          53,
          36,
          68,
          53,
          42,
          52,
          60,
          32,
          42,
          38,
          56,
          33,
          58,
          51,
          35,
          59,
          58,
          47,
          36,
          49,
          58,
          66,
          36,
          44,
          70,
          39,
          57,
          51,
          53,
          35,
          36,
          41,
          38
         ],
         "y0": " ",
         "yaxis": "y"
        },
        {
         "alignmentgroup": "True",
         "hovertemplate": "Deserción=0<br>Nivel de alfabetización digital=%{x}<br>Edad=%{y}<extra></extra>",
         "legendgroup": "0",
         "marker": {
          "color": "#EF553B"
         },
         "name": "0",
         "notched": false,
         "offsetgroup": "0",
         "orientation": "v",
         "quartilemethod": "exclusive",
         "showlegend": true,
         "type": "box",
         "x": [
          "Bajo",
          "Bajo",
          "Bajo",
          "Bajo",
          "Bajo",
          "Bajo",
          "Bajo",
          "Bajo",
          "Bajo",
          "Bajo",
          "Bajo",
          "Bajo",
          "Bajo",
          "Bajo",
          "Bajo",
          "Bajo",
          "Bajo",
          "Bajo",
          "Bajo",
          "Bajo",
          "Bajo",
          "Bajo",
          "Bajo",
          "Bajo",
          "Bajo",
          "Bajo",
          "Bajo",
          "Bajo",
          "Bajo",
          "Bajo",
          "Bajo",
          "Bajo",
          "Bajo",
          "Bajo",
          "Bajo",
          "Bajo",
          "Bajo",
          "Bajo",
          "Bajo",
          "Bajo",
          "Bajo",
          "Bajo",
          "Bajo",
          "Medio",
          "Medio",
          "Medio",
          "Medio",
          "Medio",
          "Medio",
          "Medio",
          "Medio",
          "Medio",
          "Medio",
          "Medio",
          "Medio",
          "Medio",
          "Medio",
          "Medio",
          "Medio",
          "Medio",
          "Medio",
          "Medio",
          "Medio",
          "Medio",
          "Medio",
          "Medio",
          "Medio",
          "Medio",
          "Medio",
          "Medio",
          "Medio",
          "Medio",
          "Medio",
          "Medio",
          "Medio",
          "Medio",
          "Medio",
          "Medio",
          "Medio",
          "Medio",
          "Medio",
          "Medio",
          "Medio",
          "Medio",
          "Medio",
          "Medio",
          "Medio",
          "Medio",
          "Medio",
          "Medio",
          "Medio",
          "Medio",
          "Medio",
          "Medio",
          "Medio",
          "Medio",
          "Medio",
          "Medio",
          "Medio",
          "Medio",
          "Medio",
          "Medio",
          "Medio",
          "Medio",
          "Medio",
          "Medio",
          "Medio",
          "Medio",
          "Medio",
          "Medio",
          "Medio",
          "Medio",
          "Medio",
          "Medio",
          "Medio",
          "Medio",
          "Medio",
          "Medio",
          "Medio",
          "Medio",
          "Medio",
          "Medio",
          "Medio",
          "Medio",
          "Medio",
          "Medio",
          "Medio",
          "Medio",
          "Medio",
          "Medio",
          "Medio",
          "Medio",
          "Medio",
          "Medio",
          "Medio",
          "Medio",
          "Medio",
          "Medio",
          "Medio",
          "Medio",
          "Medio",
          "Medio",
          "Medio",
          "Medio",
          "Medio",
          "Medio",
          "Medio",
          "Medio",
          "Medio",
          "Medio",
          "Medio",
          "Medio",
          "Medio",
          "Medio",
          "Medio",
          "Medio",
          "Medio",
          "Medio",
          "Medio",
          "Medio",
          "Medio",
          "Medio",
          "Medio",
          "Medio",
          "Medio",
          "Medio",
          "Medio",
          "Medio",
          "Medio",
          "Medio",
          "Medio",
          "Medio",
          "Medio",
          "Medio",
          "Medio",
          "Medio",
          "Medio",
          "Medio",
          "Medio",
          "Medio",
          "Medio",
          "Medio",
          "Medio",
          "Medio",
          "Medio",
          "Medio",
          "Medio",
          "Medio",
          "Medio",
          "Medio",
          "Medio",
          "Medio",
          "Medio",
          "Medio",
          "Medio",
          "Medio",
          "Medio",
          "Medio",
          "Medio",
          "Medio",
          "Medio",
          "Medio",
          "Medio",
          "Medio",
          "Medio",
          "Medio",
          "Medio",
          "Medio",
          "Medio",
          "Medio",
          "Medio",
          "Medio",
          "Medio",
          "Medio",
          "Medio",
          "Medio",
          "Medio",
          "Medio",
          "Medio",
          "Medio",
          "Medio",
          "Medio",
          "Medio",
          "Medio",
          "Medio",
          "Medio",
          "Medio",
          "Medio",
          "Medio",
          "Medio",
          "Medio",
          "Medio",
          "Medio",
          "Medio",
          "Medio",
          "Medio",
          "Medio",
          "Medio",
          "Medio",
          "Medio",
          "Medio",
          "Medio",
          "Medio",
          "Medio",
          "Medio",
          "Medio",
          "Medio",
          "Medio",
          "Medio",
          "Medio",
          "Medio",
          "Medio",
          "Medio",
          "Alto",
          "Alto",
          "Alto",
          "Alto",
          "Alto",
          "Alto",
          "Alto",
          "Alto",
          "Alto",
          "Alto",
          "Alto",
          "Alto",
          "Alto",
          "Alto"
         ],
         "x0": " ",
         "xaxis": "x",
         "y": [
          62,
          56,
          35,
          44,
          37,
          37,
          52,
          51,
          46,
          43,
          43,
          50,
          36,
          29,
          66,
          45,
          33,
          43,
          35,
          50,
          33,
          41,
          29,
          34,
          37,
          34,
          34,
          49,
          47,
          47,
          38,
          53,
          30,
          42,
          70,
          29,
          47,
          35,
          30,
          32,
          40,
          30,
          43,
          29,
          61,
          33,
          38,
          32,
          35,
          25,
          33,
          35,
          59,
          37,
          27,
          43,
          29,
          38,
          38,
          35,
          45,
          36,
          32,
          41,
          58,
          53,
          49,
          51,
          32,
          39,
          34,
          61,
          54,
          37,
          33,
          28,
          35,
          43,
          35,
          32,
          33,
          37,
          26,
          36,
          47,
          34,
          44,
          37,
          40,
          56,
          39,
          47,
          44,
          52,
          58,
          55,
          50,
          42,
          41,
          58,
          59,
          38,
          56,
          34,
          43,
          43,
          36,
          35,
          46,
          53,
          50,
          44,
          37,
          34,
          33,
          49,
          50,
          40,
          59,
          55,
          45,
          58,
          58,
          33,
          31,
          57,
          68,
          73,
          59,
          72,
          66,
          58,
          54,
          72,
          62,
          36,
          34,
          38,
          36,
          36,
          41,
          35,
          38,
          33,
          43,
          54,
          52,
          37,
          41,
          49,
          34,
          34,
          34,
          34,
          43,
          41,
          41,
          71,
          69,
          56,
          52,
          54,
          45,
          52,
          63,
          56,
          41,
          56,
          37,
          40,
          34,
          36,
          40,
          39,
          53,
          33,
          45,
          67,
          46,
          52,
          59,
          54,
          70,
          48,
          46,
          52,
          59,
          50,
          48,
          58,
          57,
          35,
          52,
          57,
          55,
          57,
          55,
          50,
          61,
          42,
          48,
          48,
          49,
          50,
          39,
          36,
          32,
          33,
          40,
          45,
          48,
          39,
          39,
          32,
          32,
          38,
          37,
          33,
          34,
          37,
          36,
          31,
          36,
          32,
          33,
          31,
          37,
          30,
          59,
          54,
          53,
          72,
          68,
          47,
          53,
          47,
          63,
          53,
          57,
          48,
          41,
          58,
          54,
          43,
          40,
          39,
          42,
          44,
          43,
          35,
          35,
          43,
          46,
          55,
          47,
          39,
          36,
          43,
          35,
          43,
          54,
          39,
          48,
          52,
          54,
          45,
          66
         ],
         "y0": " ",
         "yaxis": "y"
        }
       ],
       "layout": {
        "autosize": true,
        "boxmode": "group",
        "legend": {
         "title": {
          "text": "Deserción"
         },
         "tracegroupgap": 0
        },
        "margin": {
         "t": 60
        },
        "template": {
         "data": {
          "bar": [
           {
            "error_x": {
             "color": "#2a3f5f"
            },
            "error_y": {
             "color": "#2a3f5f"
            },
            "marker": {
             "line": {
              "color": "#E5ECF6",
              "width": 0.5
             }
            },
            "type": "bar"
           }
          ],
          "barpolar": [
           {
            "marker": {
             "line": {
              "color": "#E5ECF6",
              "width": 0.5
             }
            },
            "type": "barpolar"
           }
          ],
          "carpet": [
           {
            "aaxis": {
             "endlinecolor": "#2a3f5f",
             "gridcolor": "white",
             "linecolor": "white",
             "minorgridcolor": "white",
             "startlinecolor": "#2a3f5f"
            },
            "baxis": {
             "endlinecolor": "#2a3f5f",
             "gridcolor": "white",
             "linecolor": "white",
             "minorgridcolor": "white",
             "startlinecolor": "#2a3f5f"
            },
            "type": "carpet"
           }
          ],
          "choropleth": [
           {
            "colorbar": {
             "outlinewidth": 0,
             "ticks": ""
            },
            "type": "choropleth"
           }
          ],
          "contour": [
           {
            "colorbar": {
             "outlinewidth": 0,
             "ticks": ""
            },
            "colorscale": [
             [
              0,
              "#0d0887"
             ],
             [
              0.1111111111111111,
              "#46039f"
             ],
             [
              0.2222222222222222,
              "#7201a8"
             ],
             [
              0.3333333333333333,
              "#9c179e"
             ],
             [
              0.4444444444444444,
              "#bd3786"
             ],
             [
              0.5555555555555556,
              "#d8576b"
             ],
             [
              0.6666666666666666,
              "#ed7953"
             ],
             [
              0.7777777777777778,
              "#fb9f3a"
             ],
             [
              0.8888888888888888,
              "#fdca26"
             ],
             [
              1,
              "#f0f921"
             ]
            ],
            "type": "contour"
           }
          ],
          "contourcarpet": [
           {
            "colorbar": {
             "outlinewidth": 0,
             "ticks": ""
            },
            "type": "contourcarpet"
           }
          ],
          "heatmap": [
           {
            "colorbar": {
             "outlinewidth": 0,
             "ticks": ""
            },
            "colorscale": [
             [
              0,
              "#0d0887"
             ],
             [
              0.1111111111111111,
              "#46039f"
             ],
             [
              0.2222222222222222,
              "#7201a8"
             ],
             [
              0.3333333333333333,
              "#9c179e"
             ],
             [
              0.4444444444444444,
              "#bd3786"
             ],
             [
              0.5555555555555556,
              "#d8576b"
             ],
             [
              0.6666666666666666,
              "#ed7953"
             ],
             [
              0.7777777777777778,
              "#fb9f3a"
             ],
             [
              0.8888888888888888,
              "#fdca26"
             ],
             [
              1,
              "#f0f921"
             ]
            ],
            "type": "heatmap"
           }
          ],
          "heatmapgl": [
           {
            "colorbar": {
             "outlinewidth": 0,
             "ticks": ""
            },
            "colorscale": [
             [
              0,
              "#0d0887"
             ],
             [
              0.1111111111111111,
              "#46039f"
             ],
             [
              0.2222222222222222,
              "#7201a8"
             ],
             [
              0.3333333333333333,
              "#9c179e"
             ],
             [
              0.4444444444444444,
              "#bd3786"
             ],
             [
              0.5555555555555556,
              "#d8576b"
             ],
             [
              0.6666666666666666,
              "#ed7953"
             ],
             [
              0.7777777777777778,
              "#fb9f3a"
             ],
             [
              0.8888888888888888,
              "#fdca26"
             ],
             [
              1,
              "#f0f921"
             ]
            ],
            "type": "heatmapgl"
           }
          ],
          "histogram": [
           {
            "marker": {
             "colorbar": {
              "outlinewidth": 0,
              "ticks": ""
             }
            },
            "type": "histogram"
           }
          ],
          "histogram2d": [
           {
            "colorbar": {
             "outlinewidth": 0,
             "ticks": ""
            },
            "colorscale": [
             [
              0,
              "#0d0887"
             ],
             [
              0.1111111111111111,
              "#46039f"
             ],
             [
              0.2222222222222222,
              "#7201a8"
             ],
             [
              0.3333333333333333,
              "#9c179e"
             ],
             [
              0.4444444444444444,
              "#bd3786"
             ],
             [
              0.5555555555555556,
              "#d8576b"
             ],
             [
              0.6666666666666666,
              "#ed7953"
             ],
             [
              0.7777777777777778,
              "#fb9f3a"
             ],
             [
              0.8888888888888888,
              "#fdca26"
             ],
             [
              1,
              "#f0f921"
             ]
            ],
            "type": "histogram2d"
           }
          ],
          "histogram2dcontour": [
           {
            "colorbar": {
             "outlinewidth": 0,
             "ticks": ""
            },
            "colorscale": [
             [
              0,
              "#0d0887"
             ],
             [
              0.1111111111111111,
              "#46039f"
             ],
             [
              0.2222222222222222,
              "#7201a8"
             ],
             [
              0.3333333333333333,
              "#9c179e"
             ],
             [
              0.4444444444444444,
              "#bd3786"
             ],
             [
              0.5555555555555556,
              "#d8576b"
             ],
             [
              0.6666666666666666,
              "#ed7953"
             ],
             [
              0.7777777777777778,
              "#fb9f3a"
             ],
             [
              0.8888888888888888,
              "#fdca26"
             ],
             [
              1,
              "#f0f921"
             ]
            ],
            "type": "histogram2dcontour"
           }
          ],
          "mesh3d": [
           {
            "colorbar": {
             "outlinewidth": 0,
             "ticks": ""
            },
            "type": "mesh3d"
           }
          ],
          "parcoords": [
           {
            "line": {
             "colorbar": {
              "outlinewidth": 0,
              "ticks": ""
             }
            },
            "type": "parcoords"
           }
          ],
          "pie": [
           {
            "automargin": true,
            "type": "pie"
           }
          ],
          "scatter": [
           {
            "marker": {
             "colorbar": {
              "outlinewidth": 0,
              "ticks": ""
             }
            },
            "type": "scatter"
           }
          ],
          "scatter3d": [
           {
            "line": {
             "colorbar": {
              "outlinewidth": 0,
              "ticks": ""
             }
            },
            "marker": {
             "colorbar": {
              "outlinewidth": 0,
              "ticks": ""
             }
            },
            "type": "scatter3d"
           }
          ],
          "scattercarpet": [
           {
            "marker": {
             "colorbar": {
              "outlinewidth": 0,
              "ticks": ""
             }
            },
            "type": "scattercarpet"
           }
          ],
          "scattergeo": [
           {
            "marker": {
             "colorbar": {
              "outlinewidth": 0,
              "ticks": ""
             }
            },
            "type": "scattergeo"
           }
          ],
          "scattergl": [
           {
            "marker": {
             "colorbar": {
              "outlinewidth": 0,
              "ticks": ""
             }
            },
            "type": "scattergl"
           }
          ],
          "scattermapbox": [
           {
            "marker": {
             "colorbar": {
              "outlinewidth": 0,
              "ticks": ""
             }
            },
            "type": "scattermapbox"
           }
          ],
          "scatterpolar": [
           {
            "marker": {
             "colorbar": {
              "outlinewidth": 0,
              "ticks": ""
             }
            },
            "type": "scatterpolar"
           }
          ],
          "scatterpolargl": [
           {
            "marker": {
             "colorbar": {
              "outlinewidth": 0,
              "ticks": ""
             }
            },
            "type": "scatterpolargl"
           }
          ],
          "scatterternary": [
           {
            "marker": {
             "colorbar": {
              "outlinewidth": 0,
              "ticks": ""
             }
            },
            "type": "scatterternary"
           }
          ],
          "surface": [
           {
            "colorbar": {
             "outlinewidth": 0,
             "ticks": ""
            },
            "colorscale": [
             [
              0,
              "#0d0887"
             ],
             [
              0.1111111111111111,
              "#46039f"
             ],
             [
              0.2222222222222222,
              "#7201a8"
             ],
             [
              0.3333333333333333,
              "#9c179e"
             ],
             [
              0.4444444444444444,
              "#bd3786"
             ],
             [
              0.5555555555555556,
              "#d8576b"
             ],
             [
              0.6666666666666666,
              "#ed7953"
             ],
             [
              0.7777777777777778,
              "#fb9f3a"
             ],
             [
              0.8888888888888888,
              "#fdca26"
             ],
             [
              1,
              "#f0f921"
             ]
            ],
            "type": "surface"
           }
          ],
          "table": [
           {
            "cells": {
             "fill": {
              "color": "#EBF0F8"
             },
             "line": {
              "color": "white"
             }
            },
            "header": {
             "fill": {
              "color": "#C8D4E3"
             },
             "line": {
              "color": "white"
             }
            },
            "type": "table"
           }
          ]
         },
         "layout": {
          "annotationdefaults": {
           "arrowcolor": "#2a3f5f",
           "arrowhead": 0,
           "arrowwidth": 1
          },
          "autotypenumbers": "strict",
          "coloraxis": {
           "colorbar": {
            "outlinewidth": 0,
            "ticks": ""
           }
          },
          "colorscale": {
           "diverging": [
            [
             0,
             "#8e0152"
            ],
            [
             0.1,
             "#c51b7d"
            ],
            [
             0.2,
             "#de77ae"
            ],
            [
             0.3,
             "#f1b6da"
            ],
            [
             0.4,
             "#fde0ef"
            ],
            [
             0.5,
             "#f7f7f7"
            ],
            [
             0.6,
             "#e6f5d0"
            ],
            [
             0.7,
             "#b8e186"
            ],
            [
             0.8,
             "#7fbc41"
            ],
            [
             0.9,
             "#4d9221"
            ],
            [
             1,
             "#276419"
            ]
           ],
           "sequential": [
            [
             0,
             "#0d0887"
            ],
            [
             0.1111111111111111,
             "#46039f"
            ],
            [
             0.2222222222222222,
             "#7201a8"
            ],
            [
             0.3333333333333333,
             "#9c179e"
            ],
            [
             0.4444444444444444,
             "#bd3786"
            ],
            [
             0.5555555555555556,
             "#d8576b"
            ],
            [
             0.6666666666666666,
             "#ed7953"
            ],
            [
             0.7777777777777778,
             "#fb9f3a"
            ],
            [
             0.8888888888888888,
             "#fdca26"
            ],
            [
             1,
             "#f0f921"
            ]
           ],
           "sequentialminus": [
            [
             0,
             "#0d0887"
            ],
            [
             0.1111111111111111,
             "#46039f"
            ],
            [
             0.2222222222222222,
             "#7201a8"
            ],
            [
             0.3333333333333333,
             "#9c179e"
            ],
            [
             0.4444444444444444,
             "#bd3786"
            ],
            [
             0.5555555555555556,
             "#d8576b"
            ],
            [
             0.6666666666666666,
             "#ed7953"
            ],
            [
             0.7777777777777778,
             "#fb9f3a"
            ],
            [
             0.8888888888888888,
             "#fdca26"
            ],
            [
             1,
             "#f0f921"
            ]
           ]
          },
          "colorway": [
           "#636efa",
           "#EF553B",
           "#00cc96",
           "#ab63fa",
           "#FFA15A",
           "#19d3f3",
           "#FF6692",
           "#B6E880",
           "#FF97FF",
           "#FECB52"
          ],
          "font": {
           "color": "#2a3f5f"
          },
          "geo": {
           "bgcolor": "white",
           "lakecolor": "white",
           "landcolor": "#E5ECF6",
           "showlakes": true,
           "showland": true,
           "subunitcolor": "white"
          },
          "hoverlabel": {
           "align": "left"
          },
          "hovermode": "closest",
          "mapbox": {
           "style": "light"
          },
          "paper_bgcolor": "white",
          "plot_bgcolor": "#E5ECF6",
          "polar": {
           "angularaxis": {
            "gridcolor": "white",
            "linecolor": "white",
            "ticks": ""
           },
           "bgcolor": "#E5ECF6",
           "radialaxis": {
            "gridcolor": "white",
            "linecolor": "white",
            "ticks": ""
           }
          },
          "scene": {
           "xaxis": {
            "backgroundcolor": "#E5ECF6",
            "gridcolor": "white",
            "gridwidth": 2,
            "linecolor": "white",
            "showbackground": true,
            "ticks": "",
            "zerolinecolor": "white"
           },
           "yaxis": {
            "backgroundcolor": "#E5ECF6",
            "gridcolor": "white",
            "gridwidth": 2,
            "linecolor": "white",
            "showbackground": true,
            "ticks": "",
            "zerolinecolor": "white"
           },
           "zaxis": {
            "backgroundcolor": "#E5ECF6",
            "gridcolor": "white",
            "gridwidth": 2,
            "linecolor": "white",
            "showbackground": true,
            "ticks": "",
            "zerolinecolor": "white"
           }
          },
          "shapedefaults": {
           "line": {
            "color": "#2a3f5f"
           }
          },
          "ternary": {
           "aaxis": {
            "gridcolor": "white",
            "linecolor": "white",
            "ticks": ""
           },
           "baxis": {
            "gridcolor": "white",
            "linecolor": "white",
            "ticks": ""
           },
           "bgcolor": "#E5ECF6",
           "caxis": {
            "gridcolor": "white",
            "linecolor": "white",
            "ticks": ""
           }
          },
          "title": {
           "x": 0.05
          },
          "xaxis": {
           "automargin": true,
           "gridcolor": "white",
           "linecolor": "white",
           "ticks": "",
           "title": {
            "standoff": 15
           },
           "zerolinecolor": "white",
           "zerolinewidth": 2
          },
          "yaxis": {
           "automargin": true,
           "gridcolor": "white",
           "linecolor": "white",
           "ticks": "",
           "title": {
            "standoff": 15
           },
           "zerolinecolor": "white",
           "zerolinewidth": 2
          }
         }
        },
        "xaxis": {
         "anchor": "y",
         "autorange": true,
         "domain": [
          0,
          1
         ],
         "range": [
          -0.5105386416861827,
          2.510538641686183
         ],
         "title": {
          "text": "Nivel de alfabetización digital"
         },
         "type": "category"
        },
        "yaxis": {
         "anchor": "x",
         "autorange": true,
         "domain": [
          0,
          1
         ],
         "range": [
          22.333333333333332,
          75.66666666666667
         ],
         "title": {
          "text": "Edad"
         },
         "type": "linear"
        }
       }
      },
      "image/png": "[encoded data removed]",
      "text/html": [
       "<div>                            <div id=\"751b484b-a9e7-467a-ae70-a936004f739c\" class=\"plotly-graph-div\" style=\"height:525px; width:100%;\"></div>            <script type=\"text/javascript\">                require([\"plotly\"], function(Plotly) {                    window.PLOTLYENV=window.PLOTLYENV || {};                                    if (document.getElementById(\"751b484b-a9e7-467a-ae70-a936004f739c\")) {                    Plotly.newPlot(                        \"751b484b-a9e7-467a-ae70-a936004f739c\",                        [{\"alignmentgroup\": \"True\", \"hovertemplate\": \"Deserci\\u00f3n=1<br>Nivel de alfabetizaci\\u00f3n digital=%{x}<br>Edad=%{y}<extra></extra>\", \"legendgroup\": \"1\", \"marker\": {\"color\": \"#636efa\"}, \"name\": \"1\", \"notched\": false, \"offsetgroup\": \"1\", \"orientation\": \"v\", \"quartilemethod\": \"exclusive\", \"showlegend\": true, \"type\": \"box\", \"x\": [\"Bajo\", \"Bajo\", \"Bajo\", \"Bajo\", \"Bajo\", \"Bajo\", \"Bajo\", \"Bajo\", \"Bajo\", \"Bajo\", \"Bajo\", \"Bajo\", \"Bajo\", \"Bajo\", \"Bajo\", \"Bajo\", \"Bajo\", \"Bajo\", \"Bajo\", \"Bajo\", \"Bajo\", \"Bajo\", \"Bajo\", \"Bajo\", \"Bajo\", \"Bajo\", \"Bajo\", \"Bajo\", \"Bajo\", \"Bajo\", \"Bajo\", \"Bajo\", \"Bajo\", \"Bajo\", \"Bajo\", \"Bajo\", \"Bajo\", \"Bajo\", \"Bajo\", \"Bajo\", \"Bajo\", \"Bajo\", \"Bajo\", \"Medio\", \"Medio\", \"Medio\", \"Medio\", \"Medio\", \"Medio\", \"Medio\", \"Medio\", \"Medio\", \"Medio\", \"Medio\", \"Medio\", \"Medio\", \"Medio\", \"Medio\", \"Medio\", \"Medio\", \"Medio\"], \"x0\": \" \", \"xaxis\": \"x\", \"y\": [58, 60, 65, 63, 61, 50, 42, 37, 47, 37, 52, 70, 61, 52, 66, 63, 61, 53, 47, 62, 34, 38, 48, 44, 37, 64, 56, 34, 53, 36, 68, 53, 42, 52, 60, 32, 42, 38, 56, 33, 58, 51, 35, 59, 58, 47, 36, 49, 58, 66, 36, 44, 70, 39, 57, 51, 53, 35, 36, 41, 38], \"y0\": \" \", \"yaxis\": \"y\"}, {\"alignmentgroup\": \"True\", \"hovertemplate\": \"Deserci\\u00f3n=0<br>Nivel de alfabetizaci\\u00f3n digital=%{x}<br>Edad=%{y}<extra></extra>\", \"legendgroup\": \"0\", \"marker\": {\"color\": \"#EF553B\"}, \"name\": \"0\", \"notched\": false, \"offsetgroup\": \"0\", \"orientation\": \"v\", \"quartilemethod\": \"exclusive\", \"showlegend\": true, \"type\": \"box\", \"x\": [\"Bajo\", \"Bajo\", \"Bajo\", \"Bajo\", \"Bajo\", \"Bajo\", \"Bajo\", \"Bajo\", \"Bajo\", \"Bajo\", \"Bajo\", \"Bajo\", \"Bajo\", \"Bajo\", \"Bajo\", \"Bajo\", \"Bajo\", \"Bajo\", \"Bajo\", \"Bajo\", \"Bajo\", \"Bajo\", \"Bajo\", \"Bajo\", \"Bajo\", \"Bajo\", \"Bajo\", \"Bajo\", \"Bajo\", \"Bajo\", \"Bajo\", \"Bajo\", \"Bajo\", \"Bajo\", \"Bajo\", \"Bajo\", \"Bajo\", \"Bajo\", \"Bajo\", \"Bajo\", \"Bajo\", \"Bajo\", \"Bajo\", \"Medio\", \"Medio\", \"Medio\", \"Medio\", \"Medio\", \"Medio\", \"Medio\", \"Medio\", \"Medio\", \"Medio\", \"Medio\", \"Medio\", \"Medio\", \"Medio\", \"Medio\", \"Medio\", \"Medio\", \"Medio\", \"Medio\", \"Medio\", \"Medio\", \"Medio\", \"Medio\", \"Medio\", \"Medio\", \"Medio\", \"Medio\", \"Medio\", \"Medio\", \"Medio\", \"Medio\", \"Medio\", \"Medio\", \"Medio\", \"Medio\", \"Medio\", \"Medio\", \"Medio\", \"Medio\", \"Medio\", \"Medio\", \"Medio\", \"Medio\", \"Medio\", \"Medio\", \"Medio\", \"Medio\", \"Medio\", \"Medio\", \"Medio\", \"Medio\", \"Medio\", \"Medio\", \"Medio\", \"Medio\", \"Medio\", \"Medio\", \"Medio\", \"Medio\", \"Medio\", \"Medio\", \"Medio\", \"Medio\", \"Medio\", \"Medio\", \"Medio\", \"Medio\", \"Medio\", \"Medio\", \"Medio\", \"Medio\", \"Medio\", \"Medio\", \"Medio\", \"Medio\", \"Medio\", \"Medio\", \"Medio\", \"Medio\", \"Medio\", \"Medio\", \"Medio\", \"Medio\", \"Medio\", \"Medio\", \"Medio\", \"Medio\", \"Medio\", \"Medio\", \"Medio\", \"Medio\", \"Medio\", \"Medio\", \"Medio\", \"Medio\", \"Medio\", \"Medio\", \"Medio\", \"Medio\", \"Medio\", \"Medio\", \"Medio\", \"Medio\", \"Medio\", \"Medio\", \"Medio\", \"Medio\", \"Medio\", \"Medio\", \"Medio\", \"Medio\", \"Medio\", \"Medio\", \"Medio\", \"Medio\", \"Medio\", \"Medio\", \"Medio\", \"Medio\", \"Medio\", \"Medio\", \"Medio\", \"Medio\", \"Medio\", \"Medio\", \"Medio\", \"Medio\", \"Medio\", \"Medio\", \"Medio\", \"Medio\", \"Medio\", \"Medio\", \"Medio\", \"Medio\", \"Medio\", \"Medio\", \"Medio\", \"Medio\", \"Medio\", \"Medio\", \"Medio\", \"Medio\", \"Medio\", \"Medio\", \"Medio\", \"Medio\", \"Medio\", \"Medio\", \"Medio\", \"Medio\", \"Medio\", \"Medio\", \"Medio\", \"Medio\", \"Medio\", \"Medio\", \"Medio\", \"Medio\", \"Medio\", \"Medio\", \"Medio\", \"Medio\", \"Medio\", \"Medio\", \"Medio\", \"Medio\", \"Medio\", \"Medio\", \"Medio\", \"Medio\", \"Medio\", \"Medio\", \"Medio\", \"Medio\", \"Medio\", \"Medio\", \"Medio\", \"Medio\", \"Medio\", \"Medio\", \"Medio\", \"Medio\", \"Medio\", \"Medio\", \"Medio\", \"Medio\", \"Medio\", \"Medio\", \"Medio\", \"Medio\", \"Medio\", \"Medio\", \"Medio\", \"Medio\", \"Medio\", \"Medio\", \"Medio\", \"Medio\", \"Medio\", \"Medio\", \"Medio\", \"Medio\", \"Medio\", \"Medio\", \"Medio\", \"Medio\", \"Medio\", \"Medio\", \"Medio\", \"Alto\", \"Alto\", \"Alto\", \"Alto\", \"Alto\", \"Alto\", \"Alto\", \"Alto\", \"Alto\", \"Alto\", \"Alto\", \"Alto\", \"Alto\", \"Alto\"], \"x0\": \" \", \"xaxis\": \"x\", \"y\": [62, 56, 35, 44, 37, 37, 52, 51, 46, 43, 43, 50, 36, 29, 66, 45, 33, 43, 35, 50, 33, 41, 29, 34, 37, 34, 34, 49, 47, 47, 38, 53, 30, 42, 70, 29, 47, 35, 30, 32, 40, 30, 43, 29, 61, 33, 38, 32, 35, 25, 33, 35, 59, 37, 27, 43, 29, 38, 38, 35, 45, 36, 32, 41, 58, 53, 49, 51, 32, 39, 34, 61, 54, 37, 33, 28, 35, 43, 35, 32, 33, 37, 26, 36, 47, 34, 44, 37, 40, 56, 39, 47, 44, 52, 58, 55, 50, 42, 41, 58, 59, 38, 56, 34, 43, 43, 36, 35, 46, 53, 50, 44, 37, 34, 33, 49, 50, 40, 59, 55, 45, 58, 58, 33, 31, 57, 68, 73, 59, 72, 66, 58, 54, 72, 62, 36, 34, 38, 36, 36, 41, 35, 38, 33, 43, 54, 52, 37, 41, 49, 34, 34, 34, 34, 43, 41, 41, 71, 69, 56, 52, 54, 45, 52, 63, 56, 41, 56, 37, 40, 34, 36, 40, 39, 53, 33, 45, 67, 46, 52, 59, 54, 70, 48, 46, 52, 59, 50, 48, 58, 57, 35, 52, 57, 55, 57, 55, 50, 61, 42, 48, 48, 49, 50, 39, 36, 32, 33, 40, 45, 48, 39, 39, 32, 32, 38, 37, 33, 34, 37, 36, 31, 36, 32, 33, 31, 37, 30, 59, 54, 53, 72, 68, 47, 53, 47, 63, 53, 57, 48, 41, 58, 54, 43, 40, 39, 42, 44, 43, 35, 35, 43, 46, 55, 47, 39, 36, 43, 35, 43, 54, 39, 48, 52, 54, 45, 66], \"y0\": \" \", \"yaxis\": \"y\"}],                        {\"boxmode\": \"group\", \"legend\": {\"title\": {\"text\": \"Deserci\\u00f3n\"}, \"tracegroupgap\": 0}, \"margin\": {\"t\": 60}, \"template\": {\"data\": {\"bar\": [{\"error_x\": {\"color\": \"#2a3f5f\"}, \"error_y\": {\"color\": \"#2a3f5f\"}, \"marker\": {\"line\": {\"color\": \"#E5ECF6\", \"width\": 0.5}}, \"type\": \"bar\"}], \"barpolar\": [{\"marker\": {\"line\": {\"color\": \"#E5ECF6\", \"width\": 0.5}}, \"type\": \"barpolar\"}], \"carpet\": [{\"aaxis\": {\"endlinecolor\": \"#2a3f5f\", \"gridcolor\": \"white\", \"linecolor\": \"white\", \"minorgridcolor\": \"white\", \"startlinecolor\": \"#2a3f5f\"}, \"baxis\": {\"endlinecolor\": \"#2a3f5f\", \"gridcolor\": \"white\", \"linecolor\": \"white\", \"minorgridcolor\": \"white\", \"startlinecolor\": \"#2a3f5f\"}, \"type\": \"carpet\"}], \"choropleth\": [{\"colorbar\": {\"outlinewidth\": 0, \"ticks\": \"\"}, \"type\": \"choropleth\"}], \"contour\": [{\"colorbar\": {\"outlinewidth\": 0, \"ticks\": \"\"}, \"colorscale\": [[0.0, \"#0d0887\"], [0.1111111111111111, \"#46039f\"], [0.2222222222222222, \"#7201a8\"], [0.3333333333333333, \"#9c179e\"], [0.4444444444444444, \"#bd3786\"], [0.5555555555555556, \"#d8576b\"], [0.6666666666666666, \"#ed7953\"], [0.7777777777777778, \"#fb9f3a\"], [0.8888888888888888, \"#fdca26\"], [1.0, \"#f0f921\"]], \"type\": \"contour\"}], \"contourcarpet\": [{\"colorbar\": {\"outlinewidth\": 0, \"ticks\": \"\"}, \"type\": \"contourcarpet\"}], \"heatmap\": [{\"colorbar\": {\"outlinewidth\": 0, \"ticks\": \"\"}, \"colorscale\": [[0.0, \"#0d0887\"], [0.1111111111111111, \"#46039f\"], [0.2222222222222222, \"#7201a8\"], [0.3333333333333333, \"#9c179e\"], [0.4444444444444444, \"#bd3786\"], [0.5555555555555556, \"#d8576b\"], [0.6666666666666666, \"#ed7953\"], [0.7777777777777778, \"#fb9f3a\"], [0.8888888888888888, \"#fdca26\"], [1.0, \"#f0f921\"]], \"type\": \"heatmap\"}], \"heatmapgl\": [{\"colorbar\": {\"outlinewidth\": 0, \"ticks\": \"\"}, \"colorscale\": [[0.0, \"#0d0887\"], [0.1111111111111111, \"#46039f\"], [0.2222222222222222, \"#7201a8\"], [0.3333333333333333, \"#9c179e\"], [0.4444444444444444, \"#bd3786\"], [0.5555555555555556, \"#d8576b\"], [0.6666666666666666, \"#ed7953\"], [0.7777777777777778, \"#fb9f3a\"], [0.8888888888888888, \"#fdca26\"], [1.0, \"#f0f921\"]], \"type\": \"heatmapgl\"}], \"histogram\": [{\"marker\": {\"colorbar\": {\"outlinewidth\": 0, \"ticks\": \"\"}}, \"type\": \"histogram\"}], \"histogram2d\": [{\"colorbar\": {\"outlinewidth\": 0, \"ticks\": \"\"}, \"colorscale\": [[0.0, \"#0d0887\"], [0.1111111111111111, \"#46039f\"], [0.2222222222222222, \"#7201a8\"], [0.3333333333333333, \"#9c179e\"], [0.4444444444444444, \"#bd3786\"], [0.5555555555555556, \"#d8576b\"], [0.6666666666666666, \"#ed7953\"], [0.7777777777777778, \"#fb9f3a\"], [0.8888888888888888, \"#fdca26\"], [1.0, \"#f0f921\"]], \"type\": \"histogram2d\"}], \"histogram2dcontour\": [{\"colorbar\": {\"outlinewidth\": 0, \"ticks\": \"\"}, \"colorscale\": [[0.0, \"#0d0887\"], [0.1111111111111111, \"#46039f\"], [0.2222222222222222, \"#7201a8\"], [0.3333333333333333, \"#9c179e\"], [0.4444444444444444, \"#bd3786\"], [0.5555555555555556, \"#d8576b\"], [0.6666666666666666, \"#ed7953\"], [0.7777777777777778, \"#fb9f3a\"], [0.8888888888888888, \"#fdca26\"], [1.0, \"#f0f921\"]], \"type\": \"histogram2dcontour\"}], \"mesh3d\": [{\"colorbar\": {\"outlinewidth\": 0, \"ticks\": \"\"}, \"type\": \"mesh3d\"}], \"parcoords\": [{\"line\": {\"colorbar\": {\"outlinewidth\": 0, \"ticks\": \"\"}}, \"type\": \"parcoords\"}], \"pie\": [{\"automargin\": true, \"type\": \"pie\"}], \"scatter\": [{\"marker\": {\"colorbar\": {\"outlinewidth\": 0, \"ticks\": \"\"}}, \"type\": \"scatter\"}], \"scatter3d\": [{\"line\": {\"colorbar\": {\"outlinewidth\": 0, \"ticks\": \"\"}}, \"marker\": {\"colorbar\": {\"outlinewidth\": 0, \"ticks\": \"\"}}, \"type\": \"scatter3d\"}], \"scattercarpet\": [{\"marker\": {\"colorbar\": {\"outlinewidth\": 0, \"ticks\": \"\"}}, \"type\": \"scattercarpet\"}], \"scattergeo\": [{\"marker\": {\"colorbar\": {\"outlinewidth\": 0, \"ticks\": \"\"}}, \"type\": \"scattergeo\"}], \"scattergl\": [{\"marker\": {\"colorbar\": {\"outlinewidth\": 0, \"ticks\": \"\"}}, \"type\": \"scattergl\"}], \"scattermapbox\": [{\"marker\": {\"colorbar\": {\"outlinewidth\": 0, \"ticks\": \"\"}}, \"type\": \"scattermapbox\"}], \"scatterpolar\": [{\"marker\": {\"colorbar\": {\"outlinewidth\": 0, \"ticks\": \"\"}}, \"type\": \"scatterpolar\"}], \"scatterpolargl\": [{\"marker\": {\"colorbar\": {\"outlinewidth\": 0, \"ticks\": \"\"}}, \"type\": \"scatterpolargl\"}], \"scatterternary\": [{\"marker\": {\"colorbar\": {\"outlinewidth\": 0, \"ticks\": \"\"}}, \"type\": \"scatterternary\"}], \"surface\": [{\"colorbar\": {\"outlinewidth\": 0, \"ticks\": \"\"}, \"colorscale\": [[0.0, \"#0d0887\"], [0.1111111111111111, \"#46039f\"], [0.2222222222222222, \"#7201a8\"], [0.3333333333333333, \"#9c179e\"], [0.4444444444444444, \"#bd3786\"], [0.5555555555555556, \"#d8576b\"], [0.6666666666666666, \"#ed7953\"], [0.7777777777777778, \"#fb9f3a\"], [0.8888888888888888, \"#fdca26\"], [1.0, \"#f0f921\"]], \"type\": \"surface\"}], \"table\": [{\"cells\": {\"fill\": {\"color\": \"#EBF0F8\"}, \"line\": {\"color\": \"white\"}}, \"header\": {\"fill\": {\"color\": \"#C8D4E3\"}, \"line\": {\"color\": \"white\"}}, \"type\": \"table\"}]}, \"layout\": {\"annotationdefaults\": {\"arrowcolor\": \"#2a3f5f\", \"arrowhead\": 0, \"arrowwidth\": 1}, \"autotypenumbers\": \"strict\", \"coloraxis\": {\"colorbar\": {\"outlinewidth\": 0, \"ticks\": \"\"}}, \"colorscale\": {\"diverging\": [[0, \"#8e0152\"], [0.1, \"#c51b7d\"], [0.2, \"#de77ae\"], [0.3, \"#f1b6da\"], [0.4, \"#fde0ef\"], [0.5, \"#f7f7f7\"], [0.6, \"#e6f5d0\"], [0.7, \"#b8e186\"], [0.8, \"#7fbc41\"], [0.9, \"#4d9221\"], [1, \"#276419\"]], \"sequential\": [[0.0, \"#0d0887\"], [0.1111111111111111, \"#46039f\"], [0.2222222222222222, \"#7201a8\"], [0.3333333333333333, \"#9c179e\"], [0.4444444444444444, \"#bd3786\"], [0.5555555555555556, \"#d8576b\"], [0.6666666666666666, \"#ed7953\"], [0.7777777777777778, \"#fb9f3a\"], [0.8888888888888888, \"#fdca26\"], [1.0, \"#f0f921\"]], \"sequentialminus\": [[0.0, \"#0d0887\"], [0.1111111111111111, \"#46039f\"], [0.2222222222222222, \"#7201a8\"], [0.3333333333333333, \"#9c179e\"], [0.4444444444444444, \"#bd3786\"], [0.5555555555555556, \"#d8576b\"], [0.6666666666666666, \"#ed7953\"], [0.7777777777777778, \"#fb9f3a\"], [0.8888888888888888, \"#fdca26\"], [1.0, \"#f0f921\"]]}, \"colorway\": [\"#636efa\", \"#EF553B\", \"#00cc96\", \"#ab63fa\", \"#FFA15A\", \"#19d3f3\", \"#FF6692\", \"#B6E880\", \"#FF97FF\", \"#FECB52\"], \"font\": {\"color\": \"#2a3f5f\"}, \"geo\": {\"bgcolor\": \"white\", \"lakecolor\": \"white\", \"landcolor\": \"#E5ECF6\", \"showlakes\": true, \"showland\": true, \"subunitcolor\": \"white\"}, \"hoverlabel\": {\"align\": \"left\"}, \"hovermode\": \"closest\", \"mapbox\": {\"style\": \"light\"}, \"paper_bgcolor\": \"white\", \"plot_bgcolor\": \"#E5ECF6\", \"polar\": {\"angularaxis\": {\"gridcolor\": \"white\", \"linecolor\": \"white\", \"ticks\": \"\"}, \"bgcolor\": \"#E5ECF6\", \"radialaxis\": {\"gridcolor\": \"white\", \"linecolor\": \"white\", \"ticks\": \"\"}}, \"scene\": {\"xaxis\": {\"backgroundcolor\": \"#E5ECF6\", \"gridcolor\": \"white\", \"gridwidth\": 2, \"linecolor\": \"white\", \"showbackground\": true, \"ticks\": \"\", \"zerolinecolor\": \"white\"}, \"yaxis\": {\"backgroundcolor\": \"#E5ECF6\", \"gridcolor\": \"white\", \"gridwidth\": 2, \"linecolor\": \"white\", \"showbackground\": true, \"ticks\": \"\", \"zerolinecolor\": \"white\"}, \"zaxis\": {\"backgroundcolor\": \"#E5ECF6\", \"gridcolor\": \"white\", \"gridwidth\": 2, \"linecolor\": \"white\", \"showbackground\": true, \"ticks\": \"\", \"zerolinecolor\": \"white\"}}, \"shapedefaults\": {\"line\": {\"color\": \"#2a3f5f\"}}, \"ternary\": {\"aaxis\": {\"gridcolor\": \"white\", \"linecolor\": \"white\", \"ticks\": \"\"}, \"baxis\": {\"gridcolor\": \"white\", \"linecolor\": \"white\", \"ticks\": \"\"}, \"bgcolor\": \"#E5ECF6\", \"caxis\": {\"gridcolor\": \"white\", \"linecolor\": \"white\", \"ticks\": \"\"}}, \"title\": {\"x\": 0.05}, \"xaxis\": {\"automargin\": true, \"gridcolor\": \"white\", \"linecolor\": \"white\", \"ticks\": \"\", \"title\": {\"standoff\": 15}, \"zerolinecolor\": \"white\", \"zerolinewidth\": 2}, \"yaxis\": {\"automargin\": true, \"gridcolor\": \"white\", \"linecolor\": \"white\", \"ticks\": \"\", \"title\": {\"standoff\": 15}, \"zerolinecolor\": \"white\", \"zerolinewidth\": 2}}}, \"xaxis\": {\"anchor\": \"y\", \"domain\": [0.0, 1.0], \"title\": {\"text\": \"Nivel de alfabetizaci\\u00f3n digital\"}}, \"yaxis\": {\"anchor\": \"x\", \"domain\": [0.0, 1.0], \"title\": {\"text\": \"Edad\"}}},                        {\"responsive\": true}                    ).then(function(){\n",
       "                            \n",
       "var gd = document.getElementById('751b484b-a9e7-467a-ae70-a936004f739c');\n",
       "var x = new MutationObserver(function (mutations, observer) {{\n",
       "        var display = window.getComputedStyle(gd).display;\n",
       "        if (!display || display === 'none') {{\n",
       "            console.log([gd, 'removed!']);\n",
       "            Plotly.purge(gd);\n",
       "            observer.disconnect();\n",
       "        }}\n",
       "}});\n",
       "\n",
       "// Listen for the removal of the full notebook cells\n",
       "var notebookContainer = gd.closest('#notebook-container');\n",
       "if (notebookContainer) {{\n",
       "    x.observe(notebookContainer, {childList: true});\n",
       "}}\n",
       "\n",
       "// Listen for the clearing of the current output cell\n",
       "var outputEl = gd.closest('.output');\n",
       "if (outputEl) {{\n",
       "    x.observe(outputEl, {childList: true});\n",
       "}}\n",
       "\n",
       "                        })                };                });            </script>        </div>"
      ]
     },
     "metadata": {},
     "output_type": "display_data"
    }
   ],
   "source": [
    "fig = px.box(df, x=\"Nivel de alfabetización digital\", y=\"Edad\", color=\"Deserción\")\n",
    "fig.update_traces(quartilemethod=\"exclusive\") # or \"inclusive\", or \"linear\" by default\n",
    "fig.show()"
   ]
  },
  {
   "cell_type": "markdown",
   "metadata": {},
   "source": [
    "<a id=\"clf\"></a>\n",
    "### Clasificación de pacientes\n",
    "Ahora utilizaremos un modelo de vecinos cercanos y una regresión logística como clasificador de personas.\n",
    "<a id=\"prep\"></a>\n",
    "#### Preparación de los datos\n",
    "¿Qué debemos hacer con el dataset antes de entrenar el modelo?\n",
    "- Crear variables dummies"
   ]
  },
  {
   "cell_type": "code",
   "execution_count": 59,
   "metadata": {},
   "outputs": [
    {
     "data": {
      "text/plain": [
       "Index(['GÉNERO', 'FECHA DE INSCRIPCION', 'CÓDIGO POSTAL', 'CIUDAD',\n",
       "       'PROVINCIA', 'Curso', 'Edad', 'Hijos', 'Clase Social',\n",
       "       'Situación laboral', 'Nivel educativo',\n",
       "       'Nivel de alfabetización digital', 'Herramientas tecnológicas',\n",
       "       'Conectividad', 'Deserción'],\n",
       "      dtype='object')"
      ]
     },
     "execution_count": 59,
     "metadata": {},
     "output_type": "execute_result"
    }
   ],
   "source": [
    "df.columns"
   ]
  },
  {
   "cell_type": "code",
   "execution_count": 60,
   "metadata": {},
   "outputs": [],
   "source": [
    "df = pd.get_dummies(df, drop_first = True)"
   ]
  },
  {
   "cell_type": "markdown",
   "metadata": {},
   "source": [
    "# Modelo KNN"
   ]
  },
  {
   "cell_type": "markdown",
   "metadata": {},
   "source": [
    "Para el modelo de vecinos cercanos se hacen iteraciones para ver el K optimo. Este resultado se selecciona mediante los resultados de la validacion cruzada"
   ]
  },
  {
   "cell_type": "code",
   "execution_count": 61,
   "metadata": {},
   "outputs": [],
   "source": [
    "from sklearn.neighbors import KNeighborsClassifier\n",
    "from sklearn.model_selection import train_test_split, cross_val_score, KFold\n",
    "\n",
    "X = df.drop(columns=['Deserción'])\n",
    "y = df['Deserción']\n",
    "\n",
    "X_train, X_test, y_train, y_test = train_test_split(X, y,random_state = 0)"
   ]
  },
  {
   "cell_type": "code",
   "execution_count": 62,
   "metadata": {},
   "outputs": [],
   "source": [
    "kf = KFold(n_splits = 5, shuffle = True, random_state = 12)\n",
    "\n",
    "knn = KNeighborsClassifier()\n",
    "\n",
    "model = knn.fit(X_train, y_train)\n",
    "\n",
    "k_range = list(range(1,30))\n",
    "scores = []\n",
    "\n",
    "for i in k_range:\n",
    "    knn = KNeighborsClassifier(n_neighbors = i)\n",
    "    knn.fit(X_train, y_train)\n",
    "    cv_scores = cross_val_score(knn, X_test, y_test, cv = kf)\n",
    "    scores.append(np.mean(cv_scores))"
   ]
  },
  {
   "cell_type": "code",
   "execution_count": 63,
   "metadata": {},
   "outputs": [
    {
     "data": {
      "image/png": "[encoded data removed]",
      "text/plain": [
       "<Figure size 576x360 with 1 Axes>"
      ]
     },
     "metadata": {
      "needs_background": "light"
     },
     "output_type": "display_data"
    }
   ],
   "source": [
    "import matplotlib.pyplot as plt\n",
    "\n",
    "plt.figure(figsize = (8,5))\n",
    "plt.plot(k_range, scores)\n",
    "plt.xlabel('Valor de K'); plt.ylabel('Accuracy')\n",
    "plt.grid(); plt.show()"
   ]
  },
  {
   "cell_type": "markdown",
   "metadata": {},
   "source": [
    "El valor optimo de K se encuentra entre 5 y 7."
   ]
  },
  {
   "cell_type": "markdown",
   "metadata": {},
   "source": [
    "# Modelo Regresion Logistica"
   ]
  },
  {
   "cell_type": "markdown",
   "metadata": {},
   "source": [
    "Se utilizan varias iteraciones en el modelo para encontrar el mejor accurracy que nos devuelve la validacion cruzada. (Promedio de 5 folds)"
   ]
  },
  {
   "cell_type": "code",
   "execution_count": 64,
   "metadata": {},
   "outputs": [],
   "source": [
    "# Preparamos la matriz de features y el vector objetivo\n",
    "X = df.drop(columns=['Deserción'])\n",
    "y = df['Deserción']"
   ]
  },
  {
   "cell_type": "code",
   "execution_count": 65,
   "metadata": {},
   "outputs": [],
   "source": [
    "# Separamos un set de testeo para evaluar el modelo\n",
    "\n",
    "X_train, X_test, y_train, y_test = train_test_split(X, y, stratify=y, random_state = 0)"
   ]
  },
  {
   "cell_type": "code",
   "execution_count": 66,
   "metadata": {},
   "outputs": [
    {
     "data": {
      "text/plain": [
       "(0.18699186991869918, 0.18292682926829268)"
      ]
     },
     "execution_count": 66,
     "metadata": {},
     "output_type": "execute_result"
    }
   ],
   "source": [
    "# Verificamos que coincidan las proporciones del target\n",
    "y_train.mean(), y_test.mean()"
   ]
  },
  {
   "cell_type": "markdown",
   "metadata": {},
   "source": [
    "<a id=\"fit\"></a>\n",
    "#### Ajuste del modelo"
   ]
  },
  {
   "cell_type": "code",
   "execution_count": 67,
   "metadata": {},
   "outputs": [],
   "source": [
    "from sklearn.linear_model import LogisticRegression\n",
    "from sklearn.metrics import accuracy_score, confusion_matrix, classification_report\n",
    "import warnings\n",
    "warnings.filterwarnings('ignore')\n",
    "\n",
    "iteraciones  = []\n",
    "scores = []\n",
    "\n",
    "for i in range(0, 150):\n",
    "    i += 10\n",
    "    lr = LogisticRegression(max_iter=i)\n",
    "    lr.fit(X_train, y_train)\n",
    "    #accuracy_log.append(accuracy_score(y_test, lr.predict(X_test)).round(4))\n",
    "    iteraciones.append(i)\n",
    "    cv_scores = cross_val_score(lr, X_test, y_test, cv = kf)\n",
    "    scores.append(np.mean(cv_scores))"
   ]
  },
  {
   "cell_type": "markdown",
   "metadata": {},
   "source": [
    "<a id=\"eval\"></a>\n",
    "#### Evaluación del modelo\n",
    "Con el modelo entrenado podemos comenzar a evaluar su performance y ver si podemos hacer algo para mejorarlo"
   ]
  },
  {
   "cell_type": "code",
   "execution_count": 68,
   "metadata": {},
   "outputs": [
    {
     "data": {
      "image/png": "[encoded data removed]",
      "text/plain": [
       "<Figure size 576x360 with 1 Axes>"
      ]
     },
     "metadata": {
      "needs_background": "light"
     },
     "output_type": "display_data"
    }
   ],
   "source": [
    "plt.figure(figsize = (8,5))\n",
    "plt.plot(iteraciones, scores)\n",
    "plt.xlabel('Valor de Iteraciones'); plt.ylabel('Accuracy')\n",
    "plt.grid(); plt.show()"
   ]
  },
  {
   "cell_type": "code",
   "execution_count": 69,
   "metadata": {},
   "outputs": [
    {
     "data": {
      "text/plain": [
       "array([0.99343835, 0.93606644, 0.99366628, 0.53284524, 0.98980622,\n",
       "       0.99361963, 0.98960164, 0.99148118, 0.12632307, 0.96482658,\n",
       "       0.94617872, 0.98980231, 0.97420252, 0.10989194, 0.22734285,\n",
       "       0.99006477, 0.9712876 , 0.97220157, 0.97644943, 0.10079953,\n",
       "       0.990906  , 0.97905122, 0.97440456, 0.98542678, 0.99173204,\n",
       "       0.64362   , 0.96726142, 0.9082861 , 0.97770788, 0.97695786,\n",
       "       0.11019742, 0.96659567, 0.93766433, 0.98853543, 0.98727843,\n",
       "       0.92582009, 0.92173615, 0.92875409, 0.99279316, 0.90070193,\n",
       "       0.96977097, 0.99569529, 0.15111443, 0.95633607, 0.99272697,\n",
       "       0.96397622, 0.98052235, 0.99024534, 0.97847319, 0.11174996,\n",
       "       0.96531687, 0.98660831, 0.1198838 , 0.89153777, 0.99498098,\n",
       "       0.99229661, 0.95677622, 0.13562445, 0.99133658, 0.98339126,\n",
       "       0.92708442, 0.88206318, 0.96905356, 0.18015076, 0.95945331,\n",
       "       0.99284122, 0.99260524, 0.97812435, 0.12284709, 0.09545997,\n",
       "       0.99331838, 0.99281467, 0.95174844, 0.08599683, 0.89348358,\n",
       "       0.1297754 , 0.97621652, 0.98338352, 0.98701843, 0.99084577,\n",
       "       0.43258443, 0.22312947, 0.10932183, 0.99225434, 0.48241903,\n",
       "       0.95898414, 0.9573778 , 0.14279171, 0.99160247, 0.06474191,\n",
       "       0.98508254, 0.98355198, 0.97052107, 0.09475683, 0.98650138,\n",
       "       0.94876853, 0.98085799, 0.99616413, 0.98648466, 0.08213504,\n",
       "       0.98377972, 0.98167212, 0.97404873, 0.97226531, 0.97906375,\n",
       "       0.97963415, 0.98764696, 0.99429352, 0.99400605, 0.99073462,\n",
       "       0.98919878, 0.99482237, 0.96398557, 0.97808601, 0.11072681,\n",
       "       0.97467017, 0.94133403, 0.9860929 , 0.99644602, 0.95815382,\n",
       "       0.97696182, 0.08132421, 0.13660836, 0.99038647, 0.97882873,\n",
       "       0.98724779, 0.99088092, 0.95661834, 0.9085155 , 0.91645942,\n",
       "       0.48098064, 0.05204176, 0.95723569, 0.98909444, 0.98796943,\n",
       "       0.9688603 , 0.99146072, 0.98767494, 0.99374011, 0.99530258,\n",
       "       0.97416839, 0.98306608, 0.05394014, 0.99333086, 0.9700045 ,\n",
       "       0.17475776, 0.92084614, 0.97339764, 0.91993851, 0.08035339,\n",
       "       0.98927287, 0.994312  , 0.99497895, 0.99711775, 0.98846414,\n",
       "       0.98876227, 0.97766291, 0.19181219, 0.21318556, 0.16135222,\n",
       "       0.05266632, 0.99829592, 0.98745465, 0.9920253 , 0.08158464,\n",
       "       0.93674634, 0.95852829, 0.9952028 , 0.9901967 , 0.99075449,\n",
       "       0.97934313, 0.98521166, 0.98748604, 0.98878155, 0.97973303,\n",
       "       0.99311921, 0.95976869, 0.18552649, 0.04762447, 0.97603082,\n",
       "       0.9441411 , 0.99018837, 0.41788747, 0.09892018, 0.98433318,\n",
       "       0.94370112, 0.93336019, 0.99410092, 0.98165834, 0.98242629,\n",
       "       0.08965387, 0.9750993 , 0.98539962, 0.99353037, 0.97706038,\n",
       "       0.97495079, 0.93867441, 0.99375052, 0.97635046, 0.99128114,\n",
       "       0.98801532, 0.13800176, 0.93848008, 0.99328209, 0.97792671,\n",
       "       0.99597483, 0.09898392, 0.99354849, 0.99318799, 0.99329768,\n",
       "       0.99405883, 0.96530928, 0.09754675, 0.99032112, 0.98068951,\n",
       "       0.08578066, 0.99074459, 0.98845581, 0.9947413 , 0.98587981,\n",
       "       0.97244045, 0.11943543, 0.56267751, 0.96452224, 0.99138182,\n",
       "       0.07371935, 0.99318217, 0.9964764 , 0.99161586, 0.97914728,\n",
       "       0.17104855, 0.99221643, 0.98203464, 0.96491225, 0.98811372,\n",
       "       0.98862827, 0.9960871 , 0.9664551 , 0.98969469, 0.98651247,\n",
       "       0.99305231, 0.98878633, 0.98015038, 0.98920469, 0.98746255,\n",
       "       0.96880229])"
      ]
     },
     "execution_count": 69,
     "metadata": {},
     "output_type": "execute_result"
    }
   ],
   "source": [
    "lr.predict_proba(X_train)[0:,0]"
   ]
  },
  {
   "cell_type": "code",
   "execution_count": 70,
   "metadata": {},
   "outputs": [
    {
     "data": {
      "text/plain": [
       "LogisticRegression(max_iter=95)"
      ]
     },
     "execution_count": 70,
     "metadata": {},
     "output_type": "execute_result"
    }
   ],
   "source": [
    "lr = LogisticRegression(max_ite r= np.argmax(scores))\n",
    "lr.fit(X_train, y_train)"
   ]
  },
  {
   "cell_type": "code",
   "execution_count": 71,
   "metadata": {},
   "outputs": [
    {
     "data": {
      "image/png": "[encoded data removed]",
      "text/plain": [
       "<Figure size 432x288 with 2 Axes>"
      ]
     },
     "metadata": {
      "needs_background": "light"
     },
     "output_type": "display_data"
    }
   ],
   "source": [
    "import seaborn as sns\n",
    "sns.heatmap(confusion_matrix(y_test, lr.predict(X_test)), annot=True, fmt='4d');\n",
    "plt.xlabel('Predichos');\n",
    "plt.ylabel('Reales');"
   ]
  },
  {
   "cell_type": "code",
   "execution_count": 72,
   "metadata": {},
   "outputs": [
    {
     "data": {
      "text/plain": [
       "0.9512195121951219"
      ]
     },
     "execution_count": 72,
     "metadata": {},
     "output_type": "execute_result"
    }
   ],
   "source": [
    "accuracy_score(y_test, lr.predict(X_test))"
   ]
  },
  {
   "cell_type": "markdown",
   "metadata": {},
   "source": [
    "Importancia de las Variables"
   ]
  },
  {
   "cell_type": "code",
   "execution_count": 73,
   "metadata": {},
   "outputs": [
    {
     "data": {
      "image/png": "[encoded data removed]",
      "text/plain": [
       "<Figure size 864x720 with 1 Axes>"
      ]
     },
     "metadata": {
      "needs_background": "light"
     },
     "output_type": "display_data"
    }
   ],
   "source": [
    "feature_importance = abs(lr.coef_[0])\n",
    "feature_importance = 100.0 * (feature_importance / feature_importance.max())\n",
    "sorted_idx = np.argsort(feature_importance)\n",
    "pos = (np.arange(sorted_idx.shape[0]) + .5)\n",
    "featfig = plt.figure(figsize = (12,10))\n",
    "featax = featfig.add_subplot(1, 1, 1)\n",
    "featax.barh(pos, feature_importance[sorted_idx], align='center')\n",
    "featax.set_yticks(pos)\n",
    "featax.set_yticklabels(np.array(X.columns)[sorted_idx], fontsize=8)\n",
    "featax.set_xlabel('Relative Feature Importance')\n",
    "plt.tight_layout()   \n",
    "plt.show()"
   ]
  }
 ],
 "metadata": {
  "kernelspec": {
   "display_name": "Python 3 (ipykernel)",
   "language": "python",
   "name": "python3"
  },
  "language_info": {
   "codemirror_mode": {
    "name": "ipython",
    "version": 3
   },
   "file_extension": ".py",
   "mimetype": "text/x-python",
   "name": "python",
   "nbconvert_exporter": "python",
   "pygments_lexer": "ipython3",
   "version": "3.8.13"
  }
 },
 "nbformat": 4,
 "nbformat_minor": 4
}
