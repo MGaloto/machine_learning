{
 "cells": [
  {
   "cell_type": "markdown",
   "metadata": {},
   "source": [
    "# Modelos Supervisados de Clasificacion\n",
    " \n",
    "Iterando y probando modelos para predecir Deserciónes"
   ]
  },
  {
   "cell_type": "code",
   "execution_count": 280,
   "metadata": {},
   "outputs": [],
   "source": [
    "import pandas as pd\n",
    "import numpy as np"
   ]
  },
  {
   "cell_type": "code",
   "execution_count": 281,
   "metadata": {},
   "outputs": [],
   "source": [
    "df = pd.read_csv('ceiret.csv')\n",
    "df.drop(['APELLIDO Y NOMBRE', 'PAIS','FECHA NACIMIENTO'], axis=1, inplace= True)"
   ]
  },
  {
   "cell_type": "code",
   "execution_count": 282,
   "metadata": {},
   "outputs": [
    {
     "data": {
      "text/html": [
       "<div>\n",
       "<style scoped>\n",
       "    .dataframe tbody tr th:only-of-type {\n",
       "        vertical-align: middle;\n",
       "    }\n",
       "\n",
       "    .dataframe tbody tr th {\n",
       "        vertical-align: top;\n",
       "    }\n",
       "\n",
       "    .dataframe thead th {\n",
       "        text-align: right;\n",
       "    }\n",
       "</style>\n",
       "<table border=\"1\" class=\"dataframe\">\n",
       "  <thead>\n",
       "    <tr style=\"text-align: right;\">\n",
       "      <th></th>\n",
       "      <th>GÉNERO</th>\n",
       "      <th>FECHA DE INSCRIPCION</th>\n",
       "      <th>CÓDIGO POSTAL</th>\n",
       "      <th>CIUDAD</th>\n",
       "      <th>PROVINCIA</th>\n",
       "      <th>Curso</th>\n",
       "      <th>Edad</th>\n",
       "      <th>Hijos</th>\n",
       "      <th>Clase Social</th>\n",
       "      <th>Situación laboral</th>\n",
       "      <th>Nivel educativo</th>\n",
       "      <th>Nivel de alfabetización digital</th>\n",
       "      <th>Herramientas tecnológicas</th>\n",
       "      <th>Conectividad</th>\n",
       "      <th>Deserción</th>\n",
       "    </tr>\n",
       "  </thead>\n",
       "  <tbody>\n",
       "    <tr>\n",
       "      <th>0</th>\n",
       "      <td>F</td>\n",
       "      <td>8/1/1997</td>\n",
       "      <td>C1407</td>\n",
       "      <td>Caba</td>\n",
       "      <td>Buenos Aires</td>\n",
       "      <td>Carpinteria Nivel  I</td>\n",
       "      <td>58</td>\n",
       "      <td>1</td>\n",
       "      <td>Marginal</td>\n",
       "      <td>Empleado</td>\n",
       "      <td>Primario</td>\n",
       "      <td>Bajo</td>\n",
       "      <td>Celular</td>\n",
       "      <td>Datos</td>\n",
       "      <td>SI</td>\n",
       "    </tr>\n",
       "    <tr>\n",
       "      <th>1</th>\n",
       "      <td>M</td>\n",
       "      <td>7/1/2003</td>\n",
       "      <td>C1407</td>\n",
       "      <td>Caba</td>\n",
       "      <td>Buenos Aires</td>\n",
       "      <td>Carpinteria Nivel  I</td>\n",
       "      <td>60</td>\n",
       "      <td>5</td>\n",
       "      <td>Marginal</td>\n",
       "      <td>Empleado</td>\n",
       "      <td>Primario</td>\n",
       "      <td>Bajo</td>\n",
       "      <td>Celular</td>\n",
       "      <td>Datos</td>\n",
       "      <td>SI</td>\n",
       "    </tr>\n",
       "    <tr>\n",
       "      <th>2</th>\n",
       "      <td>M</td>\n",
       "      <td>7/1/2003</td>\n",
       "      <td>C1183</td>\n",
       "      <td>Caba</td>\n",
       "      <td>Buenos Aires</td>\n",
       "      <td>Carpinteria Nivel  I</td>\n",
       "      <td>65</td>\n",
       "      <td>4</td>\n",
       "      <td>Marginal</td>\n",
       "      <td>Empleado</td>\n",
       "      <td>Primario</td>\n",
       "      <td>Bajo</td>\n",
       "      <td>Celular</td>\n",
       "      <td>Datos</td>\n",
       "      <td>SI</td>\n",
       "    </tr>\n",
       "    <tr>\n",
       "      <th>3</th>\n",
       "      <td>F</td>\n",
       "      <td>2/1/2005</td>\n",
       "      <td>B1648</td>\n",
       "      <td>Los Troncos Del Talar</td>\n",
       "      <td>Buenos Aires</td>\n",
       "      <td>Carpinteria Nivel  I</td>\n",
       "      <td>63</td>\n",
       "      <td>2</td>\n",
       "      <td>Marginal</td>\n",
       "      <td>Empleado</td>\n",
       "      <td>Primario</td>\n",
       "      <td>Bajo</td>\n",
       "      <td>Celular</td>\n",
       "      <td>Datos</td>\n",
       "      <td>SI</td>\n",
       "    </tr>\n",
       "    <tr>\n",
       "      <th>4</th>\n",
       "      <td>F</td>\n",
       "      <td>8/1/2005</td>\n",
       "      <td>C1407</td>\n",
       "      <td>Caba</td>\n",
       "      <td>Buenos Aires</td>\n",
       "      <td>Carpinteria Nivel  I</td>\n",
       "      <td>61</td>\n",
       "      <td>4</td>\n",
       "      <td>Marginal</td>\n",
       "      <td>Empleado</td>\n",
       "      <td>Primario</td>\n",
       "      <td>Bajo</td>\n",
       "      <td>Celular</td>\n",
       "      <td>Datos</td>\n",
       "      <td>SI</td>\n",
       "    </tr>\n",
       "  </tbody>\n",
       "</table>\n",
       "</div>"
      ],
      "text/plain": [
       "  GÉNERO FECHA DE INSCRIPCION CÓDIGO POSTAL                 CIUDAD  \\\n",
       "0      F             8/1/1997         C1407                   Caba   \n",
       "1      M             7/1/2003         C1407                   Caba   \n",
       "2      M             7/1/2003         C1183                   Caba   \n",
       "3      F             2/1/2005         B1648  Los Troncos Del Talar   \n",
       "4      F             8/1/2005         C1407                   Caba   \n",
       "\n",
       "      PROVINCIA                 Curso  Edad  Hijos Clase Social  \\\n",
       "0  Buenos Aires  Carpinteria Nivel  I    58      1     Marginal   \n",
       "1  Buenos Aires  Carpinteria Nivel  I    60      5     Marginal   \n",
       "2  Buenos Aires  Carpinteria Nivel  I    65      4     Marginal   \n",
       "3  Buenos Aires  Carpinteria Nivel  I    63      2     Marginal   \n",
       "4  Buenos Aires  Carpinteria Nivel  I    61      4     Marginal   \n",
       "\n",
       "  Situación laboral Nivel educativo Nivel de alfabetización digital  \\\n",
       "0          Empleado        Primario                            Bajo   \n",
       "1          Empleado        Primario                            Bajo   \n",
       "2          Empleado        Primario                            Bajo   \n",
       "3          Empleado        Primario                            Bajo   \n",
       "4          Empleado        Primario                            Bajo   \n",
       "\n",
       "  Herramientas tecnológicas Conectividad Deserción  \n",
       "0                   Celular        Datos        SI  \n",
       "1                   Celular        Datos        SI  \n",
       "2                   Celular        Datos        SI  \n",
       "3                   Celular        Datos        SI  \n",
       "4                   Celular        Datos        SI  "
      ]
     },
     "execution_count": 282,
     "metadata": {},
     "output_type": "execute_result"
    }
   ],
   "source": [
    "df.head()"
   ]
  },
  {
   "cell_type": "code",
   "execution_count": 283,
   "metadata": {},
   "outputs": [],
   "source": [
    "df['FECHA DE INSCRIPCION'] = df.apply(lambda x: x['FECHA DE INSCRIPCION'].split('/')[2] , axis = 1)\n",
    "df['CÓDIGO POSTAL'] = df.apply(lambda x: x['CÓDIGO POSTAL'][1:4] , axis = 1)\n",
    "df['Deserción'] = df.apply(lambda x: 1 if x['Deserción'] == 'SI' else 0, axis = 1)"
   ]
  },
  {
   "cell_type": "code",
   "execution_count": 284,
   "metadata": {},
   "outputs": [
    {
     "data": {
      "text/html": [
       "<div>\n",
       "<style scoped>\n",
       "    .dataframe tbody tr th:only-of-type {\n",
       "        vertical-align: middle;\n",
       "    }\n",
       "\n",
       "    .dataframe tbody tr th {\n",
       "        vertical-align: top;\n",
       "    }\n",
       "\n",
       "    .dataframe thead th {\n",
       "        text-align: right;\n",
       "    }\n",
       "</style>\n",
       "<table border=\"1\" class=\"dataframe\">\n",
       "  <thead>\n",
       "    <tr style=\"text-align: right;\">\n",
       "      <th></th>\n",
       "      <th>GÉNERO</th>\n",
       "      <th>FECHA DE INSCRIPCION</th>\n",
       "      <th>CÓDIGO POSTAL</th>\n",
       "      <th>CIUDAD</th>\n",
       "      <th>PROVINCIA</th>\n",
       "      <th>Curso</th>\n",
       "      <th>Edad</th>\n",
       "      <th>Hijos</th>\n",
       "      <th>Clase Social</th>\n",
       "      <th>Situación laboral</th>\n",
       "      <th>Nivel educativo</th>\n",
       "      <th>Nivel de alfabetización digital</th>\n",
       "      <th>Herramientas tecnológicas</th>\n",
       "      <th>Conectividad</th>\n",
       "      <th>Deserción</th>\n",
       "    </tr>\n",
       "  </thead>\n",
       "  <tbody>\n",
       "    <tr>\n",
       "      <th>0</th>\n",
       "      <td>F</td>\n",
       "      <td>1997</td>\n",
       "      <td>140</td>\n",
       "      <td>Caba</td>\n",
       "      <td>Buenos Aires</td>\n",
       "      <td>Carpinteria Nivel  I</td>\n",
       "      <td>58</td>\n",
       "      <td>1</td>\n",
       "      <td>Marginal</td>\n",
       "      <td>Empleado</td>\n",
       "      <td>Primario</td>\n",
       "      <td>Bajo</td>\n",
       "      <td>Celular</td>\n",
       "      <td>Datos</td>\n",
       "      <td>1</td>\n",
       "    </tr>\n",
       "    <tr>\n",
       "      <th>1</th>\n",
       "      <td>M</td>\n",
       "      <td>2003</td>\n",
       "      <td>140</td>\n",
       "      <td>Caba</td>\n",
       "      <td>Buenos Aires</td>\n",
       "      <td>Carpinteria Nivel  I</td>\n",
       "      <td>60</td>\n",
       "      <td>5</td>\n",
       "      <td>Marginal</td>\n",
       "      <td>Empleado</td>\n",
       "      <td>Primario</td>\n",
       "      <td>Bajo</td>\n",
       "      <td>Celular</td>\n",
       "      <td>Datos</td>\n",
       "      <td>1</td>\n",
       "    </tr>\n",
       "    <tr>\n",
       "      <th>2</th>\n",
       "      <td>M</td>\n",
       "      <td>2003</td>\n",
       "      <td>118</td>\n",
       "      <td>Caba</td>\n",
       "      <td>Buenos Aires</td>\n",
       "      <td>Carpinteria Nivel  I</td>\n",
       "      <td>65</td>\n",
       "      <td>4</td>\n",
       "      <td>Marginal</td>\n",
       "      <td>Empleado</td>\n",
       "      <td>Primario</td>\n",
       "      <td>Bajo</td>\n",
       "      <td>Celular</td>\n",
       "      <td>Datos</td>\n",
       "      <td>1</td>\n",
       "    </tr>\n",
       "    <tr>\n",
       "      <th>3</th>\n",
       "      <td>F</td>\n",
       "      <td>2005</td>\n",
       "      <td>164</td>\n",
       "      <td>Los Troncos Del Talar</td>\n",
       "      <td>Buenos Aires</td>\n",
       "      <td>Carpinteria Nivel  I</td>\n",
       "      <td>63</td>\n",
       "      <td>2</td>\n",
       "      <td>Marginal</td>\n",
       "      <td>Empleado</td>\n",
       "      <td>Primario</td>\n",
       "      <td>Bajo</td>\n",
       "      <td>Celular</td>\n",
       "      <td>Datos</td>\n",
       "      <td>1</td>\n",
       "    </tr>\n",
       "    <tr>\n",
       "      <th>4</th>\n",
       "      <td>F</td>\n",
       "      <td>2005</td>\n",
       "      <td>140</td>\n",
       "      <td>Caba</td>\n",
       "      <td>Buenos Aires</td>\n",
       "      <td>Carpinteria Nivel  I</td>\n",
       "      <td>61</td>\n",
       "      <td>4</td>\n",
       "      <td>Marginal</td>\n",
       "      <td>Empleado</td>\n",
       "      <td>Primario</td>\n",
       "      <td>Bajo</td>\n",
       "      <td>Celular</td>\n",
       "      <td>Datos</td>\n",
       "      <td>1</td>\n",
       "    </tr>\n",
       "  </tbody>\n",
       "</table>\n",
       "</div>"
      ],
      "text/plain": [
       "  GÉNERO FECHA DE INSCRIPCION CÓDIGO POSTAL                 CIUDAD  \\\n",
       "0      F                 1997           140                   Caba   \n",
       "1      M                 2003           140                   Caba   \n",
       "2      M                 2003           118                   Caba   \n",
       "3      F                 2005           164  Los Troncos Del Talar   \n",
       "4      F                 2005           140                   Caba   \n",
       "\n",
       "      PROVINCIA                 Curso  Edad  Hijos Clase Social  \\\n",
       "0  Buenos Aires  Carpinteria Nivel  I    58      1     Marginal   \n",
       "1  Buenos Aires  Carpinteria Nivel  I    60      5     Marginal   \n",
       "2  Buenos Aires  Carpinteria Nivel  I    65      4     Marginal   \n",
       "3  Buenos Aires  Carpinteria Nivel  I    63      2     Marginal   \n",
       "4  Buenos Aires  Carpinteria Nivel  I    61      4     Marginal   \n",
       "\n",
       "  Situación laboral Nivel educativo Nivel de alfabetización digital  \\\n",
       "0          Empleado        Primario                            Bajo   \n",
       "1          Empleado        Primario                            Bajo   \n",
       "2          Empleado        Primario                            Bajo   \n",
       "3          Empleado        Primario                            Bajo   \n",
       "4          Empleado        Primario                            Bajo   \n",
       "\n",
       "  Herramientas tecnológicas Conectividad  Deserción  \n",
       "0                   Celular        Datos          1  \n",
       "1                   Celular        Datos          1  \n",
       "2                   Celular        Datos          1  \n",
       "3                   Celular        Datos          1  \n",
       "4                   Celular        Datos          1  "
      ]
     },
     "execution_count": 284,
     "metadata": {},
     "output_type": "execute_result"
    }
   ],
   "source": [
    "df.head()"
   ]
  },
  {
   "cell_type": "code",
   "execution_count": 285,
   "metadata": {},
   "outputs": [
    {
     "data": {
      "text/plain": [
       "0    267\n",
       "1     61\n",
       "Name: Deserción, dtype: int64"
      ]
     },
     "execution_count": 285,
     "metadata": {},
     "output_type": "execute_result"
    }
   ],
   "source": [
    "df.Deserción.value_counts()"
   ]
  },
  {
   "cell_type": "code",
   "execution_count": 286,
   "metadata": {},
   "outputs": [
    {
     "name": "stdout",
     "output_type": "stream",
     "text": [
      "<class 'pandas.core.frame.DataFrame'>\n",
      "RangeIndex: 328 entries, 0 to 327\n",
      "Data columns (total 15 columns):\n",
      " #   Column                           Non-Null Count  Dtype \n",
      "---  ------                           --------------  ----- \n",
      " 0   GÉNERO                           328 non-null    object\n",
      " 1   FECHA DE INSCRIPCION             328 non-null    object\n",
      " 2   CÓDIGO POSTAL                    328 non-null    object\n",
      " 3   CIUDAD                           328 non-null    object\n",
      " 4   PROVINCIA                        328 non-null    object\n",
      " 5   Curso                            328 non-null    object\n",
      " 6   Edad                             328 non-null    int64 \n",
      " 7   Hijos                            328 non-null    int64 \n",
      " 8   Clase Social                     328 non-null    object\n",
      " 9   Situación laboral                328 non-null    object\n",
      " 10  Nivel educativo                  328 non-null    object\n",
      " 11  Nivel de alfabetización digital  328 non-null    object\n",
      " 12  Herramientas tecnológicas        328 non-null    object\n",
      " 13  Conectividad                     328 non-null    object\n",
      " 14  Deserción                        328 non-null    int64 \n",
      "dtypes: int64(3), object(12)\n",
      "memory usage: 38.6+ KB\n"
     ]
    }
   ],
   "source": [
    "df.info()"
   ]
  },
  {
   "cell_type": "code",
   "execution_count": 287,
   "metadata": {},
   "outputs": [],
   "source": [
    "df['FECHA DE INSCRIPCION'] = df['FECHA DE INSCRIPCION'].astype(int)\n",
    "df['CÓDIGO POSTAL'] = df['CÓDIGO POSTAL'].astype(int)"
   ]
  },
  {
   "cell_type": "code",
   "execution_count": 288,
   "metadata": {},
   "outputs": [],
   "source": [
    "df.drop(['CÓDIGO POSTAL', 'FECHA DE INSCRIPCION'], axis=1, inplace= True)"
   ]
  },
  {
   "cell_type": "code",
   "execution_count": 240,
   "metadata": {},
   "outputs": [
    {
     "data": {
      "text/plain": [
       "Index(['GÉNERO', 'CIUDAD', 'PROVINCIA', 'Curso', 'Edad', 'Hijos',\n",
       "       'Clase Social', 'Situación laboral', 'Nivel educativo',\n",
       "       'Nivel de alfabetización digital', 'Herramientas tecnológicas',\n",
       "       'Conectividad', 'Deserción'],\n",
       "      dtype='object')"
      ]
     },
     "execution_count": 240,
     "metadata": {},
     "output_type": "execute_result"
    }
   ],
   "source": [
    "df.columns"
   ]
  },
  {
   "cell_type": "code",
   "execution_count": 241,
   "metadata": {},
   "outputs": [
    {
     "data": {
      "application/vnd.plotly.v1+json": {
       "config": {
        "plotlyServerURL": "https://plot.ly"
       },
       "data": [
        {
         "alignmentgroup": "True",
         "hovertemplate": "Deserción=%{x}<br>Edad=%{y}<extra></extra>",
         "legendgroup": "",
         "marker": {
          "color": "#636efa"
         },
         "name": "",
         "notched": false,
         "offsetgroup": "",
         "orientation": "v",
         "quartilemethod": "exclusive",
         "showlegend": false,
         "type": "box",
         "x": [
          1,
          1,
          1,
          1,
          1,
          1,
          1,
          1,
          1,
          1,
          1,
          1,
          1,
          1,
          1,
          1,
          1,
          1,
          1,
          1,
          1,
          1,
          1,
          1,
          1,
          1,
          1,
          1,
          1,
          1,
          1,
          1,
          1,
          1,
          1,
          1,
          1,
          1,
          1,
          1,
          1,
          1,
          1,
          0,
          0,
          0,
          0,
          0,
          0,
          0,
          0,
          0,
          0,
          0,
          0,
          0,
          0,
          0,
          0,
          0,
          0,
          0,
          0,
          0,
          0,
          0,
          0,
          0,
          0,
          0,
          0,
          0,
          0,
          0,
          0,
          0,
          0,
          0,
          0,
          0,
          0,
          0,
          0,
          0,
          0,
          0,
          0,
          0,
          0,
          0,
          0,
          0,
          0,
          0,
          0,
          0,
          0,
          0,
          0,
          0,
          0,
          0,
          0,
          0,
          0,
          0,
          0,
          0,
          0,
          0,
          0,
          0,
          0,
          0,
          0,
          0,
          0,
          0,
          0,
          0,
          0,
          0,
          0,
          0,
          0,
          0,
          0,
          0,
          0,
          0,
          0,
          0,
          0,
          0,
          0,
          0,
          0,
          0,
          0,
          0,
          0,
          0,
          0,
          0,
          0,
          0,
          0,
          0,
          0,
          0,
          0,
          0,
          0,
          0,
          0,
          0,
          0,
          0,
          0,
          0,
          0,
          0,
          0,
          0,
          0,
          0,
          0,
          0,
          0,
          0,
          0,
          0,
          0,
          0,
          0,
          0,
          0,
          0,
          1,
          1,
          1,
          1,
          1,
          1,
          1,
          1,
          1,
          1,
          1,
          1,
          1,
          1,
          1,
          1,
          1,
          1,
          0,
          0,
          0,
          0,
          0,
          0,
          0,
          0,
          0,
          0,
          0,
          0,
          0,
          0,
          0,
          0,
          0,
          0,
          0,
          0,
          0,
          0,
          0,
          0,
          0,
          0,
          0,
          0,
          0,
          0,
          0,
          0,
          0,
          0,
          0,
          0,
          0,
          0,
          0,
          0,
          0,
          0,
          0,
          0,
          0,
          0,
          0,
          0,
          0,
          0,
          0,
          0,
          0,
          0,
          0,
          0,
          0,
          0,
          0,
          0,
          0,
          0,
          0,
          0,
          0,
          0,
          0,
          0,
          0,
          0,
          0,
          0,
          0,
          0,
          0,
          0,
          0,
          0,
          0,
          0,
          0,
          0,
          0,
          0,
          0,
          0,
          0,
          0,
          0,
          0,
          0,
          0,
          0,
          0,
          0,
          0,
          0,
          0,
          0,
          0,
          0,
          0,
          0,
          0,
          0,
          0,
          0,
          0,
          0,
          0,
          0,
          0,
          0,
          0,
          0,
          0,
          0,
          0,
          0,
          0,
          0,
          0,
          0,
          0,
          0,
          0,
          0,
          0,
          0,
          0,
          0,
          0
         ],
         "x0": " ",
         "xaxis": "x",
         "y": [
          58,
          60,
          65,
          63,
          61,
          50,
          42,
          37,
          47,
          37,
          52,
          70,
          61,
          52,
          66,
          63,
          61,
          53,
          47,
          62,
          34,
          38,
          48,
          44,
          37,
          64,
          56,
          34,
          53,
          36,
          68,
          53,
          42,
          52,
          60,
          32,
          42,
          38,
          56,
          33,
          58,
          51,
          35,
          62,
          56,
          35,
          44,
          37,
          37,
          52,
          51,
          46,
          43,
          43,
          50,
          36,
          29,
          66,
          45,
          33,
          43,
          35,
          50,
          33,
          41,
          29,
          34,
          37,
          34,
          34,
          49,
          47,
          47,
          38,
          53,
          30,
          42,
          70,
          29,
          47,
          35,
          30,
          32,
          40,
          30,
          43,
          29,
          61,
          33,
          38,
          32,
          35,
          25,
          33,
          35,
          59,
          37,
          27,
          43,
          29,
          38,
          38,
          35,
          45,
          36,
          32,
          41,
          58,
          53,
          49,
          51,
          32,
          39,
          34,
          61,
          54,
          37,
          33,
          28,
          35,
          43,
          35,
          32,
          33,
          37,
          26,
          36,
          47,
          34,
          44,
          37,
          40,
          56,
          39,
          47,
          44,
          52,
          58,
          55,
          50,
          42,
          41,
          58,
          59,
          38,
          56,
          34,
          43,
          43,
          36,
          35,
          46,
          53,
          50,
          44,
          37,
          34,
          33,
          49,
          50,
          40,
          59,
          55,
          45,
          58,
          58,
          33,
          31,
          57,
          68,
          73,
          59,
          72,
          66,
          58,
          54,
          72,
          62,
          59,
          58,
          47,
          36,
          49,
          58,
          66,
          36,
          44,
          70,
          39,
          57,
          51,
          53,
          35,
          36,
          41,
          38,
          36,
          34,
          38,
          36,
          36,
          41,
          35,
          38,
          33,
          43,
          54,
          52,
          37,
          41,
          49,
          34,
          34,
          34,
          34,
          43,
          41,
          41,
          71,
          69,
          56,
          52,
          54,
          45,
          52,
          63,
          56,
          41,
          56,
          37,
          40,
          34,
          36,
          40,
          39,
          53,
          33,
          45,
          67,
          46,
          52,
          59,
          54,
          70,
          48,
          46,
          52,
          59,
          50,
          48,
          58,
          57,
          35,
          52,
          57,
          55,
          57,
          55,
          50,
          61,
          42,
          48,
          48,
          49,
          50,
          39,
          36,
          32,
          33,
          40,
          45,
          48,
          39,
          39,
          32,
          32,
          38,
          37,
          33,
          34,
          37,
          36,
          31,
          36,
          32,
          33,
          31,
          37,
          30,
          59,
          54,
          53,
          72,
          68,
          47,
          53,
          47,
          63,
          53,
          57,
          48,
          41,
          58,
          54,
          43,
          40,
          39,
          42,
          44,
          43,
          35,
          35,
          43,
          46,
          55,
          47,
          39,
          36,
          43,
          35,
          43,
          54,
          39,
          48,
          52,
          54,
          45,
          66
         ],
         "y0": " ",
         "yaxis": "y"
        }
       ],
       "layout": {
        "autosize": true,
        "boxmode": "group",
        "legend": {
         "tracegroupgap": 0
        },
        "margin": {
         "t": 60
        },
        "template": {
         "data": {
          "bar": [
           {
            "error_x": {
             "color": "#2a3f5f"
            },
            "error_y": {
             "color": "#2a3f5f"
            },
            "marker": {
             "line": {
              "color": "#E5ECF6",
              "width": 0.5
             }
            },
            "type": "bar"
           }
          ],
          "barpolar": [
           {
            "marker": {
             "line": {
              "color": "#E5ECF6",
              "width": 0.5
             }
            },
            "type": "barpolar"
           }
          ],
          "carpet": [
           {
            "aaxis": {
             "endlinecolor": "#2a3f5f",
             "gridcolor": "white",
             "linecolor": "white",
             "minorgridcolor": "white",
             "startlinecolor": "#2a3f5f"
            },
            "baxis": {
             "endlinecolor": "#2a3f5f",
             "gridcolor": "white",
             "linecolor": "white",
             "minorgridcolor": "white",
             "startlinecolor": "#2a3f5f"
            },
            "type": "carpet"
           }
          ],
          "choropleth": [
           {
            "colorbar": {
             "outlinewidth": 0,
             "ticks": ""
            },
            "type": "choropleth"
           }
          ],
          "contour": [
           {
            "colorbar": {
             "outlinewidth": 0,
             "ticks": ""
            },
            "colorscale": [
             [
              0,
              "#0d0887"
             ],
             [
              0.1111111111111111,
              "#46039f"
             ],
             [
              0.2222222222222222,
              "#7201a8"
             ],
             [
              0.3333333333333333,
              "#9c179e"
             ],
             [
              0.4444444444444444,
              "#bd3786"
             ],
             [
              0.5555555555555556,
              "#d8576b"
             ],
             [
              0.6666666666666666,
              "#ed7953"
             ],
             [
              0.7777777777777778,
              "#fb9f3a"
             ],
             [
              0.8888888888888888,
              "#fdca26"
             ],
             [
              1,
              "#f0f921"
             ]
            ],
            "type": "contour"
           }
          ],
          "contourcarpet": [
           {
            "colorbar": {
             "outlinewidth": 0,
             "ticks": ""
            },
            "type": "contourcarpet"
           }
          ],
          "heatmap": [
           {
            "colorbar": {
             "outlinewidth": 0,
             "ticks": ""
            },
            "colorscale": [
             [
              0,
              "#0d0887"
             ],
             [
              0.1111111111111111,
              "#46039f"
             ],
             [
              0.2222222222222222,
              "#7201a8"
             ],
             [
              0.3333333333333333,
              "#9c179e"
             ],
             [
              0.4444444444444444,
              "#bd3786"
             ],
             [
              0.5555555555555556,
              "#d8576b"
             ],
             [
              0.6666666666666666,
              "#ed7953"
             ],
             [
              0.7777777777777778,
              "#fb9f3a"
             ],
             [
              0.8888888888888888,
              "#fdca26"
             ],
             [
              1,
              "#f0f921"
             ]
            ],
            "type": "heatmap"
           }
          ],
          "heatmapgl": [
           {
            "colorbar": {
             "outlinewidth": 0,
             "ticks": ""
            },
            "colorscale": [
             [
              0,
              "#0d0887"
             ],
             [
              0.1111111111111111,
              "#46039f"
             ],
             [
              0.2222222222222222,
              "#7201a8"
             ],
             [
              0.3333333333333333,
              "#9c179e"
             ],
             [
              0.4444444444444444,
              "#bd3786"
             ],
             [
              0.5555555555555556,
              "#d8576b"
             ],
             [
              0.6666666666666666,
              "#ed7953"
             ],
             [
              0.7777777777777778,
              "#fb9f3a"
             ],
             [
              0.8888888888888888,
              "#fdca26"
             ],
             [
              1,
              "#f0f921"
             ]
            ],
            "type": "heatmapgl"
           }
          ],
          "histogram": [
           {
            "marker": {
             "colorbar": {
              "outlinewidth": 0,
              "ticks": ""
             }
            },
            "type": "histogram"
           }
          ],
          "histogram2d": [
           {
            "colorbar": {
             "outlinewidth": 0,
             "ticks": ""
            },
            "colorscale": [
             [
              0,
              "#0d0887"
             ],
             [
              0.1111111111111111,
              "#46039f"
             ],
             [
              0.2222222222222222,
              "#7201a8"
             ],
             [
              0.3333333333333333,
              "#9c179e"
             ],
             [
              0.4444444444444444,
              "#bd3786"
             ],
             [
              0.5555555555555556,
              "#d8576b"
             ],
             [
              0.6666666666666666,
              "#ed7953"
             ],
             [
              0.7777777777777778,
              "#fb9f3a"
             ],
             [
              0.8888888888888888,
              "#fdca26"
             ],
             [
              1,
              "#f0f921"
             ]
            ],
            "type": "histogram2d"
           }
          ],
          "histogram2dcontour": [
           {
            "colorbar": {
             "outlinewidth": 0,
             "ticks": ""
            },
            "colorscale": [
             [
              0,
              "#0d0887"
             ],
             [
              0.1111111111111111,
              "#46039f"
             ],
             [
              0.2222222222222222,
              "#7201a8"
             ],
             [
              0.3333333333333333,
              "#9c179e"
             ],
             [
              0.4444444444444444,
              "#bd3786"
             ],
             [
              0.5555555555555556,
              "#d8576b"
             ],
             [
              0.6666666666666666,
              "#ed7953"
             ],
             [
              0.7777777777777778,
              "#fb9f3a"
             ],
             [
              0.8888888888888888,
              "#fdca26"
             ],
             [
              1,
              "#f0f921"
             ]
            ],
            "type": "histogram2dcontour"
           }
          ],
          "mesh3d": [
           {
            "colorbar": {
             "outlinewidth": 0,
             "ticks": ""
            },
            "type": "mesh3d"
           }
          ],
          "parcoords": [
           {
            "line": {
             "colorbar": {
              "outlinewidth": 0,
              "ticks": ""
             }
            },
            "type": "parcoords"
           }
          ],
          "pie": [
           {
            "automargin": true,
            "type": "pie"
           }
          ],
          "scatter": [
           {
            "marker": {
             "colorbar": {
              "outlinewidth": 0,
              "ticks": ""
             }
            },
            "type": "scatter"
           }
          ],
          "scatter3d": [
           {
            "line": {
             "colorbar": {
              "outlinewidth": 0,
              "ticks": ""
             }
            },
            "marker": {
             "colorbar": {
              "outlinewidth": 0,
              "ticks": ""
             }
            },
            "type": "scatter3d"
           }
          ],
          "scattercarpet": [
           {
            "marker": {
             "colorbar": {
              "outlinewidth": 0,
              "ticks": ""
             }
            },
            "type": "scattercarpet"
           }
          ],
          "scattergeo": [
           {
            "marker": {
             "colorbar": {
              "outlinewidth": 0,
              "ticks": ""
             }
            },
            "type": "scattergeo"
           }
          ],
          "scattergl": [
           {
            "marker": {
             "colorbar": {
              "outlinewidth": 0,
              "ticks": ""
             }
            },
            "type": "scattergl"
           }
          ],
          "scattermapbox": [
           {
            "marker": {
             "colorbar": {
              "outlinewidth": 0,
              "ticks": ""
             }
            },
            "type": "scattermapbox"
           }
          ],
          "scatterpolar": [
           {
            "marker": {
             "colorbar": {
              "outlinewidth": 0,
              "ticks": ""
             }
            },
            "type": "scatterpolar"
           }
          ],
          "scatterpolargl": [
           {
            "marker": {
             "colorbar": {
              "outlinewidth": 0,
              "ticks": ""
             }
            },
            "type": "scatterpolargl"
           }
          ],
          "scatterternary": [
           {
            "marker": {
             "colorbar": {
              "outlinewidth": 0,
              "ticks": ""
             }
            },
            "type": "scatterternary"
           }
          ],
          "surface": [
           {
            "colorbar": {
             "outlinewidth": 0,
             "ticks": ""
            },
            "colorscale": [
             [
              0,
              "#0d0887"
             ],
             [
              0.1111111111111111,
              "#46039f"
             ],
             [
              0.2222222222222222,
              "#7201a8"
             ],
             [
              0.3333333333333333,
              "#9c179e"
             ],
             [
              0.4444444444444444,
              "#bd3786"
             ],
             [
              0.5555555555555556,
              "#d8576b"
             ],
             [
              0.6666666666666666,
              "#ed7953"
             ],
             [
              0.7777777777777778,
              "#fb9f3a"
             ],
             [
              0.8888888888888888,
              "#fdca26"
             ],
             [
              1,
              "#f0f921"
             ]
            ],
            "type": "surface"
           }
          ],
          "table": [
           {
            "cells": {
             "fill": {
              "color": "#EBF0F8"
             },
             "line": {
              "color": "white"
             }
            },
            "header": {
             "fill": {
              "color": "#C8D4E3"
             },
             "line": {
              "color": "white"
             }
            },
            "type": "table"
           }
          ]
         },
         "layout": {
          "annotationdefaults": {
           "arrowcolor": "#2a3f5f",
           "arrowhead": 0,
           "arrowwidth": 1
          },
          "autotypenumbers": "strict",
          "coloraxis": {
           "colorbar": {
            "outlinewidth": 0,
            "ticks": ""
           }
          },
          "colorscale": {
           "diverging": [
            [
             0,
             "#8e0152"
            ],
            [
             0.1,
             "#c51b7d"
            ],
            [
             0.2,
             "#de77ae"
            ],
            [
             0.3,
             "#f1b6da"
            ],
            [
             0.4,
             "#fde0ef"
            ],
            [
             0.5,
             "#f7f7f7"
            ],
            [
             0.6,
             "#e6f5d0"
            ],
            [
             0.7,
             "#b8e186"
            ],
            [
             0.8,
             "#7fbc41"
            ],
            [
             0.9,
             "#4d9221"
            ],
            [
             1,
             "#276419"
            ]
           ],
           "sequential": [
            [
             0,
             "#0d0887"
            ],
            [
             0.1111111111111111,
             "#46039f"
            ],
            [
             0.2222222222222222,
             "#7201a8"
            ],
            [
             0.3333333333333333,
             "#9c179e"
            ],
            [
             0.4444444444444444,
             "#bd3786"
            ],
            [
             0.5555555555555556,
             "#d8576b"
            ],
            [
             0.6666666666666666,
             "#ed7953"
            ],
            [
             0.7777777777777778,
             "#fb9f3a"
            ],
            [
             0.8888888888888888,
             "#fdca26"
            ],
            [
             1,
             "#f0f921"
            ]
           ],
           "sequentialminus": [
            [
             0,
             "#0d0887"
            ],
            [
             0.1111111111111111,
             "#46039f"
            ],
            [
             0.2222222222222222,
             "#7201a8"
            ],
            [
             0.3333333333333333,
             "#9c179e"
            ],
            [
             0.4444444444444444,
             "#bd3786"
            ],
            [
             0.5555555555555556,
             "#d8576b"
            ],
            [
             0.6666666666666666,
             "#ed7953"
            ],
            [
             0.7777777777777778,
             "#fb9f3a"
            ],
            [
             0.8888888888888888,
             "#fdca26"
            ],
            [
             1,
             "#f0f921"
            ]
           ]
          },
          "colorway": [
           "#636efa",
           "#EF553B",
           "#00cc96",
           "#ab63fa",
           "#FFA15A",
           "#19d3f3",
           "#FF6692",
           "#B6E880",
           "#FF97FF",
           "#FECB52"
          ],
          "font": {
           "color": "#2a3f5f"
          },
          "geo": {
           "bgcolor": "white",
           "lakecolor": "white",
           "landcolor": "#E5ECF6",
           "showlakes": true,
           "showland": true,
           "subunitcolor": "white"
          },
          "hoverlabel": {
           "align": "left"
          },
          "hovermode": "closest",
          "mapbox": {
           "style": "light"
          },
          "paper_bgcolor": "white",
          "plot_bgcolor": "#E5ECF6",
          "polar": {
           "angularaxis": {
            "gridcolor": "white",
            "linecolor": "white",
            "ticks": ""
           },
           "bgcolor": "#E5ECF6",
           "radialaxis": {
            "gridcolor": "white",
            "linecolor": "white",
            "ticks": ""
           }
          },
          "scene": {
           "xaxis": {
            "backgroundcolor": "#E5ECF6",
            "gridcolor": "white",
            "gridwidth": 2,
            "linecolor": "white",
            "showbackground": true,
            "ticks": "",
            "zerolinecolor": "white"
           },
           "yaxis": {
            "backgroundcolor": "#E5ECF6",
            "gridcolor": "white",
            "gridwidth": 2,
            "linecolor": "white",
            "showbackground": true,
            "ticks": "",
            "zerolinecolor": "white"
           },
           "zaxis": {
            "backgroundcolor": "#E5ECF6",
            "gridcolor": "white",
            "gridwidth": 2,
            "linecolor": "white",
            "showbackground": true,
            "ticks": "",
            "zerolinecolor": "white"
           }
          },
          "shapedefaults": {
           "line": {
            "color": "#2a3f5f"
           }
          },
          "ternary": {
           "aaxis": {
            "gridcolor": "white",
            "linecolor": "white",
            "ticks": ""
           },
           "baxis": {
            "gridcolor": "white",
            "linecolor": "white",
            "ticks": ""
           },
           "bgcolor": "#E5ECF6",
           "caxis": {
            "gridcolor": "white",
            "linecolor": "white",
            "ticks": ""
           }
          },
          "title": {
           "x": 0.05
          },
          "xaxis": {
           "automargin": true,
           "gridcolor": "white",
           "linecolor": "white",
           "ticks": "",
           "title": {
            "standoff": 15
           },
           "zerolinecolor": "white",
           "zerolinewidth": 2
          },
          "yaxis": {
           "automargin": true,
           "gridcolor": "white",
           "linecolor": "white",
           "ticks": "",
           "title": {
            "standoff": 15
           },
           "zerolinecolor": "white",
           "zerolinewidth": 2
          }
         }
        },
        "xaxis": {
         "anchor": "y",
         "autorange": true,
         "domain": [
          0,
          1
         ],
         "range": [
          -0.5,
          1.5
         ],
         "title": {
          "text": "Deserción"
         },
         "type": "linear"
        },
        "yaxis": {
         "anchor": "x",
         "autorange": true,
         "domain": [
          0,
          1
         ],
         "range": [
          22.333333333333332,
          75.66666666666667
         ],
         "title": {
          "text": "Edad"
         },
         "type": "linear"
        }
       }
      },
      "image/png": "[encoded data removed]",
      "text/html": [
       "<div>                            <div id=\"403ada61-d13d-4fec-a6ba-7430465e1b0a\" class=\"plotly-graph-div\" style=\"height:525px; width:100%;\"></div>            <script type=\"text/javascript\">                require([\"plotly\"], function(Plotly) {                    window.PLOTLYENV=window.PLOTLYENV || {};                                    if (document.getElementById(\"403ada61-d13d-4fec-a6ba-7430465e1b0a\")) {                    Plotly.newPlot(                        \"403ada61-d13d-4fec-a6ba-7430465e1b0a\",                        [{\"alignmentgroup\": \"True\", \"hovertemplate\": \"Deserci\\u00f3n=%{x}<br>Edad=%{y}<extra></extra>\", \"legendgroup\": \"\", \"marker\": {\"color\": \"#636efa\"}, \"name\": \"\", \"notched\": false, \"offsetgroup\": \"\", \"orientation\": \"v\", \"quartilemethod\": \"exclusive\", \"showlegend\": false, \"type\": \"box\", \"x\": [1, 1, 1, 1, 1, 1, 1, 1, 1, 1, 1, 1, 1, 1, 1, 1, 1, 1, 1, 1, 1, 1, 1, 1, 1, 1, 1, 1, 1, 1, 1, 1, 1, 1, 1, 1, 1, 1, 1, 1, 1, 1, 1, 0, 0, 0, 0, 0, 0, 0, 0, 0, 0, 0, 0, 0, 0, 0, 0, 0, 0, 0, 0, 0, 0, 0, 0, 0, 0, 0, 0, 0, 0, 0, 0, 0, 0, 0, 0, 0, 0, 0, 0, 0, 0, 0, 0, 0, 0, 0, 0, 0, 0, 0, 0, 0, 0, 0, 0, 0, 0, 0, 0, 0, 0, 0, 0, 0, 0, 0, 0, 0, 0, 0, 0, 0, 0, 0, 0, 0, 0, 0, 0, 0, 0, 0, 0, 0, 0, 0, 0, 0, 0, 0, 0, 0, 0, 0, 0, 0, 0, 0, 0, 0, 0, 0, 0, 0, 0, 0, 0, 0, 0, 0, 0, 0, 0, 0, 0, 0, 0, 0, 0, 0, 0, 0, 0, 0, 0, 0, 0, 0, 0, 0, 0, 0, 0, 0, 1, 1, 1, 1, 1, 1, 1, 1, 1, 1, 1, 1, 1, 1, 1, 1, 1, 1, 0, 0, 0, 0, 0, 0, 0, 0, 0, 0, 0, 0, 0, 0, 0, 0, 0, 0, 0, 0, 0, 0, 0, 0, 0, 0, 0, 0, 0, 0, 0, 0, 0, 0, 0, 0, 0, 0, 0, 0, 0, 0, 0, 0, 0, 0, 0, 0, 0, 0, 0, 0, 0, 0, 0, 0, 0, 0, 0, 0, 0, 0, 0, 0, 0, 0, 0, 0, 0, 0, 0, 0, 0, 0, 0, 0, 0, 0, 0, 0, 0, 0, 0, 0, 0, 0, 0, 0, 0, 0, 0, 0, 0, 0, 0, 0, 0, 0, 0, 0, 0, 0, 0, 0, 0, 0, 0, 0, 0, 0, 0, 0, 0, 0, 0, 0, 0, 0, 0, 0, 0, 0, 0, 0, 0, 0, 0, 0, 0, 0, 0, 0], \"x0\": \" \", \"xaxis\": \"x\", \"y\": [58, 60, 65, 63, 61, 50, 42, 37, 47, 37, 52, 70, 61, 52, 66, 63, 61, 53, 47, 62, 34, 38, 48, 44, 37, 64, 56, 34, 53, 36, 68, 53, 42, 52, 60, 32, 42, 38, 56, 33, 58, 51, 35, 62, 56, 35, 44, 37, 37, 52, 51, 46, 43, 43, 50, 36, 29, 66, 45, 33, 43, 35, 50, 33, 41, 29, 34, 37, 34, 34, 49, 47, 47, 38, 53, 30, 42, 70, 29, 47, 35, 30, 32, 40, 30, 43, 29, 61, 33, 38, 32, 35, 25, 33, 35, 59, 37, 27, 43, 29, 38, 38, 35, 45, 36, 32, 41, 58, 53, 49, 51, 32, 39, 34, 61, 54, 37, 33, 28, 35, 43, 35, 32, 33, 37, 26, 36, 47, 34, 44, 37, 40, 56, 39, 47, 44, 52, 58, 55, 50, 42, 41, 58, 59, 38, 56, 34, 43, 43, 36, 35, 46, 53, 50, 44, 37, 34, 33, 49, 50, 40, 59, 55, 45, 58, 58, 33, 31, 57, 68, 73, 59, 72, 66, 58, 54, 72, 62, 59, 58, 47, 36, 49, 58, 66, 36, 44, 70, 39, 57, 51, 53, 35, 36, 41, 38, 36, 34, 38, 36, 36, 41, 35, 38, 33, 43, 54, 52, 37, 41, 49, 34, 34, 34, 34, 43, 41, 41, 71, 69, 56, 52, 54, 45, 52, 63, 56, 41, 56, 37, 40, 34, 36, 40, 39, 53, 33, 45, 67, 46, 52, 59, 54, 70, 48, 46, 52, 59, 50, 48, 58, 57, 35, 52, 57, 55, 57, 55, 50, 61, 42, 48, 48, 49, 50, 39, 36, 32, 33, 40, 45, 48, 39, 39, 32, 32, 38, 37, 33, 34, 37, 36, 31, 36, 32, 33, 31, 37, 30, 59, 54, 53, 72, 68, 47, 53, 47, 63, 53, 57, 48, 41, 58, 54, 43, 40, 39, 42, 44, 43, 35, 35, 43, 46, 55, 47, 39, 36, 43, 35, 43, 54, 39, 48, 52, 54, 45, 66], \"y0\": \" \", \"yaxis\": \"y\"}],                        {\"boxmode\": \"group\", \"legend\": {\"tracegroupgap\": 0}, \"margin\": {\"t\": 60}, \"template\": {\"data\": {\"bar\": [{\"error_x\": {\"color\": \"#2a3f5f\"}, \"error_y\": {\"color\": \"#2a3f5f\"}, \"marker\": {\"line\": {\"color\": \"#E5ECF6\", \"width\": 0.5}}, \"type\": \"bar\"}], \"barpolar\": [{\"marker\": {\"line\": {\"color\": \"#E5ECF6\", \"width\": 0.5}}, \"type\": \"barpolar\"}], \"carpet\": [{\"aaxis\": {\"endlinecolor\": \"#2a3f5f\", \"gridcolor\": \"white\", \"linecolor\": \"white\", \"minorgridcolor\": \"white\", \"startlinecolor\": \"#2a3f5f\"}, \"baxis\": {\"endlinecolor\": \"#2a3f5f\", \"gridcolor\": \"white\", \"linecolor\": \"white\", \"minorgridcolor\": \"white\", \"startlinecolor\": \"#2a3f5f\"}, \"type\": \"carpet\"}], \"choropleth\": [{\"colorbar\": {\"outlinewidth\": 0, \"ticks\": \"\"}, \"type\": \"choropleth\"}], \"contour\": [{\"colorbar\": {\"outlinewidth\": 0, \"ticks\": \"\"}, \"colorscale\": [[0.0, \"#0d0887\"], [0.1111111111111111, \"#46039f\"], [0.2222222222222222, \"#7201a8\"], [0.3333333333333333, \"#9c179e\"], [0.4444444444444444, \"#bd3786\"], [0.5555555555555556, \"#d8576b\"], [0.6666666666666666, \"#ed7953\"], [0.7777777777777778, \"#fb9f3a\"], [0.8888888888888888, \"#fdca26\"], [1.0, \"#f0f921\"]], \"type\": \"contour\"}], \"contourcarpet\": [{\"colorbar\": {\"outlinewidth\": 0, \"ticks\": \"\"}, \"type\": \"contourcarpet\"}], \"heatmap\": [{\"colorbar\": {\"outlinewidth\": 0, \"ticks\": \"\"}, \"colorscale\": [[0.0, \"#0d0887\"], [0.1111111111111111, \"#46039f\"], [0.2222222222222222, \"#7201a8\"], [0.3333333333333333, \"#9c179e\"], [0.4444444444444444, \"#bd3786\"], [0.5555555555555556, \"#d8576b\"], [0.6666666666666666, \"#ed7953\"], [0.7777777777777778, \"#fb9f3a\"], [0.8888888888888888, \"#fdca26\"], [1.0, \"#f0f921\"]], \"type\": \"heatmap\"}], \"heatmapgl\": [{\"colorbar\": {\"outlinewidth\": 0, \"ticks\": \"\"}, \"colorscale\": [[0.0, \"#0d0887\"], [0.1111111111111111, \"#46039f\"], [0.2222222222222222, \"#7201a8\"], [0.3333333333333333, \"#9c179e\"], [0.4444444444444444, \"#bd3786\"], [0.5555555555555556, \"#d8576b\"], [0.6666666666666666, \"#ed7953\"], [0.7777777777777778, \"#fb9f3a\"], [0.8888888888888888, \"#fdca26\"], [1.0, \"#f0f921\"]], \"type\": \"heatmapgl\"}], \"histogram\": [{\"marker\": {\"colorbar\": {\"outlinewidth\": 0, \"ticks\": \"\"}}, \"type\": \"histogram\"}], \"histogram2d\": [{\"colorbar\": {\"outlinewidth\": 0, \"ticks\": \"\"}, \"colorscale\": [[0.0, \"#0d0887\"], [0.1111111111111111, \"#46039f\"], [0.2222222222222222, \"#7201a8\"], [0.3333333333333333, \"#9c179e\"], [0.4444444444444444, \"#bd3786\"], [0.5555555555555556, \"#d8576b\"], [0.6666666666666666, \"#ed7953\"], [0.7777777777777778, \"#fb9f3a\"], [0.8888888888888888, \"#fdca26\"], [1.0, \"#f0f921\"]], \"type\": \"histogram2d\"}], \"histogram2dcontour\": [{\"colorbar\": {\"outlinewidth\": 0, \"ticks\": \"\"}, \"colorscale\": [[0.0, \"#0d0887\"], [0.1111111111111111, \"#46039f\"], [0.2222222222222222, \"#7201a8\"], [0.3333333333333333, \"#9c179e\"], [0.4444444444444444, \"#bd3786\"], [0.5555555555555556, \"#d8576b\"], [0.6666666666666666, \"#ed7953\"], [0.7777777777777778, \"#fb9f3a\"], [0.8888888888888888, \"#fdca26\"], [1.0, \"#f0f921\"]], \"type\": \"histogram2dcontour\"}], \"mesh3d\": [{\"colorbar\": {\"outlinewidth\": 0, \"ticks\": \"\"}, \"type\": \"mesh3d\"}], \"parcoords\": [{\"line\": {\"colorbar\": {\"outlinewidth\": 0, \"ticks\": \"\"}}, \"type\": \"parcoords\"}], \"pie\": [{\"automargin\": true, \"type\": \"pie\"}], \"scatter\": [{\"marker\": {\"colorbar\": {\"outlinewidth\": 0, \"ticks\": \"\"}}, \"type\": \"scatter\"}], \"scatter3d\": [{\"line\": {\"colorbar\": {\"outlinewidth\": 0, \"ticks\": \"\"}}, \"marker\": {\"colorbar\": {\"outlinewidth\": 0, \"ticks\": \"\"}}, \"type\": \"scatter3d\"}], \"scattercarpet\": [{\"marker\": {\"colorbar\": {\"outlinewidth\": 0, \"ticks\": \"\"}}, \"type\": \"scattercarpet\"}], \"scattergeo\": [{\"marker\": {\"colorbar\": {\"outlinewidth\": 0, \"ticks\": \"\"}}, \"type\": \"scattergeo\"}], \"scattergl\": [{\"marker\": {\"colorbar\": {\"outlinewidth\": 0, \"ticks\": \"\"}}, \"type\": \"scattergl\"}], \"scattermapbox\": [{\"marker\": {\"colorbar\": {\"outlinewidth\": 0, \"ticks\": \"\"}}, \"type\": \"scattermapbox\"}], \"scatterpolar\": [{\"marker\": {\"colorbar\": {\"outlinewidth\": 0, \"ticks\": \"\"}}, \"type\": \"scatterpolar\"}], \"scatterpolargl\": [{\"marker\": {\"colorbar\": {\"outlinewidth\": 0, \"ticks\": \"\"}}, \"type\": \"scatterpolargl\"}], \"scatterternary\": [{\"marker\": {\"colorbar\": {\"outlinewidth\": 0, \"ticks\": \"\"}}, \"type\": \"scatterternary\"}], \"surface\": [{\"colorbar\": {\"outlinewidth\": 0, \"ticks\": \"\"}, \"colorscale\": [[0.0, \"#0d0887\"], [0.1111111111111111, \"#46039f\"], [0.2222222222222222, \"#7201a8\"], [0.3333333333333333, \"#9c179e\"], [0.4444444444444444, \"#bd3786\"], [0.5555555555555556, \"#d8576b\"], [0.6666666666666666, \"#ed7953\"], [0.7777777777777778, \"#fb9f3a\"], [0.8888888888888888, \"#fdca26\"], [1.0, \"#f0f921\"]], \"type\": \"surface\"}], \"table\": [{\"cells\": {\"fill\": {\"color\": \"#EBF0F8\"}, \"line\": {\"color\": \"white\"}}, \"header\": {\"fill\": {\"color\": \"#C8D4E3\"}, \"line\": {\"color\": \"white\"}}, \"type\": \"table\"}]}, \"layout\": {\"annotationdefaults\": {\"arrowcolor\": \"#2a3f5f\", \"arrowhead\": 0, \"arrowwidth\": 1}, \"autotypenumbers\": \"strict\", \"coloraxis\": {\"colorbar\": {\"outlinewidth\": 0, \"ticks\": \"\"}}, \"colorscale\": {\"diverging\": [[0, \"#8e0152\"], [0.1, \"#c51b7d\"], [0.2, \"#de77ae\"], [0.3, \"#f1b6da\"], [0.4, \"#fde0ef\"], [0.5, \"#f7f7f7\"], [0.6, \"#e6f5d0\"], [0.7, \"#b8e186\"], [0.8, \"#7fbc41\"], [0.9, \"#4d9221\"], [1, \"#276419\"]], \"sequential\": [[0.0, \"#0d0887\"], [0.1111111111111111, \"#46039f\"], [0.2222222222222222, \"#7201a8\"], [0.3333333333333333, \"#9c179e\"], [0.4444444444444444, \"#bd3786\"], [0.5555555555555556, \"#d8576b\"], [0.6666666666666666, \"#ed7953\"], [0.7777777777777778, \"#fb9f3a\"], [0.8888888888888888, \"#fdca26\"], [1.0, \"#f0f921\"]], \"sequentialminus\": [[0.0, \"#0d0887\"], [0.1111111111111111, \"#46039f\"], [0.2222222222222222, \"#7201a8\"], [0.3333333333333333, \"#9c179e\"], [0.4444444444444444, \"#bd3786\"], [0.5555555555555556, \"#d8576b\"], [0.6666666666666666, \"#ed7953\"], [0.7777777777777778, \"#fb9f3a\"], [0.8888888888888888, \"#fdca26\"], [1.0, \"#f0f921\"]]}, \"colorway\": [\"#636efa\", \"#EF553B\", \"#00cc96\", \"#ab63fa\", \"#FFA15A\", \"#19d3f3\", \"#FF6692\", \"#B6E880\", \"#FF97FF\", \"#FECB52\"], \"font\": {\"color\": \"#2a3f5f\"}, \"geo\": {\"bgcolor\": \"white\", \"lakecolor\": \"white\", \"landcolor\": \"#E5ECF6\", \"showlakes\": true, \"showland\": true, \"subunitcolor\": \"white\"}, \"hoverlabel\": {\"align\": \"left\"}, \"hovermode\": \"closest\", \"mapbox\": {\"style\": \"light\"}, \"paper_bgcolor\": \"white\", \"plot_bgcolor\": \"#E5ECF6\", \"polar\": {\"angularaxis\": {\"gridcolor\": \"white\", \"linecolor\": \"white\", \"ticks\": \"\"}, \"bgcolor\": \"#E5ECF6\", \"radialaxis\": {\"gridcolor\": \"white\", \"linecolor\": \"white\", \"ticks\": \"\"}}, \"scene\": {\"xaxis\": {\"backgroundcolor\": \"#E5ECF6\", \"gridcolor\": \"white\", \"gridwidth\": 2, \"linecolor\": \"white\", \"showbackground\": true, \"ticks\": \"\", \"zerolinecolor\": \"white\"}, \"yaxis\": {\"backgroundcolor\": \"#E5ECF6\", \"gridcolor\": \"white\", \"gridwidth\": 2, \"linecolor\": \"white\", \"showbackground\": true, \"ticks\": \"\", \"zerolinecolor\": \"white\"}, \"zaxis\": {\"backgroundcolor\": \"#E5ECF6\", \"gridcolor\": \"white\", \"gridwidth\": 2, \"linecolor\": \"white\", \"showbackground\": true, \"ticks\": \"\", \"zerolinecolor\": \"white\"}}, \"shapedefaults\": {\"line\": {\"color\": \"#2a3f5f\"}}, \"ternary\": {\"aaxis\": {\"gridcolor\": \"white\", \"linecolor\": \"white\", \"ticks\": \"\"}, \"baxis\": {\"gridcolor\": \"white\", \"linecolor\": \"white\", \"ticks\": \"\"}, \"bgcolor\": \"#E5ECF6\", \"caxis\": {\"gridcolor\": \"white\", \"linecolor\": \"white\", \"ticks\": \"\"}}, \"title\": {\"x\": 0.05}, \"xaxis\": {\"automargin\": true, \"gridcolor\": \"white\", \"linecolor\": \"white\", \"ticks\": \"\", \"title\": {\"standoff\": 15}, \"zerolinecolor\": \"white\", \"zerolinewidth\": 2}, \"yaxis\": {\"automargin\": true, \"gridcolor\": \"white\", \"linecolor\": \"white\", \"ticks\": \"\", \"title\": {\"standoff\": 15}, \"zerolinecolor\": \"white\", \"zerolinewidth\": 2}}}, \"xaxis\": {\"anchor\": \"y\", \"domain\": [0.0, 1.0], \"title\": {\"text\": \"Deserci\\u00f3n\"}}, \"yaxis\": {\"anchor\": \"x\", \"domain\": [0.0, 1.0], \"title\": {\"text\": \"Edad\"}}},                        {\"responsive\": true}                    ).then(function(){\n",
       "                            \n",
       "var gd = document.getElementById('403ada61-d13d-4fec-a6ba-7430465e1b0a');\n",
       "var x = new MutationObserver(function (mutations, observer) {{\n",
       "        var display = window.getComputedStyle(gd).display;\n",
       "        if (!display || display === 'none') {{\n",
       "            console.log([gd, 'removed!']);\n",
       "            Plotly.purge(gd);\n",
       "            observer.disconnect();\n",
       "        }}\n",
       "}});\n",
       "\n",
       "// Listen for the removal of the full notebook cells\n",
       "var notebookContainer = gd.closest('#notebook-container');\n",
       "if (notebookContainer) {{\n",
       "    x.observe(notebookContainer, {childList: true});\n",
       "}}\n",
       "\n",
       "// Listen for the clearing of the current output cell\n",
       "var outputEl = gd.closest('.output');\n",
       "if (outputEl) {{\n",
       "    x.observe(outputEl, {childList: true});\n",
       "}}\n",
       "\n",
       "                        })                };                });            </script>        </div>"
      ]
     },
     "metadata": {},
     "output_type": "display_data"
    }
   ],
   "source": [
    "import plotly.express as px\n",
    "\n",
    "fig = px.box(df, x=\"Deserción\", y=\"Edad\")\n",
    "fig.update_traces(quartilemethod=\"exclusive\") # or \"inclusive\", or \"linear\" by default\n",
    "fig.show()"
   ]
  },
  {
   "cell_type": "code",
   "execution_count": 242,
   "metadata": {},
   "outputs": [
    {
     "data": {
      "application/vnd.plotly.v1+json": {
       "config": {
        "plotlyServerURL": "https://plot.ly"
       },
       "data": [
        {
         "alignmentgroup": "True",
         "hovertemplate": "Deserción=1<br>Nivel educativo=%{x}<br>Edad=%{y}<extra></extra>",
         "legendgroup": "1",
         "marker": {
          "color": "#636efa"
         },
         "name": "1",
         "notched": false,
         "offsetgroup": "1",
         "orientation": "v",
         "quartilemethod": "exclusive",
         "showlegend": true,
         "type": "box",
         "x": [
          "Primario",
          "Primario",
          "Primario",
          "Primario",
          "Primario",
          "Primario",
          "Primario",
          "Primario",
          "Primario",
          "Primario",
          "Primario",
          "Primario",
          "Primario",
          "Primario",
          "Primario",
          "Primario",
          "Primario",
          "Primario",
          "Primario",
          "Primario",
          "Primario",
          "Primario",
          "Primario",
          "Primario",
          "Primario",
          "Primario",
          "Primario",
          "Primario",
          "Primario",
          "Primario",
          "Primario",
          "Primario",
          "Primario",
          "Primario",
          "Primario",
          "Primario",
          "Primario",
          "Primario",
          "Primario",
          "Primario",
          "Primario",
          "Primario",
          "Primario",
          "Primario",
          "Primario",
          "Primario",
          "Primario",
          "Primario",
          "Primario",
          "Primario",
          "Primario",
          "Primario",
          "Primario",
          "Primario",
          "Primario",
          "Primario",
          "Primario",
          "Primario",
          "Primario",
          "Primario",
          "Primario"
         ],
         "x0": " ",
         "xaxis": "x",
         "y": [
          58,
          60,
          65,
          63,
          61,
          50,
          42,
          37,
          47,
          37,
          52,
          70,
          61,
          52,
          66,
          63,
          61,
          53,
          47,
          62,
          34,
          38,
          48,
          44,
          37,
          64,
          56,
          34,
          53,
          36,
          68,
          53,
          42,
          52,
          60,
          32,
          42,
          38,
          56,
          33,
          58,
          51,
          35,
          59,
          58,
          47,
          36,
          49,
          58,
          66,
          36,
          44,
          70,
          39,
          57,
          51,
          53,
          35,
          36,
          41,
          38
         ],
         "y0": " ",
         "yaxis": "y"
        },
        {
         "alignmentgroup": "True",
         "hovertemplate": "Deserción=0<br>Nivel educativo=%{x}<br>Edad=%{y}<extra></extra>",
         "legendgroup": "0",
         "marker": {
          "color": "#EF553B"
         },
         "name": "0",
         "notched": false,
         "offsetgroup": "0",
         "orientation": "v",
         "quartilemethod": "exclusive",
         "showlegend": true,
         "type": "box",
         "x": [
          "Primario",
          "Primario",
          "Primario",
          "Primario",
          "Primario",
          "Primario",
          "Primario",
          "Primario",
          "Primario",
          "Primario",
          "Primario",
          "Primario",
          "Primario",
          "Primario",
          "Primario",
          "Primario",
          "Primario",
          "Primario",
          "Primario",
          "Primario",
          "Primario",
          "Primario",
          "Primario",
          "Primario",
          "Primario",
          "Primario",
          "Primario",
          "Primario",
          "Primario",
          "Primario",
          "Primario",
          "Primario",
          "Primario",
          "Primario",
          "Primario",
          "Primario",
          "Primario",
          "Primario",
          "Primario",
          "Primario",
          "Primario",
          "Primario",
          "Primario",
          "Secundario",
          "Secundario",
          "Secundario",
          "Secundario",
          "Secundario",
          "Secundario",
          "Secundario",
          "Secundario",
          "Secundario",
          "Secundario",
          "Secundario",
          "Secundario",
          "Secundario",
          "Secundario",
          "Secundario",
          "Secundario",
          "Secundario",
          "Secundario",
          "Secundario",
          "Secundario",
          "Secundario",
          "Secundario",
          "Secundario",
          "Secundario",
          "Secundario",
          "Secundario",
          "Secundario",
          "Secundario",
          "Secundario",
          "Secundario",
          "Secundario",
          "Secundario",
          "Secundario",
          "Secundario",
          "Secundario",
          "Secundario",
          "Secundario",
          "Secundario",
          "Secundario",
          "Secundario",
          "Secundario",
          "Secundario",
          "Secundario",
          "Secundario",
          "Secundario",
          "Secundario",
          "Secundario",
          "Secundario",
          "Secundario",
          "Secundario",
          "Secundario",
          "Secundario",
          "Secundario",
          "Secundario",
          "Secundario",
          "Secundario",
          "Secundario",
          "Secundario",
          "Secundario",
          "Secundario",
          "Secundario",
          "Secundario",
          "Secundario",
          "Secundario",
          "Secundario",
          "Secundario",
          "Secundario",
          "Secundario",
          "Secundario",
          "Secundario",
          "Secundario",
          "Secundario",
          "Secundario",
          "Secundario",
          "Secundario",
          "Secundario",
          "Secundario",
          "Secundario",
          "Secundario",
          "Secundario",
          "Secundario",
          "Secundario",
          "Secundario",
          "Secundario",
          "Secundario",
          "Secundario",
          "Secundario",
          "Secundario",
          "Secundario",
          "Secundario",
          "Secundario",
          "Secundario",
          "Primario",
          "Primario",
          "Primario",
          "Primario",
          "Primario",
          "Primario",
          "Primario",
          "Primario",
          "Primario",
          "Primario",
          "Primario",
          "Primario",
          "Primario",
          "Primario",
          "Primario",
          "Primario",
          "Primario",
          "Primario",
          "Primario",
          "Primario",
          "Primario",
          "Primario",
          "Primario",
          "Primario",
          "Primario",
          "Primario",
          "Primario",
          "Primario",
          "Primario",
          "Primario",
          "Primario",
          "Primario",
          "Primario",
          "Primario",
          "Primario",
          "Primario",
          "Primario",
          "Primario",
          "Primario",
          "Primario",
          "Primario",
          "Primario",
          "Primario",
          "Primario",
          "Primario",
          "Primario",
          "Primario",
          "Primario",
          "Primario",
          "Primario",
          "Primario",
          "Primario",
          "Primario",
          "Primario",
          "Primario",
          "Primario",
          "Secundario",
          "Secundario",
          "Secundario",
          "Secundario",
          "Secundario",
          "Secundario",
          "Secundario",
          "Secundario",
          "Secundario",
          "Secundario",
          "Secundario",
          "Secundario",
          "Secundario",
          "Secundario",
          "Secundario",
          "Secundario",
          "Secundario",
          "Secundario",
          "Secundario",
          "Secundario",
          "Secundario",
          "Secundario",
          "Secundario",
          "Secundario",
          "Secundario",
          "Secundario",
          "Secundario",
          "Secundario",
          "Secundario",
          "Secundario",
          "Secundario",
          "Secundario",
          "Secundario",
          "Secundario",
          "Secundario",
          "Secundario",
          "Secundario",
          "Secundario",
          "Secundario",
          "Secundario",
          "Secundario",
          "Secundario",
          "Secundario",
          "Secundario",
          "Secundario",
          "Secundario",
          "Secundario",
          "Secundario",
          "Secundario",
          "Secundario",
          "Secundario",
          "Secundario",
          "Secundario",
          "Secundario",
          "Secundario",
          "Secundario",
          "Secundario",
          "Secundario",
          "Secundario",
          "Secundario",
          "Secundario",
          "Secundario",
          "Terciario",
          "Terciario",
          "Terciario",
          "Terciario",
          "Terciario",
          "Terciario",
          "Terciario",
          "Terciario",
          "Terciario",
          "Terciario",
          "Terciario",
          "Terciario",
          "Terciario",
          "Terciario"
         ],
         "x0": " ",
         "xaxis": "x",
         "y": [
          62,
          56,
          35,
          44,
          37,
          37,
          52,
          51,
          46,
          43,
          43,
          50,
          36,
          29,
          66,
          45,
          33,
          43,
          35,
          50,
          33,
          41,
          29,
          34,
          37,
          34,
          34,
          49,
          47,
          47,
          38,
          53,
          30,
          42,
          70,
          29,
          47,
          35,
          30,
          32,
          40,
          30,
          43,
          29,
          61,
          33,
          38,
          32,
          35,
          25,
          33,
          35,
          59,
          37,
          27,
          43,
          29,
          38,
          38,
          35,
          45,
          36,
          32,
          41,
          58,
          53,
          49,
          51,
          32,
          39,
          34,
          61,
          54,
          37,
          33,
          28,
          35,
          43,
          35,
          32,
          33,
          37,
          26,
          36,
          47,
          34,
          44,
          37,
          40,
          56,
          39,
          47,
          44,
          52,
          58,
          55,
          50,
          42,
          41,
          58,
          59,
          38,
          56,
          34,
          43,
          43,
          36,
          35,
          46,
          53,
          50,
          44,
          37,
          34,
          33,
          49,
          50,
          40,
          59,
          55,
          45,
          58,
          58,
          33,
          31,
          57,
          68,
          73,
          59,
          72,
          66,
          58,
          54,
          72,
          62,
          36,
          34,
          38,
          36,
          36,
          41,
          35,
          38,
          33,
          43,
          54,
          52,
          37,
          41,
          49,
          34,
          34,
          34,
          34,
          43,
          41,
          41,
          71,
          69,
          56,
          52,
          54,
          45,
          52,
          63,
          56,
          41,
          56,
          37,
          40,
          34,
          36,
          40,
          39,
          53,
          33,
          45,
          67,
          46,
          52,
          59,
          54,
          70,
          48,
          46,
          52,
          59,
          50,
          48,
          58,
          57,
          35,
          52,
          57,
          55,
          57,
          55,
          50,
          61,
          42,
          48,
          48,
          49,
          50,
          39,
          36,
          32,
          33,
          40,
          45,
          48,
          39,
          39,
          32,
          32,
          38,
          37,
          33,
          34,
          37,
          36,
          31,
          36,
          32,
          33,
          31,
          37,
          30,
          59,
          54,
          53,
          72,
          68,
          47,
          53,
          47,
          63,
          53,
          57,
          48,
          41,
          58,
          54,
          43,
          40,
          39,
          42,
          44,
          43,
          35,
          35,
          43,
          46,
          55,
          47,
          39,
          36,
          43,
          35,
          43,
          54,
          39,
          48,
          52,
          54,
          45,
          66
         ],
         "y0": " ",
         "yaxis": "y"
        }
       ],
       "layout": {
        "autosize": true,
        "boxmode": "group",
        "legend": {
         "title": {
          "text": "Deserción"
         },
         "tracegroupgap": 0
        },
        "margin": {
         "t": 60
        },
        "template": {
         "data": {
          "bar": [
           {
            "error_x": {
             "color": "#2a3f5f"
            },
            "error_y": {
             "color": "#2a3f5f"
            },
            "marker": {
             "line": {
              "color": "#E5ECF6",
              "width": 0.5
             }
            },
            "type": "bar"
           }
          ],
          "barpolar": [
           {
            "marker": {
             "line": {
              "color": "#E5ECF6",
              "width": 0.5
             }
            },
            "type": "barpolar"
           }
          ],
          "carpet": [
           {
            "aaxis": {
             "endlinecolor": "#2a3f5f",
             "gridcolor": "white",
             "linecolor": "white",
             "minorgridcolor": "white",
             "startlinecolor": "#2a3f5f"
            },
            "baxis": {
             "endlinecolor": "#2a3f5f",
             "gridcolor": "white",
             "linecolor": "white",
             "minorgridcolor": "white",
             "startlinecolor": "#2a3f5f"
            },
            "type": "carpet"
           }
          ],
          "choropleth": [
           {
            "colorbar": {
             "outlinewidth": 0,
             "ticks": ""
            },
            "type": "choropleth"
           }
          ],
          "contour": [
           {
            "colorbar": {
             "outlinewidth": 0,
             "ticks": ""
            },
            "colorscale": [
             [
              0,
              "#0d0887"
             ],
             [
              0.1111111111111111,
              "#46039f"
             ],
             [
              0.2222222222222222,
              "#7201a8"
             ],
             [
              0.3333333333333333,
              "#9c179e"
             ],
             [
              0.4444444444444444,
              "#bd3786"
             ],
             [
              0.5555555555555556,
              "#d8576b"
             ],
             [
              0.6666666666666666,
              "#ed7953"
             ],
             [
              0.7777777777777778,
              "#fb9f3a"
             ],
             [
              0.8888888888888888,
              "#fdca26"
             ],
             [
              1,
              "#f0f921"
             ]
            ],
            "type": "contour"
           }
          ],
          "contourcarpet": [
           {
            "colorbar": {
             "outlinewidth": 0,
             "ticks": ""
            },
            "type": "contourcarpet"
           }
          ],
          "heatmap": [
           {
            "colorbar": {
             "outlinewidth": 0,
             "ticks": ""
            },
            "colorscale": [
             [
              0,
              "#0d0887"
             ],
             [
              0.1111111111111111,
              "#46039f"
             ],
             [
              0.2222222222222222,
              "#7201a8"
             ],
             [
              0.3333333333333333,
              "#9c179e"
             ],
             [
              0.4444444444444444,
              "#bd3786"
             ],
             [
              0.5555555555555556,
              "#d8576b"
             ],
             [
              0.6666666666666666,
              "#ed7953"
             ],
             [
              0.7777777777777778,
              "#fb9f3a"
             ],
             [
              0.8888888888888888,
              "#fdca26"
             ],
             [
              1,
              "#f0f921"
             ]
            ],
            "type": "heatmap"
           }
          ],
          "heatmapgl": [
           {
            "colorbar": {
             "outlinewidth": 0,
             "ticks": ""
            },
            "colorscale": [
             [
              0,
              "#0d0887"
             ],
             [
              0.1111111111111111,
              "#46039f"
             ],
             [
              0.2222222222222222,
              "#7201a8"
             ],
             [
              0.3333333333333333,
              "#9c179e"
             ],
             [
              0.4444444444444444,
              "#bd3786"
             ],
             [
              0.5555555555555556,
              "#d8576b"
             ],
             [
              0.6666666666666666,
              "#ed7953"
             ],
             [
              0.7777777777777778,
              "#fb9f3a"
             ],
             [
              0.8888888888888888,
              "#fdca26"
             ],
             [
              1,
              "#f0f921"
             ]
            ],
            "type": "heatmapgl"
           }
          ],
          "histogram": [
           {
            "marker": {
             "colorbar": {
              "outlinewidth": 0,
              "ticks": ""
             }
            },
            "type": "histogram"
           }
          ],
          "histogram2d": [
           {
            "colorbar": {
             "outlinewidth": 0,
             "ticks": ""
            },
            "colorscale": [
             [
              0,
              "#0d0887"
             ],
             [
              0.1111111111111111,
              "#46039f"
             ],
             [
              0.2222222222222222,
              "#7201a8"
             ],
             [
              0.3333333333333333,
              "#9c179e"
             ],
             [
              0.4444444444444444,
              "#bd3786"
             ],
             [
              0.5555555555555556,
              "#d8576b"
             ],
             [
              0.6666666666666666,
              "#ed7953"
             ],
             [
              0.7777777777777778,
              "#fb9f3a"
             ],
             [
              0.8888888888888888,
              "#fdca26"
             ],
             [
              1,
              "#f0f921"
             ]
            ],
            "type": "histogram2d"
           }
          ],
          "histogram2dcontour": [
           {
            "colorbar": {
             "outlinewidth": 0,
             "ticks": ""
            },
            "colorscale": [
             [
              0,
              "#0d0887"
             ],
             [
              0.1111111111111111,
              "#46039f"
             ],
             [
              0.2222222222222222,
              "#7201a8"
             ],
             [
              0.3333333333333333,
              "#9c179e"
             ],
             [
              0.4444444444444444,
              "#bd3786"
             ],
             [
              0.5555555555555556,
              "#d8576b"
             ],
             [
              0.6666666666666666,
              "#ed7953"
             ],
             [
              0.7777777777777778,
              "#fb9f3a"
             ],
             [
              0.8888888888888888,
              "#fdca26"
             ],
             [
              1,
              "#f0f921"
             ]
            ],
            "type": "histogram2dcontour"
           }
          ],
          "mesh3d": [
           {
            "colorbar": {
             "outlinewidth": 0,
             "ticks": ""
            },
            "type": "mesh3d"
           }
          ],
          "parcoords": [
           {
            "line": {
             "colorbar": {
              "outlinewidth": 0,
              "ticks": ""
             }
            },
            "type": "parcoords"
           }
          ],
          "pie": [
           {
            "automargin": true,
            "type": "pie"
           }
          ],
          "scatter": [
           {
            "marker": {
             "colorbar": {
              "outlinewidth": 0,
              "ticks": ""
             }
            },
            "type": "scatter"
           }
          ],
          "scatter3d": [
           {
            "line": {
             "colorbar": {
              "outlinewidth": 0,
              "ticks": ""
             }
            },
            "marker": {
             "colorbar": {
              "outlinewidth": 0,
              "ticks": ""
             }
            },
            "type": "scatter3d"
           }
          ],
          "scattercarpet": [
           {
            "marker": {
             "colorbar": {
              "outlinewidth": 0,
              "ticks": ""
             }
            },
            "type": "scattercarpet"
           }
          ],
          "scattergeo": [
           {
            "marker": {
             "colorbar": {
              "outlinewidth": 0,
              "ticks": ""
             }
            },
            "type": "scattergeo"
           }
          ],
          "scattergl": [
           {
            "marker": {
             "colorbar": {
              "outlinewidth": 0,
              "ticks": ""
             }
            },
            "type": "scattergl"
           }
          ],
          "scattermapbox": [
           {
            "marker": {
             "colorbar": {
              "outlinewidth": 0,
              "ticks": ""
             }
            },
            "type": "scattermapbox"
           }
          ],
          "scatterpolar": [
           {
            "marker": {
             "colorbar": {
              "outlinewidth": 0,
              "ticks": ""
             }
            },
            "type": "scatterpolar"
           }
          ],
          "scatterpolargl": [
           {
            "marker": {
             "colorbar": {
              "outlinewidth": 0,
              "ticks": ""
             }
            },
            "type": "scatterpolargl"
           }
          ],
          "scatterternary": [
           {
            "marker": {
             "colorbar": {
              "outlinewidth": 0,
              "ticks": ""
             }
            },
            "type": "scatterternary"
           }
          ],
          "surface": [
           {
            "colorbar": {
             "outlinewidth": 0,
             "ticks": ""
            },
            "colorscale": [
             [
              0,
              "#0d0887"
             ],
             [
              0.1111111111111111,
              "#46039f"
             ],
             [
              0.2222222222222222,
              "#7201a8"
             ],
             [
              0.3333333333333333,
              "#9c179e"
             ],
             [
              0.4444444444444444,
              "#bd3786"
             ],
             [
              0.5555555555555556,
              "#d8576b"
             ],
             [
              0.6666666666666666,
              "#ed7953"
             ],
             [
              0.7777777777777778,
              "#fb9f3a"
             ],
             [
              0.8888888888888888,
              "#fdca26"
             ],
             [
              1,
              "#f0f921"
             ]
            ],
            "type": "surface"
           }
          ],
          "table": [
           {
            "cells": {
             "fill": {
              "color": "#EBF0F8"
             },
             "line": {
              "color": "white"
             }
            },
            "header": {
             "fill": {
              "color": "#C8D4E3"
             },
             "line": {
              "color": "white"
             }
            },
            "type": "table"
           }
          ]
         },
         "layout": {
          "annotationdefaults": {
           "arrowcolor": "#2a3f5f",
           "arrowhead": 0,
           "arrowwidth": 1
          },
          "autotypenumbers": "strict",
          "coloraxis": {
           "colorbar": {
            "outlinewidth": 0,
            "ticks": ""
           }
          },
          "colorscale": {
           "diverging": [
            [
             0,
             "#8e0152"
            ],
            [
             0.1,
             "#c51b7d"
            ],
            [
             0.2,
             "#de77ae"
            ],
            [
             0.3,
             "#f1b6da"
            ],
            [
             0.4,
             "#fde0ef"
            ],
            [
             0.5,
             "#f7f7f7"
            ],
            [
             0.6,
             "#e6f5d0"
            ],
            [
             0.7,
             "#b8e186"
            ],
            [
             0.8,
             "#7fbc41"
            ],
            [
             0.9,
             "#4d9221"
            ],
            [
             1,
             "#276419"
            ]
           ],
           "sequential": [
            [
             0,
             "#0d0887"
            ],
            [
             0.1111111111111111,
             "#46039f"
            ],
            [
             0.2222222222222222,
             "#7201a8"
            ],
            [
             0.3333333333333333,
             "#9c179e"
            ],
            [
             0.4444444444444444,
             "#bd3786"
            ],
            [
             0.5555555555555556,
             "#d8576b"
            ],
            [
             0.6666666666666666,
             "#ed7953"
            ],
            [
             0.7777777777777778,
             "#fb9f3a"
            ],
            [
             0.8888888888888888,
             "#fdca26"
            ],
            [
             1,
             "#f0f921"
            ]
           ],
           "sequentialminus": [
            [
             0,
             "#0d0887"
            ],
            [
             0.1111111111111111,
             "#46039f"
            ],
            [
             0.2222222222222222,
             "#7201a8"
            ],
            [
             0.3333333333333333,
             "#9c179e"
            ],
            [
             0.4444444444444444,
             "#bd3786"
            ],
            [
             0.5555555555555556,
             "#d8576b"
            ],
            [
             0.6666666666666666,
             "#ed7953"
            ],
            [
             0.7777777777777778,
             "#fb9f3a"
            ],
            [
             0.8888888888888888,
             "#fdca26"
            ],
            [
             1,
             "#f0f921"
            ]
           ]
          },
          "colorway": [
           "#636efa",
           "#EF553B",
           "#00cc96",
           "#ab63fa",
           "#FFA15A",
           "#19d3f3",
           "#FF6692",
           "#B6E880",
           "#FF97FF",
           "#FECB52"
          ],
          "font": {
           "color": "#2a3f5f"
          },
          "geo": {
           "bgcolor": "white",
           "lakecolor": "white",
           "landcolor": "#E5ECF6",
           "showlakes": true,
           "showland": true,
           "subunitcolor": "white"
          },
          "hoverlabel": {
           "align": "left"
          },
          "hovermode": "closest",
          "mapbox": {
           "style": "light"
          },
          "paper_bgcolor": "white",
          "plot_bgcolor": "#E5ECF6",
          "polar": {
           "angularaxis": {
            "gridcolor": "white",
            "linecolor": "white",
            "ticks": ""
           },
           "bgcolor": "#E5ECF6",
           "radialaxis": {
            "gridcolor": "white",
            "linecolor": "white",
            "ticks": ""
           }
          },
          "scene": {
           "xaxis": {
            "backgroundcolor": "#E5ECF6",
            "gridcolor": "white",
            "gridwidth": 2,
            "linecolor": "white",
            "showbackground": true,
            "ticks": "",
            "zerolinecolor": "white"
           },
           "yaxis": {
            "backgroundcolor": "#E5ECF6",
            "gridcolor": "white",
            "gridwidth": 2,
            "linecolor": "white",
            "showbackground": true,
            "ticks": "",
            "zerolinecolor": "white"
           },
           "zaxis": {
            "backgroundcolor": "#E5ECF6",
            "gridcolor": "white",
            "gridwidth": 2,
            "linecolor": "white",
            "showbackground": true,
            "ticks": "",
            "zerolinecolor": "white"
           }
          },
          "shapedefaults": {
           "line": {
            "color": "#2a3f5f"
           }
          },
          "ternary": {
           "aaxis": {
            "gridcolor": "white",
            "linecolor": "white",
            "ticks": ""
           },
           "baxis": {
            "gridcolor": "white",
            "linecolor": "white",
            "ticks": ""
           },
           "bgcolor": "#E5ECF6",
           "caxis": {
            "gridcolor": "white",
            "linecolor": "white",
            "ticks": ""
           }
          },
          "title": {
           "x": 0.05
          },
          "xaxis": {
           "automargin": true,
           "gridcolor": "white",
           "linecolor": "white",
           "ticks": "",
           "title": {
            "standoff": 15
           },
           "zerolinecolor": "white",
           "zerolinewidth": 2
          },
          "yaxis": {
           "automargin": true,
           "gridcolor": "white",
           "linecolor": "white",
           "ticks": "",
           "title": {
            "standoff": 15
           },
           "zerolinecolor": "white",
           "zerolinewidth": 2
          }
         }
        },
        "xaxis": {
         "anchor": "y",
         "autorange": true,
         "domain": [
          0,
          1
         ],
         "range": [
          -0.5,
          2.5
         ],
         "title": {
          "text": "Nivel educativo"
         },
         "type": "category"
        },
        "yaxis": {
         "anchor": "x",
         "autorange": true,
         "domain": [
          0,
          1
         ],
         "range": [
          22.333333333333332,
          75.66666666666667
         ],
         "title": {
          "text": "Edad"
         },
         "type": "linear"
        }
       }
      },
      "image/png": "[encoded data removed]",
      "text/html": [
       "<div>                            <div id=\"5807e87b-4d2f-49c5-9efa-dcd3abc5d59a\" class=\"plotly-graph-div\" style=\"height:525px; width:100%;\"></div>            <script type=\"text/javascript\">                require([\"plotly\"], function(Plotly) {                    window.PLOTLYENV=window.PLOTLYENV || {};                                    if (document.getElementById(\"5807e87b-4d2f-49c5-9efa-dcd3abc5d59a\")) {                    Plotly.newPlot(                        \"5807e87b-4d2f-49c5-9efa-dcd3abc5d59a\",                        [{\"alignmentgroup\": \"True\", \"hovertemplate\": \"Deserci\\u00f3n=1<br>Nivel educativo=%{x}<br>Edad=%{y}<extra></extra>\", \"legendgroup\": \"1\", \"marker\": {\"color\": \"#636efa\"}, \"name\": \"1\", \"notched\": false, \"offsetgroup\": \"1\", \"orientation\": \"v\", \"quartilemethod\": \"exclusive\", \"showlegend\": true, \"type\": \"box\", \"x\": [\"Primario\", \"Primario\", \"Primario\", \"Primario\", \"Primario\", \"Primario\", \"Primario\", \"Primario\", \"Primario\", \"Primario\", \"Primario\", \"Primario\", \"Primario\", \"Primario\", \"Primario\", \"Primario\", \"Primario\", \"Primario\", \"Primario\", \"Primario\", \"Primario\", \"Primario\", \"Primario\", \"Primario\", \"Primario\", \"Primario\", \"Primario\", \"Primario\", \"Primario\", \"Primario\", \"Primario\", \"Primario\", \"Primario\", \"Primario\", \"Primario\", \"Primario\", \"Primario\", \"Primario\", \"Primario\", \"Primario\", \"Primario\", \"Primario\", \"Primario\", \"Primario\", \"Primario\", \"Primario\", \"Primario\", \"Primario\", \"Primario\", \"Primario\", \"Primario\", \"Primario\", \"Primario\", \"Primario\", \"Primario\", \"Primario\", \"Primario\", \"Primario\", \"Primario\", \"Primario\", \"Primario\"], \"x0\": \" \", \"xaxis\": \"x\", \"y\": [58, 60, 65, 63, 61, 50, 42, 37, 47, 37, 52, 70, 61, 52, 66, 63, 61, 53, 47, 62, 34, 38, 48, 44, 37, 64, 56, 34, 53, 36, 68, 53, 42, 52, 60, 32, 42, 38, 56, 33, 58, 51, 35, 59, 58, 47, 36, 49, 58, 66, 36, 44, 70, 39, 57, 51, 53, 35, 36, 41, 38], \"y0\": \" \", \"yaxis\": \"y\"}, {\"alignmentgroup\": \"True\", \"hovertemplate\": \"Deserci\\u00f3n=0<br>Nivel educativo=%{x}<br>Edad=%{y}<extra></extra>\", \"legendgroup\": \"0\", \"marker\": {\"color\": \"#EF553B\"}, \"name\": \"0\", \"notched\": false, \"offsetgroup\": \"0\", \"orientation\": \"v\", \"quartilemethod\": \"exclusive\", \"showlegend\": true, \"type\": \"box\", \"x\": [\"Primario\", \"Primario\", \"Primario\", \"Primario\", \"Primario\", \"Primario\", \"Primario\", \"Primario\", \"Primario\", \"Primario\", \"Primario\", \"Primario\", \"Primario\", \"Primario\", \"Primario\", \"Primario\", \"Primario\", \"Primario\", \"Primario\", \"Primario\", \"Primario\", \"Primario\", \"Primario\", \"Primario\", \"Primario\", \"Primario\", \"Primario\", \"Primario\", \"Primario\", \"Primario\", \"Primario\", \"Primario\", \"Primario\", \"Primario\", \"Primario\", \"Primario\", \"Primario\", \"Primario\", \"Primario\", \"Primario\", \"Primario\", \"Primario\", \"Primario\", \"Secundario\", \"Secundario\", \"Secundario\", \"Secundario\", \"Secundario\", \"Secundario\", \"Secundario\", \"Secundario\", \"Secundario\", \"Secundario\", \"Secundario\", \"Secundario\", \"Secundario\", \"Secundario\", \"Secundario\", \"Secundario\", \"Secundario\", \"Secundario\", \"Secundario\", \"Secundario\", \"Secundario\", \"Secundario\", \"Secundario\", \"Secundario\", \"Secundario\", \"Secundario\", \"Secundario\", \"Secundario\", \"Secundario\", \"Secundario\", \"Secundario\", \"Secundario\", \"Secundario\", \"Secundario\", \"Secundario\", \"Secundario\", \"Secundario\", \"Secundario\", \"Secundario\", \"Secundario\", \"Secundario\", \"Secundario\", \"Secundario\", \"Secundario\", \"Secundario\", \"Secundario\", \"Secundario\", \"Secundario\", \"Secundario\", \"Secundario\", \"Secundario\", \"Secundario\", \"Secundario\", \"Secundario\", \"Secundario\", \"Secundario\", \"Secundario\", \"Secundario\", \"Secundario\", \"Secundario\", \"Secundario\", \"Secundario\", \"Secundario\", \"Secundario\", \"Secundario\", \"Secundario\", \"Secundario\", \"Secundario\", \"Secundario\", \"Secundario\", \"Secundario\", \"Secundario\", \"Secundario\", \"Secundario\", \"Secundario\", \"Secundario\", \"Secundario\", \"Secundario\", \"Secundario\", \"Secundario\", \"Secundario\", \"Secundario\", \"Secundario\", \"Secundario\", \"Secundario\", \"Secundario\", \"Secundario\", \"Secundario\", \"Secundario\", \"Secundario\", \"Secundario\", \"Secundario\", \"Primario\", \"Primario\", \"Primario\", \"Primario\", \"Primario\", \"Primario\", \"Primario\", \"Primario\", \"Primario\", \"Primario\", \"Primario\", \"Primario\", \"Primario\", \"Primario\", \"Primario\", \"Primario\", \"Primario\", \"Primario\", \"Primario\", \"Primario\", \"Primario\", \"Primario\", \"Primario\", \"Primario\", \"Primario\", \"Primario\", \"Primario\", \"Primario\", \"Primario\", \"Primario\", \"Primario\", \"Primario\", \"Primario\", \"Primario\", \"Primario\", \"Primario\", \"Primario\", \"Primario\", \"Primario\", \"Primario\", \"Primario\", \"Primario\", \"Primario\", \"Primario\", \"Primario\", \"Primario\", \"Primario\", \"Primario\", \"Primario\", \"Primario\", \"Primario\", \"Primario\", \"Primario\", \"Primario\", \"Primario\", \"Primario\", \"Secundario\", \"Secundario\", \"Secundario\", \"Secundario\", \"Secundario\", \"Secundario\", \"Secundario\", \"Secundario\", \"Secundario\", \"Secundario\", \"Secundario\", \"Secundario\", \"Secundario\", \"Secundario\", \"Secundario\", \"Secundario\", \"Secundario\", \"Secundario\", \"Secundario\", \"Secundario\", \"Secundario\", \"Secundario\", \"Secundario\", \"Secundario\", \"Secundario\", \"Secundario\", \"Secundario\", \"Secundario\", \"Secundario\", \"Secundario\", \"Secundario\", \"Secundario\", \"Secundario\", \"Secundario\", \"Secundario\", \"Secundario\", \"Secundario\", \"Secundario\", \"Secundario\", \"Secundario\", \"Secundario\", \"Secundario\", \"Secundario\", \"Secundario\", \"Secundario\", \"Secundario\", \"Secundario\", \"Secundario\", \"Secundario\", \"Secundario\", \"Secundario\", \"Secundario\", \"Secundario\", \"Secundario\", \"Secundario\", \"Secundario\", \"Secundario\", \"Secundario\", \"Secundario\", \"Secundario\", \"Secundario\", \"Secundario\", \"Terciario\", \"Terciario\", \"Terciario\", \"Terciario\", \"Terciario\", \"Terciario\", \"Terciario\", \"Terciario\", \"Terciario\", \"Terciario\", \"Terciario\", \"Terciario\", \"Terciario\", \"Terciario\"], \"x0\": \" \", \"xaxis\": \"x\", \"y\": [62, 56, 35, 44, 37, 37, 52, 51, 46, 43, 43, 50, 36, 29, 66, 45, 33, 43, 35, 50, 33, 41, 29, 34, 37, 34, 34, 49, 47, 47, 38, 53, 30, 42, 70, 29, 47, 35, 30, 32, 40, 30, 43, 29, 61, 33, 38, 32, 35, 25, 33, 35, 59, 37, 27, 43, 29, 38, 38, 35, 45, 36, 32, 41, 58, 53, 49, 51, 32, 39, 34, 61, 54, 37, 33, 28, 35, 43, 35, 32, 33, 37, 26, 36, 47, 34, 44, 37, 40, 56, 39, 47, 44, 52, 58, 55, 50, 42, 41, 58, 59, 38, 56, 34, 43, 43, 36, 35, 46, 53, 50, 44, 37, 34, 33, 49, 50, 40, 59, 55, 45, 58, 58, 33, 31, 57, 68, 73, 59, 72, 66, 58, 54, 72, 62, 36, 34, 38, 36, 36, 41, 35, 38, 33, 43, 54, 52, 37, 41, 49, 34, 34, 34, 34, 43, 41, 41, 71, 69, 56, 52, 54, 45, 52, 63, 56, 41, 56, 37, 40, 34, 36, 40, 39, 53, 33, 45, 67, 46, 52, 59, 54, 70, 48, 46, 52, 59, 50, 48, 58, 57, 35, 52, 57, 55, 57, 55, 50, 61, 42, 48, 48, 49, 50, 39, 36, 32, 33, 40, 45, 48, 39, 39, 32, 32, 38, 37, 33, 34, 37, 36, 31, 36, 32, 33, 31, 37, 30, 59, 54, 53, 72, 68, 47, 53, 47, 63, 53, 57, 48, 41, 58, 54, 43, 40, 39, 42, 44, 43, 35, 35, 43, 46, 55, 47, 39, 36, 43, 35, 43, 54, 39, 48, 52, 54, 45, 66], \"y0\": \" \", \"yaxis\": \"y\"}],                        {\"boxmode\": \"group\", \"legend\": {\"title\": {\"text\": \"Deserci\\u00f3n\"}, \"tracegroupgap\": 0}, \"margin\": {\"t\": 60}, \"template\": {\"data\": {\"bar\": [{\"error_x\": {\"color\": \"#2a3f5f\"}, \"error_y\": {\"color\": \"#2a3f5f\"}, \"marker\": {\"line\": {\"color\": \"#E5ECF6\", \"width\": 0.5}}, \"type\": \"bar\"}], \"barpolar\": [{\"marker\": {\"line\": {\"color\": \"#E5ECF6\", \"width\": 0.5}}, \"type\": \"barpolar\"}], \"carpet\": [{\"aaxis\": {\"endlinecolor\": \"#2a3f5f\", \"gridcolor\": \"white\", \"linecolor\": \"white\", \"minorgridcolor\": \"white\", \"startlinecolor\": \"#2a3f5f\"}, \"baxis\": {\"endlinecolor\": \"#2a3f5f\", \"gridcolor\": \"white\", \"linecolor\": \"white\", \"minorgridcolor\": \"white\", \"startlinecolor\": \"#2a3f5f\"}, \"type\": \"carpet\"}], \"choropleth\": [{\"colorbar\": {\"outlinewidth\": 0, \"ticks\": \"\"}, \"type\": \"choropleth\"}], \"contour\": [{\"colorbar\": {\"outlinewidth\": 0, \"ticks\": \"\"}, \"colorscale\": [[0.0, \"#0d0887\"], [0.1111111111111111, \"#46039f\"], [0.2222222222222222, \"#7201a8\"], [0.3333333333333333, \"#9c179e\"], [0.4444444444444444, \"#bd3786\"], [0.5555555555555556, \"#d8576b\"], [0.6666666666666666, \"#ed7953\"], [0.7777777777777778, \"#fb9f3a\"], [0.8888888888888888, \"#fdca26\"], [1.0, \"#f0f921\"]], \"type\": \"contour\"}], \"contourcarpet\": [{\"colorbar\": {\"outlinewidth\": 0, \"ticks\": \"\"}, \"type\": \"contourcarpet\"}], \"heatmap\": [{\"colorbar\": {\"outlinewidth\": 0, \"ticks\": \"\"}, \"colorscale\": [[0.0, \"#0d0887\"], [0.1111111111111111, \"#46039f\"], [0.2222222222222222, \"#7201a8\"], [0.3333333333333333, \"#9c179e\"], [0.4444444444444444, \"#bd3786\"], [0.5555555555555556, \"#d8576b\"], [0.6666666666666666, \"#ed7953\"], [0.7777777777777778, \"#fb9f3a\"], [0.8888888888888888, \"#fdca26\"], [1.0, \"#f0f921\"]], \"type\": \"heatmap\"}], \"heatmapgl\": [{\"colorbar\": {\"outlinewidth\": 0, \"ticks\": \"\"}, \"colorscale\": [[0.0, \"#0d0887\"], [0.1111111111111111, \"#46039f\"], [0.2222222222222222, \"#7201a8\"], [0.3333333333333333, \"#9c179e\"], [0.4444444444444444, \"#bd3786\"], [0.5555555555555556, \"#d8576b\"], [0.6666666666666666, \"#ed7953\"], [0.7777777777777778, \"#fb9f3a\"], [0.8888888888888888, \"#fdca26\"], [1.0, \"#f0f921\"]], \"type\": \"heatmapgl\"}], \"histogram\": [{\"marker\": {\"colorbar\": {\"outlinewidth\": 0, \"ticks\": \"\"}}, \"type\": \"histogram\"}], \"histogram2d\": [{\"colorbar\": {\"outlinewidth\": 0, \"ticks\": \"\"}, \"colorscale\": [[0.0, \"#0d0887\"], [0.1111111111111111, \"#46039f\"], [0.2222222222222222, \"#7201a8\"], [0.3333333333333333, \"#9c179e\"], [0.4444444444444444, \"#bd3786\"], [0.5555555555555556, \"#d8576b\"], [0.6666666666666666, \"#ed7953\"], [0.7777777777777778, \"#fb9f3a\"], [0.8888888888888888, \"#fdca26\"], [1.0, \"#f0f921\"]], \"type\": \"histogram2d\"}], \"histogram2dcontour\": [{\"colorbar\": {\"outlinewidth\": 0, \"ticks\": \"\"}, \"colorscale\": [[0.0, \"#0d0887\"], [0.1111111111111111, \"#46039f\"], [0.2222222222222222, \"#7201a8\"], [0.3333333333333333, \"#9c179e\"], [0.4444444444444444, \"#bd3786\"], [0.5555555555555556, \"#d8576b\"], [0.6666666666666666, \"#ed7953\"], [0.7777777777777778, \"#fb9f3a\"], [0.8888888888888888, \"#fdca26\"], [1.0, \"#f0f921\"]], \"type\": \"histogram2dcontour\"}], \"mesh3d\": [{\"colorbar\": {\"outlinewidth\": 0, \"ticks\": \"\"}, \"type\": \"mesh3d\"}], \"parcoords\": [{\"line\": {\"colorbar\": {\"outlinewidth\": 0, \"ticks\": \"\"}}, \"type\": \"parcoords\"}], \"pie\": [{\"automargin\": true, \"type\": \"pie\"}], \"scatter\": [{\"marker\": {\"colorbar\": {\"outlinewidth\": 0, \"ticks\": \"\"}}, \"type\": \"scatter\"}], \"scatter3d\": [{\"line\": {\"colorbar\": {\"outlinewidth\": 0, \"ticks\": \"\"}}, \"marker\": {\"colorbar\": {\"outlinewidth\": 0, \"ticks\": \"\"}}, \"type\": \"scatter3d\"}], \"scattercarpet\": [{\"marker\": {\"colorbar\": {\"outlinewidth\": 0, \"ticks\": \"\"}}, \"type\": \"scattercarpet\"}], \"scattergeo\": [{\"marker\": {\"colorbar\": {\"outlinewidth\": 0, \"ticks\": \"\"}}, \"type\": \"scattergeo\"}], \"scattergl\": [{\"marker\": {\"colorbar\": {\"outlinewidth\": 0, \"ticks\": \"\"}}, \"type\": \"scattergl\"}], \"scattermapbox\": [{\"marker\": {\"colorbar\": {\"outlinewidth\": 0, \"ticks\": \"\"}}, \"type\": \"scattermapbox\"}], \"scatterpolar\": [{\"marker\": {\"colorbar\": {\"outlinewidth\": 0, \"ticks\": \"\"}}, \"type\": \"scatterpolar\"}], \"scatterpolargl\": [{\"marker\": {\"colorbar\": {\"outlinewidth\": 0, \"ticks\": \"\"}}, \"type\": \"scatterpolargl\"}], \"scatterternary\": [{\"marker\": {\"colorbar\": {\"outlinewidth\": 0, \"ticks\": \"\"}}, \"type\": \"scatterternary\"}], \"surface\": [{\"colorbar\": {\"outlinewidth\": 0, \"ticks\": \"\"}, \"colorscale\": [[0.0, \"#0d0887\"], [0.1111111111111111, \"#46039f\"], [0.2222222222222222, \"#7201a8\"], [0.3333333333333333, \"#9c179e\"], [0.4444444444444444, \"#bd3786\"], [0.5555555555555556, \"#d8576b\"], [0.6666666666666666, \"#ed7953\"], [0.7777777777777778, \"#fb9f3a\"], [0.8888888888888888, \"#fdca26\"], [1.0, \"#f0f921\"]], \"type\": \"surface\"}], \"table\": [{\"cells\": {\"fill\": {\"color\": \"#EBF0F8\"}, \"line\": {\"color\": \"white\"}}, \"header\": {\"fill\": {\"color\": \"#C8D4E3\"}, \"line\": {\"color\": \"white\"}}, \"type\": \"table\"}]}, \"layout\": {\"annotationdefaults\": {\"arrowcolor\": \"#2a3f5f\", \"arrowhead\": 0, \"arrowwidth\": 1}, \"autotypenumbers\": \"strict\", \"coloraxis\": {\"colorbar\": {\"outlinewidth\": 0, \"ticks\": \"\"}}, \"colorscale\": {\"diverging\": [[0, \"#8e0152\"], [0.1, \"#c51b7d\"], [0.2, \"#de77ae\"], [0.3, \"#f1b6da\"], [0.4, \"#fde0ef\"], [0.5, \"#f7f7f7\"], [0.6, \"#e6f5d0\"], [0.7, \"#b8e186\"], [0.8, \"#7fbc41\"], [0.9, \"#4d9221\"], [1, \"#276419\"]], \"sequential\": [[0.0, \"#0d0887\"], [0.1111111111111111, \"#46039f\"], [0.2222222222222222, \"#7201a8\"], [0.3333333333333333, \"#9c179e\"], [0.4444444444444444, \"#bd3786\"], [0.5555555555555556, \"#d8576b\"], [0.6666666666666666, \"#ed7953\"], [0.7777777777777778, \"#fb9f3a\"], [0.8888888888888888, \"#fdca26\"], [1.0, \"#f0f921\"]], \"sequentialminus\": [[0.0, \"#0d0887\"], [0.1111111111111111, \"#46039f\"], [0.2222222222222222, \"#7201a8\"], [0.3333333333333333, \"#9c179e\"], [0.4444444444444444, \"#bd3786\"], [0.5555555555555556, \"#d8576b\"], [0.6666666666666666, \"#ed7953\"], [0.7777777777777778, \"#fb9f3a\"], [0.8888888888888888, \"#fdca26\"], [1.0, \"#f0f921\"]]}, \"colorway\": [\"#636efa\", \"#EF553B\", \"#00cc96\", \"#ab63fa\", \"#FFA15A\", \"#19d3f3\", \"#FF6692\", \"#B6E880\", \"#FF97FF\", \"#FECB52\"], \"font\": {\"color\": \"#2a3f5f\"}, \"geo\": {\"bgcolor\": \"white\", \"lakecolor\": \"white\", \"landcolor\": \"#E5ECF6\", \"showlakes\": true, \"showland\": true, \"subunitcolor\": \"white\"}, \"hoverlabel\": {\"align\": \"left\"}, \"hovermode\": \"closest\", \"mapbox\": {\"style\": \"light\"}, \"paper_bgcolor\": \"white\", \"plot_bgcolor\": \"#E5ECF6\", \"polar\": {\"angularaxis\": {\"gridcolor\": \"white\", \"linecolor\": \"white\", \"ticks\": \"\"}, \"bgcolor\": \"#E5ECF6\", \"radialaxis\": {\"gridcolor\": \"white\", \"linecolor\": \"white\", \"ticks\": \"\"}}, \"scene\": {\"xaxis\": {\"backgroundcolor\": \"#E5ECF6\", \"gridcolor\": \"white\", \"gridwidth\": 2, \"linecolor\": \"white\", \"showbackground\": true, \"ticks\": \"\", \"zerolinecolor\": \"white\"}, \"yaxis\": {\"backgroundcolor\": \"#E5ECF6\", \"gridcolor\": \"white\", \"gridwidth\": 2, \"linecolor\": \"white\", \"showbackground\": true, \"ticks\": \"\", \"zerolinecolor\": \"white\"}, \"zaxis\": {\"backgroundcolor\": \"#E5ECF6\", \"gridcolor\": \"white\", \"gridwidth\": 2, \"linecolor\": \"white\", \"showbackground\": true, \"ticks\": \"\", \"zerolinecolor\": \"white\"}}, \"shapedefaults\": {\"line\": {\"color\": \"#2a3f5f\"}}, \"ternary\": {\"aaxis\": {\"gridcolor\": \"white\", \"linecolor\": \"white\", \"ticks\": \"\"}, \"baxis\": {\"gridcolor\": \"white\", \"linecolor\": \"white\", \"ticks\": \"\"}, \"bgcolor\": \"#E5ECF6\", \"caxis\": {\"gridcolor\": \"white\", \"linecolor\": \"white\", \"ticks\": \"\"}}, \"title\": {\"x\": 0.05}, \"xaxis\": {\"automargin\": true, \"gridcolor\": \"white\", \"linecolor\": \"white\", \"ticks\": \"\", \"title\": {\"standoff\": 15}, \"zerolinecolor\": \"white\", \"zerolinewidth\": 2}, \"yaxis\": {\"automargin\": true, \"gridcolor\": \"white\", \"linecolor\": \"white\", \"ticks\": \"\", \"title\": {\"standoff\": 15}, \"zerolinecolor\": \"white\", \"zerolinewidth\": 2}}}, \"xaxis\": {\"anchor\": \"y\", \"domain\": [0.0, 1.0], \"title\": {\"text\": \"Nivel educativo\"}}, \"yaxis\": {\"anchor\": \"x\", \"domain\": [0.0, 1.0], \"title\": {\"text\": \"Edad\"}}},                        {\"responsive\": true}                    ).then(function(){\n",
       "                            \n",
       "var gd = document.getElementById('5807e87b-4d2f-49c5-9efa-dcd3abc5d59a');\n",
       "var x = new MutationObserver(function (mutations, observer) {{\n",
       "        var display = window.getComputedStyle(gd).display;\n",
       "        if (!display || display === 'none') {{\n",
       "            console.log([gd, 'removed!']);\n",
       "            Plotly.purge(gd);\n",
       "            observer.disconnect();\n",
       "        }}\n",
       "}});\n",
       "\n",
       "// Listen for the removal of the full notebook cells\n",
       "var notebookContainer = gd.closest('#notebook-container');\n",
       "if (notebookContainer) {{\n",
       "    x.observe(notebookContainer, {childList: true});\n",
       "}}\n",
       "\n",
       "// Listen for the clearing of the current output cell\n",
       "var outputEl = gd.closest('.output');\n",
       "if (outputEl) {{\n",
       "    x.observe(outputEl, {childList: true});\n",
       "}}\n",
       "\n",
       "                        })                };                });            </script>        </div>"
      ]
     },
     "metadata": {},
     "output_type": "display_data"
    }
   ],
   "source": [
    "fig = px.box(df, x=\"Nivel educativo\", y=\"Edad\", color=\"Deserción\")\n",
    "fig.update_traces(quartilemethod=\"exclusive\") \n",
    "fig.show()"
   ]
  },
  {
   "cell_type": "code",
   "execution_count": 243,
   "metadata": {},
   "outputs": [
    {
     "data": {
      "application/vnd.plotly.v1+json": {
       "config": {
        "plotlyServerURL": "https://plot.ly"
       },
       "data": [
        {
         "alignmentgroup": "True",
         "hovertemplate": "Deserción=1<br>Nivel de alfabetización digital=%{x}<br>Edad=%{y}<extra></extra>",
         "legendgroup": "1",
         "marker": {
          "color": "#636efa"
         },
         "name": "1",
         "notched": false,
         "offsetgroup": "1",
         "orientation": "v",
         "quartilemethod": "exclusive",
         "showlegend": true,
         "type": "box",
         "x": [
          "Bajo",
          "Bajo",
          "Bajo",
          "Bajo",
          "Bajo",
          "Bajo",
          "Bajo",
          "Bajo",
          "Bajo",
          "Bajo",
          "Bajo",
          "Bajo",
          "Bajo",
          "Bajo",
          "Bajo",
          "Bajo",
          "Bajo",
          "Bajo",
          "Bajo",
          "Bajo",
          "Bajo",
          "Bajo",
          "Bajo",
          "Bajo",
          "Bajo",
          "Bajo",
          "Bajo",
          "Bajo",
          "Bajo",
          "Bajo",
          "Bajo",
          "Bajo",
          "Bajo",
          "Bajo",
          "Bajo",
          "Bajo",
          "Bajo",
          "Bajo",
          "Bajo",
          "Bajo",
          "Bajo",
          "Bajo",
          "Bajo",
          "Medio",
          "Medio",
          "Medio",
          "Medio",
          "Medio",
          "Medio",
          "Medio",
          "Medio",
          "Medio",
          "Medio",
          "Medio",
          "Medio",
          "Medio",
          "Medio",
          "Medio",
          "Medio",
          "Medio",
          "Medio"
         ],
         "x0": " ",
         "xaxis": "x",
         "y": [
          58,
          60,
          65,
          63,
          61,
          50,
          42,
          37,
          47,
          37,
          52,
          70,
          61,
          52,
          66,
          63,
          61,
          53,
          47,
          62,
          34,
          38,
          48,
          44,
          37,
          64,
          56,
          34,
          53,
          36,
          68,
          53,
          42,
          52,
          60,
          32,
          42,
          38,
          56,
          33,
          58,
          51,
          35,
          59,
          58,
          47,
          36,
          49,
          58,
          66,
          36,
          44,
          70,
          39,
          57,
          51,
          53,
          35,
          36,
          41,
          38
         ],
         "y0": " ",
         "yaxis": "y"
        },
        {
         "alignmentgroup": "True",
         "hovertemplate": "Deserción=0<br>Nivel de alfabetización digital=%{x}<br>Edad=%{y}<extra></extra>",
         "legendgroup": "0",
         "marker": {
          "color": "#EF553B"
         },
         "name": "0",
         "notched": false,
         "offsetgroup": "0",
         "orientation": "v",
         "quartilemethod": "exclusive",
         "showlegend": true,
         "type": "box",
         "x": [
          "Bajo",
          "Bajo",
          "Bajo",
          "Bajo",
          "Bajo",
          "Bajo",
          "Bajo",
          "Bajo",
          "Bajo",
          "Bajo",
          "Bajo",
          "Bajo",
          "Bajo",
          "Bajo",
          "Bajo",
          "Bajo",
          "Bajo",
          "Bajo",
          "Bajo",
          "Bajo",
          "Bajo",
          "Bajo",
          "Bajo",
          "Bajo",
          "Bajo",
          "Bajo",
          "Bajo",
          "Bajo",
          "Bajo",
          "Bajo",
          "Bajo",
          "Bajo",
          "Bajo",
          "Bajo",
          "Bajo",
          "Bajo",
          "Bajo",
          "Bajo",
          "Bajo",
          "Bajo",
          "Bajo",
          "Bajo",
          "Bajo",
          "Medio",
          "Medio",
          "Medio",
          "Medio",
          "Medio",
          "Medio",
          "Medio",
          "Medio",
          "Medio",
          "Medio",
          "Medio",
          "Medio",
          "Medio",
          "Medio",
          "Medio",
          "Medio",
          "Medio",
          "Medio",
          "Medio",
          "Medio",
          "Medio",
          "Medio",
          "Medio",
          "Medio",
          "Medio",
          "Medio",
          "Medio",
          "Medio",
          "Medio",
          "Medio",
          "Medio",
          "Medio",
          "Medio",
          "Medio",
          "Medio",
          "Medio",
          "Medio",
          "Medio",
          "Medio",
          "Medio",
          "Medio",
          "Medio",
          "Medio",
          "Medio",
          "Medio",
          "Medio",
          "Medio",
          "Medio",
          "Medio",
          "Medio",
          "Medio",
          "Medio",
          "Medio",
          "Medio",
          "Medio",
          "Medio",
          "Medio",
          "Medio",
          "Medio",
          "Medio",
          "Medio",
          "Medio",
          "Medio",
          "Medio",
          "Medio",
          "Medio",
          "Medio",
          "Medio",
          "Medio",
          "Medio",
          "Medio",
          "Medio",
          "Medio",
          "Medio",
          "Medio",
          "Medio",
          "Medio",
          "Medio",
          "Medio",
          "Medio",
          "Medio",
          "Medio",
          "Medio",
          "Medio",
          "Medio",
          "Medio",
          "Medio",
          "Medio",
          "Medio",
          "Medio",
          "Medio",
          "Medio",
          "Medio",
          "Medio",
          "Medio",
          "Medio",
          "Medio",
          "Medio",
          "Medio",
          "Medio",
          "Medio",
          "Medio",
          "Medio",
          "Medio",
          "Medio",
          "Medio",
          "Medio",
          "Medio",
          "Medio",
          "Medio",
          "Medio",
          "Medio",
          "Medio",
          "Medio",
          "Medio",
          "Medio",
          "Medio",
          "Medio",
          "Medio",
          "Medio",
          "Medio",
          "Medio",
          "Medio",
          "Medio",
          "Medio",
          "Medio",
          "Medio",
          "Medio",
          "Medio",
          "Medio",
          "Medio",
          "Medio",
          "Medio",
          "Medio",
          "Medio",
          "Medio",
          "Medio",
          "Medio",
          "Medio",
          "Medio",
          "Medio",
          "Medio",
          "Medio",
          "Medio",
          "Medio",
          "Medio",
          "Medio",
          "Medio",
          "Medio",
          "Medio",
          "Medio",
          "Medio",
          "Medio",
          "Medio",
          "Medio",
          "Medio",
          "Medio",
          "Medio",
          "Medio",
          "Medio",
          "Medio",
          "Medio",
          "Medio",
          "Medio",
          "Medio",
          "Medio",
          "Medio",
          "Medio",
          "Medio",
          "Medio",
          "Medio",
          "Medio",
          "Medio",
          "Medio",
          "Medio",
          "Medio",
          "Medio",
          "Medio",
          "Medio",
          "Medio",
          "Medio",
          "Medio",
          "Medio",
          "Medio",
          "Medio",
          "Medio",
          "Medio",
          "Medio",
          "Medio",
          "Medio",
          "Medio",
          "Medio",
          "Medio",
          "Medio",
          "Medio",
          "Medio",
          "Medio",
          "Medio",
          "Medio",
          "Medio",
          "Medio",
          "Medio",
          "Medio",
          "Medio",
          "Medio",
          "Medio",
          "Medio",
          "Medio",
          "Medio",
          "Medio",
          "Alto",
          "Alto",
          "Alto",
          "Alto",
          "Alto",
          "Alto",
          "Alto",
          "Alto",
          "Alto",
          "Alto",
          "Alto",
          "Alto",
          "Alto",
          "Alto"
         ],
         "x0": " ",
         "xaxis": "x",
         "y": [
          62,
          56,
          35,
          44,
          37,
          37,
          52,
          51,
          46,
          43,
          43,
          50,
          36,
          29,
          66,
          45,
          33,
          43,
          35,
          50,
          33,
          41,
          29,
          34,
          37,
          34,
          34,
          49,
          47,
          47,
          38,
          53,
          30,
          42,
          70,
          29,
          47,
          35,
          30,
          32,
          40,
          30,
          43,
          29,
          61,
          33,
          38,
          32,
          35,
          25,
          33,
          35,
          59,
          37,
          27,
          43,
          29,
          38,
          38,
          35,
          45,
          36,
          32,
          41,
          58,
          53,
          49,
          51,
          32,
          39,
          34,
          61,
          54,
          37,
          33,
          28,
          35,
          43,
          35,
          32,
          33,
          37,
          26,
          36,
          47,
          34,
          44,
          37,
          40,
          56,
          39,
          47,
          44,
          52,
          58,
          55,
          50,
          42,
          41,
          58,
          59,
          38,
          56,
          34,
          43,
          43,
          36,
          35,
          46,
          53,
          50,
          44,
          37,
          34,
          33,
          49,
          50,
          40,
          59,
          55,
          45,
          58,
          58,
          33,
          31,
          57,
          68,
          73,
          59,
          72,
          66,
          58,
          54,
          72,
          62,
          36,
          34,
          38,
          36,
          36,
          41,
          35,
          38,
          33,
          43,
          54,
          52,
          37,
          41,
          49,
          34,
          34,
          34,
          34,
          43,
          41,
          41,
          71,
          69,
          56,
          52,
          54,
          45,
          52,
          63,
          56,
          41,
          56,
          37,
          40,
          34,
          36,
          40,
          39,
          53,
          33,
          45,
          67,
          46,
          52,
          59,
          54,
          70,
          48,
          46,
          52,
          59,
          50,
          48,
          58,
          57,
          35,
          52,
          57,
          55,
          57,
          55,
          50,
          61,
          42,
          48,
          48,
          49,
          50,
          39,
          36,
          32,
          33,
          40,
          45,
          48,
          39,
          39,
          32,
          32,
          38,
          37,
          33,
          34,
          37,
          36,
          31,
          36,
          32,
          33,
          31,
          37,
          30,
          59,
          54,
          53,
          72,
          68,
          47,
          53,
          47,
          63,
          53,
          57,
          48,
          41,
          58,
          54,
          43,
          40,
          39,
          42,
          44,
          43,
          35,
          35,
          43,
          46,
          55,
          47,
          39,
          36,
          43,
          35,
          43,
          54,
          39,
          48,
          52,
          54,
          45,
          66
         ],
         "y0": " ",
         "yaxis": "y"
        }
       ],
       "layout": {
        "autosize": true,
        "boxmode": "group",
        "legend": {
         "title": {
          "text": "Deserción"
         },
         "tracegroupgap": 0
        },
        "margin": {
         "t": 60
        },
        "template": {
         "data": {
          "bar": [
           {
            "error_x": {
             "color": "#2a3f5f"
            },
            "error_y": {
             "color": "#2a3f5f"
            },
            "marker": {
             "line": {
              "color": "#E5ECF6",
              "width": 0.5
             }
            },
            "type": "bar"
           }
          ],
          "barpolar": [
           {
            "marker": {
             "line": {
              "color": "#E5ECF6",
              "width": 0.5
             }
            },
            "type": "barpolar"
           }
          ],
          "carpet": [
           {
            "aaxis": {
             "endlinecolor": "#2a3f5f",
             "gridcolor": "white",
             "linecolor": "white",
             "minorgridcolor": "white",
             "startlinecolor": "#2a3f5f"
            },
            "baxis": {
             "endlinecolor": "#2a3f5f",
             "gridcolor": "white",
             "linecolor": "white",
             "minorgridcolor": "white",
             "startlinecolor": "#2a3f5f"
            },
            "type": "carpet"
           }
          ],
          "choropleth": [
           {
            "colorbar": {
             "outlinewidth": 0,
             "ticks": ""
            },
            "type": "choropleth"
           }
          ],
          "contour": [
           {
            "colorbar": {
             "outlinewidth": 0,
             "ticks": ""
            },
            "colorscale": [
             [
              0,
              "#0d0887"
             ],
             [
              0.1111111111111111,
              "#46039f"
             ],
             [
              0.2222222222222222,
              "#7201a8"
             ],
             [
              0.3333333333333333,
              "#9c179e"
             ],
             [
              0.4444444444444444,
              "#bd3786"
             ],
             [
              0.5555555555555556,
              "#d8576b"
             ],
             [
              0.6666666666666666,
              "#ed7953"
             ],
             [
              0.7777777777777778,
              "#fb9f3a"
             ],
             [
              0.8888888888888888,
              "#fdca26"
             ],
             [
              1,
              "#f0f921"
             ]
            ],
            "type": "contour"
           }
          ],
          "contourcarpet": [
           {
            "colorbar": {
             "outlinewidth": 0,
             "ticks": ""
            },
            "type": "contourcarpet"
           }
          ],
          "heatmap": [
           {
            "colorbar": {
             "outlinewidth": 0,
             "ticks": ""
            },
            "colorscale": [
             [
              0,
              "#0d0887"
             ],
             [
              0.1111111111111111,
              "#46039f"
             ],
             [
              0.2222222222222222,
              "#7201a8"
             ],
             [
              0.3333333333333333,
              "#9c179e"
             ],
             [
              0.4444444444444444,
              "#bd3786"
             ],
             [
              0.5555555555555556,
              "#d8576b"
             ],
             [
              0.6666666666666666,
              "#ed7953"
             ],
             [
              0.7777777777777778,
              "#fb9f3a"
             ],
             [
              0.8888888888888888,
              "#fdca26"
             ],
             [
              1,
              "#f0f921"
             ]
            ],
            "type": "heatmap"
           }
          ],
          "heatmapgl": [
           {
            "colorbar": {
             "outlinewidth": 0,
             "ticks": ""
            },
            "colorscale": [
             [
              0,
              "#0d0887"
             ],
             [
              0.1111111111111111,
              "#46039f"
             ],
             [
              0.2222222222222222,
              "#7201a8"
             ],
             [
              0.3333333333333333,
              "#9c179e"
             ],
             [
              0.4444444444444444,
              "#bd3786"
             ],
             [
              0.5555555555555556,
              "#d8576b"
             ],
             [
              0.6666666666666666,
              "#ed7953"
             ],
             [
              0.7777777777777778,
              "#fb9f3a"
             ],
             [
              0.8888888888888888,
              "#fdca26"
             ],
             [
              1,
              "#f0f921"
             ]
            ],
            "type": "heatmapgl"
           }
          ],
          "histogram": [
           {
            "marker": {
             "colorbar": {
              "outlinewidth": 0,
              "ticks": ""
             }
            },
            "type": "histogram"
           }
          ],
          "histogram2d": [
           {
            "colorbar": {
             "outlinewidth": 0,
             "ticks": ""
            },
            "colorscale": [
             [
              0,
              "#0d0887"
             ],
             [
              0.1111111111111111,
              "#46039f"
             ],
             [
              0.2222222222222222,
              "#7201a8"
             ],
             [
              0.3333333333333333,
              "#9c179e"
             ],
             [
              0.4444444444444444,
              "#bd3786"
             ],
             [
              0.5555555555555556,
              "#d8576b"
             ],
             [
              0.6666666666666666,
              "#ed7953"
             ],
             [
              0.7777777777777778,
              "#fb9f3a"
             ],
             [
              0.8888888888888888,
              "#fdca26"
             ],
             [
              1,
              "#f0f921"
             ]
            ],
            "type": "histogram2d"
           }
          ],
          "histogram2dcontour": [
           {
            "colorbar": {
             "outlinewidth": 0,
             "ticks": ""
            },
            "colorscale": [
             [
              0,
              "#0d0887"
             ],
             [
              0.1111111111111111,
              "#46039f"
             ],
             [
              0.2222222222222222,
              "#7201a8"
             ],
             [
              0.3333333333333333,
              "#9c179e"
             ],
             [
              0.4444444444444444,
              "#bd3786"
             ],
             [
              0.5555555555555556,
              "#d8576b"
             ],
             [
              0.6666666666666666,
              "#ed7953"
             ],
             [
              0.7777777777777778,
              "#fb9f3a"
             ],
             [
              0.8888888888888888,
              "#fdca26"
             ],
             [
              1,
              "#f0f921"
             ]
            ],
            "type": "histogram2dcontour"
           }
          ],
          "mesh3d": [
           {
            "colorbar": {
             "outlinewidth": 0,
             "ticks": ""
            },
            "type": "mesh3d"
           }
          ],
          "parcoords": [
           {
            "line": {
             "colorbar": {
              "outlinewidth": 0,
              "ticks": ""
             }
            },
            "type": "parcoords"
           }
          ],
          "pie": [
           {
            "automargin": true,
            "type": "pie"
           }
          ],
          "scatter": [
           {
            "marker": {
             "colorbar": {
              "outlinewidth": 0,
              "ticks": ""
             }
            },
            "type": "scatter"
           }
          ],
          "scatter3d": [
           {
            "line": {
             "colorbar": {
              "outlinewidth": 0,
              "ticks": ""
             }
            },
            "marker": {
             "colorbar": {
              "outlinewidth": 0,
              "ticks": ""
             }
            },
            "type": "scatter3d"
           }
          ],
          "scattercarpet": [
           {
            "marker": {
             "colorbar": {
              "outlinewidth": 0,
              "ticks": ""
             }
            },
            "type": "scattercarpet"
           }
          ],
          "scattergeo": [
           {
            "marker": {
             "colorbar": {
              "outlinewidth": 0,
              "ticks": ""
             }
            },
            "type": "scattergeo"
           }
          ],
          "scattergl": [
           {
            "marker": {
             "colorbar": {
              "outlinewidth": 0,
              "ticks": ""
             }
            },
            "type": "scattergl"
           }
          ],
          "scattermapbox": [
           {
            "marker": {
             "colorbar": {
              "outlinewidth": 0,
              "ticks": ""
             }
            },
            "type": "scattermapbox"
           }
          ],
          "scatterpolar": [
           {
            "marker": {
             "colorbar": {
              "outlinewidth": 0,
              "ticks": ""
             }
            },
            "type": "scatterpolar"
           }
          ],
          "scatterpolargl": [
           {
            "marker": {
             "colorbar": {
              "outlinewidth": 0,
              "ticks": ""
             }
            },
            "type": "scatterpolargl"
           }
          ],
          "scatterternary": [
           {
            "marker": {
             "colorbar": {
              "outlinewidth": 0,
              "ticks": ""
             }
            },
            "type": "scatterternary"
           }
          ],
          "surface": [
           {
            "colorbar": {
             "outlinewidth": 0,
             "ticks": ""
            },
            "colorscale": [
             [
              0,
              "#0d0887"
             ],
             [
              0.1111111111111111,
              "#46039f"
             ],
             [
              0.2222222222222222,
              "#7201a8"
             ],
             [
              0.3333333333333333,
              "#9c179e"
             ],
             [
              0.4444444444444444,
              "#bd3786"
             ],
             [
              0.5555555555555556,
              "#d8576b"
             ],
             [
              0.6666666666666666,
              "#ed7953"
             ],
             [
              0.7777777777777778,
              "#fb9f3a"
             ],
             [
              0.8888888888888888,
              "#fdca26"
             ],
             [
              1,
              "#f0f921"
             ]
            ],
            "type": "surface"
           }
          ],
          "table": [
           {
            "cells": {
             "fill": {
              "color": "#EBF0F8"
             },
             "line": {
              "color": "white"
             }
            },
            "header": {
             "fill": {
              "color": "#C8D4E3"
             },
             "line": {
              "color": "white"
             }
            },
            "type": "table"
           }
          ]
         },
         "layout": {
          "annotationdefaults": {
           "arrowcolor": "#2a3f5f",
           "arrowhead": 0,
           "arrowwidth": 1
          },
          "autotypenumbers": "strict",
          "coloraxis": {
           "colorbar": {
            "outlinewidth": 0,
            "ticks": ""
           }
          },
          "colorscale": {
           "diverging": [
            [
             0,
             "#8e0152"
            ],
            [
             0.1,
             "#c51b7d"
            ],
            [
             0.2,
             "#de77ae"
            ],
            [
             0.3,
             "#f1b6da"
            ],
            [
             0.4,
             "#fde0ef"
            ],
            [
             0.5,
             "#f7f7f7"
            ],
            [
             0.6,
             "#e6f5d0"
            ],
            [
             0.7,
             "#b8e186"
            ],
            [
             0.8,
             "#7fbc41"
            ],
            [
             0.9,
             "#4d9221"
            ],
            [
             1,
             "#276419"
            ]
           ],
           "sequential": [
            [
             0,
             "#0d0887"
            ],
            [
             0.1111111111111111,
             "#46039f"
            ],
            [
             0.2222222222222222,
             "#7201a8"
            ],
            [
             0.3333333333333333,
             "#9c179e"
            ],
            [
             0.4444444444444444,
             "#bd3786"
            ],
            [
             0.5555555555555556,
             "#d8576b"
            ],
            [
             0.6666666666666666,
             "#ed7953"
            ],
            [
             0.7777777777777778,
             "#fb9f3a"
            ],
            [
             0.8888888888888888,
             "#fdca26"
            ],
            [
             1,
             "#f0f921"
            ]
           ],
           "sequentialminus": [
            [
             0,
             "#0d0887"
            ],
            [
             0.1111111111111111,
             "#46039f"
            ],
            [
             0.2222222222222222,
             "#7201a8"
            ],
            [
             0.3333333333333333,
             "#9c179e"
            ],
            [
             0.4444444444444444,
             "#bd3786"
            ],
            [
             0.5555555555555556,
             "#d8576b"
            ],
            [
             0.6666666666666666,
             "#ed7953"
            ],
            [
             0.7777777777777778,
             "#fb9f3a"
            ],
            [
             0.8888888888888888,
             "#fdca26"
            ],
            [
             1,
             "#f0f921"
            ]
           ]
          },
          "colorway": [
           "#636efa",
           "#EF553B",
           "#00cc96",
           "#ab63fa",
           "#FFA15A",
           "#19d3f3",
           "#FF6692",
           "#B6E880",
           "#FF97FF",
           "#FECB52"
          ],
          "font": {
           "color": "#2a3f5f"
          },
          "geo": {
           "bgcolor": "white",
           "lakecolor": "white",
           "landcolor": "#E5ECF6",
           "showlakes": true,
           "showland": true,
           "subunitcolor": "white"
          },
          "hoverlabel": {
           "align": "left"
          },
          "hovermode": "closest",
          "mapbox": {
           "style": "light"
          },
          "paper_bgcolor": "white",
          "plot_bgcolor": "#E5ECF6",
          "polar": {
           "angularaxis": {
            "gridcolor": "white",
            "linecolor": "white",
            "ticks": ""
           },
           "bgcolor": "#E5ECF6",
           "radialaxis": {
            "gridcolor": "white",
            "linecolor": "white",
            "ticks": ""
           }
          },
          "scene": {
           "xaxis": {
            "backgroundcolor": "#E5ECF6",
            "gridcolor": "white",
            "gridwidth": 2,
            "linecolor": "white",
            "showbackground": true,
            "ticks": "",
            "zerolinecolor": "white"
           },
           "yaxis": {
            "backgroundcolor": "#E5ECF6",
            "gridcolor": "white",
            "gridwidth": 2,
            "linecolor": "white",
            "showbackground": true,
            "ticks": "",
            "zerolinecolor": "white"
           },
           "zaxis": {
            "backgroundcolor": "#E5ECF6",
            "gridcolor": "white",
            "gridwidth": 2,
            "linecolor": "white",
            "showbackground": true,
            "ticks": "",
            "zerolinecolor": "white"
           }
          },
          "shapedefaults": {
           "line": {
            "color": "#2a3f5f"
           }
          },
          "ternary": {
           "aaxis": {
            "gridcolor": "white",
            "linecolor": "white",
            "ticks": ""
           },
           "baxis": {
            "gridcolor": "white",
            "linecolor": "white",
            "ticks": ""
           },
           "bgcolor": "#E5ECF6",
           "caxis": {
            "gridcolor": "white",
            "linecolor": "white",
            "ticks": ""
           }
          },
          "title": {
           "x": 0.05
          },
          "xaxis": {
           "automargin": true,
           "gridcolor": "white",
           "linecolor": "white",
           "ticks": "",
           "title": {
            "standoff": 15
           },
           "zerolinecolor": "white",
           "zerolinewidth": 2
          },
          "yaxis": {
           "automargin": true,
           "gridcolor": "white",
           "linecolor": "white",
           "ticks": "",
           "title": {
            "standoff": 15
           },
           "zerolinecolor": "white",
           "zerolinewidth": 2
          }
         }
        },
        "xaxis": {
         "anchor": "y",
         "autorange": true,
         "domain": [
          0,
          1
         ],
         "range": [
          -0.5075062552126772,
          2.5075062552126774
         ],
         "title": {
          "text": "Nivel de alfabetización digital"
         },
         "type": "category"
        },
        "yaxis": {
         "anchor": "x",
         "autorange": true,
         "domain": [
          0,
          1
         ],
         "range": [
          22.333333333333332,
          75.66666666666667
         ],
         "title": {
          "text": "Edad"
         },
         "type": "linear"
        }
       }
      },
      "image/png": "[encoded data removed]",
      "text/html": [
       "<div>                            <div id=\"37c61690-d606-4195-a74b-8afae8c096c4\" class=\"plotly-graph-div\" style=\"height:525px; width:100%;\"></div>            <script type=\"text/javascript\">                require([\"plotly\"], function(Plotly) {                    window.PLOTLYENV=window.PLOTLYENV || {};                                    if (document.getElementById(\"37c61690-d606-4195-a74b-8afae8c096c4\")) {                    Plotly.newPlot(                        \"37c61690-d606-4195-a74b-8afae8c096c4\",                        [{\"alignmentgroup\": \"True\", \"hovertemplate\": \"Deserci\\u00f3n=1<br>Nivel de alfabetizaci\\u00f3n digital=%{x}<br>Edad=%{y}<extra></extra>\", \"legendgroup\": \"1\", \"marker\": {\"color\": \"#636efa\"}, \"name\": \"1\", \"notched\": false, \"offsetgroup\": \"1\", \"orientation\": \"v\", \"quartilemethod\": \"exclusive\", \"showlegend\": true, \"type\": \"box\", \"x\": [\"Bajo\", \"Bajo\", \"Bajo\", \"Bajo\", \"Bajo\", \"Bajo\", \"Bajo\", \"Bajo\", \"Bajo\", \"Bajo\", \"Bajo\", \"Bajo\", \"Bajo\", \"Bajo\", \"Bajo\", \"Bajo\", \"Bajo\", \"Bajo\", \"Bajo\", \"Bajo\", \"Bajo\", \"Bajo\", \"Bajo\", \"Bajo\", \"Bajo\", \"Bajo\", \"Bajo\", \"Bajo\", \"Bajo\", \"Bajo\", \"Bajo\", \"Bajo\", \"Bajo\", \"Bajo\", \"Bajo\", \"Bajo\", \"Bajo\", \"Bajo\", \"Bajo\", \"Bajo\", \"Bajo\", \"Bajo\", \"Bajo\", \"Medio\", \"Medio\", \"Medio\", \"Medio\", \"Medio\", \"Medio\", \"Medio\", \"Medio\", \"Medio\", \"Medio\", \"Medio\", \"Medio\", \"Medio\", \"Medio\", \"Medio\", \"Medio\", \"Medio\", \"Medio\"], \"x0\": \" \", \"xaxis\": \"x\", \"y\": [58, 60, 65, 63, 61, 50, 42, 37, 47, 37, 52, 70, 61, 52, 66, 63, 61, 53, 47, 62, 34, 38, 48, 44, 37, 64, 56, 34, 53, 36, 68, 53, 42, 52, 60, 32, 42, 38, 56, 33, 58, 51, 35, 59, 58, 47, 36, 49, 58, 66, 36, 44, 70, 39, 57, 51, 53, 35, 36, 41, 38], \"y0\": \" \", \"yaxis\": \"y\"}, {\"alignmentgroup\": \"True\", \"hovertemplate\": \"Deserci\\u00f3n=0<br>Nivel de alfabetizaci\\u00f3n digital=%{x}<br>Edad=%{y}<extra></extra>\", \"legendgroup\": \"0\", \"marker\": {\"color\": \"#EF553B\"}, \"name\": \"0\", \"notched\": false, \"offsetgroup\": \"0\", \"orientation\": \"v\", \"quartilemethod\": \"exclusive\", \"showlegend\": true, \"type\": \"box\", \"x\": [\"Bajo\", \"Bajo\", \"Bajo\", \"Bajo\", \"Bajo\", \"Bajo\", \"Bajo\", \"Bajo\", \"Bajo\", \"Bajo\", \"Bajo\", \"Bajo\", \"Bajo\", \"Bajo\", \"Bajo\", \"Bajo\", \"Bajo\", \"Bajo\", \"Bajo\", \"Bajo\", \"Bajo\", \"Bajo\", \"Bajo\", \"Bajo\", \"Bajo\", \"Bajo\", \"Bajo\", \"Bajo\", \"Bajo\", \"Bajo\", \"Bajo\", \"Bajo\", \"Bajo\", \"Bajo\", \"Bajo\", \"Bajo\", \"Bajo\", \"Bajo\", \"Bajo\", \"Bajo\", \"Bajo\", \"Bajo\", \"Bajo\", \"Medio\", \"Medio\", \"Medio\", \"Medio\", \"Medio\", \"Medio\", \"Medio\", \"Medio\", \"Medio\", \"Medio\", \"Medio\", \"Medio\", \"Medio\", \"Medio\", \"Medio\", \"Medio\", \"Medio\", \"Medio\", \"Medio\", \"Medio\", \"Medio\", \"Medio\", \"Medio\", \"Medio\", \"Medio\", \"Medio\", \"Medio\", \"Medio\", \"Medio\", \"Medio\", \"Medio\", \"Medio\", \"Medio\", \"Medio\", \"Medio\", \"Medio\", \"Medio\", \"Medio\", \"Medio\", \"Medio\", \"Medio\", \"Medio\", \"Medio\", \"Medio\", \"Medio\", \"Medio\", \"Medio\", \"Medio\", \"Medio\", \"Medio\", \"Medio\", \"Medio\", \"Medio\", \"Medio\", \"Medio\", \"Medio\", \"Medio\", \"Medio\", \"Medio\", \"Medio\", \"Medio\", \"Medio\", \"Medio\", \"Medio\", \"Medio\", \"Medio\", \"Medio\", \"Medio\", \"Medio\", \"Medio\", \"Medio\", \"Medio\", \"Medio\", \"Medio\", \"Medio\", \"Medio\", \"Medio\", \"Medio\", \"Medio\", \"Medio\", \"Medio\", \"Medio\", \"Medio\", \"Medio\", \"Medio\", \"Medio\", \"Medio\", \"Medio\", \"Medio\", \"Medio\", \"Medio\", \"Medio\", \"Medio\", \"Medio\", \"Medio\", \"Medio\", \"Medio\", \"Medio\", \"Medio\", \"Medio\", \"Medio\", \"Medio\", \"Medio\", \"Medio\", \"Medio\", \"Medio\", \"Medio\", \"Medio\", \"Medio\", \"Medio\", \"Medio\", \"Medio\", \"Medio\", \"Medio\", \"Medio\", \"Medio\", \"Medio\", \"Medio\", \"Medio\", \"Medio\", \"Medio\", \"Medio\", \"Medio\", \"Medio\", \"Medio\", \"Medio\", \"Medio\", \"Medio\", \"Medio\", \"Medio\", \"Medio\", \"Medio\", \"Medio\", \"Medio\", \"Medio\", \"Medio\", \"Medio\", \"Medio\", \"Medio\", \"Medio\", \"Medio\", \"Medio\", \"Medio\", \"Medio\", \"Medio\", \"Medio\", \"Medio\", \"Medio\", \"Medio\", \"Medio\", \"Medio\", \"Medio\", \"Medio\", \"Medio\", \"Medio\", \"Medio\", \"Medio\", \"Medio\", \"Medio\", \"Medio\", \"Medio\", \"Medio\", \"Medio\", \"Medio\", \"Medio\", \"Medio\", \"Medio\", \"Medio\", \"Medio\", \"Medio\", \"Medio\", \"Medio\", \"Medio\", \"Medio\", \"Medio\", \"Medio\", \"Medio\", \"Medio\", \"Medio\", \"Medio\", \"Medio\", \"Medio\", \"Medio\", \"Medio\", \"Medio\", \"Medio\", \"Medio\", \"Medio\", \"Medio\", \"Medio\", \"Medio\", \"Medio\", \"Medio\", \"Medio\", \"Medio\", \"Medio\", \"Medio\", \"Medio\", \"Medio\", \"Medio\", \"Medio\", \"Medio\", \"Medio\", \"Medio\", \"Medio\", \"Medio\", \"Medio\", \"Medio\", \"Medio\", \"Medio\", \"Alto\", \"Alto\", \"Alto\", \"Alto\", \"Alto\", \"Alto\", \"Alto\", \"Alto\", \"Alto\", \"Alto\", \"Alto\", \"Alto\", \"Alto\", \"Alto\"], \"x0\": \" \", \"xaxis\": \"x\", \"y\": [62, 56, 35, 44, 37, 37, 52, 51, 46, 43, 43, 50, 36, 29, 66, 45, 33, 43, 35, 50, 33, 41, 29, 34, 37, 34, 34, 49, 47, 47, 38, 53, 30, 42, 70, 29, 47, 35, 30, 32, 40, 30, 43, 29, 61, 33, 38, 32, 35, 25, 33, 35, 59, 37, 27, 43, 29, 38, 38, 35, 45, 36, 32, 41, 58, 53, 49, 51, 32, 39, 34, 61, 54, 37, 33, 28, 35, 43, 35, 32, 33, 37, 26, 36, 47, 34, 44, 37, 40, 56, 39, 47, 44, 52, 58, 55, 50, 42, 41, 58, 59, 38, 56, 34, 43, 43, 36, 35, 46, 53, 50, 44, 37, 34, 33, 49, 50, 40, 59, 55, 45, 58, 58, 33, 31, 57, 68, 73, 59, 72, 66, 58, 54, 72, 62, 36, 34, 38, 36, 36, 41, 35, 38, 33, 43, 54, 52, 37, 41, 49, 34, 34, 34, 34, 43, 41, 41, 71, 69, 56, 52, 54, 45, 52, 63, 56, 41, 56, 37, 40, 34, 36, 40, 39, 53, 33, 45, 67, 46, 52, 59, 54, 70, 48, 46, 52, 59, 50, 48, 58, 57, 35, 52, 57, 55, 57, 55, 50, 61, 42, 48, 48, 49, 50, 39, 36, 32, 33, 40, 45, 48, 39, 39, 32, 32, 38, 37, 33, 34, 37, 36, 31, 36, 32, 33, 31, 37, 30, 59, 54, 53, 72, 68, 47, 53, 47, 63, 53, 57, 48, 41, 58, 54, 43, 40, 39, 42, 44, 43, 35, 35, 43, 46, 55, 47, 39, 36, 43, 35, 43, 54, 39, 48, 52, 54, 45, 66], \"y0\": \" \", \"yaxis\": \"y\"}],                        {\"boxmode\": \"group\", \"legend\": {\"title\": {\"text\": \"Deserci\\u00f3n\"}, \"tracegroupgap\": 0}, \"margin\": {\"t\": 60}, \"template\": {\"data\": {\"bar\": [{\"error_x\": {\"color\": \"#2a3f5f\"}, \"error_y\": {\"color\": \"#2a3f5f\"}, \"marker\": {\"line\": {\"color\": \"#E5ECF6\", \"width\": 0.5}}, \"type\": \"bar\"}], \"barpolar\": [{\"marker\": {\"line\": {\"color\": \"#E5ECF6\", \"width\": 0.5}}, \"type\": \"barpolar\"}], \"carpet\": [{\"aaxis\": {\"endlinecolor\": \"#2a3f5f\", \"gridcolor\": \"white\", \"linecolor\": \"white\", \"minorgridcolor\": \"white\", \"startlinecolor\": \"#2a3f5f\"}, \"baxis\": {\"endlinecolor\": \"#2a3f5f\", \"gridcolor\": \"white\", \"linecolor\": \"white\", \"minorgridcolor\": \"white\", \"startlinecolor\": \"#2a3f5f\"}, \"type\": \"carpet\"}], \"choropleth\": [{\"colorbar\": {\"outlinewidth\": 0, \"ticks\": \"\"}, \"type\": \"choropleth\"}], \"contour\": [{\"colorbar\": {\"outlinewidth\": 0, \"ticks\": \"\"}, \"colorscale\": [[0.0, \"#0d0887\"], [0.1111111111111111, \"#46039f\"], [0.2222222222222222, \"#7201a8\"], [0.3333333333333333, \"#9c179e\"], [0.4444444444444444, \"#bd3786\"], [0.5555555555555556, \"#d8576b\"], [0.6666666666666666, \"#ed7953\"], [0.7777777777777778, \"#fb9f3a\"], [0.8888888888888888, \"#fdca26\"], [1.0, \"#f0f921\"]], \"type\": \"contour\"}], \"contourcarpet\": [{\"colorbar\": {\"outlinewidth\": 0, \"ticks\": \"\"}, \"type\": \"contourcarpet\"}], \"heatmap\": [{\"colorbar\": {\"outlinewidth\": 0, \"ticks\": \"\"}, \"colorscale\": [[0.0, \"#0d0887\"], [0.1111111111111111, \"#46039f\"], [0.2222222222222222, \"#7201a8\"], [0.3333333333333333, \"#9c179e\"], [0.4444444444444444, \"#bd3786\"], [0.5555555555555556, \"#d8576b\"], [0.6666666666666666, \"#ed7953\"], [0.7777777777777778, \"#fb9f3a\"], [0.8888888888888888, \"#fdca26\"], [1.0, \"#f0f921\"]], \"type\": \"heatmap\"}], \"heatmapgl\": [{\"colorbar\": {\"outlinewidth\": 0, \"ticks\": \"\"}, \"colorscale\": [[0.0, \"#0d0887\"], [0.1111111111111111, \"#46039f\"], [0.2222222222222222, \"#7201a8\"], [0.3333333333333333, \"#9c179e\"], [0.4444444444444444, \"#bd3786\"], [0.5555555555555556, \"#d8576b\"], [0.6666666666666666, \"#ed7953\"], [0.7777777777777778, \"#fb9f3a\"], [0.8888888888888888, \"#fdca26\"], [1.0, \"#f0f921\"]], \"type\": \"heatmapgl\"}], \"histogram\": [{\"marker\": {\"colorbar\": {\"outlinewidth\": 0, \"ticks\": \"\"}}, \"type\": \"histogram\"}], \"histogram2d\": [{\"colorbar\": {\"outlinewidth\": 0, \"ticks\": \"\"}, \"colorscale\": [[0.0, \"#0d0887\"], [0.1111111111111111, \"#46039f\"], [0.2222222222222222, \"#7201a8\"], [0.3333333333333333, \"#9c179e\"], [0.4444444444444444, \"#bd3786\"], [0.5555555555555556, \"#d8576b\"], [0.6666666666666666, \"#ed7953\"], [0.7777777777777778, \"#fb9f3a\"], [0.8888888888888888, \"#fdca26\"], [1.0, \"#f0f921\"]], \"type\": \"histogram2d\"}], \"histogram2dcontour\": [{\"colorbar\": {\"outlinewidth\": 0, \"ticks\": \"\"}, \"colorscale\": [[0.0, \"#0d0887\"], [0.1111111111111111, \"#46039f\"], [0.2222222222222222, \"#7201a8\"], [0.3333333333333333, \"#9c179e\"], [0.4444444444444444, \"#bd3786\"], [0.5555555555555556, \"#d8576b\"], [0.6666666666666666, \"#ed7953\"], [0.7777777777777778, \"#fb9f3a\"], [0.8888888888888888, \"#fdca26\"], [1.0, \"#f0f921\"]], \"type\": \"histogram2dcontour\"}], \"mesh3d\": [{\"colorbar\": {\"outlinewidth\": 0, \"ticks\": \"\"}, \"type\": \"mesh3d\"}], \"parcoords\": [{\"line\": {\"colorbar\": {\"outlinewidth\": 0, \"ticks\": \"\"}}, \"type\": \"parcoords\"}], \"pie\": [{\"automargin\": true, \"type\": \"pie\"}], \"scatter\": [{\"marker\": {\"colorbar\": {\"outlinewidth\": 0, \"ticks\": \"\"}}, \"type\": \"scatter\"}], \"scatter3d\": [{\"line\": {\"colorbar\": {\"outlinewidth\": 0, \"ticks\": \"\"}}, \"marker\": {\"colorbar\": {\"outlinewidth\": 0, \"ticks\": \"\"}}, \"type\": \"scatter3d\"}], \"scattercarpet\": [{\"marker\": {\"colorbar\": {\"outlinewidth\": 0, \"ticks\": \"\"}}, \"type\": \"scattercarpet\"}], \"scattergeo\": [{\"marker\": {\"colorbar\": {\"outlinewidth\": 0, \"ticks\": \"\"}}, \"type\": \"scattergeo\"}], \"scattergl\": [{\"marker\": {\"colorbar\": {\"outlinewidth\": 0, \"ticks\": \"\"}}, \"type\": \"scattergl\"}], \"scattermapbox\": [{\"marker\": {\"colorbar\": {\"outlinewidth\": 0, \"ticks\": \"\"}}, \"type\": \"scattermapbox\"}], \"scatterpolar\": [{\"marker\": {\"colorbar\": {\"outlinewidth\": 0, \"ticks\": \"\"}}, \"type\": \"scatterpolar\"}], \"scatterpolargl\": [{\"marker\": {\"colorbar\": {\"outlinewidth\": 0, \"ticks\": \"\"}}, \"type\": \"scatterpolargl\"}], \"scatterternary\": [{\"marker\": {\"colorbar\": {\"outlinewidth\": 0, \"ticks\": \"\"}}, \"type\": \"scatterternary\"}], \"surface\": [{\"colorbar\": {\"outlinewidth\": 0, \"ticks\": \"\"}, \"colorscale\": [[0.0, \"#0d0887\"], [0.1111111111111111, \"#46039f\"], [0.2222222222222222, \"#7201a8\"], [0.3333333333333333, \"#9c179e\"], [0.4444444444444444, \"#bd3786\"], [0.5555555555555556, \"#d8576b\"], [0.6666666666666666, \"#ed7953\"], [0.7777777777777778, \"#fb9f3a\"], [0.8888888888888888, \"#fdca26\"], [1.0, \"#f0f921\"]], \"type\": \"surface\"}], \"table\": [{\"cells\": {\"fill\": {\"color\": \"#EBF0F8\"}, \"line\": {\"color\": \"white\"}}, \"header\": {\"fill\": {\"color\": \"#C8D4E3\"}, \"line\": {\"color\": \"white\"}}, \"type\": \"table\"}]}, \"layout\": {\"annotationdefaults\": {\"arrowcolor\": \"#2a3f5f\", \"arrowhead\": 0, \"arrowwidth\": 1}, \"autotypenumbers\": \"strict\", \"coloraxis\": {\"colorbar\": {\"outlinewidth\": 0, \"ticks\": \"\"}}, \"colorscale\": {\"diverging\": [[0, \"#8e0152\"], [0.1, \"#c51b7d\"], [0.2, \"#de77ae\"], [0.3, \"#f1b6da\"], [0.4, \"#fde0ef\"], [0.5, \"#f7f7f7\"], [0.6, \"#e6f5d0\"], [0.7, \"#b8e186\"], [0.8, \"#7fbc41\"], [0.9, \"#4d9221\"], [1, \"#276419\"]], \"sequential\": [[0.0, \"#0d0887\"], [0.1111111111111111, \"#46039f\"], [0.2222222222222222, \"#7201a8\"], [0.3333333333333333, \"#9c179e\"], [0.4444444444444444, \"#bd3786\"], [0.5555555555555556, \"#d8576b\"], [0.6666666666666666, \"#ed7953\"], [0.7777777777777778, \"#fb9f3a\"], [0.8888888888888888, \"#fdca26\"], [1.0, \"#f0f921\"]], \"sequentialminus\": [[0.0, \"#0d0887\"], [0.1111111111111111, \"#46039f\"], [0.2222222222222222, \"#7201a8\"], [0.3333333333333333, \"#9c179e\"], [0.4444444444444444, \"#bd3786\"], [0.5555555555555556, \"#d8576b\"], [0.6666666666666666, \"#ed7953\"], [0.7777777777777778, \"#fb9f3a\"], [0.8888888888888888, \"#fdca26\"], [1.0, \"#f0f921\"]]}, \"colorway\": [\"#636efa\", \"#EF553B\", \"#00cc96\", \"#ab63fa\", \"#FFA15A\", \"#19d3f3\", \"#FF6692\", \"#B6E880\", \"#FF97FF\", \"#FECB52\"], \"font\": {\"color\": \"#2a3f5f\"}, \"geo\": {\"bgcolor\": \"white\", \"lakecolor\": \"white\", \"landcolor\": \"#E5ECF6\", \"showlakes\": true, \"showland\": true, \"subunitcolor\": \"white\"}, \"hoverlabel\": {\"align\": \"left\"}, \"hovermode\": \"closest\", \"mapbox\": {\"style\": \"light\"}, \"paper_bgcolor\": \"white\", \"plot_bgcolor\": \"#E5ECF6\", \"polar\": {\"angularaxis\": {\"gridcolor\": \"white\", \"linecolor\": \"white\", \"ticks\": \"\"}, \"bgcolor\": \"#E5ECF6\", \"radialaxis\": {\"gridcolor\": \"white\", \"linecolor\": \"white\", \"ticks\": \"\"}}, \"scene\": {\"xaxis\": {\"backgroundcolor\": \"#E5ECF6\", \"gridcolor\": \"white\", \"gridwidth\": 2, \"linecolor\": \"white\", \"showbackground\": true, \"ticks\": \"\", \"zerolinecolor\": \"white\"}, \"yaxis\": {\"backgroundcolor\": \"#E5ECF6\", \"gridcolor\": \"white\", \"gridwidth\": 2, \"linecolor\": \"white\", \"showbackground\": true, \"ticks\": \"\", \"zerolinecolor\": \"white\"}, \"zaxis\": {\"backgroundcolor\": \"#E5ECF6\", \"gridcolor\": \"white\", \"gridwidth\": 2, \"linecolor\": \"white\", \"showbackground\": true, \"ticks\": \"\", \"zerolinecolor\": \"white\"}}, \"shapedefaults\": {\"line\": {\"color\": \"#2a3f5f\"}}, \"ternary\": {\"aaxis\": {\"gridcolor\": \"white\", \"linecolor\": \"white\", \"ticks\": \"\"}, \"baxis\": {\"gridcolor\": \"white\", \"linecolor\": \"white\", \"ticks\": \"\"}, \"bgcolor\": \"#E5ECF6\", \"caxis\": {\"gridcolor\": \"white\", \"linecolor\": \"white\", \"ticks\": \"\"}}, \"title\": {\"x\": 0.05}, \"xaxis\": {\"automargin\": true, \"gridcolor\": \"white\", \"linecolor\": \"white\", \"ticks\": \"\", \"title\": {\"standoff\": 15}, \"zerolinecolor\": \"white\", \"zerolinewidth\": 2}, \"yaxis\": {\"automargin\": true, \"gridcolor\": \"white\", \"linecolor\": \"white\", \"ticks\": \"\", \"title\": {\"standoff\": 15}, \"zerolinecolor\": \"white\", \"zerolinewidth\": 2}}}, \"xaxis\": {\"anchor\": \"y\", \"domain\": [0.0, 1.0], \"title\": {\"text\": \"Nivel de alfabetizaci\\u00f3n digital\"}}, \"yaxis\": {\"anchor\": \"x\", \"domain\": [0.0, 1.0], \"title\": {\"text\": \"Edad\"}}},                        {\"responsive\": true}                    ).then(function(){\n",
       "                            \n",
       "var gd = document.getElementById('37c61690-d606-4195-a74b-8afae8c096c4');\n",
       "var x = new MutationObserver(function (mutations, observer) {{\n",
       "        var display = window.getComputedStyle(gd).display;\n",
       "        if (!display || display === 'none') {{\n",
       "            console.log([gd, 'removed!']);\n",
       "            Plotly.purge(gd);\n",
       "            observer.disconnect();\n",
       "        }}\n",
       "}});\n",
       "\n",
       "// Listen for the removal of the full notebook cells\n",
       "var notebookContainer = gd.closest('#notebook-container');\n",
       "if (notebookContainer) {{\n",
       "    x.observe(notebookContainer, {childList: true});\n",
       "}}\n",
       "\n",
       "// Listen for the clearing of the current output cell\n",
       "var outputEl = gd.closest('.output');\n",
       "if (outputEl) {{\n",
       "    x.observe(outputEl, {childList: true});\n",
       "}}\n",
       "\n",
       "                        })                };                });            </script>        </div>"
      ]
     },
     "metadata": {},
     "output_type": "display_data"
    }
   ],
   "source": [
    "fig = px.box(df, x=\"Nivel de alfabetización digital\", y=\"Edad\", color=\"Deserción\")\n",
    "fig.update_traces(quartilemethod=\"exclusive\") # or \"inclusive\", or \"linear\" by default\n",
    "fig.show()"
   ]
  },
  {
   "cell_type": "markdown",
   "metadata": {},
   "source": [
    "<a id=\"clf\"></a>\n",
    "### Clasificación de pacientes\n",
    "Ahora utilizaremos un modelo de vecinos cercanos y una regresión logística como clasificador de personas.\n",
    "<a id=\"prep\"></a>\n",
    "#### Preparación de los datos\n",
    "¿Qué debemos hacer con el dataset antes de entrenar el modelo?\n",
    "- Crear variables dummies"
   ]
  },
  {
   "cell_type": "code",
   "execution_count": 244,
   "metadata": {},
   "outputs": [
    {
     "data": {
      "text/plain": [
       "Index(['GÉNERO', 'CIUDAD', 'PROVINCIA', 'Curso', 'Edad', 'Hijos',\n",
       "       'Clase Social', 'Situación laboral', 'Nivel educativo',\n",
       "       'Nivel de alfabetización digital', 'Herramientas tecnológicas',\n",
       "       'Conectividad', 'Deserción'],\n",
       "      dtype='object')"
      ]
     },
     "execution_count": 244,
     "metadata": {},
     "output_type": "execute_result"
    }
   ],
   "source": [
    "df.columns"
   ]
  },
  {
   "cell_type": "code",
   "execution_count": 245,
   "metadata": {},
   "outputs": [],
   "source": [
    "df = pd.get_dummies(df, drop_first = True)"
   ]
  },
  {
   "cell_type": "markdown",
   "metadata": {},
   "source": [
    "# Modelo KNN"
   ]
  },
  {
   "cell_type": "markdown",
   "metadata": {},
   "source": [
    "Para el modelo de vecinos cercanos se hacen iteraciones para ver el K optimo. Este resultado se selecciona mediante los resultados de la validacion cruzada"
   ]
  },
  {
   "cell_type": "code",
   "execution_count": 246,
   "metadata": {},
   "outputs": [],
   "source": [
    "from sklearn.neighbors import KNeighborsClassifier\n",
    "from sklearn.model_selection import train_test_split, cross_val_score, KFold\n",
    "\n",
    "X = df.drop(columns=['Deserción'])\n",
    "y = df['Deserción']\n",
    "\n",
    "X_train, X_test, y_train, y_test = train_test_split(X, y,random_state = 0)"
   ]
  },
  {
   "cell_type": "code",
   "execution_count": 247,
   "metadata": {},
   "outputs": [],
   "source": [
    "kf = KFold(n_splits = 5, shuffle = True, random_state = 12)\n",
    "\n",
    "knn = KNeighborsClassifier()\n",
    "\n",
    "model = knn.fit(X_train, y_train)\n",
    "\n",
    "k_range = list(range(1,30))\n",
    "scores = []\n",
    "\n",
    "for i in k_range:\n",
    "    knn = KNeighborsClassifier(n_neighbors = i)\n",
    "    knn.fit(X_train, y_train)\n",
    "    cv_scores = cross_val_score(knn, X_test, y_test, cv = kf)\n",
    "    scores.append(np.mean(cv_scores))"
   ]
  },
  {
   "cell_type": "code",
   "execution_count": 248,
   "metadata": {},
   "outputs": [
    {
     "data": {
      "image/png": "[encoded data removed]",
      "text/plain": [
       "<Figure size 576x360 with 1 Axes>"
      ]
     },
     "metadata": {
      "needs_background": "light"
     },
     "output_type": "display_data"
    }
   ],
   "source": [
    "import matplotlib.pyplot as plt\n",
    "\n",
    "plt.figure(figsize = (8,5))\n",
    "plt.plot(k_range, scores)\n",
    "plt.xlabel('Valor de K'); plt.ylabel('Accuracy')\n",
    "plt.grid(); plt.show()"
   ]
  },
  {
   "cell_type": "markdown",
   "metadata": {},
   "source": [
    "El valor optimo de K se encuentra entre 5 y 7."
   ]
  },
  {
   "cell_type": "markdown",
   "metadata": {},
   "source": [
    "# Modelo Regresion Logistica"
   ]
  },
  {
   "cell_type": "markdown",
   "metadata": {},
   "source": [
    "Se utilizan varias iteraciones en el modelo para encontrar el mejor accurracy que nos devuelve la validacion cruzada. (Promedio de 5 folds)"
   ]
  },
  {
   "cell_type": "code",
   "execution_count": 249,
   "metadata": {},
   "outputs": [
    {
     "data": {
      "text/html": [
       "<div>\n",
       "<style scoped>\n",
       "    .dataframe tbody tr th:only-of-type {\n",
       "        vertical-align: middle;\n",
       "    }\n",
       "\n",
       "    .dataframe tbody tr th {\n",
       "        vertical-align: top;\n",
       "    }\n",
       "\n",
       "    .dataframe thead th {\n",
       "        text-align: right;\n",
       "    }\n",
       "</style>\n",
       "<table border=\"1\" class=\"dataframe\">\n",
       "  <thead>\n",
       "    <tr style=\"text-align: right;\">\n",
       "      <th></th>\n",
       "      <th>Edad</th>\n",
       "      <th>Hijos</th>\n",
       "      <th>Deserción</th>\n",
       "      <th>GÉNERO_M</th>\n",
       "      <th>CIUDAD_Bernal</th>\n",
       "      <th>CIUDAD_Bernal Oeste</th>\n",
       "      <th>CIUDAD_Caba</th>\n",
       "      <th>CIUDAD_Caseros</th>\n",
       "      <th>CIUDAD_Gregorio De Laferrere</th>\n",
       "      <th>CIUDAD_Hurlingham</th>\n",
       "      <th>...</th>\n",
       "      <th>Situación laboral_Recalificado</th>\n",
       "      <th>Nivel educativo_Secundario</th>\n",
       "      <th>Nivel educativo_Terciario</th>\n",
       "      <th>Nivel de alfabetización digital_Bajo</th>\n",
       "      <th>Nivel de alfabetización digital_Medio</th>\n",
       "      <th>Herramientas tecnológicas_No tiene</th>\n",
       "      <th>Herramientas tecnológicas_PC</th>\n",
       "      <th>Herramientas tecnológicas_Tablet</th>\n",
       "      <th>Conectividad_Datos</th>\n",
       "      <th>Conectividad_No tiene</th>\n",
       "    </tr>\n",
       "  </thead>\n",
       "  <tbody>\n",
       "    <tr>\n",
       "      <th>0</th>\n",
       "      <td>58</td>\n",
       "      <td>1</td>\n",
       "      <td>1</td>\n",
       "      <td>0</td>\n",
       "      <td>0</td>\n",
       "      <td>0</td>\n",
       "      <td>1</td>\n",
       "      <td>0</td>\n",
       "      <td>0</td>\n",
       "      <td>0</td>\n",
       "      <td>...</td>\n",
       "      <td>0</td>\n",
       "      <td>0</td>\n",
       "      <td>0</td>\n",
       "      <td>1</td>\n",
       "      <td>0</td>\n",
       "      <td>0</td>\n",
       "      <td>0</td>\n",
       "      <td>0</td>\n",
       "      <td>1</td>\n",
       "      <td>0</td>\n",
       "    </tr>\n",
       "    <tr>\n",
       "      <th>1</th>\n",
       "      <td>60</td>\n",
       "      <td>5</td>\n",
       "      <td>1</td>\n",
       "      <td>1</td>\n",
       "      <td>0</td>\n",
       "      <td>0</td>\n",
       "      <td>1</td>\n",
       "      <td>0</td>\n",
       "      <td>0</td>\n",
       "      <td>0</td>\n",
       "      <td>...</td>\n",
       "      <td>0</td>\n",
       "      <td>0</td>\n",
       "      <td>0</td>\n",
       "      <td>1</td>\n",
       "      <td>0</td>\n",
       "      <td>0</td>\n",
       "      <td>0</td>\n",
       "      <td>0</td>\n",
       "      <td>1</td>\n",
       "      <td>0</td>\n",
       "    </tr>\n",
       "    <tr>\n",
       "      <th>2</th>\n",
       "      <td>65</td>\n",
       "      <td>4</td>\n",
       "      <td>1</td>\n",
       "      <td>1</td>\n",
       "      <td>0</td>\n",
       "      <td>0</td>\n",
       "      <td>1</td>\n",
       "      <td>0</td>\n",
       "      <td>0</td>\n",
       "      <td>0</td>\n",
       "      <td>...</td>\n",
       "      <td>0</td>\n",
       "      <td>0</td>\n",
       "      <td>0</td>\n",
       "      <td>1</td>\n",
       "      <td>0</td>\n",
       "      <td>0</td>\n",
       "      <td>0</td>\n",
       "      <td>0</td>\n",
       "      <td>1</td>\n",
       "      <td>0</td>\n",
       "    </tr>\n",
       "    <tr>\n",
       "      <th>3</th>\n",
       "      <td>63</td>\n",
       "      <td>2</td>\n",
       "      <td>1</td>\n",
       "      <td>0</td>\n",
       "      <td>0</td>\n",
       "      <td>0</td>\n",
       "      <td>0</td>\n",
       "      <td>0</td>\n",
       "      <td>0</td>\n",
       "      <td>0</td>\n",
       "      <td>...</td>\n",
       "      <td>0</td>\n",
       "      <td>0</td>\n",
       "      <td>0</td>\n",
       "      <td>1</td>\n",
       "      <td>0</td>\n",
       "      <td>0</td>\n",
       "      <td>0</td>\n",
       "      <td>0</td>\n",
       "      <td>1</td>\n",
       "      <td>0</td>\n",
       "    </tr>\n",
       "    <tr>\n",
       "      <th>4</th>\n",
       "      <td>61</td>\n",
       "      <td>4</td>\n",
       "      <td>1</td>\n",
       "      <td>0</td>\n",
       "      <td>0</td>\n",
       "      <td>0</td>\n",
       "      <td>1</td>\n",
       "      <td>0</td>\n",
       "      <td>0</td>\n",
       "      <td>0</td>\n",
       "      <td>...</td>\n",
       "      <td>0</td>\n",
       "      <td>0</td>\n",
       "      <td>0</td>\n",
       "      <td>1</td>\n",
       "      <td>0</td>\n",
       "      <td>0</td>\n",
       "      <td>0</td>\n",
       "      <td>0</td>\n",
       "      <td>1</td>\n",
       "      <td>0</td>\n",
       "    </tr>\n",
       "  </tbody>\n",
       "</table>\n",
       "<p>5 rows × 56 columns</p>\n",
       "</div>"
      ],
      "text/plain": [
       "   Edad  Hijos  Deserción  GÉNERO_M  CIUDAD_Bernal  CIUDAD_Bernal Oeste  \\\n",
       "0    58      1          1         0              0                    0   \n",
       "1    60      5          1         1              0                    0   \n",
       "2    65      4          1         1              0                    0   \n",
       "3    63      2          1         0              0                    0   \n",
       "4    61      4          1         0              0                    0   \n",
       "\n",
       "   CIUDAD_Caba  CIUDAD_Caseros  CIUDAD_Gregorio De Laferrere  \\\n",
       "0            1               0                             0   \n",
       "1            1               0                             0   \n",
       "2            1               0                             0   \n",
       "3            0               0                             0   \n",
       "4            1               0                             0   \n",
       "\n",
       "   CIUDAD_Hurlingham  ...  Situación laboral_Recalificado  \\\n",
       "0                  0  ...                               0   \n",
       "1                  0  ...                               0   \n",
       "2                  0  ...                               0   \n",
       "3                  0  ...                               0   \n",
       "4                  0  ...                               0   \n",
       "\n",
       "   Nivel educativo_Secundario  Nivel educativo_Terciario  \\\n",
       "0                           0                          0   \n",
       "1                           0                          0   \n",
       "2                           0                          0   \n",
       "3                           0                          0   \n",
       "4                           0                          0   \n",
       "\n",
       "   Nivel de alfabetización digital_Bajo  \\\n",
       "0                                     1   \n",
       "1                                     1   \n",
       "2                                     1   \n",
       "3                                     1   \n",
       "4                                     1   \n",
       "\n",
       "   Nivel de alfabetización digital_Medio  Herramientas tecnológicas_No tiene  \\\n",
       "0                                      0                                   0   \n",
       "1                                      0                                   0   \n",
       "2                                      0                                   0   \n",
       "3                                      0                                   0   \n",
       "4                                      0                                   0   \n",
       "\n",
       "   Herramientas tecnológicas_PC  Herramientas tecnológicas_Tablet  \\\n",
       "0                             0                                 0   \n",
       "1                             0                                 0   \n",
       "2                             0                                 0   \n",
       "3                             0                                 0   \n",
       "4                             0                                 0   \n",
       "\n",
       "   Conectividad_Datos  Conectividad_No tiene  \n",
       "0                   1                      0  \n",
       "1                   1                      0  \n",
       "2                   1                      0  \n",
       "3                   1                      0  \n",
       "4                   1                      0  \n",
       "\n",
       "[5 rows x 56 columns]"
      ]
     },
     "execution_count": 249,
     "metadata": {},
     "output_type": "execute_result"
    }
   ],
   "source": [
    "df.head(5)"
   ]
  },
  {
   "cell_type": "code",
   "execution_count": 250,
   "metadata": {},
   "outputs": [],
   "source": [
    "# Preparamos la matriz de features y el vector objetivo\n",
    "X = df.drop(columns=['Deserción'])\n",
    "y = df['Deserción']"
   ]
  },
  {
   "cell_type": "code",
   "execution_count": 251,
   "metadata": {},
   "outputs": [],
   "source": [
    "# Separamos un set de testeo para evaluar el modelo\n",
    "X_train, X_test, y_train, y_test = train_test_split(X, y, stratify = y, random_state = 0)"
   ]
  },
  {
   "cell_type": "markdown",
   "metadata": {},
   "source": [
    "<a id=\"fit\"></a>\n",
    "#### Ajuste del modelo"
   ]
  },
  {
   "cell_type": "code",
   "execution_count": 252,
   "metadata": {},
   "outputs": [],
   "source": [
    "from sklearn.linear_model import LogisticRegression\n",
    "from sklearn.metrics import accuracy_score, confusion_matrix, classification_report\n",
    "import warnings\n",
    "warnings.filterwarnings('ignore')\n",
    "\n",
    "kf = KFold(n_splits = 5, shuffle = True, random_state = 12)\n",
    "\n",
    "iteraciones = []\n",
    "scores = []\n",
    "\n",
    "for i in range(0, 150):\n",
    "    i += 10\n",
    "    lr = LogisticRegression(max_iter = i)\n",
    "    lr.fit(X_train, y_train)\n",
    "    iteraciones.append(i)\n",
    "    cv_scores = cross_val_score(lr, X_test, y_test, cv = kf)\n",
    "    scores.append(np.mean(cv_scores))"
   ]
  },
  {
   "cell_type": "markdown",
   "metadata": {},
   "source": [
    "<a id=\"eval\"></a>\n",
    "#### Evaluación del modelo\n",
    "Con el modelo entrenado podemos comenzar a evaluar su performance y ver si podemos hacer algo para mejorarlo"
   ]
  },
  {
   "cell_type": "code",
   "execution_count": 253,
   "metadata": {},
   "outputs": [
    {
     "data": {
      "image/png": "[encoded data removed]",
      "text/plain": [
       "<Figure size 576x360 with 1 Axes>"
      ]
     },
     "metadata": {
      "needs_background": "light"
     },
     "output_type": "display_data"
    }
   ],
   "source": [
    "plt.figure(figsize = (8,5))\n",
    "plt.plot(iteraciones, scores)\n",
    "plt.xlabel('Valor de Iteraciones'); plt.ylabel('Accuracy')\n",
    "plt.grid(); plt.show()"
   ]
  },
  {
   "cell_type": "code",
   "execution_count": 254,
   "metadata": {},
   "outputs": [
    {
     "data": {
      "text/plain": [
       "LogisticRegression(max_iter=41)"
      ]
     },
     "execution_count": 254,
     "metadata": {},
     "output_type": "execute_result"
    }
   ],
   "source": [
    "lr = LogisticRegression(max_iter= iteraciones[np.argmax(scores)])\n",
    "lr.fit(X_train, y_train)"
   ]
  },
  {
   "cell_type": "code",
   "execution_count": 255,
   "metadata": {},
   "outputs": [
    {
     "data": {
      "image/png": "[encoded data removed]",
      "text/plain": [
       "<Figure size 432x288 with 2 Axes>"
      ]
     },
     "metadata": {
      "needs_background": "light"
     },
     "output_type": "display_data"
    }
   ],
   "source": [
    "import seaborn as sns\n",
    "sns.heatmap(confusion_matrix(y_test, lr.predict(X_test)), annot=True, fmt='4d');\n",
    "plt.xlabel('Predichos');\n",
    "plt.ylabel('Reales');"
   ]
  },
  {
   "cell_type": "code",
   "execution_count": 256,
   "metadata": {},
   "outputs": [
    {
     "data": {
      "text/plain": [
       "1.0"
      ]
     },
     "execution_count": 256,
     "metadata": {},
     "output_type": "execute_result"
    }
   ],
   "source": [
    "accuracy_score(y_test, lr.predict(X_test))"
   ]
  },
  {
   "cell_type": "markdown",
   "metadata": {},
   "source": [
    "Importancia de las Variables"
   ]
  },
  {
   "cell_type": "code",
   "execution_count": 257,
   "metadata": {},
   "outputs": [
    {
     "data": {
      "image/png": "[encoded data removed]",
      "text/plain": [
       "<Figure size 864x720 with 1 Axes>"
      ]
     },
     "metadata": {
      "needs_background": "light"
     },
     "output_type": "display_data"
    }
   ],
   "source": [
    "feature_importance = 100.0 * (abs(lr.coef_[0]) / abs(lr.coef_[0]).max())\n",
    "sorted_idx = np.argsort(feature_importance)\n",
    "pos = (np.arange(np.argsort(feature_importance).shape[0]) + .5)\n",
    "featfig = plt.figure(figsize = (12,10))\n",
    "featax = featfig.add_subplot(1, 1, 1)\n",
    "featax.barh(pos, feature_importance[sorted_idx], align='center')\n",
    "featax.set_yticks(pos)\n",
    "featax.set_yticklabels(np.array(X.columns)[sorted_idx], fontsize=8)\n",
    "featax.set_xlabel('Relative Feature Importance')\n",
    "plt.tight_layout()   \n",
    "plt.show()"
   ]
  }
 ],
 "metadata": {
  "kernelspec": {
   "display_name": "Python 3 (ipykernel)",
   "language": "python",
   "name": "python3"
  },
  "language_info": {
   "codemirror_mode": {
    "name": "ipython",
    "version": 3
   },
   "file_extension": ".py",
   "mimetype": "text/x-python",
   "name": "python",
   "nbconvert_exporter": "python",
   "pygments_lexer": "ipython3",
   "version": "3.8.13"
  }
 },
 "nbformat": 4,
 "nbformat_minor": 4
}
