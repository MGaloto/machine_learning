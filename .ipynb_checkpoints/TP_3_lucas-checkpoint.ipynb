{
 "cells": [
  {
   "cell_type": "code",
   "execution_count": 1,
   "id": "efbd10a8",
   "metadata": {},
   "outputs": [],
   "source": [
    "import numpy as np\n",
    "import pandas as pd\n",
    "import seaborn as sns\n",
    "import matplotlib.pyplot as plt\n",
    "%matplotlib inline"
   ]
  },
  {
   "cell_type": "markdown",
   "id": "5d8f4bcd",
   "metadata": {},
   "source": [
    "# Data preparation"
   ]
  },
  {
   "cell_type": "code",
   "execution_count": 4,
   "id": "403a60a4",
   "metadata": {},
   "outputs": [],
   "source": [
    "data_mush = 'secondary_data.csv'\n",
    "data_hongo = pd.read_csv(data_mush, sep=';')"
   ]
  },
  {
   "cell_type": "code",
   "execution_count": 5,
   "id": "c3936f5e",
   "metadata": {},
   "outputs": [
    {
     "data": {
      "text/html": [
       "<div>\n",
       "<style scoped>\n",
       "    .dataframe tbody tr th:only-of-type {\n",
       "        vertical-align: middle;\n",
       "    }\n",
       "\n",
       "    .dataframe tbody tr th {\n",
       "        vertical-align: top;\n",
       "    }\n",
       "\n",
       "    .dataframe thead th {\n",
       "        text-align: right;\n",
       "    }\n",
       "</style>\n",
       "<table border=\"1\" class=\"dataframe\">\n",
       "  <thead>\n",
       "    <tr style=\"text-align: right;\">\n",
       "      <th></th>\n",
       "      <th>class</th>\n",
       "      <th>cap-diameter</th>\n",
       "      <th>cap-shape</th>\n",
       "      <th>cap-surface</th>\n",
       "      <th>cap-color</th>\n",
       "      <th>does-bruise-or-bleed</th>\n",
       "      <th>gill-attachment</th>\n",
       "      <th>gill-spacing</th>\n",
       "      <th>gill-color</th>\n",
       "      <th>stem-height</th>\n",
       "      <th>...</th>\n",
       "      <th>stem-root</th>\n",
       "      <th>stem-surface</th>\n",
       "      <th>stem-color</th>\n",
       "      <th>veil-type</th>\n",
       "      <th>veil-color</th>\n",
       "      <th>has-ring</th>\n",
       "      <th>ring-type</th>\n",
       "      <th>spore-print-color</th>\n",
       "      <th>habitat</th>\n",
       "      <th>season</th>\n",
       "    </tr>\n",
       "  </thead>\n",
       "  <tbody>\n",
       "    <tr>\n",
       "      <th>0</th>\n",
       "      <td>p</td>\n",
       "      <td>15.26</td>\n",
       "      <td>x</td>\n",
       "      <td>g</td>\n",
       "      <td>o</td>\n",
       "      <td>f</td>\n",
       "      <td>e</td>\n",
       "      <td>NaN</td>\n",
       "      <td>w</td>\n",
       "      <td>16.95</td>\n",
       "      <td>...</td>\n",
       "      <td>s</td>\n",
       "      <td>y</td>\n",
       "      <td>w</td>\n",
       "      <td>u</td>\n",
       "      <td>w</td>\n",
       "      <td>t</td>\n",
       "      <td>g</td>\n",
       "      <td>NaN</td>\n",
       "      <td>d</td>\n",
       "      <td>w</td>\n",
       "    </tr>\n",
       "    <tr>\n",
       "      <th>1</th>\n",
       "      <td>p</td>\n",
       "      <td>16.60</td>\n",
       "      <td>x</td>\n",
       "      <td>g</td>\n",
       "      <td>o</td>\n",
       "      <td>f</td>\n",
       "      <td>e</td>\n",
       "      <td>NaN</td>\n",
       "      <td>w</td>\n",
       "      <td>17.99</td>\n",
       "      <td>...</td>\n",
       "      <td>s</td>\n",
       "      <td>y</td>\n",
       "      <td>w</td>\n",
       "      <td>u</td>\n",
       "      <td>w</td>\n",
       "      <td>t</td>\n",
       "      <td>g</td>\n",
       "      <td>NaN</td>\n",
       "      <td>d</td>\n",
       "      <td>u</td>\n",
       "    </tr>\n",
       "    <tr>\n",
       "      <th>2</th>\n",
       "      <td>p</td>\n",
       "      <td>14.07</td>\n",
       "      <td>x</td>\n",
       "      <td>g</td>\n",
       "      <td>o</td>\n",
       "      <td>f</td>\n",
       "      <td>e</td>\n",
       "      <td>NaN</td>\n",
       "      <td>w</td>\n",
       "      <td>17.80</td>\n",
       "      <td>...</td>\n",
       "      <td>s</td>\n",
       "      <td>y</td>\n",
       "      <td>w</td>\n",
       "      <td>u</td>\n",
       "      <td>w</td>\n",
       "      <td>t</td>\n",
       "      <td>g</td>\n",
       "      <td>NaN</td>\n",
       "      <td>d</td>\n",
       "      <td>w</td>\n",
       "    </tr>\n",
       "    <tr>\n",
       "      <th>3</th>\n",
       "      <td>p</td>\n",
       "      <td>14.17</td>\n",
       "      <td>f</td>\n",
       "      <td>h</td>\n",
       "      <td>e</td>\n",
       "      <td>f</td>\n",
       "      <td>e</td>\n",
       "      <td>NaN</td>\n",
       "      <td>w</td>\n",
       "      <td>15.77</td>\n",
       "      <td>...</td>\n",
       "      <td>s</td>\n",
       "      <td>y</td>\n",
       "      <td>w</td>\n",
       "      <td>u</td>\n",
       "      <td>w</td>\n",
       "      <td>t</td>\n",
       "      <td>p</td>\n",
       "      <td>NaN</td>\n",
       "      <td>d</td>\n",
       "      <td>w</td>\n",
       "    </tr>\n",
       "    <tr>\n",
       "      <th>4</th>\n",
       "      <td>p</td>\n",
       "      <td>14.64</td>\n",
       "      <td>x</td>\n",
       "      <td>h</td>\n",
       "      <td>o</td>\n",
       "      <td>f</td>\n",
       "      <td>e</td>\n",
       "      <td>NaN</td>\n",
       "      <td>w</td>\n",
       "      <td>16.53</td>\n",
       "      <td>...</td>\n",
       "      <td>s</td>\n",
       "      <td>y</td>\n",
       "      <td>w</td>\n",
       "      <td>u</td>\n",
       "      <td>w</td>\n",
       "      <td>t</td>\n",
       "      <td>p</td>\n",
       "      <td>NaN</td>\n",
       "      <td>d</td>\n",
       "      <td>w</td>\n",
       "    </tr>\n",
       "  </tbody>\n",
       "</table>\n",
       "<p>5 rows × 21 columns</p>\n",
       "</div>"
      ],
      "text/plain": [
       "  class  cap-diameter cap-shape cap-surface cap-color does-bruise-or-bleed  \\\n",
       "0     p         15.26         x           g         o                    f   \n",
       "1     p         16.60         x           g         o                    f   \n",
       "2     p         14.07         x           g         o                    f   \n",
       "3     p         14.17         f           h         e                    f   \n",
       "4     p         14.64         x           h         o                    f   \n",
       "\n",
       "  gill-attachment gill-spacing gill-color  stem-height  ...  stem-root  \\\n",
       "0               e          NaN          w        16.95  ...          s   \n",
       "1               e          NaN          w        17.99  ...          s   \n",
       "2               e          NaN          w        17.80  ...          s   \n",
       "3               e          NaN          w        15.77  ...          s   \n",
       "4               e          NaN          w        16.53  ...          s   \n",
       "\n",
       "  stem-surface stem-color veil-type veil-color has-ring ring-type  \\\n",
       "0            y          w         u          w        t         g   \n",
       "1            y          w         u          w        t         g   \n",
       "2            y          w         u          w        t         g   \n",
       "3            y          w         u          w        t         p   \n",
       "4            y          w         u          w        t         p   \n",
       "\n",
       "  spore-print-color habitat season  \n",
       "0               NaN       d      w  \n",
       "1               NaN       d      u  \n",
       "2               NaN       d      w  \n",
       "3               NaN       d      w  \n",
       "4               NaN       d      w  \n",
       "\n",
       "[5 rows x 21 columns]"
      ]
     },
     "execution_count": 5,
     "metadata": {},
     "output_type": "execute_result"
    }
   ],
   "source": [
    "data_hongo.head()\n"
   ]
  },
  {
   "cell_type": "code",
   "execution_count": 6,
   "id": "6985f728",
   "metadata": {},
   "outputs": [
    {
     "name": "stdout",
     "output_type": "stream",
     "text": [
      "<class 'pandas.core.frame.DataFrame'>\n",
      "RangeIndex: 61069 entries, 0 to 61068\n",
      "Data columns (total 21 columns):\n",
      " #   Column                Non-Null Count  Dtype  \n",
      "---  ------                --------------  -----  \n",
      " 0   class                 61069 non-null  object \n",
      " 1   cap-diameter          61069 non-null  float64\n",
      " 2   cap-shape             61069 non-null  object \n",
      " 3   cap-surface           46949 non-null  object \n",
      " 4   cap-color             61069 non-null  object \n",
      " 5   does-bruise-or-bleed  61069 non-null  object \n",
      " 6   gill-attachment       51185 non-null  object \n",
      " 7   gill-spacing          36006 non-null  object \n",
      " 8   gill-color            61069 non-null  object \n",
      " 9   stem-height           61069 non-null  float64\n",
      " 10  stem-width            61069 non-null  float64\n",
      " 11  stem-root             9531 non-null   object \n",
      " 12  stem-surface          22945 non-null  object \n",
      " 13  stem-color            61069 non-null  object \n",
      " 14  veil-type             3177 non-null   object \n",
      " 15  veil-color            7413 non-null   object \n",
      " 16  has-ring              61069 non-null  object \n",
      " 17  ring-type             58598 non-null  object \n",
      " 18  spore-print-color     6354 non-null   object \n",
      " 19  habitat               61069 non-null  object \n",
      " 20  season                61069 non-null  object \n",
      "dtypes: float64(3), object(18)\n",
      "memory usage: 9.8+ MB\n"
     ]
    }
   ],
   "source": [
    "data_hongo.info()"
   ]
  },
  {
   "cell_type": "code",
   "execution_count": 7,
   "id": "0cd5622c",
   "metadata": {},
   "outputs": [
    {
     "data": {
      "text/plain": [
       "p    33888\n",
       "e    27181\n",
       "Name: class, dtype: int64"
      ]
     },
     "execution_count": 7,
     "metadata": {},
     "output_type": "execute_result"
    }
   ],
   "source": [
    "data_hongo['class'].value_counts()"
   ]
  },
  {
   "cell_type": "code",
   "execution_count": 8,
   "id": "11eac1a1",
   "metadata": {},
   "outputs": [],
   "source": [
    "X = data_hongo[['cap-diameter', 'cap-shape', 'cap-color', 'stem-color', 'stem-width', 'stem-height','gill-color', 'habitat', 'season']]  \n",
    "y = data_hongo['class']"
   ]
  },
  {
   "cell_type": "code",
   "execution_count": 9,
   "id": "bfb14e34",
   "metadata": {},
   "outputs": [
    {
     "data": {
      "text/plain": [
       "1    33888\n",
       "0    27181\n",
       "Name: class, dtype: int64"
      ]
     },
     "execution_count": 9,
     "metadata": {},
     "output_type": "execute_result"
    }
   ],
   "source": [
    "#poisonous = p = 1\n",
    "#edible = e = 0\n",
    "\n",
    "y = y.replace('p',1)\n",
    "y = y.replace('e', 0)\n",
    "y.value_counts()"
   ]
  },
  {
   "cell_type": "code",
   "execution_count": 10,
   "id": "4e8e9b40",
   "metadata": {},
   "outputs": [
    {
     "data": {
      "text/plain": [
       "<seaborn.axisgrid.PairGrid at 0x7f80cd12a070>"
      ]
     },
     "execution_count": 10,
     "metadata": {},
     "output_type": "execute_result"
    },
    {
     "data": {
      "image/png": "[encoded data removed]",
      "text/plain": [
       "<Figure size 582.25x540 with 12 Axes>"
      ]
     },
     "metadata": {
      "needs_background": "light"
     },
     "output_type": "display_data"
    }
   ],
   "source": [
    "sns.pairplot(data_hongo, hue='class')"
   ]
  },
  {
   "cell_type": "code",
   "execution_count": 11,
   "id": "8ec30913",
   "metadata": {},
   "outputs": [],
   "source": [
    "dummies_cap_shape = pd.get_dummies(X['cap-shape'], drop_first=True, prefix='cap-shape')\n",
    "dummies_cap_color = pd.get_dummies(X['cap-color'], drop_first=True, prefix='cap-color')\n",
    "dummies_stem_color = pd.get_dummies(X['stem-color'], drop_first=True, prefix='stem-color')\n",
    "dummies_gill_color = pd.get_dummies(X['gill-color'], drop_first=True, prefix='gill-color')\n",
    "dummies_habitat = pd.get_dummies(X['habitat'], drop_first=True, prefix='habitat')\n",
    "dummies_season = pd.get_dummies(X['season'], drop_first=True, prefix='season')\n",
    "\n",
    "X = X.drop(['cap-shape', 'cap-color', 'stem-color', 'gill-color', 'habitat', 'season'], axis=1)\n"
   ]
  },
  {
   "cell_type": "code",
   "execution_count": 12,
   "id": "1ae121b2",
   "metadata": {},
   "outputs": [],
   "source": [
    "X = pd.concat([X, dummies_cap_shape, dummies_cap_color, dummies_stem_color, dummies_gill_color, dummies_habitat, dummies_season], axis = 1)"
   ]
  },
  {
   "cell_type": "code",
   "execution_count": 49,
   "id": "2a0517d7",
   "metadata": {},
   "outputs": [
    {
     "name": "stdout",
     "output_type": "stream",
     "text": [
      "(61069, 53)\n"
     ]
    }
   ],
   "source": [
    "print(X.shape)"
   ]
  },
  {
   "cell_type": "code",
   "execution_count": 53,
   "id": "bdddd239",
   "metadata": {},
   "outputs": [],
   "source": [
    "from sklearn.model_selection import train_test_split"
   ]
  },
  {
   "cell_type": "code",
   "execution_count": 59,
   "id": "f38b6a31",
   "metadata": {},
   "outputs": [],
   "source": [
    "X_train, X_test, y_train, y_test = train_test_split(X,y, stratify=y, random_state=12)"
   ]
  },
  {
   "cell_type": "code",
   "execution_count": 60,
   "id": "6a57222d",
   "metadata": {},
   "outputs": [],
   "source": [
    "# Utilizamos sklearn para estandarizar la matriz de Features\n",
    "from sklearn.preprocessing import StandardScaler\n",
    "scaler = StandardScaler()\n",
    "X_train_scaled = scaler.fit_transform(X_train)\n",
    "X_test_scaled = scaler.transform(X_test)"
   ]
  },
  {
   "cell_type": "code",
   "execution_count": 64,
   "id": "53e6ccb2",
   "metadata": {},
   "outputs": [
    {
     "data": {
      "text/html": [
       "<div>\n",
       "<style scoped>\n",
       "    .dataframe tbody tr th:only-of-type {\n",
       "        vertical-align: middle;\n",
       "    }\n",
       "\n",
       "    .dataframe tbody tr th {\n",
       "        vertical-align: top;\n",
       "    }\n",
       "\n",
       "    .dataframe thead th {\n",
       "        text-align: right;\n",
       "    }\n",
       "</style>\n",
       "<table border=\"1\" class=\"dataframe\">\n",
       "  <thead>\n",
       "    <tr style=\"text-align: right;\">\n",
       "      <th></th>\n",
       "      <th>cap-diameter</th>\n",
       "      <th>stem-width</th>\n",
       "      <th>stem-height</th>\n",
       "      <th>cap-shape_c</th>\n",
       "      <th>cap-shape_f</th>\n",
       "      <th>cap-shape_o</th>\n",
       "      <th>cap-shape_p</th>\n",
       "      <th>cap-shape_s</th>\n",
       "      <th>cap-shape_x</th>\n",
       "      <th>cap-color_e</th>\n",
       "      <th>...</th>\n",
       "      <th>habitat_g</th>\n",
       "      <th>habitat_h</th>\n",
       "      <th>habitat_l</th>\n",
       "      <th>habitat_m</th>\n",
       "      <th>habitat_p</th>\n",
       "      <th>habitat_u</th>\n",
       "      <th>habitat_w</th>\n",
       "      <th>season_s</th>\n",
       "      <th>season_u</th>\n",
       "      <th>season_w</th>\n",
       "    </tr>\n",
       "  </thead>\n",
       "  <tbody>\n",
       "    <tr>\n",
       "      <th>52183</th>\n",
       "      <td>6.39</td>\n",
       "      <td>22.70</td>\n",
       "      <td>10.02</td>\n",
       "      <td>0</td>\n",
       "      <td>0</td>\n",
       "      <td>0</td>\n",
       "      <td>0</td>\n",
       "      <td>0</td>\n",
       "      <td>1</td>\n",
       "      <td>0</td>\n",
       "      <td>...</td>\n",
       "      <td>0</td>\n",
       "      <td>0</td>\n",
       "      <td>0</td>\n",
       "      <td>0</td>\n",
       "      <td>0</td>\n",
       "      <td>0</td>\n",
       "      <td>0</td>\n",
       "      <td>0</td>\n",
       "      <td>0</td>\n",
       "      <td>0</td>\n",
       "    </tr>\n",
       "    <tr>\n",
       "      <th>21746</th>\n",
       "      <td>7.33</td>\n",
       "      <td>15.55</td>\n",
       "      <td>5.96</td>\n",
       "      <td>0</td>\n",
       "      <td>0</td>\n",
       "      <td>0</td>\n",
       "      <td>0</td>\n",
       "      <td>1</td>\n",
       "      <td>0</td>\n",
       "      <td>0</td>\n",
       "      <td>...</td>\n",
       "      <td>0</td>\n",
       "      <td>0</td>\n",
       "      <td>0</td>\n",
       "      <td>0</td>\n",
       "      <td>0</td>\n",
       "      <td>0</td>\n",
       "      <td>0</td>\n",
       "      <td>0</td>\n",
       "      <td>0</td>\n",
       "      <td>1</td>\n",
       "    </tr>\n",
       "    <tr>\n",
       "      <th>3911</th>\n",
       "      <td>3.84</td>\n",
       "      <td>3.40</td>\n",
       "      <td>5.36</td>\n",
       "      <td>0</td>\n",
       "      <td>0</td>\n",
       "      <td>0</td>\n",
       "      <td>0</td>\n",
       "      <td>0</td>\n",
       "      <td>1</td>\n",
       "      <td>0</td>\n",
       "      <td>...</td>\n",
       "      <td>1</td>\n",
       "      <td>0</td>\n",
       "      <td>0</td>\n",
       "      <td>0</td>\n",
       "      <td>0</td>\n",
       "      <td>0</td>\n",
       "      <td>0</td>\n",
       "      <td>0</td>\n",
       "      <td>0</td>\n",
       "      <td>0</td>\n",
       "    </tr>\n",
       "    <tr>\n",
       "      <th>47505</th>\n",
       "      <td>2.54</td>\n",
       "      <td>2.35</td>\n",
       "      <td>8.18</td>\n",
       "      <td>0</td>\n",
       "      <td>0</td>\n",
       "      <td>0</td>\n",
       "      <td>0</td>\n",
       "      <td>0</td>\n",
       "      <td>0</td>\n",
       "      <td>0</td>\n",
       "      <td>...</td>\n",
       "      <td>1</td>\n",
       "      <td>0</td>\n",
       "      <td>0</td>\n",
       "      <td>0</td>\n",
       "      <td>0</td>\n",
       "      <td>0</td>\n",
       "      <td>0</td>\n",
       "      <td>0</td>\n",
       "      <td>0</td>\n",
       "      <td>0</td>\n",
       "    </tr>\n",
       "    <tr>\n",
       "      <th>22734</th>\n",
       "      <td>6.18</td>\n",
       "      <td>15.57</td>\n",
       "      <td>4.81</td>\n",
       "      <td>0</td>\n",
       "      <td>1</td>\n",
       "      <td>0</td>\n",
       "      <td>0</td>\n",
       "      <td>0</td>\n",
       "      <td>0</td>\n",
       "      <td>0</td>\n",
       "      <td>...</td>\n",
       "      <td>0</td>\n",
       "      <td>0</td>\n",
       "      <td>0</td>\n",
       "      <td>0</td>\n",
       "      <td>0</td>\n",
       "      <td>0</td>\n",
       "      <td>0</td>\n",
       "      <td>0</td>\n",
       "      <td>0</td>\n",
       "      <td>0</td>\n",
       "    </tr>\n",
       "    <tr>\n",
       "      <th>...</th>\n",
       "      <td>...</td>\n",
       "      <td>...</td>\n",
       "      <td>...</td>\n",
       "      <td>...</td>\n",
       "      <td>...</td>\n",
       "      <td>...</td>\n",
       "      <td>...</td>\n",
       "      <td>...</td>\n",
       "      <td>...</td>\n",
       "      <td>...</td>\n",
       "      <td>...</td>\n",
       "      <td>...</td>\n",
       "      <td>...</td>\n",
       "      <td>...</td>\n",
       "      <td>...</td>\n",
       "      <td>...</td>\n",
       "      <td>...</td>\n",
       "      <td>...</td>\n",
       "      <td>...</td>\n",
       "      <td>...</td>\n",
       "      <td>...</td>\n",
       "    </tr>\n",
       "    <tr>\n",
       "      <th>36277</th>\n",
       "      <td>5.12</td>\n",
       "      <td>5.21</td>\n",
       "      <td>4.71</td>\n",
       "      <td>0</td>\n",
       "      <td>0</td>\n",
       "      <td>0</td>\n",
       "      <td>0</td>\n",
       "      <td>0</td>\n",
       "      <td>1</td>\n",
       "      <td>0</td>\n",
       "      <td>...</td>\n",
       "      <td>0</td>\n",
       "      <td>0</td>\n",
       "      <td>0</td>\n",
       "      <td>0</td>\n",
       "      <td>0</td>\n",
       "      <td>0</td>\n",
       "      <td>0</td>\n",
       "      <td>0</td>\n",
       "      <td>0</td>\n",
       "      <td>1</td>\n",
       "    </tr>\n",
       "    <tr>\n",
       "      <th>48310</th>\n",
       "      <td>5.93</td>\n",
       "      <td>6.62</td>\n",
       "      <td>6.10</td>\n",
       "      <td>0</td>\n",
       "      <td>0</td>\n",
       "      <td>0</td>\n",
       "      <td>0</td>\n",
       "      <td>0</td>\n",
       "      <td>1</td>\n",
       "      <td>0</td>\n",
       "      <td>...</td>\n",
       "      <td>1</td>\n",
       "      <td>0</td>\n",
       "      <td>0</td>\n",
       "      <td>0</td>\n",
       "      <td>0</td>\n",
       "      <td>0</td>\n",
       "      <td>0</td>\n",
       "      <td>0</td>\n",
       "      <td>1</td>\n",
       "      <td>0</td>\n",
       "    </tr>\n",
       "    <tr>\n",
       "      <th>57727</th>\n",
       "      <td>3.66</td>\n",
       "      <td>0.00</td>\n",
       "      <td>0.00</td>\n",
       "      <td>0</td>\n",
       "      <td>0</td>\n",
       "      <td>1</td>\n",
       "      <td>0</td>\n",
       "      <td>0</td>\n",
       "      <td>0</td>\n",
       "      <td>0</td>\n",
       "      <td>...</td>\n",
       "      <td>0</td>\n",
       "      <td>0</td>\n",
       "      <td>0</td>\n",
       "      <td>0</td>\n",
       "      <td>0</td>\n",
       "      <td>0</td>\n",
       "      <td>0</td>\n",
       "      <td>0</td>\n",
       "      <td>0</td>\n",
       "      <td>0</td>\n",
       "    </tr>\n",
       "    <tr>\n",
       "      <th>35212</th>\n",
       "      <td>4.20</td>\n",
       "      <td>8.95</td>\n",
       "      <td>8.22</td>\n",
       "      <td>0</td>\n",
       "      <td>0</td>\n",
       "      <td>0</td>\n",
       "      <td>0</td>\n",
       "      <td>0</td>\n",
       "      <td>1</td>\n",
       "      <td>0</td>\n",
       "      <td>...</td>\n",
       "      <td>0</td>\n",
       "      <td>0</td>\n",
       "      <td>0</td>\n",
       "      <td>0</td>\n",
       "      <td>0</td>\n",
       "      <td>0</td>\n",
       "      <td>0</td>\n",
       "      <td>1</td>\n",
       "      <td>0</td>\n",
       "      <td>0</td>\n",
       "    </tr>\n",
       "    <tr>\n",
       "      <th>529</th>\n",
       "      <td>6.43</td>\n",
       "      <td>13.03</td>\n",
       "      <td>6.84</td>\n",
       "      <td>0</td>\n",
       "      <td>0</td>\n",
       "      <td>0</td>\n",
       "      <td>0</td>\n",
       "      <td>0</td>\n",
       "      <td>1</td>\n",
       "      <td>0</td>\n",
       "      <td>...</td>\n",
       "      <td>0</td>\n",
       "      <td>0</td>\n",
       "      <td>0</td>\n",
       "      <td>0</td>\n",
       "      <td>0</td>\n",
       "      <td>0</td>\n",
       "      <td>0</td>\n",
       "      <td>0</td>\n",
       "      <td>1</td>\n",
       "      <td>0</td>\n",
       "    </tr>\n",
       "  </tbody>\n",
       "</table>\n",
       "<p>45801 rows × 53 columns</p>\n",
       "</div>"
      ],
      "text/plain": [
       "       cap-diameter  stem-width  stem-height  cap-shape_c  cap-shape_f  \\\n",
       "52183          6.39       22.70        10.02            0            0   \n",
       "21746          7.33       15.55         5.96            0            0   \n",
       "3911           3.84        3.40         5.36            0            0   \n",
       "47505          2.54        2.35         8.18            0            0   \n",
       "22734          6.18       15.57         4.81            0            1   \n",
       "...             ...         ...          ...          ...          ...   \n",
       "36277          5.12        5.21         4.71            0            0   \n",
       "48310          5.93        6.62         6.10            0            0   \n",
       "57727          3.66        0.00         0.00            0            0   \n",
       "35212          4.20        8.95         8.22            0            0   \n",
       "529            6.43       13.03         6.84            0            0   \n",
       "\n",
       "       cap-shape_o  cap-shape_p  cap-shape_s  cap-shape_x  cap-color_e  ...  \\\n",
       "52183            0            0            0            1            0  ...   \n",
       "21746            0            0            1            0            0  ...   \n",
       "3911             0            0            0            1            0  ...   \n",
       "47505            0            0            0            0            0  ...   \n",
       "22734            0            0            0            0            0  ...   \n",
       "...            ...          ...          ...          ...          ...  ...   \n",
       "36277            0            0            0            1            0  ...   \n",
       "48310            0            0            0            1            0  ...   \n",
       "57727            1            0            0            0            0  ...   \n",
       "35212            0            0            0            1            0  ...   \n",
       "529              0            0            0            1            0  ...   \n",
       "\n",
       "       habitat_g  habitat_h  habitat_l  habitat_m  habitat_p  habitat_u  \\\n",
       "52183          0          0          0          0          0          0   \n",
       "21746          0          0          0          0          0          0   \n",
       "3911           1          0          0          0          0          0   \n",
       "47505          1          0          0          0          0          0   \n",
       "22734          0          0          0          0          0          0   \n",
       "...          ...        ...        ...        ...        ...        ...   \n",
       "36277          0          0          0          0          0          0   \n",
       "48310          1          0          0          0          0          0   \n",
       "57727          0          0          0          0          0          0   \n",
       "35212          0          0          0          0          0          0   \n",
       "529            0          0          0          0          0          0   \n",
       "\n",
       "       habitat_w  season_s  season_u  season_w  \n",
       "52183          0         0         0         0  \n",
       "21746          0         0         0         1  \n",
       "3911           0         0         0         0  \n",
       "47505          0         0         0         0  \n",
       "22734          0         0         0         0  \n",
       "...          ...       ...       ...       ...  \n",
       "36277          0         0         0         1  \n",
       "48310          0         0         1         0  \n",
       "57727          0         0         0         0  \n",
       "35212          0         1         0         0  \n",
       "529            0         0         1         0  \n",
       "\n",
       "[45801 rows x 53 columns]"
      ]
     },
     "metadata": {},
     "output_type": "display_data"
    }
   ],
   "source": [
    "# Sklearn_pandas para escalar y conservar el formato pandas\n",
    "from sklearn_pandas import DataFrameMapper\n",
    "columns_to_train = [\"cap-diameter\", \"stem-height\", \"stem-width\"]\n",
    "mapper = DataFrameMapper([(columns_to_train, StandardScaler())])\n",
    "\n",
    "scaled_features = mapper.fit_transform(X_train.copy(), 4)\n",
    "scaled_features_df = pd.DataFrame(scaled_features, index=X_train.index, columns=columns_to_train)\n",
    "\n",
    "display(X_train)\n",
    "X_train_skp = X_train.drop([\"cap-diameter\", \"stem-height\", \"stem-width\"], axis=1)\n",
    "X_train_scaled_skp = pd.concat([X_train_skp, scaled_features_df], axis = 1)\n",
    "\n",
    "scaled_features = mapper.fit_transform(X_test.copy(), 4)\n",
    "scaled_features_df = pd.DataFrame(scaled_features, index=X_test.index, columns=columns_to_train)\n",
    "\n",
    "X_test_skp = X_test.drop([\"cap-diameter\", \"stem-height\", \"stem-width\"], axis=1)\n",
    "X_test_scaled_skp = pd.concat([X_test_skp, scaled_features_df], axis = 1)"
   ]
  },
  {
   "cell_type": "code",
   "execution_count": 36,
   "id": "02cf602d",
   "metadata": {},
   "outputs": [
    {
     "data": {
      "text/plain": [
       "array([[ 1.29858636,  0.49614021,  0.82619397, ..., -0.21585397,\n",
       "        -0.77454706, -0.3054691 ],\n",
       "       [ 0.44884642,  0.54022257,  0.20549826, ..., -0.21585397,\n",
       "         1.29107713, -0.3054691 ],\n",
       "       [-0.17757657, -0.04186495,  0.12153942, ..., -0.21585397,\n",
       "         1.29107713, -0.3054691 ],\n",
       "       ...,\n",
       "       [-0.08673578,  0.07936154, -0.57112101, ..., -0.21585397,\n",
       "        -0.77454706, -0.3054691 ],\n",
       "       [ 0.22552946,  0.07936154,  0.79620867, ..., -0.21585397,\n",
       "        -0.77454706, -0.3054691 ],\n",
       "       [-0.14918882, -0.54680833, -0.15432534, ..., -0.21585397,\n",
       "         1.29107713, -0.3054691 ]])"
      ]
     },
     "execution_count": 36,
     "metadata": {},
     "output_type": "execute_result"
    }
   ],
   "source": [
    "X_test_scaled"
   ]
  },
  {
   "cell_type": "markdown",
   "id": "0aafb833",
   "metadata": {},
   "source": [
    "# Logistic Regression"
   ]
  },
  {
   "cell_type": "code",
   "execution_count": 110,
   "id": "dfce20c6",
   "metadata": {},
   "outputs": [],
   "source": [
    "from sklearn.linear_model import LogisticRegression"
   ]
  },
  {
   "cell_type": "code",
   "execution_count": 111,
   "id": "7af7462c",
   "metadata": {},
   "outputs": [],
   "source": [
    "logistic_regression = LogisticRegression(solver=\"sag\")"
   ]
  },
  {
   "cell_type": "code",
   "execution_count": 112,
   "id": "1e33a8dd",
   "metadata": {},
   "outputs": [],
   "source": [
    "clf = LogisticRegression(solver=\"sag\")"
   ]
  },
  {
   "cell_type": "code",
   "execution_count": 113,
   "id": "4c4230a1",
   "metadata": {
    "scrolled": true
   },
   "outputs": [
    {
     "data": {
      "text/plain": [
       "LogisticRegression(solver='sag')"
      ]
     },
     "execution_count": 113,
     "metadata": {},
     "output_type": "execute_result"
    }
   ],
   "source": [
    "clf.fit(X_train_scaled_skp, y_train)"
   ]
  },
  {
   "cell_type": "code",
   "execution_count": 115,
   "id": "3b20f2a1",
   "metadata": {},
   "outputs": [
    {
     "data": {
      "text/plain": [
       "LogisticRegression(solver='sag')"
      ]
     },
     "execution_count": 115,
     "metadata": {},
     "output_type": "execute_result"
    }
   ],
   "source": [
    "# Ajustamos el modelo\n",
    "logistic_regression.fit(X_train_scaled_skp, y_train)"
   ]
  },
  {
   "cell_type": "code",
   "execution_count": 114,
   "id": "a3f4e1cf",
   "metadata": {},
   "outputs": [],
   "source": [
    "y_pred = clf.predict(X_test_scaled_skp)"
   ]
  },
  {
   "cell_type": "code",
   "execution_count": 116,
   "id": "2943c9ce",
   "metadata": {},
   "outputs": [],
   "source": [
    "y_train_pred = logistic_regression.predict(X_train_scaled_skp)\n",
    "y_test_pred = logistic_regression.predict((X_test_scaled_skp)) \n",
    "# Notar que debemos escalar los datos de testeo antes de realizar predicciones"
   ]
  },
  {
   "cell_type": "code",
   "execution_count": 117,
   "id": "b354f484",
   "metadata": {},
   "outputs": [
    {
     "data": {
      "text/plain": [
       "<AxesSubplot:>"
      ]
     },
     "execution_count": 117,
     "metadata": {},
     "output_type": "execute_result"
    },
    {
     "data": {
      "image/png": "[encoded data removed]",
      "text/plain": [
       "<Figure size 432x288 with 2 Axes>"
      ]
     },
     "metadata": {
      "needs_background": "light"
     },
     "output_type": "display_data"
    }
   ],
   "source": [
    "# Elaboramos la matriz de confusión\n",
    "from sklearn.metrics import confusion_matrix\n",
    "confusion_matrix(y_test, y_test_pred)\n",
    "sns.heatmap(confusion_matrix(y_test, y_test_pred), annot=True)\n"
   ]
  },
  {
   "cell_type": "code",
   "execution_count": 118,
   "id": "5fe5d0bc",
   "metadata": {},
   "outputs": [
    {
     "name": "stdout",
     "output_type": "stream",
     "text": [
      "26581\n",
      "8867\n"
     ]
    }
   ],
   "source": [
    "print(sum(y_train_pred == 1))\n",
    "print(sum(y_test_pred ==1)) \n"
   ]
  },
  {
   "cell_type": "code",
   "execution_count": 119,
   "id": "ad857823",
   "metadata": {},
   "outputs": [
    {
     "name": "stdout",
     "output_type": "stream",
     "text": [
      "El valor de Accuracy es 0.736\n"
     ]
    }
   ],
   "source": [
    "from sklearn.metrics import accuracy_score\n",
    "print(f\"El valor de Accuracy es {round(accuracy_score(y_test, y_test_pred), 3)}\")"
   ]
  },
  {
   "cell_type": "code",
   "execution_count": 120,
   "id": "e8f0f5bb",
   "metadata": {},
   "outputs": [],
   "source": [
    "confusion = confusion_matrix(y_test, y_test_pred)\n",
    "\n",
    "TP = confusion[1, 1]\n",
    "TN = confusion[0, 0]\n",
    "FP = confusion[0, 1]\n",
    "FN = confusion[1, 0]"
   ]
  },
  {
   "cell_type": "code",
   "execution_count": 121,
   "id": "c36b21c1",
   "metadata": {},
   "outputs": [
    {
     "name": "stdout",
     "output_type": "stream",
     "text": [
      "El valor de True Positives es 6655\n",
      "El valor de True Negatives es 4584\n",
      "El valor de False Positives es 2212\n",
      "El valor de False Negatives es 1817\n"
     ]
    }
   ],
   "source": [
    "print(f\"El valor de True Positives es {TP}\")\n",
    "print(f\"El valor de True Negatives es {TN}\")\n",
    "print(f\"El valor de False Positives es {FP}\")\n",
    "print(f\"El valor de False Negatives es {FN}\")      "
   ]
  },
  {
   "cell_type": "code",
   "execution_count": 122,
   "id": "6121094d",
   "metadata": {},
   "outputs": [
    {
     "name": "stdout",
     "output_type": "stream",
     "text": [
      "El score de Precisión es 0.751\n"
     ]
    }
   ],
   "source": [
    "#los scores que siguen se calcularon manualmente para ver las fórmulas y la relación entre TP, FP, TN y FN\n",
    "\n",
    "\n",
    "Precision = round((TP/(TP+FP)), 3)\n",
    "print(f\"El score de Precisión es {Precision}\")"
   ]
  },
  {
   "cell_type": "code",
   "execution_count": 123,
   "id": "5a341b79",
   "metadata": {},
   "outputs": [
    {
     "name": "stdout",
     "output_type": "stream",
     "text": [
      "El score de Recall es 0.786\n"
     ]
    }
   ],
   "source": [
    "Recall = round((TP/(TP+FN)), 3)\n",
    "print(f\"El score de Recall es {Recall}\")"
   ]
  },
  {
   "cell_type": "code",
   "execution_count": 124,
   "id": "f65922b4",
   "metadata": {},
   "outputs": [
    {
     "name": "stdout",
     "output_type": "stream",
     "text": [
      "El score de Specificity es 0.675\n"
     ]
    }
   ],
   "source": [
    "Specificity = round((TN/(TN+FP)), 3)\n",
    "print(f\"El score de Specificity es {Specificity}\")"
   ]
  },
  {
   "cell_type": "code",
   "execution_count": 125,
   "id": "efddb658",
   "metadata": {},
   "outputs": [
    {
     "name": "stdout",
     "output_type": "stream",
     "text": [
      "El F1 Score es 0.768\n"
     ]
    }
   ],
   "source": [
    "F1 = round((2 *TP/(2* TP + FP + FN)), 3)\n",
    "print(f\"El F1 Score es {F1}\")"
   ]
  },
  {
   "cell_type": "code",
   "execution_count": 135,
   "id": "f868f377",
   "metadata": {},
   "outputs": [
    {
     "name": "stdout",
     "output_type": "stream",
     "text": [
      "[0 1]\n",
      "1    8867\n",
      "0    6401\n",
      "dtype: int64\n"
     ]
    }
   ],
   "source": [
    "y_test_pred_series = pd.Series(y_test_pred)\n",
    "print(y_test_pred_series.unique())\n",
    "print(y_test_pred_series.value_counts())"
   ]
  },
  {
   "cell_type": "code",
   "execution_count": 137,
   "id": "3599d033",
   "metadata": {},
   "outputs": [
    {
     "data": {
      "text/plain": [
       "(15268, 2)"
      ]
     },
     "metadata": {},
     "output_type": "display_data"
    },
    {
     "data": {
      "text/plain": [
       "array([[0.74395182, 0.25604818],\n",
       "       [0.41037434, 0.58962566],\n",
       "       [0.34165865, 0.65834135],\n",
       "       ...,\n",
       "       [0.99036197, 0.00963803],\n",
       "       [0.4222868 , 0.5777132 ],\n",
       "       [0.11103098, 0.88896902]])"
      ]
     },
     "metadata": {},
     "output_type": "display_data"
    }
   ],
   "source": [
    "y_pred_proba = clf.predict_proba(X_test_scaled_skp)\n",
    "display(y_pred_proba.shape, y_pred_proba)"
   ]
  },
  {
   "cell_type": "code",
   "execution_count": 138,
   "id": "2bf5f93f",
   "metadata": {},
   "outputs": [
    {
     "data": {
      "text/plain": [
       "1    8867\n",
       "0    6401\n",
       "dtype: int64"
      ]
     },
     "execution_count": 138,
     "metadata": {},
     "output_type": "execute_result"
    }
   ],
   "source": [
    "pd.Series(y_pred_proba[:,1]>=0.5).astype(int).value_counts()"
   ]
  },
  {
   "cell_type": "code",
   "execution_count": 139,
   "id": "c4c8a24a",
   "metadata": {},
   "outputs": [
    {
     "data": {
      "image/png": "[encoded data removed]",
      "text/plain": [
       "<Figure size 432x288 with 1 Axes>"
      ]
     },
     "metadata": {
      "needs_background": "light"
     },
     "output_type": "display_data"
    }
   ],
   "source": [
    "import matplotlib.pyplot as plt\n",
    "\n",
    "# Nos quedamos con la columna que tiene la probabilidad positiva de cada caso\n",
    "y_probs_logit_left = y_pred_proba[:,1]\n",
    "\n",
    "# Generamos un histograma de esa columna\n",
    "plt.hist(y_probs_logit_left, bins=15)\n",
    "plt.xlim(0,1)\n",
    "plt.title('Histograma de probabilidades estimadas')\n",
    "plt.xlabel('Probabilidad estimada de dejar la empresa')\n",
    "plt.ylabel('Frecuencia')\n",
    "plt.show()"
   ]
  },
  {
   "cell_type": "code",
   "execution_count": 140,
   "id": "edf27876",
   "metadata": {},
   "outputs": [],
   "source": [
    "from sklearn.metrics import roc_curve\n",
    "fpr_log,tpr_log,thr_log = roc_curve(y_test, y_pred_proba[:,1])"
   ]
  },
  {
   "cell_type": "code",
   "execution_count": 141,
   "id": "55e57c91",
   "metadata": {},
   "outputs": [
    {
     "data": {
      "image/png": "[encoded data removed]",
      "text/plain": [
       "<Figure size 432x288 with 1 Axes>"
      ]
     },
     "metadata": {
      "needs_background": "light"
     },
     "output_type": "display_data"
    }
   ],
   "source": [
    "df = pd.DataFrame(dict(fpr=fpr_log, tpr=tpr_log, thr = thr_log))\n",
    "\n",
    "plt.axis([0, 1.01, 0, 1.01])\n",
    "plt.xlabel('1 - Specificty')\n",
    "plt.ylabel('TPR / Sensitivity')\n",
    "plt.title('ROC Curve')\n",
    "plt.plot(df['fpr'],df['tpr'])\n",
    "plt.plot(np.arange(0,1, step =0.01), np.arange(0,1, step =0.01))\n",
    "plt.show()"
   ]
  },
  {
   "cell_type": "code",
   "execution_count": 142,
   "id": "5b90ff71",
   "metadata": {},
   "outputs": [
    {
     "name": "stdout",
     "output_type": "stream",
     "text": [
      "AUC= 0.7902751597757054\n"
     ]
    }
   ],
   "source": [
    "from sklearn.metrics import auc\n",
    "print('AUC=', auc(fpr_log, tpr_log))"
   ]
  },
  {
   "cell_type": "markdown",
   "id": "ade635de",
   "metadata": {},
   "source": [
    "# Clustering"
   ]
  },
  {
   "cell_type": "code",
   "execution_count": null,
   "id": "1b145af5",
   "metadata": {},
   "outputs": [],
   "source": []
  }
 ],
 "metadata": {
  "kernelspec": {
   "display_name": "Python 3 (ipykernel)",
   "language": "python",
   "name": "python3"
  },
  "language_info": {
   "codemirror_mode": {
    "name": "ipython",
    "version": 3
   },
   "file_extension": ".py",
   "mimetype": "text/x-python",
   "name": "python",
   "nbconvert_exporter": "python",
   "pygments_lexer": "ipython3",
   "version": "3.9.5"
  }
 },
 "nbformat": 4,
 "nbformat_minor": 5
}
